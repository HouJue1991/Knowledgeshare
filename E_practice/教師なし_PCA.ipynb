{
 "cells": [
  {
   "cell_type": "markdown",
   "metadata": {},
   "source": [
    "## pca"
   ]
  },
  {
   "cell_type": "code",
   "execution_count": 2,
   "metadata": {},
   "outputs": [],
   "source": [
    "import numpy as np \n",
    "import matplotlib.pyplot as plt"
   ]
  },
  {
   "cell_type": "code",
   "execution_count": 7,
   "metadata": {},
   "outputs": [
    {
     "data": {
      "text/plain": [
       "<matplotlib.collections.PathCollection at 0x7fe4fc295100>"
      ]
     },
     "execution_count": 7,
     "metadata": {},
     "output_type": "execute_result"
    },
    {
     "data": {
      "image/png": "[encoded data removed]",
      "text/plain": [
       "<Figure size 432x288 with 1 Axes>"
      ]
     },
     "metadata": {
      "needs_background": "light"
     },
     "output_type": "display_data"
    }
   ],
   "source": [
    "n = 20\n",
    "# x = np.array(np.random.rand(n)*5)\n",
    "y = np.array(range(n)+np.random.rand(n)*10)\n",
    "z = np.array(range(n) +np.random.rand(n)*10)\n",
    "\n",
    "test_data = np.array([y,z]).T\n",
    "plt.scatter(test_data[:,0],test_data[:,1])\n",
    "# test_data"
   ]
  },
  {
   "cell_type": "code",
   "execution_count": 8,
   "metadata": {},
   "outputs": [
    {
     "data": {
      "text/plain": [
       "<matplotlib.collections.PathCollection at 0x7fe4fc355040>"
      ]
     },
     "execution_count": 8,
     "metadata": {},
     "output_type": "execute_result"
    },
    {
     "data": {
      "image/png": "[encoded data removed]",
      "text/plain": [
       "<Figure size 432x288 with 1 Axes>"
      ]
     },
     "metadata": {
      "needs_background": "light"
     },
     "output_type": "display_data"
    }
   ],
   "source": [
    "k = 2\n",
    "data = test_data\n",
    "\n",
    "def pca(data,k):\n",
    "  ##正規化\n",
    "  data = (data - data.mean(axis = 0))/data.std(axis = 0)\n",
    "  ##相関行列\n",
    "  data_cov = np.corrcoef(data.T)\n",
    "  ##相関行列を特異値分解（固有値分解？）\n",
    "  eig_value,eig_vec = np.linalg.eig(data_cov)\n",
    "  ## 固有値上位n個特有ベクトルを選ぶ\n",
    "  idx = np.argsort(eig_value)[::-1]\n",
    "  eig_vec_ = eig_vec[:,idx] \n",
    "  eig_vec_top_k = eig_vec_[:,:k]\n",
    "  result = np.dot(data,eig_vec_top_k)\n",
    "  return result \n",
    "\n",
    "result = pca(data,k)\n",
    "plt.scatter(result[:,0],result[:,1])"
   ]
  }
 ],
 "metadata": {
  "kernelspec": {
   "display_name": "Python 3",
   "language": "python",
   "name": "python3"
  },
  "language_info": {
   "codemirror_mode": {
    "name": "ipython",
    "version": 3
   },
   "file_extension": ".py",
   "mimetype": "text/x-python",
   "name": "python",
   "nbconvert_exporter": "python",
   "pygments_lexer": "ipython3",
   "version": "3.8.3"
  }
 },
 "nbformat": 4,
 "nbformat_minor": 4
}
