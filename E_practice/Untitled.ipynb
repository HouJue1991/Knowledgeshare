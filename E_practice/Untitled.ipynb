{
 "cells": [
  {
   "cell_type": "code",
   "execution_count": 9,
   "metadata": {},
   "outputs": [],
   "source": [
    "import numpy as np \n"
   ]
  },
  {
   "cell_type": "code",
   "execution_count": 10,
   "metadata": {},
   "outputs": [
    {
     "data": {
      "text/plain": [
       "array([[0.33596835, 0.48681586, 0.88919816, 0.31265968, 0.96546436,\n",
       "        0.8135603 , 0.59288053, 0.48318779, 0.1975399 , 0.94628206],\n",
       "       [0.83436296, 0.57020621, 0.55501546, 0.49809817, 0.25586029,\n",
       "        0.16663509, 0.79436875, 0.35072903, 0.40348257, 0.07677699],\n",
       "       [0.43661154, 0.10764389, 0.53936399, 0.62739235, 0.79744469,\n",
       "        0.67254854, 0.0957776 , 0.94700559, 0.73646449, 0.344131  ],\n",
       "       [0.43831538, 0.14265068, 0.89068465, 0.78236358, 0.98341332,\n",
       "        0.6615672 , 0.52559879, 0.78116093, 0.08027703, 0.22161524],\n",
       "       [0.1431862 , 0.65713409, 0.46070505, 0.32898425, 0.11069722,\n",
       "        0.43672444, 0.2461291 , 0.52373534, 0.65008153, 0.043437  ]])"
      ]
     },
     "execution_count": 10,
     "metadata": {},
     "output_type": "execute_result"
    }
   ],
   "source": [
    "x = np.random.rand(5,10)\n",
    "x"
   ]
  },
  {
   "cell_type": "code",
   "execution_count": 11,
   "metadata": {},
   "outputs": [
    {
     "data": {
      "text/plain": [
       "(5, 10)"
      ]
     },
     "execution_count": 11,
     "metadata": {},
     "output_type": "execute_result"
    }
   ],
   "source": [
    "x.shape"
   ]
  },
  {
   "cell_type": "code",
   "execution_count": 19,
   "metadata": {},
   "outputs": [],
   "source": [
    "# 1- (np.random.rand(*x.shape)>=0.3)"
   ]
  },
  {
   "cell_type": "code",
   "execution_count": 16,
   "metadata": {},
   "outputs": [
    {
     "data": {
      "text/plain": [
       "array([[0.33596835, 0.48681586, 0.88919816, 0.31265968, 0.        ,\n",
       "        0.8135603 , 0.59288053, 0.48318779, 0.1975399 , 0.94628206],\n",
       "       [0.83436296, 0.57020621, 0.55501546, 0.49809817, 0.25586029,\n",
       "        0.        , 0.79436875, 0.35072903, 0.40348257, 0.07677699],\n",
       "       [0.43661154, 0.10764389, 0.53936399, 0.62739235, 0.79744469,\n",
       "        0.67254854, 0.0957776 , 0.94700559, 0.73646449, 0.344131  ],\n",
       "       [0.        , 0.14265068, 0.89068465, 0.78236358, 0.98341332,\n",
       "        0.6615672 , 0.52559879, 0.78116093, 0.08027703, 0.22161524],\n",
       "       [0.1431862 , 0.65713409, 0.        , 0.32898425, 0.        ,\n",
       "        0.43672444, 0.2461291 , 0.52373534, 0.65008153, 0.043437  ]])"
      ]
     },
     "execution_count": 16,
     "metadata": {},
     "output_type": "execute_result"
    }
   ],
   "source": []
  },
  {
   "cell_type": "code",
   "execution_count": null,
   "metadata": {},
   "outputs": [],
   "source": []
  }
 ],
 "metadata": {
  "kernelspec": {
   "display_name": "Python 3",
   "language": "python",
   "name": "python3"
  },
  "language_info": {
   "codemirror_mode": {
    "name": "ipython",
    "version": 3
   },
   "file_extension": ".py",
   "mimetype": "text/x-python",
   "name": "python",
   "nbconvert_exporter": "python",
   "pygments_lexer": "ipython3",
   "version": "3.8.3"
  }
 },
 "nbformat": 4,
 "nbformat_minor": 4
}
