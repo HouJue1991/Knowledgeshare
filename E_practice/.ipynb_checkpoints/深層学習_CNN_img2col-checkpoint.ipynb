{
 "cells": [
  {
   "cell_type": "markdown",
   "metadata": {},
   "source": [
    "# cnn"
   ]
  },
  {
   "cell_type": "code",
   "execution_count": 2,
   "metadata": {},
   "outputs": [
    {
     "name": "stderr",
     "output_type": "stream",
     "text": [
      "<frozen importlib._bootstrap>:219: RuntimeWarning: numpy.ufunc size changed, may indicate binary incompatibility. Expected 192 from C header, got 216 from PyObject\n"
     ]
    }
   ],
   "source": [
    "import numpy as np\n",
    "from sklearn.datasets import load_iris\n",
    "from sklearn.model_selection import train_test_split\n",
    "from sklearn.metrics import accuracy_score\n",
    "from sklearn import datasets"
   ]
  },
  {
   "cell_type": "code",
   "execution_count": 24,
   "metadata": {},
   "outputs": [],
   "source": [
    "from PIL import Image\n"
   ]
  },
  {
   "cell_type": "code",
   "execution_count": 5,
   "metadata": {},
   "outputs": [],
   "source": [
    "# !pip install tensorflow"
   ]
  },
  {
   "cell_type": "code",
   "execution_count": 9,
   "metadata": {},
   "outputs": [],
   "source": [
    "import tensorflow\n"
   ]
  },
  {
   "cell_type": "code",
   "execution_count": 18,
   "metadata": {},
   "outputs": [],
   "source": [
    "(x_train, y_train), (x_test, y_test) = tensorflow.keras.datasets.cifar10.load_data()\n",
    "x_train = x_train[:500] \n",
    "y_train = y_train[:500] \n"
   ]
  },
  {
   "cell_type": "code",
   "execution_count": 19,
   "metadata": {},
   "outputs": [
    {
     "data": {
      "text/plain": [
       "((500, 32, 32, 3), (500, 1))"
      ]
     },
     "execution_count": 19,
     "metadata": {},
     "output_type": "execute_result"
    }
   ],
   "source": [
    "x_train.shape,y_train.shape"
   ]
  },
  {
   "cell_type": "markdown",
   "metadata": {},
   "source": []
  },
  {
   "cell_type": "code",
   "execution_count": 31,
   "metadata": {},
   "outputs": [
    {
     "data": {
      "image/png": "[encoded data removed]",
      "text/plain": [
       "<PIL.Image.Image image mode=L size=32x32 at 0x7FB139D31340>"
      ]
     },
     "execution_count": 31,
     "metadata": {},
     "output_type": "execute_result"
    }
   ],
   "source": [
    "Image.fromarray(x_train[1,:,:,1])"
   ]
  },
  {
   "cell_type": "code",
   "execution_count": 34,
   "metadata": {},
   "outputs": [],
   "source": [
    "x_reshape = x_train.reshape(500,3,32,32)\n",
    "Image.fromarray(x_reshape[1,1,:,:])"
   ]
  },
  {
   "cell_type": "code",
   "execution_count": 40,
   "metadata": {},
   "outputs": [
    {
     "data": {
      "image/png": "[encoded data removed]",
      "text/plain": [
       "<PIL.Image.Image image mode=L size=32x32 at 0x7FB139EB61C0>"
      ]
     },
     "execution_count": 40,
     "metadata": {},
     "output_type": "execute_result"
    }
   ],
   "source": [
    "x_transpose= x_train.transpose(0,3,1,2)\n",
    "Image.fromarray(x_transpose[1,1,:,:])"
   ]
  },
  {
   "cell_type": "markdown",
   "metadata": {},
   "source": []
  },
  {
   "cell_type": "markdown",
   "metadata": {},
   "source": [
    "<img src  ='./data/img2col.png' >"
   ]
  },
  {
   "cell_type": "code",
   "execution_count": 62,
   "metadata": {},
   "outputs": [
    {
     "name": "stdout",
     "output_type": "stream",
     "text": [
      "N,C,H,W:  500 3 32 32\n",
      "out_h: 29 out_w: 29\n",
      "col(500, 3, 4, 4, 29, 29)\n",
      "w:0,w_max:29,h:0,h_max:29\n",
      "w:1,w_max:30,h:0,h_max:29\n",
      "w:2,w_max:31,h:0,h_max:29\n",
      "w:3,w_max:32,h:0,h_max:29\n",
      "w:0,w_max:29,h:1,h_max:30\n",
      "w:1,w_max:30,h:1,h_max:30\n",
      "w:2,w_max:31,h:1,h_max:30\n",
      "w:3,w_max:32,h:1,h_max:30\n",
      "w:0,w_max:29,h:2,h_max:31\n",
      "w:1,w_max:30,h:2,h_max:31\n",
      "w:2,w_max:31,h:2,h_max:31\n",
      "w:3,w_max:32,h:2,h_max:31\n",
      "w:0,w_max:29,h:3,h_max:32\n",
      "w:1,w_max:30,h:3,h_max:32\n",
      "w:2,w_max:31,h:3,h_max:32\n",
      "w:3,w_max:32,h:3,h_max:32\n",
      "col(420500, 48)\n"
     ]
    }
   ],
   "source": [
    "filter_h=filter_w = 4\n",
    "stride =1\n",
    "pad = 0\n",
    "\n",
    "N,C,H,W = x_transpose.shape \n",
    "print('N,C,H,W: ',N,C,H,W)\n",
    "out_h = H+2*pad - filter_h // stride +1\n",
    "out_w =  W+2*pad - filter_w // stride +1\n",
    "print(f'out_h: {out_h} out_w: {out_w}')\n",
    "img = x_transpose\n",
    "col = np.zeros((N,C,filter_h,filter_w,out_h,out_w))\n",
    "print(f'col{col.shape}')\n",
    "for h in range(filter_h):\n",
    "    h_max = h+stride*out_h\n",
    "    for w in range(filter_w):\n",
    "        w_max = w+stride*out_w\n",
    "        col[:, :, h, w, :, :] = img[:, :, h:h_max:stride, w:w_max:stride]\n",
    "        print(f'w:{w},w_max:{w_max},h:{h},h_max:{h_max}')\n",
    "    \n",
    "col = col.transpose(0, 4, 5, 1, 2, 3).reshape(N*out_h*out_w , C*filter_h*filter_w )\n",
    "print(f'col{col.shape}')\n"
   ]
  },
  {
   "cell_type": "code",
   "execution_count": null,
   "metadata": {},
   "outputs": [],
   "source": []
  },
  {
   "cell_type": "code",
   "execution_count": 20,
   "metadata": {},
   "outputs": [
    {
     "ename": "NameError",
     "evalue": "name 'im2col' is not defined",
     "output_type": "error",
     "traceback": [
      "\u001b[0;31m---------------------------------------------------------------------------\u001b[0m",
      "\u001b[0;31mNameError\u001b[0m                                 Traceback (most recent call last)",
      "\u001b[0;32m<ipython-input-20-e3878f9c7b1f>\u001b[0m in \u001b[0;36m<module>\u001b[0;34m\u001b[0m\n\u001b[0;32m----> 1\u001b[0;31m \u001b[0mim2col\u001b[0m\u001b[0;34m\u001b[0m\u001b[0;34m\u001b[0m\u001b[0m\n\u001b[0m",
      "\u001b[0;31mNameError\u001b[0m: name 'im2col' is not defined"
     ]
    }
   ],
   "source": [
    "# def im2col(input_data , filter_h,filter_w,stride =1 , pad = 0 ):\n",
    "#     N,C,H,W = x_transpose.shape \n",
    "#     out_h = H+2*pad - filter_h // stride +1\n",
    "#     out_w =  W+2*pad - filter_w // stride +1\n",
    "    \n",
    "    \n",
    "    \n",
    "#     return None\n",
    "# def pooling():\n",
    "#     return None "
   ]
  },
  {
   "cell_type": "code",
   "execution_count": null,
   "metadata": {},
   "outputs": [],
   "source": []
  },
  {
   "cell_type": "code",
   "execution_count": null,
   "metadata": {},
   "outputs": [],
   "source": []
  },
  {
   "cell_type": "code",
   "execution_count": null,
   "metadata": {},
   "outputs": [],
   "source": []
  },
  {
   "cell_type": "code",
   "execution_count": null,
   "metadata": {},
   "outputs": [],
   "source": []
  },
  {
   "cell_type": "code",
   "execution_count": null,
   "metadata": {},
   "outputs": [],
   "source": []
  },
  {
   "cell_type": "code",
   "execution_count": null,
   "metadata": {},
   "outputs": [],
   "source": []
  },
  {
   "cell_type": "code",
   "execution_count": null,
   "metadata": {},
   "outputs": [],
   "source": []
  }
 ],
 "metadata": {
  "kernelspec": {
   "display_name": "Python 3",
   "language": "python",
   "name": "python3"
  },
  "language_info": {
   "codemirror_mode": {
    "name": "ipython",
    "version": 3
   },
   "file_extension": ".py",
   "mimetype": "text/x-python",
   "name": "python",
   "nbconvert_exporter": "python",
   "pygments_lexer": "ipython3",
   "version": "3.8.3"
  }
 },
 "nbformat": 4,
 "nbformat_minor": 4
}
