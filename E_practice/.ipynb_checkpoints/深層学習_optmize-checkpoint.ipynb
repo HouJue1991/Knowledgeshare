{
 "cells": [
  {
   "cell_type": "markdown",
   "metadata": {},
   "source": [
    "# neural network"
   ]
  },
  {
   "cell_type": "code",
   "execution_count": 1,
   "metadata": {},
   "outputs": [],
   "source": [
    "import numpy as np\n",
    "from sklearn.datasets import load_iris\n",
    "from sklearn.model_selection import train_test_split\n",
    "from sklearn.metrics import accuracy_score"
   ]
  },
  {
   "cell_type": "markdown",
   "metadata": {},
   "source": [
    "- forward:\n",
    "    - \n",
    "    - \n",
    "- gradient descent:\n",
    "    - gradient:\n",
    "        - $G_{W}:$\n",
    "        - $G_{b}:$\n",
    "      \n",
    "    - loss function\n",
    "        -  $Loss =- \\sum_{i=1}^{m} ylog(y_{hat}) + (1-y)log(1-y_{hat}) * (1/m) $\n",
    "    - update\n",
    "        - $W \\leftarrow  W- \\alpha G_{W}$\n",
    "        - $b \\leftarrow b- \\alpha G_{b}$\n"
   ]
  },
  {
   "cell_type": "code",
   "execution_count": 2,
   "metadata": {},
   "outputs": [],
   "source": [
    "np.random.seed(0)"
   ]
  },
  {
   "cell_type": "markdown",
   "metadata": {},
   "source": [
    "- sgd\n",
    "- momentum\n",
    "- adagrad\n",
    "- RMSprop\n",
    "- Adam"
   ]
  },
  {
   "cell_type": "code",
   "execution_count": 3,
   "metadata": {},
   "outputs": [],
   "source": [
    "def update_sgd(w,grads):\n",
    "    w -= LR * grads['dw']  \n",
    "    return w\n",
    "def update_momentum(w,v,grads):\n",
    "    v = P * v + (1-P) * grads['dw'] \n",
    "    w = w - LR *  v\n",
    "    return w,v\n",
    "def update_adagrad(w,h,grads):\n",
    "    h = h +  grads['dw'] * grads['dw']  \n",
    "    w = w - LR *( 1 /np.sqrt(h+e)) *grads['dw']\n",
    "    return w,h\n",
    "\n",
    "def update_RMSprop(w,h,grads):\n",
    "    h = P * h +  (1-P) * grads['dw'] * grads['dw']  \n",
    "    w = w - LR *( 1 /np.sqrt(h+e)) *grads['dw']\n",
    "    return w,h  \n",
    "\n",
    "def update_Adam(w,m,v,grads):\n",
    "    m = P1 * m +  (1-P) * grads['dw'] * grads['dw']  \n",
    "    v = P2 * v +  (1-P2) * grads['dw']\n",
    "   \n",
    "    w = w - LR *( 1 /np.sqrt( m+e)) *v\n",
    "    return w,m,v"
   ]
  },
  {
   "cell_type": "code",
   "execution_count": null,
   "metadata": {},
   "outputs": [],
   "source": []
  },
  {
   "cell_type": "code",
   "execution_count": 13,
   "metadata": {},
   "outputs": [],
   "source": [
    "#initialize\n",
    "LR = 0.01\n",
    "P = P1 = P2 = 0.9\n",
    "w_sgd= w_m =  w_ada =  w_rms =  w_adam = 0.9\n",
    "v_m = h_ada = h_rms = m_adam = v_adam = 0 \n",
    "\n",
    "e = 1 * 10**-8\n",
    "grads = {\n",
    "    'dw':0.5\n",
    "}\n",
    "\n",
    "sgd_li =  []\n",
    "momentum_li =  []\n",
    "adagrad_li =  []\n",
    "rmsprop_li =  []\n",
    "adam_li =  []\n",
    "for i in range(100):\n",
    "#     update\n",
    "    w_sgd = update_sgd(w_sgd,grads)\n",
    "    w_m,v_m = update_momentum(w_m,v_m,grads)\n",
    "    w_ada,h_ada = update_adagrad(w_ada,h_ada,grads)\n",
    "    w_rms,h_rms = update_RMSprop(w_rms,h_rms,grads)\n",
    "    w_adam,m_adam,v_adam = update_Adam(w_adam,m_adam,v_adam,grads)\n",
    "    \n",
    "    sgd_li.append(w_sgd)\n",
    "    momentum_li.append(w_m)\n",
    "    adagrad_li.append(w_ada)\n",
    "    rmsprop_li.append(w_rms)\n",
    "    adam_li.append(w_adam)\n"
   ]
  },
  {
   "cell_type": "code",
   "execution_count": 14,
   "metadata": {},
   "outputs": [
    {
     "data": {
      "text/plain": [
       "<matplotlib.legend.Legend at 0x7ff02d75d0a0>"
      ]
     },
     "execution_count": 14,
     "metadata": {},
     "output_type": "execute_result"
    },
    {
     "data": {
      "image/png": "[encoded data removed]",
      "text/plain": [
       "<Figure size 432x288 with 1 Axes>"
      ]
     },
     "metadata": {
      "needs_background": "light"
     },
     "output_type": "display_data"
    }
   ],
   "source": [
    "import matplotlib.pyplot as plt \n",
    "plt.plot(sgd_li,label = 'sgd')\n",
    "plt.plot(momentum_li,label = 'momentum')\n",
    "plt.plot(adagrad_li,label = 'adagrad')\n",
    "plt.plot(rmsprop_li,label = 'rmsprop')\n",
    "plt.plot(adam_li,label = 'adam')\n",
    "plt.legend()"
   ]
  },
  {
   "cell_type": "code",
   "execution_count": null,
   "metadata": {},
   "outputs": [],
   "source": []
  }
 ],
 "metadata": {
  "kernelspec": {
   "display_name": "Python 3",
   "language": "python",
   "name": "python3"
  },
  "language_info": {
   "codemirror_mode": {
    "name": "ipython",
    "version": 3
   },
   "file_extension": ".py",
   "mimetype": "text/x-python",
   "name": "python",
   "nbconvert_exporter": "python",
   "pygments_lexer": "ipython3",
   "version": "3.8.3"
  }
 },
 "nbformat": 4,
 "nbformat_minor": 4
}
