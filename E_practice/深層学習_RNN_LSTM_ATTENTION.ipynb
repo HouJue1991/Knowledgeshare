{
 "cells": [
  {
   "cell_type": "code",
   "execution_count": 3,
   "metadata": {},
   "outputs": [],
   "source": [
    "import numpy as np\n",
    "from sklearn.datasets import load_iris\n",
    "from sklearn.model_selection import train_test_split\n",
    "from sklearn.metrics import accuracy_score"
   ]
  },
  {
   "cell_type": "markdown",
   "metadata": {},
   "source": [
    "## RNN\n",
    "<img src = './data/RNN.jpg'>"
   ]
  },
  {
   "cell_type": "markdown",
   "metadata": {},
   "source": [
    "### rnn cell\n",
    "- forward:\n",
    "    - $ h_{t} = tanh(W_{h}h_{t-1}+W_{x}X_{t}+b_{x})$\n",
    "    - $y_{t} = tanh(W_{y}h_{t}+b_{y})$\n",
    "    - demention\n",
    "        - $X_{t}$：batch_size * embed_dim  \n",
    "        - $W_{x}$：embed_dim * h  \n",
    "        - $h_{t}$：batch_size*h\n",
    "        - $W_{h}$：h*　h\n",
    "        - $y_{t}$：h * embed_dim\n",
    "        - $W_{y}$：h *　embed_dim\n",
    "- backward:\n",
    "    - \n",
    "    - \n",
    "\n",
    "### rnn by time \n",
    "- forward by time:\n",
    "    - for t in range(T)\n",
    "        - ht = forward(h_prev ,Xs[:,T,:])\n",
    "    - $Xs$: N* T*embed_dim\n",
    "    \n",
    "- backward by time:\n",
    "    - for t in reverse(range(T))\n",
    "        - backward()\n"
   ]
  },
  {
   "cell_type": "code",
   "execution_count": 40,
   "metadata": {},
   "outputs": [],
   "source": [
    "def  initialize_parameter(batch_size , embed_dim , h ):\n",
    "    WX = np.random.rand(embed_dim,h)\n",
    "    Wh = np.random.rand(h,h)\n",
    "    Wy = np.random.rand(h,embed_dim)\n",
    "    Bh = np.random.rand(h)\n",
    "    By = np.random.rand(embed_dim)\n",
    "    return WX,Wh,Wy,Bh,By\n",
    "\n",
    "def forward(X,h_prev,WX,Wh,Bh):\n",
    "    '''\n",
    "    input : \n",
    "    X: input data ,shape : batch_size ,embed_dim\n",
    "    H：hidden layer , shape : batch_size , h \n",
    "    output:\n",
    "    Y:output ,shape : h,y_dim\n",
    "    '''\n",
    "    h = np.dot(h_prev,Wh) +  np.dot(X,WX) + Bh\n",
    "    h = np.tanh(h)\n",
    "    return h\n",
    "\n",
    "def forward_by_time(T,Xs,WX,Wh,Bh):\n",
    "    \n",
    "    for t in range(T):\n",
    "        h = forward(X[:,T,:],h_prev,WX,Wh,Bh)\n",
    "        hs[:,T,:] = h \n",
    "    return hs\n",
    "\n",
    "def backward():\n",
    "    return None "
   ]
  },
  {
   "cell_type": "code",
   "execution_count": 41,
   "metadata": {},
   "outputs": [
    {
     "name": "stdout",
     "output_type": "stream",
     "text": [
      "WX (100, 50)\n",
      "Wy (50, 100)\n",
      "Wh (50, 50)\n",
      "Bh (50,)\n",
      "By (100,)\n",
      "X (32, 100)\n",
      "h_prev (32, 50)\n",
      "h (32, 50)\n"
     ]
    }
   ],
   "source": [
    "batch_size = 32\n",
    "embed_dim = 100\n",
    "h_dim = 50\n",
    "T = 10\n",
    "\n",
    "WX,Wh,Wy,Bh,By= initialize_parameter(batch_size , embed_dim , h_dim)\n",
    "\n",
    "print(f'WX {WX.shape}')\n",
    "print(f'Wy {Wy.shape}')\n",
    "print(f'Wh {Wh.shape}')\n",
    "print(f'Bh {Bh.shape}')\n",
    "print(f'By {By.shape}')\n",
    "X = np.random.rand(batch_size , embed_dim)\n",
    "h_prev = np.random.rand(batch_size , h_dim)\n",
    "h = forward(X,h_prev,WX,Wh,Bh)\n",
    "print(f'X {X.shape}')\n",
    "print(f'h_prev {h_prev.shape}')\n",
    "print(f'h {h.shape}')\n"
   ]
  },
  {
   "cell_type": "code",
   "execution_count": 42,
   "metadata": {},
   "outputs": [
    {
     "name": "stdout",
     "output_type": "stream",
     "text": [
      "Xs (32, 10, 100)\n",
      "hs (32, 10, 50)\n"
     ]
    }
   ],
   "source": [
    "Xs = np.random.rand(batch_size ,T, embed_dim)\n",
    "hs = np.random.rand(batch_size ,T, h_dim)\n",
    "print(f'Xs {Xs.shape}')\n",
    "print(f'hs {hs.shape}')\n"
   ]
  },
  {
   "cell_type": "code",
   "execution_count": null,
   "metadata": {},
   "outputs": [],
   "source": []
  },
  {
   "cell_type": "code",
   "execution_count": null,
   "metadata": {},
   "outputs": [],
   "source": []
  },
  {
   "cell_type": "code",
   "execution_count": null,
   "metadata": {},
   "outputs": [],
   "source": []
  },
  {
   "cell_type": "code",
   "execution_count": null,
   "metadata": {},
   "outputs": [],
   "source": []
  },
  {
   "cell_type": "code",
   "execution_count": null,
   "metadata": {},
   "outputs": [],
   "source": []
  },
  {
   "cell_type": "code",
   "execution_count": null,
   "metadata": {},
   "outputs": [],
   "source": []
  },
  {
   "cell_type": "markdown",
   "metadata": {},
   "source": [
    "LSTM\n",
    "- 式\n",
    "    - \n",
    "    - \n",
    "    - \n",
    "    - \n",
    "    - \n",
    "    "
   ]
  },
  {
   "cell_type": "code",
   "execution_count": null,
   "metadata": {},
   "outputs": [],
   "source": []
  },
  {
   "cell_type": "markdown",
   "metadata": {},
   "source": [
    "ATTENTION\n",
    "- 式\n",
    "    - \n",
    "    - \n",
    "    - \n",
    "    - \n",
    "    - \n",
    "    "
   ]
  },
  {
   "cell_type": "code",
   "execution_count": null,
   "metadata": {},
   "outputs": [],
   "source": []
  }
 ],
 "metadata": {
  "kernelspec": {
   "display_name": "Python 3",
   "language": "python",
   "name": "python3"
  },
  "language_info": {
   "codemirror_mode": {
    "name": "ipython",
    "version": 3
   },
   "file_extension": ".py",
   "mimetype": "text/x-python",
   "name": "python",
   "nbconvert_exporter": "python",
   "pygments_lexer": "ipython3",
   "version": "3.8.3"
  }
 },
 "nbformat": 4,
 "nbformat_minor": 4
}
