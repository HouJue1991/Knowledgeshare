{
  "nbformat": 4,
  "nbformat_minor": 0,
  "metadata": {
    "kernelspec": {
      "display_name": "Python 3",
      "language": "python",
      "name": "python3"
    },
    "language_info": {
      "codemirror_mode": {
        "name": "ipython",
        "version": 3
      },
      "file_extension": ".py",
      "mimetype": "text/x-python",
      "name": "python",
      "nbconvert_exporter": "python",
      "pygments_lexer": "ipython3",
      "version": "3.6.5"
    },
    "colab": {
      "name": "“digits_classification.ipynb”的副本",
      "version": "0.3.2",
      "provenance": []
    }
  },
  "cells": [
    {
      "cell_type": "markdown",
      "metadata": {
        "id": "EzjNyIETY7uj",
        "colab_type": "text"
      },
      "source": [
        "# MNIST digits classification with TensorFlow"
      ]
    },
    {
      "cell_type": "markdown",
      "metadata": {
        "id": "_x2e3rzqY7ul",
        "colab_type": "text"
      },
      "source": [
        "<img src=\"https://github.com/hse-aml/intro-to-dl/blob/master/week2/v2/images/mnist_sample.png?raw=1\" style=\"width:30%\">"
      ]
    },
    {
      "cell_type": "code",
      "metadata": {
        "id": "keTIk0cwZKyk",
        "colab_type": "code",
        "colab": {
          "base_uri": "https://localhost:8080/",
          "height": 343
        },
        "outputId": "bbe0dc84-b5e6-429a-e31f-4f92ef1a58d4"
      },
      "source": [
        "! shred -u setup_google_colab.py\n",
        "! wget https://raw.githubusercontent.com/hse-aml/intro-to-dl/master/setup_google_colab.py -O setup_google_colab.py\n",
        "import setup_google_colab\n",
        "# please, uncomment the week you're working on\n",
        "# setup_google_colab.setup_week1()\n",
        "setup_google_colab.setup_week2()\n",
        "# setup_google_colab.setup_week3()\n",
        "# setup_google_colab.setup_week4()\n",
        "# setup_google_colab.setup_week5()\n",
        "# setup_google_colab.setup_week6()\n",
        "\n",
        "# If you're using the old version of the course (check a path of notebook on Coursera, you'll see v1 or v2),\n",
        "# use setup_week2_old()."
      ],
      "execution_count": 2,
      "outputs": [
        {
          "output_type": "stream",
          "text": [
            "shred: setup_google_colab.py: failed to open for writing: No such file or directory\n",
            "--2019-09-09 14:19:38--  https://raw.githubusercontent.com/hse-aml/intro-to-dl/master/setup_google_colab.py\n",
            "Resolving raw.githubusercontent.com (raw.githubusercontent.com)... 151.101.0.133, 151.101.64.133, 151.101.128.133, ...\n",
            "Connecting to raw.githubusercontent.com (raw.githubusercontent.com)|151.101.0.133|:443... connected.\n",
            "HTTP request sent, awaiting response... 200 OK\n",
            "Length: 3792 (3.7K) [text/plain]\n",
            "Saving to: ‘setup_google_colab.py’\n",
            "\n",
            "setup_google_colab. 100%[===================>]   3.70K  --.-KB/s    in 0s      \n",
            "\n",
            "2019-09-09 14:19:38 (60.3 MB/s) - ‘setup_google_colab.py’ saved [3792/3792]\n",
            "\n",
            "**************************************************\n",
            "inception_v3_weights_tf_dim_ordering_tf_kernels_notop.h5\n",
            "**************************************************\n",
            "cifar-10-batches-py.tar.gz\n",
            "**************************************************\n",
            "mnist.npz\n"
          ],
          "name": "stdout"
        }
      ]
    },
    {
      "cell_type": "code",
      "metadata": {
        "id": "26QcSYCMY7uo",
        "colab_type": "code",
        "outputId": "d41fb3e7-a8af-4d17-be7c-51b3cd0416af",
        "colab": {
          "base_uri": "https://localhost:8080/",
          "height": 51
        }
      },
      "source": [
        "import numpy as np\n",
        "from sklearn.metrics import accuracy_score\n",
        "from matplotlib import pyplot as plt\n",
        "%matplotlib inline\n",
        "import tensorflow as tf\n",
        "print(\"We're using TF\", tf.__version__)\n",
        "\n",
        "import sys\n",
        "sys.path.append(\"../..\")\n",
        "import grading\n",
        "\n",
        "import matplotlib_utils\n",
        "from importlib import reload\n",
        "reload(matplotlib_utils)\n",
        "\n",
        "import grading_utils\n",
        "reload(grading_utils)\n",
        "\n",
        "import keras_utils\n",
        "from keras_utils import reset_tf_session"
      ],
      "execution_count": 3,
      "outputs": [
        {
          "output_type": "stream",
          "text": [
            "We're using TF 1.14.0\n"
          ],
          "name": "stdout"
        },
        {
          "output_type": "stream",
          "text": [
            "Using TensorFlow backend.\n"
          ],
          "name": "stderr"
        }
      ]
    },
    {
      "cell_type": "markdown",
      "metadata": {
        "id": "dy19tCloY7ur",
        "colab_type": "text"
      },
      "source": [
        "# Fill in your Coursera token and email\n",
        "To successfully submit your answers to our grader, please fill in your Coursera submission token and email"
      ]
    },
    {
      "cell_type": "code",
      "metadata": {
        "id": "xnenzC-lY7us",
        "colab_type": "code",
        "colab": {}
      },
      "source": [
        "grader = grading.Grader(assignment_key=\"XtD7ho3TEeiHQBLWejjYAA\", \n",
        "                        all_parts=[\"9XaAS\", \"vmogZ\", \"RMv95\", \"i8bgs\", \"rE763\"])"
      ],
      "execution_count": 0,
      "outputs": []
    },
    {
      "cell_type": "code",
      "metadata": {
        "id": "UAis-scTY7uv",
        "colab_type": "code",
        "colab": {}
      },
      "source": [
        "# token expires every 30 min\n",
        "COURSERA_TOKEN = \"EvuJc0zSauQ0wHSM\"\n",
        "COURSERA_EMAIL = \"houjue19910720@outlook.com\""
      ],
      "execution_count": 0,
      "outputs": []
    },
    {
      "cell_type": "markdown",
      "metadata": {
        "id": "LkB22f0aY7ux",
        "colab_type": "text"
      },
      "source": [
        "# Look at the data\n",
        "\n",
        "In this task we have 50000 28x28 images of digits from 0 to 9.\n",
        "We will train a classifier on this data."
      ]
    },
    {
      "cell_type": "code",
      "metadata": {
        "id": "8iouZuAhY7uy",
        "colab_type": "code",
        "colab": {
          "base_uri": "https://localhost:8080/",
          "height": 51
        },
        "outputId": "2dfe507a-d459-45e5-a24e-068f8c868b9d"
      },
      "source": [
        "import preprocessed_mnist\n",
        "X_train, y_train, X_val, y_val, X_test, y_test = preprocessed_mnist.load_dataset()"
      ],
      "execution_count": 6,
      "outputs": [
        {
          "output_type": "stream",
          "text": [
            "Downloading data from https://s3.amazonaws.com/img-datasets/mnist.npz\n",
            " 3284992/11490434 [=======>......................] - ETA: 0s"
          ],
          "name": "stdout"
        }
      ]
    },
    {
      "cell_type": "code",
      "metadata": {
        "id": "-4h3CMK0Y7u0",
        "colab_type": "code",
        "colab": {
          "base_uri": "https://localhost:8080/",
          "height": 691
        },
        "outputId": "6b3ea7c3-ef91-418f-a1b9-c6d50f1ce62e"
      },
      "source": [
        "# X contains rgb values divided by 255\n",
        "print(\"X_train [shape %s] sample patch:\\n\" % (str(X_train.shape)), X_train[1, 15:20, 5:10])\n",
        "print(\"A closeup of a sample patch:\")\n",
        "plt.imshow(X_train[1, 15:20, 5:10], cmap=\"Greys\")\n",
        "plt.show()\n",
        "print(\"And the whole sample:\")\n",
        "plt.imshow(X_train[1], cmap=\"Greys\")\n",
        "plt.show()\n",
        "print(\"y_train [shape %s] 10 samples:\\n\" % (str(y_train.shape)), y_train[:10])"
      ],
      "execution_count": 7,
      "outputs": [
        {
          "output_type": "stream",
          "text": [
            "X_train [shape (50000, 28, 28)] sample patch:\n",
            " [[0.         0.29803922 0.96470588 0.98823529 0.43921569]\n",
            " [0.         0.33333333 0.98823529 0.90196078 0.09803922]\n",
            " [0.         0.33333333 0.98823529 0.8745098  0.        ]\n",
            " [0.         0.33333333 0.98823529 0.56862745 0.        ]\n",
            " [0.         0.3372549  0.99215686 0.88235294 0.        ]]\n",
            "A closeup of a sample patch:\n"
          ],
          "name": "stdout"
        },
        {
          "output_type": "display_data",
          "data": {
            "image/png": "[encoded data removed]",
            "text/plain": [
              "<Figure size 432x288 with 1 Axes>"
            ]
          },
          "metadata": {
            "tags": []
          }
        },
        {
          "output_type": "stream",
          "text": [
            "And the whole sample:\n"
          ],
          "name": "stdout"
        },
        {
          "output_type": "display_data",
          "data": {
            "image/png": "[encoded data removed]",
            "text/plain": [
              "<Figure size 432x288 with 1 Axes>"
            ]
          },
          "metadata": {
            "tags": []
          }
        },
        {
          "output_type": "stream",
          "text": [
            "y_train [shape (50000,)] 10 samples:\n",
            " [5 0 4 1 9 2 1 3 1 4]\n"
          ],
          "name": "stdout"
        }
      ]
    },
    {
      "cell_type": "markdown",
      "metadata": {
        "id": "FtmTJnEhY7u3",
        "colab_type": "text"
      },
      "source": [
        "# Linear model\n",
        "\n",
        "Your task is to train a linear classifier $\\vec{x} \\rightarrow y$ with SGD using TensorFlow.\n",
        "\n",
        "You will need to calculate a logit (a linear transformation) $z_k$ for each class: \n",
        "$$z_k = \\vec{x} \\cdot \\vec{w_k} + b_k \\quad k = 0..9$$\n",
        "\n",
        "And transform logits $z_k$ to valid probabilities $p_k$ with softmax: \n",
        "$$p_k = \\frac{e^{z_k}}{\\sum_{i=0}^{9}{e^{z_i}}} \\quad k = 0..9$$\n",
        "\n",
        "We will use a cross-entropy loss to train our multi-class classifier:\n",
        "$$\\text{cross-entropy}(y, p) = -\\sum_{k=0}^{9}{\\log(p_k)[y = k]}$$ \n",
        "\n",
        "where \n",
        "$$\n",
        "[x]=\\begin{cases}\n",
        "       1, \\quad \\text{if $x$ is true} \\\\\n",
        "       0, \\quad \\text{otherwise}\n",
        "    \\end{cases}\n",
        "$$\n",
        "\n",
        "Cross-entropy minimization pushes $p_k$ close to 1 when $y = k$, which is what we want.\n",
        "\n",
        "Here's the plan:\n",
        "* Flatten the images (28x28 -> 784) with `X_train.reshape((X_train.shape[0], -1))` to simplify our linear model implementation\n",
        "* Use a matrix placeholder for flattened `X_train`\n",
        "* Convert `y_train` to one-hot encoded vectors that are needed for cross-entropy\n",
        "* Use a shared variable `W` for all weights (a column $\\vec{w_k}$ per class) and `b` for all biases.\n",
        "* Aim for ~0.93 validation accuracy"
      ]
    },
    {
      "cell_type": "code",
      "metadata": {
        "id": "D7EKs5CtY7u3",
        "colab_type": "code",
        "colab": {
          "base_uri": "https://localhost:8080/",
          "height": 51
        },
        "outputId": "dd6564a0-4d15-43c3-f9da-f2b1528df795"
      },
      "source": [
        "X_train_flat = X_train.reshape((X_train.shape[0], -1))\n",
        "print(X_train_flat.shape)\n",
        "\n",
        "X_val_flat = X_val.reshape((X_val.shape[0], -1))\n",
        "print(X_val_flat.shape)"
      ],
      "execution_count": 8,
      "outputs": [
        {
          "output_type": "stream",
          "text": [
            "(50000, 784)\n",
            "(10000, 784)\n"
          ],
          "name": "stdout"
        }
      ]
    },
    {
      "cell_type": "code",
      "metadata": {
        "id": "eDMRmuoIY7u5",
        "colab_type": "code",
        "colab": {
          "base_uri": "https://localhost:8080/",
          "height": 85
        },
        "outputId": "de2985a3-500a-44a1-cef2-e568f3ed2db5"
      },
      "source": [
        "import keras\n",
        "\n",
        "y_train_oh = keras.utils.to_categorical(y_train, 10)\n",
        "y_val_oh = keras.utils.to_categorical(y_val, 10)\n",
        "\n",
        "print(y_train_oh.shape)\n",
        "print(y_train_oh[:3], y_train[:3])"
      ],
      "execution_count": 9,
      "outputs": [
        {
          "output_type": "stream",
          "text": [
            "(50000, 10)\n",
            "[[0. 0. 0. 0. 0. 1. 0. 0. 0. 0.]\n",
            " [1. 0. 0. 0. 0. 0. 0. 0. 0. 0.]\n",
            " [0. 0. 0. 0. 1. 0. 0. 0. 0. 0.]] [5 0 4]\n"
          ],
          "name": "stdout"
        }
      ]
    },
    {
      "cell_type": "code",
      "metadata": {
        "id": "qNwonAWYY7u7",
        "colab_type": "code",
        "colab": {
          "base_uri": "https://localhost:8080/",
          "height": 207
        },
        "outputId": "af802f33-5953-44dd-f9c9-21f5f6bdcdef"
      },
      "source": [
        "# run this again if you remake your graph\n",
        "s = reset_tf_session()"
      ],
      "execution_count": 10,
      "outputs": [
        {
          "output_type": "stream",
          "text": [
            "WARNING:tensorflow:From /content/keras_utils.py:68: The name tf.get_default_session is deprecated. Please use tf.compat.v1.get_default_session instead.\n",
            "\n",
            "WARNING:tensorflow:From /usr/local/lib/python3.6/dist-packages/keras/backend/tensorflow_backend.py:79: The name tf.reset_default_graph is deprecated. Please use tf.compat.v1.reset_default_graph instead.\n",
            "\n",
            "WARNING:tensorflow:From /usr/local/lib/python3.6/dist-packages/keras/backend/tensorflow_backend.py:82: The name tf.placeholder is deprecated. Please use tf.compat.v1.placeholder instead.\n",
            "\n",
            "WARNING:tensorflow:From /usr/local/lib/python3.6/dist-packages/keras/backend/tensorflow_backend.py:84: The name tf.get_default_graph is deprecated. Please use tf.compat.v1.get_default_graph instead.\n",
            "\n",
            "WARNING:tensorflow:From /content/keras_utils.py:75: The name tf.ConfigProto is deprecated. Please use tf.compat.v1.ConfigProto instead.\n",
            "\n"
          ],
          "name": "stdout"
        }
      ]
    },
    {
      "cell_type": "code",
      "metadata": {
        "id": "TjbZsIgyY7u-",
        "colab_type": "code",
        "colab": {
          "base_uri": "https://localhost:8080/",
          "height": 88
        },
        "outputId": "4f4b2383-5f6a-4ccf-84ea-03e9274b2dd1"
      },
      "source": [
        "# Model parameters: W and b\n",
        "W =tf.get_variable(\"W\", shape=(784, 10), dtype=tf.float32)\n",
        "### YOUR CODE HERE ### tf.get_variable(...) with shape[0] = 784\n",
        "b = tf.get_variable(\"b\", shape=(10,), dtype=tf.float32)\n",
        "### YOUR CODE HERE ### tf.get_variable(...)"
      ],
      "execution_count": 11,
      "outputs": [
        {
          "output_type": "stream",
          "text": [
            "WARNING:tensorflow:From /usr/local/lib/python3.6/dist-packages/tensorflow/python/ops/init_ops.py:1251: calling VarianceScaling.__init__ (from tensorflow.python.ops.init_ops) with dtype is deprecated and will be removed in a future version.\n",
            "Instructions for updating:\n",
            "Call initializer instance with the dtype argument instead of passing it to the constructor\n"
          ],
          "name": "stdout"
        }
      ]
    },
    {
      "cell_type": "code",
      "metadata": {
        "id": "lO_4Rbo1Y7vB",
        "colab_type": "code",
        "colab": {}
      },
      "source": [
        "# Placeholders for the input data\n",
        "input_X = tf.placeholder(tf.float32, shape=(None, 784))\n",
        "### YOUR CODE HERE ### tf.placeholder(...) for flat X with shape[0] = None for any batch size\n",
        "input_y = tf.placeholder(tf.float32, shape=(None, 10))\n",
        "### YOUR CODE HERE ### tf.placeholder(...) for one-hot encoded true labels"
      ],
      "execution_count": 0,
      "outputs": []
    },
    {
      "cell_type": "code",
      "metadata": {
        "id": "SVcyNkO-Y7vG",
        "colab_type": "code",
        "colab": {
          "base_uri": "https://localhost:8080/",
          "height": 173
        },
        "outputId": "4668cb33-c217-464d-c2a4-4b2afc081f93"
      },
      "source": [
        "# Compute predictions\n",
        "logits =input_X @ W + b\n",
        "### YOUR CODE HERE ### logits for input_X, resulting shape should be [input_X.shape[0], 10]\n",
        "probas =tf.nn.softmax(logits)\n",
        "### YOUR CODE HERE ### apply tf.nn.softmax to logits\n",
        "classes =  tf.argmax(probas,axis = 1)### YOUR CODE HERE ### apply tf.argmax to find a class index with highest probability\n",
        "\n",
        "# Loss should be a scalar number: average loss over all the objects with tf.reduce_mean().\n",
        "# Use tf.nn.softmax_cross_entropy_with_logits on top of one-hot encoded input_y and logits.\n",
        "# It is identical to calculating cross-entropy on top of probas, but is more numerically friendly (read the docs).\n",
        "loss =tf.reduce_mean(tf.nn.softmax_cross_entropy_with_logits(labels=input_y, logits=logits)) ### YOUR CODE HERE ### cross-entropy loss\n",
        "\n",
        "# Use a default tf.train.AdamOptimizer to get an SGD step\n",
        "step =tf.train.AdamOptimizer().minimize(loss)\n",
        "### YOUR CODE HERE ### optimizer step that minimizes the loss"
      ],
      "execution_count": 13,
      "outputs": [
        {
          "output_type": "stream",
          "text": [
            "WARNING:tensorflow:From <ipython-input-13-9d113b5eb0ef>:10: softmax_cross_entropy_with_logits (from tensorflow.python.ops.nn_ops) is deprecated and will be removed in a future version.\n",
            "Instructions for updating:\n",
            "\n",
            "Future major versions of TensorFlow will allow gradients to flow\n",
            "into the labels input on backprop by default.\n",
            "\n",
            "See `tf.nn.softmax_cross_entropy_with_logits_v2`.\n",
            "\n"
          ],
          "name": "stdout"
        }
      ]
    },
    {
      "cell_type": "code",
      "metadata": {
        "scrolled": false,
        "id": "JQH2LY9SY7vI",
        "colab_type": "code",
        "colab": {
          "base_uri": "https://localhost:8080/",
          "height": 329
        },
        "outputId": "13493131-9398-40d6-9b2d-516872466058"
      },
      "source": [
        "s.run(tf.global_variables_initializer())\n",
        "\n",
        "BATCH_SIZE = 512\n",
        "EPOCHS = 40\n",
        "\n",
        "# for logging the progress right here in Jupyter (for those who don't have TensorBoard)\n",
        "simpleTrainingCurves = matplotlib_utils.SimpleTrainingCurves(\"cross-entropy\", \"accuracy\")\n",
        "\n",
        "for epoch in range(EPOCHS):  # we finish an epoch when we've looked at all training samples\n",
        "    \n",
        "    batch_losses = []\n",
        "    for batch_start in range(0, X_train_flat.shape[0], BATCH_SIZE):  # data is already shuffled\n",
        "        _, batch_loss = s.run([step, loss], {input_X: X_train_flat[batch_start:batch_start+BATCH_SIZE], \n",
        "                                             input_y: y_train_oh[batch_start:batch_start+BATCH_SIZE]})\n",
        "        # collect batch losses, this is almost free as we need a forward pass for backprop anyway\n",
        "        batch_losses.append(batch_loss)\n",
        "\n",
        "    train_loss = np.mean(batch_losses)\n",
        "    val_loss = s.run(loss, {input_X: X_val_flat, input_y: y_val_oh})  # this part is usually small\n",
        "    train_accuracy = accuracy_score(y_train, s.run(classes, {input_X: X_train_flat}))  # this is slow and usually skipped\n",
        "    valid_accuracy = accuracy_score(y_val, s.run(classes, {input_X: X_val_flat}))  \n",
        "    simpleTrainingCurves.add(train_loss, val_loss, train_accuracy, valid_accuracy)"
      ],
      "execution_count": 14,
      "outputs": [
        {
          "output_type": "display_data",
          "data": {
            "text/html": [
              "<img src=\"data:image/jpeg;base64,/9j/4AAQSkZJRgABAQEASABIAAD/2wBDAAIBAQEBAQIBAQECAgICAgQDAgICAgUEBAMEBgUGBgYFBgYGBwkIBgcJBwYGCAsICQoKCgoKBggLDAsKDAkKCgr/2wBDAQICAgICAgUDAwUKBwYHCgoKCgoKCgoKCgoKCgoKCgoKCgoKCgoKCgoKCgoKCgoKCgoKCgoKCgoKCgoKCgoKCgr/wAARCAEgA2ADASIAAhEBAxEB/8QAHwAAAQUBAQEBAQEAAAAAAAAAAAECAwQFBgcICQoL/8QAtRAAAgEDAwIEAwUFBAQAAAF9AQIDAAQRBRIhMUEGE1FhByJxFDKBkaEII0KxwRVS0fAkM2JyggkKFhcYGRolJicoKSo0NTY3ODk6Q0RFRkdISUpTVFVWV1hZWmNkZWZnaGlqc3R1dnd4eXqDhIWGh4iJipKTlJWWl5iZmqKjpKWmp6ipqrKztLW2t7i5usLDxMXGx8jJytLT1NXW19jZ2uHi4%2BTl5ufo6erx8vP09fb3%2BPn6/8QAHwEAAwEBAQEBAQEBAQAAAAAAAAECAwQFBgcICQoL/8QAtREAAgECBAQDBAcFBAQAAQJ3AAECAxEEBSExBhJBUQdhcRMiMoEIFEKRobHBCSMzUvAVYnLRChYkNOEl8RcYGRomJygpKjU2Nzg5OkNERUZHSElKU1RVVldYWVpjZGVmZ2hpanN0dXZ3eHl6goOEhYaHiImKkpOUlZaXmJmaoqOkpaanqKmqsrO0tba3uLm6wsPExcbHyMnK0tPU1dbX2Nna4uPk5ebn6Onq8vP09fb3%2BPn6/9oADAMBAAIRAxEAPwD9/KKKKACiiigAooooAKKKKACiiigAooooAKKKKACiiigAooooAKKKKACiiigAooooAKKKKACiiigAooooAKKKKACiiigAooooAKKKKACiiigAooooAKKKKACiiigAooooAKKKKACiiigAooooAKKKKACiiigAooooAKKKKACiiigAooooAKKKKACiiigAooooAKKKKACiiigAooooAKKKKACiiigAooooAKKKKACiiigAooooAKKKKACiiigAooooAKKKKACiiigAooooAKKKKACiiigAooooAKKKKACiiigAooooAKKKKACiiigAooooAKKKKACiiigAooooAKKKKACiiigAooooAKKKKACvPfjt%2B1J8FP2b5NGsfil4g1Maj4ilnTQNB8OeF9R1zVNR8lVed4bHTbee5kjiVkMkixlI96biu5c%2BhV4N%2B0P8D/j5/wANJ%2BDv2tv2bLLwfrWueH/B2seFNX8KeOdcutLtLywv7mwuxcQXtraXj288U2noCpt3WVJSCUKK1ABpf/BTL9izWLvxPb2nxXv0h8FWsk/jLUrvwXrEFjoIS0iu9l5dy2iwWsrQzRskMjrJIWKorMrKL2n/APBQ/wDZK1HwBrXxFTx/q9vB4f1ay0vVdE1DwNrNrrkV5ebfscC6PNaLqEr3AYGER27eaAxTcFYjy2b9gH4y%2BMf2a/jn8NfGHinwppHin4o/FS38daHc6U1xeWFpeW0OiywQ3IkihkkiN3pRRwoyYHGDuJVaPi79i/8AaV%2BLmr/Ef45fG34S/CjWvFnjWx8KaPp/gKy%2BI2s2Wm6fY6Hcaldw3qa7b6al5DqDXOqTOksVoPJSKNFZiWcgHsviH9vv9mzwv4a8OeI9XvvG3meK0v5NE8P2vwm8SXGuSRWUscV3NJpMWntf28MLzQq8s0CIpmiy37xM%2Bmaz8RPBHhv4e3XxX8T%2BJbbSvDljo76rf6vqrfZYbSySIzPPMZdvlKsYLNvxtAOcYNfGHin9hH9s/WPgX4X8Nay3hfxV470a58RHRfGV/wDHbxNpGr%2BCLW%2BuUktLO11q1sJLzXIYkjhEy3qw/aTbReYCFGPUfjR/wTotfj1%2Bzb4n%2BHHxD%2BOfjW78d%2BMPhfH4Z17xS3jbWho818tpDE2oJoS3y2FuzzQLK3kRRSEPIBIrSM5AOkg/4KUfsZf8K58V/FbWPite6Jo3giysr7xQ/ifwdq%2Bk3NlZXkxhtb37LeWsVxJaSyK6pcxxtC3luQ%2BEYjj/AI3f8FZP2d/hn8ENU%2BMfgPRfFXiqbQfiD4X8L674Y/4QXXbHU7A6zqVrax3T2cmnNdeV5Fw88DeT5d48aW8MhknjB8r1T/gmJ8ZPHfwq8faR4i8DeG9G8Y%2BI9D0fR7DxDqv7RfjPxut3aWusW%2BoTRyf27AfsEZ8likUSzHe%2BGkxknv8A9qH9gz40/GD4g/F/4g%2BBfEPheOTxfB8LbzwlZ6tfXMSvf%2BE/EdzrUsN40dvJ5ENwGt4VljEzrl2MfyKrgHqFh/wUE/Zb1H4m2XwZh8T%2BJo/Fd5oun6xLoF38N9egudO0%2B9adILu/SSyU6dDut5VeS68pYiFEhQum6j4a/wCCmH7FPi3wZ4s%2BIWkfGC4TR/Bfgi68Zaxe6h4S1W0Fx4et0Z5tWsVntUbVLNVQ4nsxPGxZArEugbB0P9kP4ofEP4mfG74g/G9fD2gxfGj4O%2BHfCF1Y%2BE9duNRl0u4tE11Ltlnns7XzYwNViMT7FZikm6OPA3fN37Y37Kn7UOj/ALDHxS%2BJv7TF34AtIfhD%2BxT8QfBHhePwFqF5cNrzXukWxn1G6W5toBYqE0i3CWcbXAVppCZ22oKAPrPw9/wUl/Yy8TaHrHiPT/i1dQWehppU1/JqnhLVbJmtNSu1s7HUIUuLVGubCWdgovoQ9qoDO0qorMPT9E%2BLvw88R/FLX/gvofiH7T4k8LaXp%2Boa/YR2k22zgvmuBa7pinlF3%2ByzHy1cyKoRmVVkjLfJOofsz%2BIPFegeKfjb/wAFIvF/wz8J%2BBbf9nu5%2BHUlx4f8QTLay6beyQyXmq3k17BbpYOTBbCG2QzCAmT/AEiQsuOw/wCCPngP4u2f7I9r8f8A9pDUDf8AxJ%2BL15H4n8V6g9nJbtJCLSCy01fKl%2BeH/iX2lpI0TYKSzTZAYtkA%2BqqKKKACiiigAooooAKKKKACiiigAooooAKKKKACiiigAooooAKKKKACiiigAooooAKKKKACiiigAooooAKKKKACiiigAooooAK8R0j/AIKMfse6ld69Z6n8Urzw83hzw5c%2BINQk8a%2BEdV0GObSbd0jnv7WTUrWBb63R5IlaW2MqAyxjOXXPtN7FczWcsNndCCZ4mWKYx7/LYjhtp64POO9fmJq//BHL9uX4v6t4X1z43fHHQ31vw14P1Cz1DxRqHxW8TeJx4h1v7ZpV9a6idLvoobLSbaS50xfPsLIBRHJtWWQKgUA%2B2X/b/wD2YbX4aN8WNY8QeKtK0ttcg0axs9c%2BGWv2GqanfzIZIYLLTbixS9v2kQM6/Z4ZAyo7AkIxHReA/wBqz4H/ABH1%2By8J%2BHPEOqQ6vf8AhSfxJDpGteFdS0y7TTYbv7JLLLDeW8UkDrP8hhkVZe%2BzbzXk3xO%2BDn7bvxib4e/G3XPBvwq0P4h/Cjx1NrHh/wAM2vjjUr/Rdcs7jSbvTLmO4vn0qGaxmKXskkbpa3AjMQU%2BYJGxV%2BJPwG/bg1/4y%2BHf2mvA%2BjfCu08WX3ww1XwX4x0LUvFepSWGkLcX8N1a39lcJpwk1AxCN1kt5YrQSlxiWLHIB3Gk/wDBRv8AZA8R694F8LeFfiNqus6n8SfBuleLfBunaJ4H1m9nvND1F9lrqMiQWjNa2%2B7HmSTiNbcMpm8oMCdj4a/tufs3fFf4jXPwn8M%2BL9Ws9ft9LudThsvE/gzVtEW/sbeRI57uyl1G1gjv4I3liDy2zSIvmISQGUnyj9hT9hL4sfsw6/8ADjWfHniDw1dnwd%2Byl4R%2BGN%2B%2BkXM8rNq2lvM1zNF5kEe61bemxmKu235o0wK8a%2BGn/BKv9sbxP8UfC/ib9qb4w2eqRaf4A8V%2BF/GniaD4v%2BJNavPEUur2KW39p2umX0Men6EcqWNpaKUXKgTOI1WgD6l8J/8ABRf9kfxrosfirQfHeuf2Hcarpen6f4lvfh/rdrpWoy6lex2VlJaX09mlteQS3M0UYuIJHhBlQs4VgT6X4W%2BLvw88a/EDxT8LvC/iH7XrnguSzj8T2iWkwWxkuoPtEEZlZBG7tCVkKIzMiyRlgokTd8w%2BOPAnxF8K/wDBPbxp8CP%2BChnif4VeCPAWg/DSLQLb4meHfFt2GadI0trXUntLqzgTTZlmFvJDBHcXTGcoiOTtDdr/AMEr/h98WPDf7ImlfFX9oqwS3%2BJ3xYvpfHXxEhW3aL7Pf36xmG02N8yfZbGOys9pyQLXBoA%2BjaKKKACiiigAooooAKKKKACiiigAooooAKKKKACiiigAooooAKKKKACiiigAooooAKKKKACiiigAooooAKKKKACiiigAooooAKKKKACvF/j14/8A2i/%2BGi/AvwI%2BAvjPwV4fTX/BXiXXtX1Pxf4Lu9aJOnXeh28MMMdvqVj5Yb%2B1JWZmZ8%2BWgAXkn2ivCviLrSWX/BSr4Q6LIoxe/BP4hsjZ53R6t4NOPyZj%2BFJtLcuEJVHaPZv7tWX/APhB/wDgoX/0dB8Gf/DD6t/81FH/AAg//BQv/o6D4M/%2BGH1b/wCaivZqKZB4z/wg/wDwUL/6Og%2BDP/hh9W/%2Baij/AIQf/goX/wBHQfBn/wAMPq3/AM1FezUUAeM/8IP/AMFC/wDo6D4M/wDhh9W/%2Baij/hB/%2BChf/R0HwZ/8MPq3/wA1FezUUAeM/wDCD/8ABQv/AKOg%2BDP/AIYfVv8A5qKP%2BEH/AOChf/R0HwZ/8MPq3/zUV7NRQB4z/wAIP/wUL/6Og%2BDP/hh9W/8Amoo/4Qf/AIKF/wDR0HwZ/wDDD6t/81FezUUAeM/8IP8A8FC/%2BjoPgz/4YfVv/moo/wCEH/4KF/8AR0HwZ/8ADD6t/wDNRXs1FAHjP/CD/wDBQv8A6Og%2BDP8A4YfVv/moo/4Qf/goX/0dB8Gf/DD6t/8ANRXs1FAHjP8Awg//AAUL/wCjoPgz/wCGH1b/AOaij/hB/wDgoX/0dB8Gf/DD6t/81FeqeMZ5rXwjqt1bSskkemztG6nBVhGxBHvmvOfG/wC0B%2Bw18LfE9z4D%2BJfxw%2BFPh/W7ARi90jX/ABPptreQb41kTzI5pA6lkdXBYcqwPIINZ1a1GjHmqSUV5tL82jswWXZjmdV0sHRnVkldqEJzaW17QhN2u1ra2q11KP8Awg//AAUL/wCjoPgz/wCGH1b/AOaij/hB/wDgoX/0dB8Gf/DD6t/81FV/%2BGv/APgnB/0dF8Ef/C20f/47R/w1/wD8E4P%2Bjovgj/4W2j//AB2sPr%2BA/wCf0P8AwOH/AMkep/qlxZ/0LsR/4T1//lBY/wCEH/4KF/8AR0HwZ/8ADD6t/wDNRR/wg/8AwUL/AOjoPgz/AOGH1b/5qK9C8V6R8PvCHhbUvFmoeB7Sa30vT5rueKy0T7RM6RoXZY4oo2eRyFICIrMxwACSBXhXwM/b4/Y6%2BN3hf4YX1r4F17Stf%2BKvhy31nw/4VvPhTq7XS27/AGNZZ3K2G0WkUl9bo18SLUh94l2ZYdZ8%2Bdn/AMIP/wAFC/8Ao6D4M/8Ahh9W/wDmoo/4Qf8A4KF/9HQfBn/ww%2Brf/NRWVP8AtX/ssXuh6hqGgaLDa3uk694c07UdL8aeBdW0C4jXWdVi02znWG607z5I5ZnkSKVYjA8sTI80KrJLHY%2BHn7W/7EPxS8b3vw/8Ia3Ym%2BsG1pZbnU/Bd7YWEr6Rdm01NIb26tY7a4a2mUrKsUrlAN5Gz5qALv8Awg//AAUL/wCjoPgz/wCGH1b/AOaij/hB/wDgoX/0dB8Gf/DD6t/81FT/ALQnxM8FfCL4c6J4o%2BH/AMK/D/i3WPF/iHTdE8G6b9pitLTULq9cbJJLtIZvKt0hEtw8iRyt5cTbEdiqmL4JfEWy%2BNnwO1fx7pnwE0Oz8X6HqWtaLqPhCS%2Bja3Gs6dcz2rwJe/Z13W8skKtHcGFW8qZHaJW3RgAb/wAIP/wUL/6Og%2BDP/hh9W/8Amoo/4Qf/AIKF/wDR0HwZ/wDDD6t/81FeOfE39vA/Bj4feNb34pfs1fDTR/FPgb4geGvDOsJc/EYR%2BGoV1k2piupdXk0pJIBDHch5Y3swVGwglZVetD4w/tp6b8LdY%2BEPhFPhr8A21H4reHNY1W21jXfjKNP8PhrKfTIorax1D%2Bx5W1GW4Gpq6AQQ8QSY3cUAep/8IP8A8FC/%2BjoPgz/4YfVv/moo/wCEH/4KF/8AR0HwZ/8ADD6t/wDNRUGufEq78Oftj%2BG/2a9V/Z38Mr4b8VeENW1fSfGEesq10bjT5LBZrd7D7HtVCL9Nsv2gklGHl4INc1ovxh%2BMl1%2B1Fq/7M2s/sjfDFZ7P4d3nimy1bSfiHcXKqftgtdNtr2OTQ4vsv2x0uyJI2n8sWM/yyYXcAdZ/wg//AAUL/wCjoPgz/wCGH1b/AOaij/hB/wDgoX/0dB8Gf/DD6t/81FeffA39qPXf2jvh54w8QfB74DfBrWtT8F%2BKU0u/1Ow%2BKT3HhS9gNnHcyy2usw6M7SywmRYpoTaqI3DAycYNDwl%2B174w8RfA74D/AB7v/wBjPwlZaR8Ydb0%2Bz1eM%2BMC0uhQajOF064gVtLQ33mwskzJILUxhtpLMKAPUP%2BEH/wCChf8A0dB8Gf8Aww%2Brf/NRR/wg/wDwUL/6Og%2BDP/hh9W/%2Baisv4k/FfxD8J/j14U8B%2BL/2Z/B58F%2BNvFsfhvw94ksPEwl1eS8bTp73zJNLawVFt1%2ByzozpdvIqp5hi2bivlXg//gpP8JJPCM3xG%2BK37P8AoGhaJqvwl1n4j%2BB4dH1uHUtT1LRdNuLW3nivLVrWBbC9Z76zVIBLOhd5UaVWgegD2n/hB/8AgoX/ANHQfBn/AMMPq3/zUUf8IP8A8FC/%2BjoPgz/4YfVv/moryLxJ%2B3d4c8G/s76f8dfEPw0%2BBMsOr%2BPYvDUOs6N8ZYbzwto261knM%2Br62ulBdPIeI22xYJlM9xaoH/fZTk/iF/wVT8CeBvAHgLxxJ%2By94Ugk8aeCm8RWela/4visJ9dIvBapp/hwfYJP7dvZsrNBD/ovmRXNoxKeeQgB9E/8IP8A8FC/%2BjoPgz/4YfVv/moo/wCEH/4KF/8AR0HwZ/8ADD6t/wDNRWV4n%2BLWvfDz9o7wl8JPiJ%2BzV4OtfDHj7xBfaN4T8R6Z4mF1qJmttLutSae709rCNLe2MVlMnmJczFZJLdWRfNynH/s3ftg6B%2B1X8NvEfxZ%2BEfwy%2BC9xpNnocOreHba4%2BKkRvo7aYGWB9cgh0yT%2Bw99uBPt3XTqMq6qysAAei/8ACD/8FC/%2BjoPgz/4YfVv/AJqKoeB/HH7Vng79qzw58Efjd8R/h74m0bxN8PfEOuQzeFfh5faLdWl1pt9oluis9xq98ksbpqkpKhEYNEhDYyDU/Ze%2BPPg/9qX4D%2BI/irongHwxp8uh6xqOmW2s%2BDdbTV9I1KS2jRxeaZqS29ubu33P5ZkESbZoJ48Hy9zbXjj/AJSF/C//ALIz48/9O3hCgD2aiiigAooooAKKKKACvnH4TeKv27/jro%2BveO/C/wAb/hJoGl2/xC8VaHpelX/wf1S/uIrXS9ev9MhaW4TxFAssjx2auzLFGu5yAoAFfR1eM/sH/wDJENc/7LN8R/8A1NdboAP%2BEH/4KF/9HQfBn/ww%2Brf/ADUUf8IP/wAFC/8Ao6D4M/8Ahh9W/wDmor2aigDxn/hB/wDgoX/0dB8Gf/DD6t/81FH/AAg//BQv/o6D4M/%2BGH1b/wCaivZqKAPGf%2BEH/wCChf8A0dB8Gf8Aww%2Brf/NRR/wg/wDwUL/6Og%2BDP/hh9W/%2BaivZqKAPGf8AhB/%2BChf/AEdB8Gf/AAw%2Brf8AzUUf8IP/AMFC/wDo6D4M/wDhh9W/%2BaivZqKAPGf%2BEH/4KF/9HQfBn/ww%2Brf/ADUUf8IP/wAFC/8Ao6D4M/8Ahh9W/wDmor2aigDxn/hB/wDgoX/0dB8Gf/DD6t/81FH/AAg//BQv/o6D4M/%2BGH1b/wCaivZqKAPGf%2BEH/wCChf8A0dB8Gf8Aww%2Brf/NRR/wg/wDwUL/6Og%2BDP/hh9W/%2BaivZqKAPGf8AhB/%2BChf/AEdB8Gf/AAw%2Brf8AzUUf8IP/AMFC/wDo6D4M/wDhh9W/%2BaivZqKAPGf%2BEH/4KF/9HQfBn/ww%2Brf/ADUUf8IP/wAFC/8Ao6D4M/8Ahh9W/wDmor2aigDxn/hB/wDgoX/0dB8Gf/DD6t/81FH/AAg//BQv/o6D4M/%2BGH1b/wCaivZqKAPGf%2BEH/wCChf8A0dB8Gf8Aww%2Brf/NRR/wg/wDwUL/6Og%2BDP/hh9W/%2BaivZqKAPGf8AhB/%2BChf/AEdB8Gf/AAw%2Brf8AzUUf8IP/AMFC/wDo6D4M/wDhh9W/%2BaivZqKAPGf%2BEH/4KF/9HQfBn/ww%2Brf/ADUUf8IP/wAFC/8Ao6D4M/8Ahh9W/wDmor2YkAZJrl9V%2BN3wX0LUDpOufF3wvZ3a/etrvX7aOQf8BZwamU4QV5NL1aX5tETqU6avOSXq0vzaOB/4Qf8A4KF/9HQfBn/ww%2Brf/NRR/wAIP/wUL/6Og%2BDP/hh9W/8AmorttT/aG%2BAOiWX9p6z8cfB9pbf8/F14mtY0/wC%2BmkArg9f/AOCkv7AXhqVoNT/bG%2BHTOn3ls/FVtc49v3Ltz7VhUxuCpfHVivWUV%2Bcjmq5hl9D%2BJWhH1nFfnIm/4Qf/AIKF/wDR0HwZ/wDDD6t/81FH/CD/APBQv/o6D4M/%2BGH1b/5qK47Vv%2BCxH/BNLRc/bP2stCfHX7JZXlx/6KgbNYUn/BcD/gmxNIYdA%2BN%2Bp6xIODHpfgbWHOfT5rVRXLLO8mi7PEw/8Dj/AJs4pcRZBB2eLp/%2BBx/Rs9O/4Qf/AIKF/wDR0HwZ/wDDD6t/81FH/CD/APBQv/o6D4M/%2BGH1b/5qK8w/4fL/ALMF9/yK3wv%2BL2uZ%2B7/ZPwxvX3fTeFo/4e4%2BEJPmtP2E/wBpueM/dlh%2BEUhVvpmcVP8AbmUdKyfopP8AKDJ/1kyLpiIv0Un%2BUGen/wDCD/8ABQv/AKOg%2BDP/AIYfVv8A5qKP%2BEH/AOChf/R0HwZ/8MPq3/zUV5Pqn/BXzQbGHzIf%2BCf37Tbf9NLn4WrbxD6vJcgCuX1D/gtW6MyaX%2BxF48jYdte13StOx9fMuDis58QZPDer/wCSz/8AkEdWHzTC4z/do1Kn%2BCjXn/6TQZ9Af8IP/wAFC/8Ao6D4M/8Ahh9W/wDmoo/4Qf8A4KF/9HQfBn/ww%2Brf/NRXzFqv/BdG%2B8O/vPEn7JtjZRnlfM%2BN3h3eR/umYHPtXJ%2BK/wDg4q0/ToC3hf8AZUsLpxwzX/xh0mIKfXEKzMw%2Bg5rnnxVkNNe9Wt/27L/I9nDZdn2Nko4fLcZNvZRwWMd/T/ZUvxPsn/hB/wDgoX/0dB8Gf/DD6t/81FW/2VviN8afGGsfFDwJ8dNf8L6tqngH4hRaHZ6r4T8NXOk291ay6Do%2Bpqz29xe3jLIsmoyoWEu0rGh2qc5/PqD/AIOIfjJ4gnaHwn8BPBM0mcfZ4tU1i7ZT6Ew2IVvqDivqX/gkJ8dfGv7S3hD4z/G34h%2BErfQtY1v4zA3el2kVwkcIh8L%2BHoEwLlElG5Ikb5lH3uOMGt8t4gyvNqzpYaTk0r7NK2i3fqduO4e4pyimquZ5ZisLBuylXw9SjFvdJOpZttJu3Lsmz67ooor2jygooooAKKKKACiiigAooooAKKKKACiiigAooooAKKKKACiiigDA%2BKXxN8JfBvwFqPxL8dPqS6VpUaPdnSNCu9TuSGdY1EdrZxSzzMWZRtjjY85xgE1mWfx9%2BFuqfAvTv2ktF1m%2B1Hwhq%2BgWmtaVfaZoN7dXF5ZXUcclu8VnFC1y7usseIhEZMtjbnIq/wDFzWvEHh/4aa1qvhX4eav4r1FLFltPD2g3FlFd3jPhNsb31xb26kBix8yVBhTgk4U%2BB/sx%2BIv2o/gZ/wAE4/BvgeH9ivxVP8RvAHwh0zSrbwdqXijw/DHqmrWVpDaC3W7h1GaKON3QyiViMRA5AkxEQD3H4NfHP4Z/H3w3d%2BKfhjrN3cQ6dqcmm6paapot3pt7p95GqO1vc2l7FFcW0mySNwksakpKjgFXUnwv9oTWf7L/AOCs/wCzPY78f2l8MfiZb49cSeGJcf8AkL9K7T9gzwL438HfCbVtX%2BLngDxPovjnxP4pn1nxzeeKm0sS6xqUlvbxm5gj0y%2BvYYLSOGKCzgiaUypDZIH3n97J4B%2B1FoniTwP/AMFtf2TNf1n4t%2BINcsPEeifEqGz0TVbfTktdEUafpR8u1a2tIZ3V22bvtMs7DYu0r827lxk/Z0Obzj%2BMor9T3eHMN9bzT2XenWf/AIDQrS/9tPu2iiiuo8IKKKKACiiigAooooAKKKKACiiigAooooAy/HP/ACJOsf8AYKuP/RbVyHjn9kX9lD4oeKbrxz8S/wBmH4eeItbvtn23WNd8FWF3dXGxFjTfLLEzvtRFQZJwqgDgCuv8c/8AIk6x/wBgq4/9FtXhnxz/AOCrX7A37NfxT1T4KfGv49f2L4m0XyP7T0z/AIRbVbnyfOgjnj/eQWrxtmKWNvlY43YOCCBx42rl9GkpYxwUb/b5bX/7eTV9/MqOf1OHX9Zhi3hm/d5lUlSbvry80Zwbva9r20vbTTrv%2BGB/2Ff%2BjLPhL/4bnTP/AIxR/wAMD/sK/wDRlnwl/wDDc6Z/8YryT/h%2Bb/wSy/6Oi/8ALJ1z/wCQqP8Ah%2Bb/AMEsv%2Bjov/LJ1z/5Cry/r3Cv/Pyh/wCU/wDIv/iKWJ/6Hs//AAsq/wDzQfV99Zw6jYzafc58ueJo5NpwdrDB/nXzp%2Bzf%2Bwj4z%2BCo8DL4v%2BPFrrTeAPg3c/DjRbnQvCb6XO2ns%2BnfZ7p3e9uR9qjXTxuZQqO8oZUiCbG%2BhPEGqzaFoN9rdvo15qUlnZyzpp2nqhuLoohYRRB2VS7Y2ruZRkjJA5rwq/8A%2BCkHwJHgK5%2BJPhrSdX1fSrT4baB43ubwX%2BladBDp2szyxWMclzqd9bW8M7CCeRkklVVWL7xZ40f6AyPHPg3/AMEan%2BFqX8lx8aPCiXF9b%2BAYLmbwr8Kl0k37eGfESa19tvm%2B3zSXt/e7DDNcu4wSJAhwY29j%2BH/7DuofDm/8E6xo3xXglu/BPirx1rlqbjw6THcyeIr%2B9vFjdVuQQtu12FJDZmEef3W75fO/FP8AwVY8Ka14P0j4zfCNraXwNffBD4keMNRu5dOi1S%2BtNR8MaromnmCNbbUEtbqMSX18GEdz5c5ihaK5WM7363x3/wAFA7tf2g/A/wAHPhh8JdcudE1r4w3HgfXfHmp2EB0mW5ttI1C8urW0Md2LlZ4prRIzLLbi3JjnjV2cDAB6d%2B0J8CfEfxx%2BHOiaVp3j6z0Pxd4Z8Q6br%2Bg%2BI/7Da5tIdStHBJks/tCNJbyo00LxCdXEc7bZVcBxjfC79nX4t/B34N6p4D8FfG3Rx4l1w%2BJNW1bxXfeC3lVvEep3T3UN7Fai9VUs7aSWRRZs7vJEkKm5Vkd5b37Sf7Q2pfCv9mq5%2BMvw80E3OqajeaTpfhmz8R6dc2Srf6pqNtpto11BKsc8caT3cTyIQj7FYDacEV/2X/i98VfiC3xH%2BGvxal8PXXi74aeNv%2BEfvdY8O6XPY6dqgm0nTtVt7lLaa4uJLf8AdalHE8ZmkO%2BB2DbWUAA5X9nz9lb9pn9nn4DS/DDw/wDtBfDvUPEj6yNSl8Yah8Jr921S6l3Ne3eoxNrxkurueQh/OSeFIwoRY/LVEXLvP2Evi3p37Lk37K/gf4%2BeE7TSfEkXiYePr7Wfhc1894%2Bu39xe3f8AZ0S6lFDp8aPeXCxRSpdqqiHd5hRjJzPjb9rL9tD4daZ8ZvAtrb%2BCfiB4t%2BHnhfw/qOn6p4H%2BHerNbWuoahdTJLpVxpseoXFxeXENrHDdhYJ45Gjuot0UYeNpOnv/ANpr4qaj%2ByfN8aPA3x78M6nqeg6zc2vii80/9m/xRfTRPGSv2FvDsGpf2nZ3KFozI0rthDvMSKwYAHQeI/2VPjW/7S/wx%2BL/AIE%2BO3hmw8K/DfwtdaAnhnW/AV3qGpaja3bWP2p21JdVhRJSunwiNzauEZpGdZcgL0/hj9nvxP4M8dfFr4u6F8R7OTxb8RrizGi6jqOgNLb6DZWVglvZWTQrcI13Ely17dNiSEu19Ko2YDV89WH/AAU48WeKvGHgDwrqPiPwd8PTefC3wf4x8d3WpeFNT8UWSS67JMiWEV/ptxDa6bCjWsiDUbp3gka4hCI%2B169Uuv2mfi78NP2j/i/4O%2BLknhm/8GeCfhVZeOPDyeH9FubfUo7d59Vimt7maW6kjuH26cGVo4oQDIQQ3WgCtf8A7EPxM8XfCz4y%2BG/H37Q1l/wlXxrtIdP1/X/Cvg6TTbLT7FLNbFxa2b308i3L23mqbl7l2DNEQoWFI63P2r/2Yfi58ZfDngHwn8APi34O8BWHgfxPYa0LbXvh5c62k8lg8b2cEQt9UsRbxLtdXU%2BYXDJtMWw7%2BK%2BCfx//AG0fiTf33wk8Wa38MNJ8Zal8OvD3jfw9rVr4T1CfTdNtL%2B4uYrvT7m2OorJeS2/2ddlyk9ss3n5MMXllXz4v2tP2lfEv7Et3%2B1bpHxH%2BFXh618My%2BJH1PxDrPhDUbvS/FNnYXs1vYXmnRR6lFJaw3qwiRCZLsnzoxEJ1dHcA7uP9lz4%2BXH7aTftSeI/j54Q1jRLbTItM8OeE9R%2BHF01z4esmiT7aLK8XV1iSe6nUPJcPayP5SRQj5UJfh9d/4JVeA/idrXxL174yXngcXHj/AMD634Vik%2BHfwyi0BorXVZoJrq8vme6ujqd%2BXs7IiZykY8hsQjzXzp/Gv9q/9oj4Wa58IvEU2i6XYWPxD1Xw3p2reA9T%2BHuqy3GmzX93bwXvneI47pdOsZLdbktFb3EAkupLfyIS0k6BXfs2/tR/HT4pfGjxz8Kfin4y8N%2BGdYttW8V2vgbwbqXwe1zTbi4stP1iSzstUTU7u%2BFrrMDWwtppks40wbyP95EMBgCtJ/wT9%2BL914m/4XZdftHeG0%2BJUXjzT/Edvf2fw1li8OsLPRLvR47ebSv7TM0pMF7NJ5321XEsduV2pCIzzeuf8En/ABLP8M774W%2BGP2k7O1sPF3w81Hwh8Q21LwELvz7W%2B1S/1G5m0dBeRppEvm6lcogcXcaJFZgo5tlLWvDP7Xv7WHi74QfHU%2BHNZ8FP4o%2BFEMVxpPiLxB8Ktb0K2vVFk11PFNoV7qC3yqBGViuhcLDP5uY9whfd0n7Uv7RP7UXgj9ibSf2o/gr4q8A2OtXHhHT508M%2BJPA17qaa5ruo/ZoNOsLeSDVbQ2qy3tzHBlhOf3ykfcIcA6Lwn%2Byt8cNJ/bI1r9prxj8dfCfiLRb%2BzOlaH4d1D4eXQv8Aw9o3lKWsbO%2B/tYwoZrlEuLidrRpJ9kcbEJDAIuU%2BAf8AwT1%2BIn7N8Ok/8K2%2BO/hmKTwH8NR4D%2BFSS/DeQQ6do/2y1uD/AGqsepK2rXGyzhjEsb2YBeeTZumaul%2BLnxj/AGmfg18aPhzompeKPh/rmkeOfFVloMfg3TvC19DrUq/Y2lv9Tiu2v3iWG3aOSZomtSBCoUz%2BY65i%2BF37Rvxrn/bj1X9lnx/qOiaxpaeEdR12DULL4c6r4dfT2hvLGKC2jnv7ueHXleK8cy3NkEjtntkWVVa6iQAHS/B/4C%2BIvgf8O/iPqnjf4gWniPxF471698SeILzStCOl6fFctp1tZLFaWjT3DQR%2BVZQswaaRnmeaVmzIQIvHH/KQv4X/APZGfHn/AKdvCFepeOf%2BRJ1j/sFXH/otq8t8cf8AKQv4X/8AZGfHn/p28IUAezUUUUAFFFFABRRRQAV4z%2Bwf/wAkQ1z/ALLN8R//AFNdbr2avGf2D/8AkiGuf9lm%2BI//AKmut0AezUUUUAFFFFABRRRQAUUUUAFFFc98Qvi18K/hHpX9u/FX4l6B4ZssE/a9f1iCzjOOvzSsoNTOcKcXKTsl1ei/GxM5wpxcptJLq2kvvbS/E6Givlzxd/wWQ/YG0HVz4Z8HfFLUPHOsD7uleAvDd5qkjjplXjj8ph9HrMP/AAVcuNbBj%2BHn/BOz9pXWnb/VTyfDX7JbOe2ZZJ%2BB74rzZZ3lKdlWTf8AdvL/ANJjL8zx5cRZHGTisRGTX8t5/wDpEZ/mfW1FfI0n7SP/AAVi%2BKyG3%2BE/7APhbwDDMNtvrXxO%2BIEdyFz/ABvaWKiVMf3SSeKjh/4JzftFfHGUaz%2B2z%2B31431kt86eFPhm6%2BHdJtz2VjEDLcheod9reue8/wBp1K2mGoTn5tezj989fuiyf7Zq19MHhqk/OS9lH76lm/lBn17Xn3xL/az/AGXvg2zxfFb9ojwV4fmjyGtdV8TWsMxI7CJn3sfYAmvnDxx/wSk/4J6eAtN/tL42fFnxfBpr587/AIS/4u3VvbzL3Vi8qAj1wRXE2vjj/g3s/ZfdbTwvo3wx1rUI2CWcOl6NL4pupZOgWOUrc/MTwDvH1rlxGZ42h/F9jS/x1b/hFJnv5Rw34k8Su2VZU6nnFVqq/wDKdFR%2B%2BovOy1PXNd/4LR/8E9rDUW0Twl8WtT8XagnWx8IeEtQvWx6hxCIz%2BDVT/wCHsEfiA7fhj/wT7/aP8QqfuXi/Df7Lat/21lmH8qoeHf28fj14usV0v9iz/glf44vNIH%2Bp1DxlPZ%2BELIr2kiSYMZU9MYJHatA%2BLf8AgtX45%2BTRfhH8BfAsUn3n8Q69qOpzxD/Z%2BygIzfXiuT%2B0MdW%2BCrKX/XvDya%2BUqkop%2Bp9G/Crjun/yM8zwWDfWM62HU16wVXE1E/JxT8kH/Den7cmvf8iF/wAElPHNxu%2B5/wAJD4503Ss/XzA2KRvj3/wWD8WjyPDv7Avw98IvJ9yfxX8Uo9QSL/eWyQFvwpR%2Byl/wVI8ct9o%2BIX/BTbT/AA7G33tM8D/CyzKA%2B1xcP5n6Up/4JlfFrxDx8RP%2BCoH7QF2G/wBYvh7xJBpIb2/dRNgUWzmp/wA/vm6FP8lNoX/EPcipaY3i6F%2Bqo0K9T7msPST%2BUreY1fhn/wAFo/FB/tXXP2mvgp4WmHK6V4c8G3l9bn2Ml2wkGPauc8Vzf8FQPDbHQPH3/BQr9nzwpA3E2st4e23sHusNzIIW/wCBeldIf%2BCMn7KOt8fE/wAdfFXxuG/1g8V/Eu%2Bm8z/e8po66Pwt/wAEg/8Agmz4PRY9J/ZM8PTBeh1Se6vj%2BJuZXzR/Z2bT2Ul/ixE3%2BEKaX3NB/qh4VYf%2BLnWYVn19nRVNP51sRdfKCPnrxF4Q/Z6uY31H9pr/AIL/AHivVb0f6%2B28CfErS9Bgb1Bs7PzTj2Feda5qf/BEOxvDY6r%2B3H8ZPF%2Bpnp9k8T6/fSv9Hhtwh/Ov0I8NfsL/ALFfg6Rbjwx%2ByT8NrOZPu3EPgmx80f8AAzFu/WvR9D8NeHPC9oNP8NaBZadbjpBY2qQoP%2BAoAKP7AxFT41S%2BarVH/wCT1V%2BQf2L4IYffAY3EvvVxFCn/AOkxrv8AJn5Rnwr/AMEu/FH%2Bj6P%2By1%2B1v8UrRumnWlhrVxBL74a4hP610%2Bk/Bn4EX2njSvhB/wAG9vjC/Q/6pvHGqQ6U59N0l1NKy/ia/UKiqjwzTveU4L0o0/zlzsuE/CfCO%2BG4WpSfeticRU%2B9QhSX3SR%2BYul/sHfG3WL0al4U/wCCMPwF8Ju33Y/GvxAfVlT/AHktsofwFd74e/Yc/wCCgWnxL/Y3wN/Ym8KJ/DBonw4vJWT3LPEMt6mvv2it6fDWBp688vlyR/8ASaS/M6aXE%2BR4N/7Fw7ltL/uV9o//AAKrXk/wPi3Sv2Pf%2BCnEuII/2mfgr4OXtP4T%2BDsNw6/RbjC1uRfsB/tqa5GE%2BIP/AAVi8ez5Hzr4X8G6boy/8BEW7bX1tRXVHI8Et3N%2BtSf5JxR2x8R89w6thMPhKH/XvA4SL%2B%2BVKq/xPkv/AIdQrqn7zxn/AMFEP2m9VZvvxf8AC0vIgP0jSDj86P8AhzP%2ByrqHHjLx/wDFfxGD94a38TL59318tkr60oqv7Cyh70U/Vyf5zZX/ABFTxDj/AA8xnD/BGjT/APTeHpv8T5V0v/gib/wTL02b7XN%2BzYt9OfvT6n4r1W4LfUPdFf0rqNO/4JT/APBOnS0CW37Ifg5gvT7RYtMfzkY5r6CorSGTZRT%2BHD01/wBuR/yOTEeJXiLiv42c4qXriK36VEeNaT/wTr/YK0Vg1j%2Bxr8MyR0Nz4LspiP8Av5G1dh4a/Zt/Z18FsH8HfAPwVpJU/KdM8LWkBH/fEYrtaK6YYLBUn7lKK9IxX5RPFxXE3EuOTWJx1eon0lWrSX3SqtfgMgt4LWFbe2hSONBhUjUAAewFeOfsv/8AJb/2jv8Ass1j/wCoV4Xr2avGf2X/APkt/wC0d/2Wax/9QrwvXSeK227s9mooooEFFFFABRRRQAUUUUAFFFFABRRRQAUUUUAFFFFABRRRQAUUUUAFFFFABXwb/wAFKtU/sP8A4KtfsQapu27tS8ZWuf8AruNEix%2BO6vvKvzs/4LFX0ujf8FDP2I9dThLbx7qSzt/djk1Pw5Gx/wDHq8zOJcmXTl25X/5PTPuPDigsTxnhqP8AOq8fvwuL/wAj9E6KKK9M%2BHCiiigAooooAKKKKACiiigAooooAKKKKAMvxz/yJOsf9gq4/wDRbVqU2eCG5he3uIleORSrowyGBGCCPSsxfBmjIoSO41NVAwqprd0AB6ACTigDVorL/wCEP0n/AJ%2B9V/8AB5d//HaP%2BEP0n/n71X/weXf/AMdoA1K%2BbtC/4Je/Arwl4E8S%2BCvBnjvxnpU/iD4oQ%2BOrHXYb2ymu9AvreWOS1tLJbi0ktxZW%2Bxlit5oZgolkOSxDD33/AIQ/Sf8An71X/wAHl3/8do/4Q/Sf%2BfvVf/B5d/8Ax2gD54H/AASr%2BBM/w7vfh3rHxL8faimpeE/H2gajq19qtm95cxeL9VtNU1W4ZhaBPPW4s4/JIQIiO6sknyleim/4J%2B/DtvjfpXxitvi147trDRfiHc%2BONO8BwX9kNFi125sbmzubrBtDdMJVu7iRojcGISyNIqKSc%2By/8IfpP/P3qv8A4PLv/wCO0f8ACH6T/wA/eq/%2BDy7/APjtAHOfEv4E6B8YvghefA74k%2BKdZ1OC%2Bs4o5dfEkFvqKXMMiTQXqNBCkMdxFNHHMhWIIHjU7CODlfCD9mi3%2BDWmX8ej/GPxdqer694muNe8YeJdYXTXvfEV5JYpYobkRWUcMawwQWaxrbRQAfYoQ25TIsncf8IfpP8Az96r/wCDy7/%2BO0f8IfpP/P3qv/g8u/8A47QB4x8A/wBhfUv2dPhVrPwq8Efti/FW7TV7hrwa/q9t4al1K2v5Lg3FzfecujKLq4nYkSPdrOCpwoXAIv6L%2Bxle%2BEfCN9ongL9q34m6FrWu%2BJLnXfF3jKzGhTal4gvJoIbfdcLc6XLaxKkNtbxoLaCDYsCgdW3esf8ACH6T/wA/eq/%2BDy7/APjtH/CH6T/z96r/AODy7/8AjtAHhGs/8EyfgNeeHNJ8C%2BGPF3i/w74btfBGkeD/ABF4f0jUbZ4fFOiaZLLLZ2eoS3NtNcEK1xdBpLeWCWRbqUO7Dbt6Vv2NrK8/aa8QftJeIPj9441WLxN4Xj8Oav4Av7XRDoculx/amjtvk01b3asl5cS7jdFmZ9rsyAIPUv8AhD9J/wCfvVf/AAeXf/x2j/hD9J/5%2B9V/8Hl3/wDHaAPne6/4JdfD69%2BD3ij4Q3P7SfxXf/hKPDekeGZfErarpZ1Ox8O6bLLJb6NC50/ymtmE9xHM80UtxcJMyyzPhSu18Rv2BG%2BJ3hX4e%2BF9d/a4%2BJ0H/Ct9afVdHuLHTvC8aXdwqBLQ3NodFNm4swCbcJAnluRId0kcTp7d/wAIfpP/AD96r/4PLv8A%2BO0f8IfpP/P3qv8A4PLv/wCO0Aea/Eb9kl/i5rGj/wDCxv2jfiBqfh3TL3SL%2B88GMNHh07Vb3Tp4bmC5uHh05LoE3NvDM8UM8UDMm3yhGzIzG/ZEbUfihP8AFzxd%2B0f8Qtc1W10zVrLwet%2BdHih8JjUNollslttOi82VEjjSN7w3RVVI53yF/Tf%2BEP0n/n71X/weXf8A8do/4Q/Sf%2BfvVf8AweXf/wAdoA8cuf2FLPUfBHxC0PV/2mviTeeJfiZpVppPiP4hzrof9rJplsJhFZQRLpYsIogt1dgn7IZM3crb9%2Bxk2dG/Y88MwfDL4ZfC3xr8VvF/iq0%2BFviK11jTLzXDp0c2qy2kU8dlFerZ2cETx27SxSx%2BVHE5lsrd3ZyJPM9K/wCEP0n/AJ%2B9V/8AB5d//HaP%2BEP0n/n71X/weXf/AMdoA8tu/wBjlZv2trn9r2y/aO%2BIFrqd1plppZ8MCHRJ9Kg06Eh3s4DcaZJd20VxKPNnMVyjyuEy4EUKx6PgX9liDwz8aIPjt44%2BOXjfxzrOmaRf6X4ag8UtpkdtodpezW8tzHAlhY2xlZzaWy%2BZcNNIFhwHG%2BQv6D/wh%2Bk/8/eq/wDg8u//AI7R/wAIfpP/AD96r/4PLv8A%2BO0AJ45/5EnWP%2BwXcf8Aotq8u8cf8pC/hf8A9kZ8ef8Ap28IV6ifBmhvhZ2vpkyCYrjVrmRG9mVpCrD2IIry7xx/ykL%2BF/8A2Rnx5/6dvCFAHs1FFFABXz9/wUuOmD9mu1/4TTy/%2BEK/4WF4X/4WR9o/49/%2BEe/tm0%2B2/as8fY/L/wCPnd%2B7%2Bzef5n7vfX0DRQB8F%2BCLT4X%2BPv2Avi18L/h/8ZfBXhbwJH471LVvATatrUdroh8Iw6xFI8TsjfudDup4NQsxNGDCLWY%2BUGjCKfMND%2BK/7Kvw3/ZV8ceIP2mfg98DtY8IeI/jrLYfs3eCTqVrJ4KaSTQdOSZ7G8voIYE0%2BO%2Bj1aaW%2BEEagi6aBHMkKSfqHRQB5P8As6aL4n%2BH37FfgTwx8LvH2ifFLVdE8AaXZaX4nv8AxI8Nh4kkhtYo/tZvYo7txHLtLiQJOxBGSxJasP8A4J03HiW7/ZuvrrxlpNjYavJ8W/iG2p2Omai93bW858Z615kcU7wwtMgbIDtFGWABKLnA90rxn9g//kiGuf8AZZviP/6mut0AezUUUUAFFFFABRXy1%2B0V/wAFAPEV78Srn9k/9g7wVbfET4qINmsXskh/sLwghODNqNwnBdTnECHcSCDhsI2Ov/BNv4%2B/GxRdftr/APBQPx74nglGbjwp4BEfhzSSD1hkWAF7lB/ebYx6mvKnmbqVJU8JTdVrRtNRgn2cnu11UVK2zaeh4tTOHVqypYGk6zi7NpxjBPs5y3a6qClbZtPQ9Z%2BP3/BQT9jX9mN5bH4xftAaBYalEdp0KyuDe6iW6BfstuHlXJ4BZQM968l/4b%2B/a8%2BPn%2BjfsWfsAeJJLCbiHxr8XLldB08L2lS2yZ7mM9ihB9q9k%2BAH7CX7IX7L6RSfA/4A%2BHtGvIlwNXa0%2B035%2Bt1OXmP0349q3/jv%2B07%2Bz9%2BzH4b/AOEr%2BPfxb0XwvZspMA1K7AmucdRDCuZZj/sxqx9qyqwzGVN1MTXjRgt%2BS2nrOpt8oo6MDk3FWfYuGFpSfPN2jTw8JVKjfZSlGTb/AMNLzut18%2Bj9jL/goT8eP3/7VX/BQa78M6fN/rvCnwO0kaWiZ6hdRnBuWHbDKf1rpPh7/wAEgv2BPA2q/wDCTa58Fh401pyDcaz8QdUn1ma4I7ulw5hP4RiuY/4eJftHftGf6D%2BwF%2Bxbr2t6fNxD8RPiaToehhT0mijb9/eR9OE2MPSnL/wT3/ae/aHYah%2B3f%2B2/4g1GxlO6TwB8K1Oh6Oo7xSzAfaLuP/f2t054rzoQy6tJSw%2BHliJfzzbcfXmqaf8AgFN%2BR95DwfyrKJKrxRiqWGkvsVZPF4r/AMEU5TVN/wDX2dG3WK2PYfGP7Qv7EP7H2kP4f8T/ABP%2BHvgKCAZ/sS3urW1l4/u2sOHbH%2ByhryWb/grz8MPiBK1h%2ByR%2Bzr8VfjBMWKxaj4Z8ITWulhun7y7uwnljPGdhFejfB/8A4Jq/sIfAlo7j4d/sv%2BFY7uEgx6jq1j/aV0rf3hNdmWRT7givb4YYreJYIIlREUKiIuAoHQADoK9SNHOais5wpLtCLk/vlyx%2B6B60cX4X5RFRw2DxGMktnWqQw1P/AMFYeNSpbydaPbzPkgeLf%2BCyfxwO7w/8LPhX8E9Ll5L%2BJdYl8Q6tGvYotsBbZ9Q4FO/4d1ftP/Er5/2kv%2BCofxR1WOTmaw%2BHtnaeF4CP%2BeZ%2BziQsvY5wSPSvrein/Y9Cp/HqTqf4ptL/AMBhyR/Mf/ER81wmmU4TC4NdHSw9OU1/3FxCxNW/ndeh8xeCP%2BCPH/BPvwjqP/CQa38EP%2BEu1Z8GfVvHGs3Wqyzn1dJ5DEfwQV7r8P8A4I/Bj4Twi3%2BFvwj8MeGo1XaqaBoNvZgD0/dItdRRXVh8vwGE/g0ox9IpP77X/E8HN%2BMOLOIFbM8wrVl2nVqSj6KHMoJdkoJLokFFFFdh84FFFFABRRRQAUUUUAFFFFABRRRQAUUUUAFFFFABRRRQAUUUUAFeM/sv/wDJb/2jv%2ByzWP8A6hXhevZq8Z/Zf/5Lf%2B0d/wBlmsf/AFCvC9AHs1FFFABRRRQAUUUUAFFFFABRRRQAUUUUAFFFFABRRRQAUUUUAFFFFABRXPfFfx7ffDD4ean48034ea94rn02FZE8PeGRam%2BvMuqlYvtc8EIIDFiZJUUKrHPGDyEf7W/wt/4ZD0v9tK7s9Xt/CuseC7DxJY2D2aPqMkV7BFLbWohjdla5kaaKIRq5UyOFDEfNQB6hX5y/8FyP9A%2BPf7Pvi/p/wj/9qajv/u7fEXhBM/8AkSvt34B/H/Rvj1puvCPwNr/hXXPCmvnRvFPhXxQtp9u0u8%2BzW92iO1ncXFvIsltdW0yvFNIpWYAkMGVfiX/gvnBKmh6Rr1shabR/hT4hvoQOuU8W%2BBAT%2BTGvKz3/AJE2IfaDf3Wf6H3/AIUtf8RLyiD%2B3iKcP/BnNT/9yH6L0Uy3niuoEuYH3JIgZGHcEZBp9eqfAtNOzCiiigQUUUUAFFFFABRRRQAUUUUAFFFFABRRRQAUUUUAFFFFABRRRQAUUUUAFFFFABRRRQAUUUUAFFFFABRRRQAUUUUAFeM%2BOP8AlIX8L/8AsjPjz/07eEK9mrxnxx/ykL%2BF/wD2Rnx5/wCnbwhQB7NRRRQAUUUUAFFFFABXjP7B/wDyRDXP%2ByzfEf8A9TXW69mrxn9g/wD5Ihrn/ZZviP8A%2BprrdAHs1FFcT%2B0f8efBH7MXwN8TfHn4h3GzSvDWlvdSxhwr3MnCxQITxvkkZI1/2nFRUqU6NOVSbtFJtvslqzOtVpYelKrUdoxTbb2SSu39yMz9qf8Aas%2BEP7H/AMLZ/in8XNYdIjILfSNIsk8y91e8b/V2ttFnMkjH8FGWYgAmvnqD4Y/8FHf28oE1D44eN5P2fPhveoGXwV4MuxN4o1CBhnbd3xXbZ5U8pGu4ZKPHkZrV/Y6/ZT%2BIfxj8caZ/wUB/bnePU/HuoWS3HgXwXsb%2BzvAljKA8ccUT9bwqVMkrDcrcDlc19c148KOIzZe0ruUKT%2BGCdnJd5ta69IJqy%2BJtuy8Cnh8Vni9tiXKnQfw003GUl/NUatJX6U01ZfG224rhP2dv2aPgp%2Byn8Obf4WfAvwNa6JpULb5zHl57yYjDTzytl5pD/eYnAwBgAAdF8QviJ4E%2BE/g3UPiH8S/Fthoeh6XAZtQ1TU7lYoYUHHLN3JwABySQACSBXnH7W/7bPwd/Y/8AD1m/jOS71nxRrknkeEvAugQ/aNV1y4J2rHDCuSF3YBkPyjoMsVU%2BMfDz9iz41/tj%2BM9P/aD/AOCl725sLKcXXg74Fabc%2BZpGjf3JdQYcX11g8g5QZYcq3lrpVxcMPJYPAwUppLRaQgujk1t5RV5S6JL3j9Y4e4KwlLKoZpnFT6pl6uocsV7Wu46OGGpOylZ6SrS5aFJv3pzn%2B7dWf9pv9rz/AIKF3T%2BHP2FtHn%2BHHwxeQx33xt8V6WRd6lHnDf2RYyYLA84nkwOv%2BrdQD6T8B/8Agl/%2Byv8ABXxKPiZ4g0HUPiJ46kYSXPjr4kX51bUHkHR080eXCQc4KIGAOCxr6Ftra2sraOzs7dIoYkCRRRIFVFAwFAHAAHGKfVUcqpOoq2KftaneS92P%2BCGsY%2BtnLvI6cx4%2Bx0MLLLsgp/UMI1Zxpyftaq74jEWjVqt9YqVOito0basooor1T4EKKKKACiiigAooooAKKKKACiiigAooooAKKKKACiiigAooooAKKKKACiiigAooooAKKKKACvGf2X/%2BS3/tHf8AZZrH/wBQrwvXs1eM/sv/APJb/wBo7/ss1j/6hXhegD2aiiigAooooAKKKKACiiigAooooAKKKKACiiigAooooAKKKKACiiigDnviuPiC3w51iL4V%2BHdG1bxBLZtHpun%2BINcl02zldiFPm3MNtdPEApYgrDJkgDAB3D5z8FfspftOap/wTl8Mfsb/ABH03wHoniTwf4F0Gw0nW9D8V3uqWU%2BraJJZyWUkiS6dautvLJZRvIBl0DsiiTAc/VtFAHkf7LPwi%2BKXgbWPiJ8VfjbBoFn4n%2BJHjCHV7vRfC%2Bqz39jpVvb6XY6bBbpdT29tJcMVsjMzmCLDTlApCBm%2BRv8AgsH8GPDeman4n8TaTqHiGe8179nnxveX8Gq%2BLtRv7SI22veDJR9mtbmeSCyHBytukYbC7gdq4/RWvjf/AIKiaN/b2t6ppwXc3/DJnxXlRfVo7nwrIo/NRXDmkPaZZXj3hP8A9JkfV8CYn6nxzlVf%2BXE4d/8Alel/mfUXwW1n/hI/g54T8Q7932/wzYXG71326Nn9a6avLf2HdZ/4SL9i34Ra4Wy138MtBkc5/iOnwbh%2Bea9SrfCz9phac%2B8Yv74xf6nk59hvqWe4vD/yVasf/AatWP8A7aFFFFbnlBRRRQAUUUUAFFFFABRRRQAUUUUAFFFFABRRRQAUUUUAFFFFABRRRQAUUUUAFFFFABRRRQAUUUUAFFFFABRRRQAV4z44/wCUhfwv/wCyM%2BPP/Tt4Qr2avGfHH/KQv4X/APZGfHn/AKdvCFAHs1FFFABRRXkP7a/xI8ffDz4T6RZfDLxK2hax4s8f%2BHfDEPiJLSGd9Ji1DU7e3nuY450eJphC8gi8xHjErRl0dQUYA9eor5SsPjL%2B1RP%2ByH8ULDwb4g1HxV47%2BH3xGu/DNv4otdBtZdSvtLivrVpr%2BOzhiS3nv4NOuZcRJEI5rm1AEIEnlV518LP2qv2hPjh44j/ZZ8PfGzx14fEPxm1PQF%2BJniDwNp2n%2BJb3SbbwnYa4iPYXmnLa21w1zqKx5ksUY2trnykkk8xAD7yrxn9g/wD5Ihrn/ZZviP8A%2BprrdO/Zb/aJ1nx1%2BxX4T/aE%2BLVtdXWpS%2BHVl8QN4Z8PXV695cROYJZ7aztElndZXQyLFGrsFcDnGaz/APgnT4hsPFv7N194p0q3vorbUfi38Q7m3i1PS57K5RH8Z60wEtvcIk0DgHmORFdTkMoIIoA90r4x/aD/AOM9P2%2BPD/7JFh/pPw4%2BDMtt4q%2BKjLzDqGsMCdN0p8cMFG6Z0OVYb1OGQV9M/tHfGLS/2fPgH4y%2BN2sbDD4W8N3eoiKQ4E0kUTNHF9XcKg92FeS/8Ervgff/AAk/ZF0Txj40eW58a/Elm8Y%2BONUux%2B/ur%2B/AmAf02RNGm3oCGOMsa8jHr65iqeC%2By/fn/hi0lH/t6dr/AN2L7ng5onj8bSy77D/eVPOEZJRj/wBvztf%2B7BrqfR9fPn7c/wC2RrHwDttG%2BCXwI8Ox%2BKfjJ49drbwP4XBykA5D6jd4P7u1iAZiSRuKEZCq7J137Zn7VHhX9j34Dan8Xtfsn1HUN6WPhjQIMmfWdUmytvaRgAsSzctgEhFdsHGK4X9g79kLxX8LG1X9pz9pfVE1741fEGJJ/FOqMoMejWxw0ekWgyRHDEAqttPzsg5IVaeNxFetX%2BpYZ2k1eUv5Ivt/flqorprJ6JJ/r3DGU5XluWPiXO4c9CMnChRd19ZrRSbUrWaw9G8ZV5JpybhQg1KpOULf7IX7A/hz4A65dfHP4weLLj4h/GLXos%2BIvH%2BtKGeHIwbaxjIxa2y8qFQAkcHC7UX6EooruwuFoYOiqVGNl%2BLfVtvVt9W22z5bPM%2BzbiTMZY7MarnUaSWyjGK0jCEIpRhCC0hCEYxitEt2yiiiug8gKKKKACiiigAooooAKKKKACiiigAooooAKKKKACiiigAooooAKKKKACiiigAooooAKKKKACiiigArxn9l/wD5Lf8AtHf9lmsf/UK8L17NXjP7L/8AyW/9o7/ss1j/AOoV4XoA9mooooAKKKKACiiigAooooAKKKKACiiigAooooAKKKKACiiigAooooAKKKKACvmP9s7Rv%2BEj%2BP2neHtm77f%2BzH8UbfbjrvuvCq4/WvpyvDvixpUeu/t2/DzRJcbbz4G/EGBs%2Bj6p4RX%2BtZ1oe0pSh3TX3pr9Tsy/E/U8wo4j%2BScJf%2BAzhL/20pf8EsdZ/t7/AIJ3fCC%2B37tngq1t8/8AXHMWP/HK9%2Br5X/4In6rJq3/BMb4YPPkSW0GqWsinqpi1W8jAP4KK%2BqK4cmn7TKMPLvTh/wCko%2Bo8SMN9T8RM4ofy4rEL/wArVH%2BoUUUV6R8WFFFFABRRRQAUUUUAFFFFABRRRQAUUUUAFFFFABRRRQAUUUUAFFFFABRRRQAUUUUAFFFFABRRRQAUUUUAFFFFABXjPjj/AJSF/C//ALIz48/9O3hCvZq8Z8cf8pC/hf8A9kZ8ef8Ap28IUAezUUUUAFc78WPhP4B%2BN/gK9%2BGfxN0NtQ0e/eCSaGK9mtpY5YZkngnhngdJYJopoo5Y5YnWSOSNHRlZQR0VFAHnHhb9lH4L%2BCPh7dfC/wAIWfiTTdIvbSeG6Fn481iO6lee6kup7s3Qu/tH22SeWSR73zPtLlvmlIAAy779hv8AZp1D4Z2Hwpk8IaxFYab4gl12z1Wz8a6vBrSapLHLFLenV47pdQe4kinmieVpyzxSNGxKHbXrdFAGV4F8D%2BEfhl4J0j4ceAPD9tpOhaBpkGnaNpdmm2K0tYY1jiiQdlVFVR7CvLv2D/8AkiGuf9lm%2BI//AKmut17NXjP7B/8AyRDXP%2ByzfEf/ANTXW6APLP8Agrdc3PxM8H/DL9inSJ3Fz8ZviTY6fqscTEONFsnW8v5Rjn5AkJI9Cea%2BswNP0fTsDybW0tYfZI4Y1H5KoA%2BgAr5I8K/8ZD/8FifEXiU/vtF%2BAfw6t9JtO6prmrkzSyKemRaKYmA5BAz6Vvf8FWfip4s0T4AWH7OHwou9njn4167F4P8AD20ndbwXHF7dNjkRx25YMw%2B6ZVbtXz9PFRorF5hJXSfJFd1D3Ul/iqSa9R8B5FX4u4seHpyUfbVVSU3tClRT9pUf92CVepLyp%2BaOK/Z4tbn/AIKPftbSftp%2BJbeR/hL8ML640v4L6fOhEWs6krbLrXSp%2B8qsuyEkcFQfleNs/alc18HPhV4T%2BBvwo8O/B3wLaeRpHhnR7fTrBCBuZIkC72x1diCzHuzE966WvRy7CSwtC9R3qTfNN95Pt5RXuxXRLzZ9XxlxBQz7NVHBxdPB4ePssPB/ZpRbs5d6lVt1qsvtVKj6QikUUUV3nyYUUUUAFFFFABRRRQAUUUUAFFFFABRRRQAUUUUAFFFFABRRRQAUUUUAFFFFABRRRQAUUUUAFFFFABRRRQAV4z%2By/wD8lv8A2jv%2ByzWP/qFeF69mrxn9l/8A5Lf%2B0d/2Wax/9QrwvQB7NRRRQAUUUUAFFFFABRRRQAUUUUAFFFFABRRRQAUUUUAFFFFABRRRQBx37Qfxm0L9nf4HeLPjn4k0y6vrPwpoFzqUmn2O3z7xooyyW8W4hfMkYLGu4gbnGSBk1w3wx/ao8caxofxK0z4vfBIaP40%2BGFrHear4W8Ia8%2BuJqdtNY/bLZ7Kd7a1eV5Ns0HltChE0DgFkKO3c/tCfBnQ/2ifgb4s%2BBniTVLqws/FegXOmyahY7fPs2ljKpcR7gV8yNisi7gRuQZBGRXlvh79jT4maj4f%2BJlt8Y/j7YavrPxc0afSvF%2Bt%2BFvCM2jva2g00WNmmnK1/cG1aLfczs8jTmSW4JXylRUABH%2BwV%2B3jb/ttxeJHsvDXhVIfD9npVz/bPgTx4PEelSPfRTSGwe6%2ByW3lahbCJTcWuxvKW5tzvbzCF6Hxx/wApC/hf/wBkZ8ef%2BnbwhUX7L37LHjf4K%2BPPEPxT%2BKPxT0TxLr2ueFNB8NRL4X8FnQbC207STfNbk25u7ovcM2oT75PMVNiQokUYQ7sO/wDhH8KPA3/BTbwX498E/DHw9o%2Bu%2BJ/g944l8S61pWiwW93qzx6t4S8trmaNA85Xe%2BC5YjccdTQByX/BFz/QP2M7jwh0/wCEf%2BIviTTtv93bqMr4/wDIlfWlfJf/AASS/wCJf4X%2BO3hA8f2H%2B0x4ts0X0Tfbup%2Bh3mvrSvJyLTJ6K7K33SlH9D9A8Vfe8Rszqfz1FP8A8GU6FT/3IFFFFesfn4UUUUAFFFFABRRRQAUUUUAFFFFABRRRQAUUUUAFFFFABRRRQAUUUUAFFFFABRRRQAUUUUAFFFFABRRRQAUUUUAFeM%2BOP%2BUhfwv/AOyM%2BPP/AE7eEK9mrxnxx/ykL%2BF//ZGfHn/p28IUAezUUUUAFFFFABRRRQAV4p%2Bw9fWumfAPxFqV9MI4Lf4w/EmWaRuiovjTWyT%2BAFe118j2Hjn/AIVr/wAEx/jh46Sby5dN8S/F2W1bOP3/APwlWviIfi5UfjWVeqqFCdV7RTf3Jv8AQxxNaOGw060toxcvuTf6D/8Agjfpl54p/Zn1z9qTxDCRrPxm%2BIGs%2BKb0ScvDCbp7eCDP9xEgJUdhJVD4E/8AGYP/AAUv8cftIXH%2BkeD/AIHWkngfwMx5im1uUbtVuk9HRSLfI4ZGQ9q2fhh4xi/Yu/4I5aD4/lK2934W%2BC1vqEKOMD%2B0ZrJZI4z/AL1zMq/jXbf8E0vgef2f/wBiD4e%2BB762ZNWu9Cj1fxDJLkyyahe/6TOZGPLOrS7MntGB0Ar5zCUXUWDwktoQVWfnL7N/WcpT/wC3V2PteAqT4Z8MMTmz/j4hQwdN9V7Wmq%2BLmvN03Clfp7aa62PdaKKK%2BoPkAooooAKKKKACiiigAooooAKKKKACiiigAooooAKKKKACiiigAooooAKKKKACiiigAooooAKKKKACiiigAooooAK8Z/Zf/wCS3/tHf9lmsf8A1CvC9ezV4z%2By/wD8lv8A2jv%2ByzWP/qFeF6APZqKKKACiiigAooooAKKKKACiiigAooooAKKKKACiiigAooooAKKKKACiiigArxnxx/ykL%2BF//ZGfHn/p28IV7NXz98WPGtj4d/4Kc/BDwvfMobxB8HviLBaE9TNFqHhGfH08uOU/8BFTKUYq7JlOMFeX9X0OM/4Jtf8AEo%2BPf7U3hDp5Pxxn1Hb/ANfdrE%2Bfx2V9aV8l/sVf8Sj/AIKOftdeEzwF1nwhqKD1%2B06TIzEfiozX1pXl5LpgOXtKovuqT/zP0LxO97i11f8An5Qwc/8AwPBYV/8AtoUUUV6x%2BfhRRRQAUUUUAFFFFABRRRQAUUUUAFFFFABRRRQAUUUUAFFFFABRRRQAUUUUAFFFFABRRRQAUUUUAFFFFABRRRQAV4z44/5SF/C//sjPjz/07eEK9mrxnxx/ykL%2BF/8A2Rnx5/6dvCFAHs1FFFABXn/7S/xxufgD8NYvFmi%2BEV8Qa1qviHS9B8N6HJqP2OO91HUL2K0gWWfy5DBCrS%2BZLII5GWKNyqSMFRvQK8%2B/aX%2BB118fvhrF4T0Xxevh/WtK8Q6Xr3hvXJNO%2B2R2eo6fexXcDS2/mRmeFmi8qWMSRs0UjhXjYq6gHn95%2B3JfaB%2ByZ48/aF8WfCMW3iD4b6vf6R4r8KWeume1tr21uFiaUXxt0P2HypIrtrloFaO3ZnaEMjR15hff8FdbCy%2BC1h8VZ/CPw2trW%2B%2BIt94Vj8a6j8YxD4ClFtp3243kPiL%2BzW82N23WaD7Ku67guIc/uwz%2Bgy/sLeONV/Z/8W/B3xF8drCbVfGfiL/hKNZ8R2fg54lfXhqkV8jfZnvXVtNCW1raGyZi7wROHuWMhYY9r%2BwB8Y9K8Tt8a9G/aR8Np8SLr4gX/ijU7y6%2BGssvhuV7rRLTRWij0oaos0TrbWMLic3rOZJLndlJjGoB718BPilL8cPgf4P%2BM03g7UfDr%2BLPDNjq7aDq64utPNzAk3kSjj5037TwOR0HSvhz9rbXb7Tv%2BCP3xQ8NaM%2BNR8UfHTxjoenrn773HxH1NWX8YxJX2N8H/wBl34cfDP8AZY8N/sleJ9OtPGPhrQvC9rol3b%2BJNMhmg1OKKNVPm27KYghK5EQGxBhQMKK%2BH/HPhjw3b/BL4Bfsy%2BCfD1jpWkX/AO234pMOi6ZaJBbQaXpvjHX5HgiijAWONV8sBVAChQAK8rO2/wCya0VvJcv/AIE4x/8AbjxeI2/7DxEVvKPIvWbjD/29nsn/AAVD0W08T%2BAvgt%2BwZoAJh%2BJfxF0rTNRtR1bQtNC3N42B12iOA46V9ioiRqERQqqMAAYAFfI2n/8AF%2Bf%2BCyl/ef67SfgP8Lo7ZR1EGt6yxctntmyUrjr8tfXVTlqVXE4jELZyUF/hprl/9KcvuP1vjFLK%2BH8lySOjhQeImv8Ap5i5e0jfzWHpUF6SXSwUUUV65%2BfBRRRQAUUUUAFFFFABRRRQAUUUUAFFFFABRRRQAUUUUAFFFFABRRRQAUUUUAFFFFABRRRQAUUUUAFFFFABRRRQAV4z%2By//AMlv/aO/7LNY/wDqFeF69mrxn9l//kt/7R3/AGWax/8AUK8L0AezUUUUAFFFFABRRRQAUUUUAFFFFABRRRQAUUUUAFFFFABRRRQAUUUUAFFef/tV/Gq5/Zz/AGb/ABt8cdP0FNVvPDHhy6vtP0yWYxR3d0qHyIXcAlEaUorOASqknBxivPPAH7UnxJ%2BH2jfGbSf2o5PD%2Bq6r8G9Hh16%2B1jwPos%2Bn2up6XLpr3i7LW5url4Zke3u4iDO6uEjk%2BTeY0APoOvgn/gpt49k%2BFf8AwVL/AGJfHvmskJ1Lxfo1y38ITUW0Kyy3bAMoOT0OK90/YJ/aj8VftLeH9R1Tx78R/Ct/qw0rS9VHhnQPAer6JLo9tepM8ZMupzsdWtnMbpDqEEUEE5t5ii9VT5U/4LTeM/h58UvHFrafCf4l%2BHtZ8Z/CH4YeJPEV/pGl6zBcXei3Fv4j8GOPtUMbl7cmEXBUOFJ2nHQ15ucOcMsqzhvFc3/gLjL8os8jP5VKeTV6kN4Ln/8AAHGf5RZ7z8BP%2BJJ/wV9%2BP2mdP7b%2BH/hXUcf3vJjkt8/rivrSvjSy8Yad4X/4K3eB/ikrD%2Bwfjt8CmsvD9wTjdfWUy3xXPQ5tZFI75YV9l1lk8l7OtBdKs/uk1NfepXR%2BreILWIrZXjYawrYHCNPo/Z050Zf%2BAypcr7OwUUUV658AFFFFABRRRQAUUUUAFFFFABRRRQAUUUUAFFFFABRRRQAUUUUAFFFFABRRRQAUUUUAFFFFABRRRQAUUUUAFFFFABXjPjj/AJSF/C//ALIz48/9O3hCvZq8Z8cf8pC/hf8A9kZ8ef8Ap28IUAezUUUUAFFFFABRRRQAV%2BcXwoZfHH7efwN8EFg0HhHx/wDHHxNfRHp%2B98W6xZwuf92QEg%2Btfo7X5afsq%2BKt37X/AO0j8WfN/d/CjwJ8RbDdniGW48deINR3ezFE6%2BlePnU1GhSi9nUhf0jzTf8A6QeZmGGqZhiMFgafxVsRRgv/AAO/5qJ9J/8ABIaOT4jfDT4i/th6gha4%2BMXxR1bVtPlcfMulW0zWdpCe/wAnlTAezV9cV89f8EoPCv8Awhv/AATm%2BEWkGPZ53hGK%2Bxj/AJ%2BpHuc/j52fxr6FrXJYOnlNC%2B7ipP1l7z/GTP0vxMxUMX4g5o6f8OFadKC7U6LVCmvlCjFet31CiiivTPhwooooAKKKKACiiigAooooAKKKKACiiigAooooAKKKKACiiigAooooAKKKKACiiigAooooAKKKKACiiigAooooAK8Z/Zf/AOS3/tHf9lmsf/UK8L17NXjP7L//ACW/9o7/ALLNY/8AqFeF6APZqKKKACiiigAooooAKKKKACiiigAooooAKKKKACiiigAooooAKKKKAOd%2BLnws8G/HD4WeIvg38Q7CS60LxTotzpWrQQzNFI1vPE0b7HXDRuAxKupBVgCCCBXBfDP9jrw14DtvEkfiv4seLvHM/jYSp45vPGA0x5NfhNnFZRQTC0soEiihgjIRLdYQzTTPJ5ryFq9fooA8m/Z1/ZF8L/s769qHiyL4n%2BLvGGrXnh7TfD9tqXjC5s3ksNH09rhrSxiFpbW6lEa6nYyyrJPIXHmSvtXbwf7XXw3i%2BMf7Seh/CSaNWHif9m74maUA3Y3F74TiB9sFgc9sV9K14z44/wCUhfwv/wCyM%2BPP/Tt4QqKkI1abhLZpp%2BjTT/MirThWpSpz2kmn6NNP8Gz4p1XxfrPif/gj3%2Bz9%2B2loNtLNr/wF13Sry6iQfv5LKxu20q8tmzyA8SI7dDtjzX6Z6LrOmeItGtPEGiXqXNlf20dxaXEZyssTqGRx7FSD%2BNfFv7A/wz0LxV8Nv2n/ANg/xYm3T9N%2BKPiCwgg25MGkatAJLcgdiA0rAjHOCOlehf8ABI74l6745/Ym0HwR41bHiX4a6heeCfEkBbJgudNl8lEOec/Z/IJz3Jr5nJJypVqal/y8ppP/AB0W6cvvjZ/I%2BuyWpPPfBjB1J61ctrOjLv7LEJ8vyjicNUXl7VLqfTNFFFfUnygUUUUAFFFFABRRRQAUUUUAFFFFABRRRQAUUUUAFFFFABRRRQAUUUUAFFFFABRRRQAUUUUAFFFFABRRRQAUUUUAFeM%2BOP8AlIX8L/8AsjPjz/07eEK9mrxnxx/ykL%2BF/wD2Rnx5/wCnbwhQB7NRRRQAUUVx3x4%2BNnhr9n74dS/ETxNpGp6pu1Kx0zTNF0SGOS91TUL26itLS0gWWSOPzJJ5o13SOkaAl3dEVmAB2NFeOf8ADbnwutf2bNe/aV17wv4j0u28MancaTr/AIVvbW3/ALWstVhvBZmwZY52tzI07RqkgnMDLKkvm%2BW2%2Bsey/wCCgHgvUNAkjtPgj49fxpH49l8HD4ZJFpbaw%2BqxaempyIJRfnT/AClsZEuGnN2I1DCMsJiIqAPe6/In4LKfBv7NX/BST4zMdv8Aa/xY8XeGklP%2BxqmpQlR/4MB%2BdfrP4V1m98ReGdO1/UvDF/olzfWMU9xo2qtCbqxd0DNBMYJJYjIhJVjHI6ZU7XYYJ/Lv4r%2BB73wp/wAErPj/AKBHA9vdfFX9sTxdHbNtw0nmeOpbcEeuUsSPpXg8Qwl9RdRfYjUfzdOUV%2BMz6XgHLI5r4ncP05/DHF0pS8kmm38lGT%2BR%2BjH7LXhX/hBP2ZPh14I8vZ/Y/gTSLEpjp5VlFHj/AMdru6ZbW0FnbR2ltGEjiQJGg6KoGAPyp9e1SpqlSjBdEl9yS/Q8XMMXPH4%2Btip71Jzm/Wc5Tf4yYUUUVocgUUUUAFFFFABRRRQAUUUUAFFFFABRRRQAUUUUAFFFFABRRRQAUUUUAFFFFABRRRQAUUUUAFFFFABRRRQAUUUUAFeM/sv/APJb/wBo7/ss1j/6hXhevZq8Z/Zf/wCS3/tHf9lmsf8A1CvC9AHs1FFFABRRRQAUUUUAFFFFABRRRQAUUUUAFFFFABRRRQAUUUUAFFFFABRRRQAV4z44/wCUhfwv/wCyM%2BPP/Tt4Qr2avGfHH/KQv4X/APZGfHn/AKdvCFAHk3g7ULf9n7/gsX4z8O%2BIQ1lp3x58AabqXh%2B5cYhvdV0hGgmtlP8Az1FsTKR3BHcioPhVq9t%2ByD/wVA8e/CTxYj6f4W/aAjtvEngS8kAFs%2Bu28Xl6jabu00uVmwevyAcsAfQv%2BCk/7N3ir49fANPFfwhY2/xK%2BHGqReKfh3exLmT7fbfO1t/tLPGGj2E7SxjLZC1zfifQfh9/wV0/YC0Lx34P1P8AsLxDcwxax4V1eFyLjwv4ktSRjcPmXZOrxt0LRtuGCVI%2BWq0K9HETpUlecJOtT/vKWlSHrdv/AMCg3pc9fw4zfLslzzG5Bm0nHB4%2BDTmld01OpGpGql9p4fERjOUVrKjUqJatX%2BqKK8H/AOCf37V%2Br/tNfCe70b4oaUNH%2BJvgTUG0L4leHmAVrbUIsr56KP8AljOFMiMPlzvUFtmT7xX0WFxNLF4eNam/dkv%2BHTXRp3TXRponPMlzDh3N62W42NqtKVnZ3T2cZRktJQnFxnCS0lCUZLfQooorc8oKKKKACiiigAooooAKKKKACiiigAooooAKKKKACiiigAooooAKKKKACiiigAooooAKKKKACiiigAooooAK8Z8cf8pC/hf/ANkZ8ef%2BnbwhXs1eM%2BOP%2BUhfwv8A%2ByM%2BPP8A07eEKAPZqKKKACvL/wBrf4N%2BM/jP8MLCx%2BGt5pkXibw14w0XxLoEetzyRWV1caffw3JtZ5Io5HiSaNJIfNWOQxGQSBJNmxvUKKAPlPUf2QP2jPE/7L/xK%2BFWvS%2BCrbxF8TfEs/ibW4oNcu59Mlkl1CFpNBkLWaSNZS6baxWct4FEjG4ndbZMKp88X/glp4s/4RjTNXuvgZ8HbiHRvitqPiXRvgM2s3KeCrDS7zQ4dNmsI5hph5N5EdV/5B4i8%2BaVRGGIuK%2B76KAPLPgN%2Bz1rHgb9kjwx%2Bzf8VvHOpateaZ4Zg03VtY0PXr%2BwnLKB8tvdwypdxqnEaSeYJSiAsck18U/Efw9YWX7N3wK%2BBGj3F9PbX/7dOv2znU9UnvrmWytfGfiF5DLcXDvNO%2BFQtJI7OxyWYkk1%2BlNfnLpX/FUftO/s0fDkfOn/AA0L8bdcuV7J9i8Raw0bH6s5A968nO9culD%2BaUI/%2BBVIL/M/QPC/93xlSxP/AD4pYqr/AOCsJiZL8XH52P0aooor1j8/CiiigAooooAKKKKACiiigAooooAKKKKACiiigAooooAKKKKACiiigAooooAKKKKACiiigAooooAKKKKACiiigAooooAK8Z/Zf/5Lf%2B0d/wBlmsf/AFCvC9ezV4z%2By/8A8lv/AGjv%2ByzWP/qFeF6APZqKKKACiiigAooooAKKKKACiiigAooooAKKKKACiiigAooooAKKKKAPMP20/i94q%2BAf7JnxD%2BMfgaO1Ot%2BH/Cl5daO99EXt4boRkRSyqCC0SOVd1yMqrDIzkeffCn49eI/gHdfHLw1%2B0x8bNQ8W6B8HtMsvEU3jnWdJsre9XTJtMe6uIZ49Ot4IHeF7ad1McKsY5olYOyl3998aeDfCvxF8Hat8PvHWgWuq6Jrumz6frGl3sQeG8tZo2jlhkU8MjozKR3BNch8HP2W/g38Bd7/DTT9egmuL2W8v7vVfGmq6ncajO8ENv5l3Ne3Msl2Uht4IovOZ/JSMLHsGQQDwf/glx%2B2rrf7W/ij4x2viv9oHwZ4vuNG8W6ddaHofg/WdNvYvDml3uj2Vylj51kW%2B1eTO9xC9y7OJJ4ZwhVFWNOzv/id4b8Y/8FNvBfgzSdN8Qw3nh74PeOI7%2BbVfCOo2NpKX1bwlg211cwRwXoG05a3eQLkbiNy59p8LfDHwP4K8V%2BJvG/hnQ/s2qeMdSgv/ABJdfaZX%2B2XENpDZxvtdiseILeFMIFB2biCxJPm/jj/lIX8L/wDsjPjz/wBO3hCgD2avh7V9d1L/AIJSftQeJvGniLQZ3/Z5%2BLviGPUbzVrFWdPA/iGYBJpJo1Hy2ly207xwhCqANoD/AHDWd4u8I%2BF/H/hfUPBPjbw/aarpGq2j2upabfwCWG5hcYZHVuCCDXDjsJLExjOnLlqQd4vdXtZprrGS0a9GtUjzcywE8ZCE6MuSrTd4StdXtZqS6xktJLfZrWKPm79qX9j/AMW%2BMPG9p%2B3B%2Bwt48stA%2BK0GnRGRjP5mjeN9PCgpaXqqdr7kCiOcHIG3kYR4%2Bs/Y8/bv%2BH37UUV54B8RaTL4J%2BKHh5zb%2BL/htr0oS/sZlA3SQg4NxbnIZZUGNrLkDIz4tpvhH9q7/glXdXll8KfA2qfF/wDZ8%2B1Nc23hywuTL4l8FRMS0kdsr/8AH9aqSSsed4zklcM79prPw7/4J/8A/BWrwRafFbwB4rjk8SaSFOm%2BMvCt4dO8S%2BHLgcqkhAEsZU5wkqsnJZOoavFo1asMU3QShWes6MnaM31nTla1/wC8k09PaRjJcx9/kPHWR8SYClkHF0Z0q1GPLRrxSlVpRX2Gm4/WsKr3ilJVqN37NpN0T6ror43tPiV/wUw/YmjOj/F34Yf8ND%2BBLM4g8Y%2BCgtt4nt7cdPtOnt8t24Ax%2B6OT95nJOK9V%2BAP/AAUh/Y2/aPnXRPA/xn0/T/EHmeVceE/E5/szVIZgcNEbe42s7A8Hy94z3r1aObYSpUVKrenU/ln7r%2BT%2BGXrGT9DrzPw%2B4gweFljsEo4zCL/l9hn7WCXT2kUva0X3jWpQs7rmdrnudFFFemfDhRRRQAUUUUAFFFFABRRRQAUUUUAFFFFABRRRQAUUUUAFFFFABRRRQAUUUUAFFFFABRRRQAUUUUAFeM%2BOP%2BUhfwv/AOyM%2BPP/AE7eEK9mrxnxx/ykL%2BF//ZGfHn/p28IUAezUUUUAFFFFABRRRQAV%2Bb/7MF/Z61/wUt8N6bfThYfBth8XdcckE7Dd/EXWbIHA5ycAADk5xX6QV%2BaH/BOT/irf%2BCiHx08Q/f8A%2BER13WtD3f3PtXxH1i92/jtzXk5r7zw9P%2BarD/yXml%2BiP0DgH9zHOMX/AM%2B8BifvquhQX/pyS%2BZ%2BjX/CYaT/AM%2Bmqf8Agju//jVL/wAJhpP/AD6ar/4I7v8A%2BNV87ePv%2BCyP/BN74X%2BO9a%2BGnjn9o37Drfh3VrnTNYsv%2BEQ1iX7PdW8rRSx747Rkfa6MNykqcZBI5rJ/4fl/8EtP%2Bjof/LJ1v/5CqpZ5ksJOMsTTTX9%2BP%2BZnR8LfEzEUY1aWSYuUZJNNYeq000mmmoWaaaafVNPqfT//AAmGk/8APpqv/gju/wD41R/wmGk/8%2Bmq/wDgju//AI1Xzt4B/wCCyP8AwTe%2BKHjvRfhp4G/aN%2B3a34i1a20zR7L/AIRDWIvtF1cSrFFHvktFRNzuo3MQozkkDmu%2B/b%2B%2BMHxM/Z9/Ym%2BKfxx%2BDdpps3ifwl4H1DVdHXV5mS3WWCFpN77Y5N21QzBNuHZQhZAxdevC43B42Llh6kZpb8rTt62Pn884Z4k4YrQpZxgquGlNNxVWnOm5JOzaU0m0no2uuh6X/wAJhpP/AD6ar/4I7v8A%2BNUf8JhpP/Ppqv8A4I7v/wCNV896n%2B258bfCvxD8c%2BC/iF8CvAmhaf8ADL4eWnibxz4nu/ipdGxt3u4tUa3trbGjiWdQ%2BnxiWV0iKJcFo45nQRScz8Nv%2BClWr/FXVPDOh6t8J9X8L63F8aJfB3iHSFlvLaGRD4P1DX4Z9usaPaXrwukMSbfs9pIJUDLLJCpW46Twz6q/4TDSf%2BfTVf8AwR3f/wAao/4TDSf%2BfTVf/BHd/wDxqvnn9kr9vn4k/tD6folx45/Zg/4R%2B78WfCbRfiD4T0vw941h1We606%2BYI8E5uILKK3uIS8TFQ8iOj5DhlMddT%2B1X4s%2BKupfFr4X/ALPHwt%2BK%2BoeBG8bXWsXWreK9G02xur2K3sLISLbQLf29xbq0k00LMzxOfKglVdrMJEAPXf8AhMNJ/wCfTVf/AAR3f/xqj/hMNJ/59NV/8Ed3/wDGq%2BcoP2hP2kfif/wTI8IfH/4fWlz/AMJzrukeHZvEN34V0Nb24t7SW/tItY1DTrKRZBPKlmby5t4Csu5ljXZOcRvxfgL44/tK/Gj9mr4g6h4F8XfG3UNd%2BGfxKv8AQ9KufDvhTwvpniTxRZixtLy3lvLPXrOG0g2C9CMkcVtM3kD92rloqAPsH/hMNJ/59NV/8Ed3/wDGqP8AhMNJ/wCfTVf/AAR3f/xqvhaD9tD9pnxl4Ch/aC0n446fHZeBvAnw01XVvD3hvRLZtK8Z3GuyI%2BpSl7y3N5DC0Mgjs1ieB45VZphMD5S2dX/bi/aH%2BE%2BiXH7UniLxzP4m0HXb74pWlv8ADJ9KsobbR18Mf2rJYvbzwwLdtJJHo7x3AnlmUy3o8tYhGFYA%2B3/%2BEw0n/n01T/wR3f8A8aq/YX9pqdol9YziSKQZVgCO%2BCMHkEHIIPIIr53/AGA/jL408fLrfg34wePviJqPjO20DRdfvtL8feHNE06OGy1BbpYLvTl0lMizmltLpVhu5ZLuH7Ptm2lgX958H/8AIJm/7Cl9/wClctAGrRRRQAUUUUAFFFFABRRRQAUUUUAFFFFABRRRQAUUUUAFFFFABRRRQAUUUUAFeM/sv/8AJb/2jv8Ass1j/wCoV4Xr2avGf2X/APkt/wC0d/2Wax/9QrwvQB7NRRRQAUUUUAFFFFABRRRQAUUUUAFFFFABRRRQAUUUUAFFFFABRRRQAUUUUAFeM%2BOP%2BUhfwv8A%2ByM%2BPP8A07eEK9mrxnxx/wApC/hf/wBkZ8ef%2BnbwhQB7NRRRQAV88/tB/wDBMj9mP48eMX%2BLml6fq/gD4gbi8Xj74d6o%2Bl6j5h/jkMf7uYkgZZ0LkDG4V9DUVz4nCYbGU%2BSvBSXn0fddU/NNPzOXF4LB4%2Bl7PEU1Nb6rZ909Gn5pp%2BZ8fxaJ/wAFf/2ZUNp4f13wJ%2B0N4ctj%2B4i1l/8AhHvEbIOieaM2r4HG98sx5PWvOfjn%2B1h%2Bwl8WrdtK/wCCmf8AwT28Z%2BA74KIrjxB4p8ByXVvGOmLfVrAGZlHqgUcD0r9BqR0SRDHIgZWGGVhkEeleZVyio6bhTrNx/lqJVY/%2BTWl/5MzLLo5/w/i44rJcxq0KkdnzOVvSalTqpeXtJejPzr%2BFvw0/ZuuYopP%2BCdP/AAWZ1fweGwbDwfr/AIotNcsIB2SPTtRZJo1PTnJ/KvW4PE3/AAWZ%2BE8KyXngT4NfGTTUXME%2Bh6vcaDqVyvq3ng2yk9tuRXrvxP8A2Bf2KPjI8tx8R/2WvA%2BoXM5Jmv18PwwXT59Z4VWT/wAeryeX/gi/%2ByJoMrT/AAV8UfE74ZuWLI3gP4j31t5bHnKidpgOa87%2Bysyw38FJf9e6s4L/AMAqRqQ%2B5pH2v/ETuPK2mdYHBZkusqtNQqv/ALiwjRq383Um%2Bt29RB/wU5%2BKXgP91%2B0R/wAE1/jb4bZOLi98M6RD4hsYPUtPbuny%2B4U1peGv%2BCzf/BOrXb7%2Bxta%2BO0nhrUhjzdO8VeG7%2BwkiPozSQeWP%2B%2B6zf%2BHev7XfhDj4P/8ABWD4oWSp/qR400Ox8Qkem4zhN/41neJP2bv%2BCs8tidLv/wBp34KfES2XO2Dx78MDbpJ/vLalgM%2B1P2/EVD7MpesKcvxp1IP/AMlD/XHgjE/7/wAM4mg%2B%2BFxkZx%2BUMRGp93P8z33wX%2B2V%2ByN8RQg8C/tP/D/VXf7sNl4vs3lHsUEm4H2Ir0WzvbPUbZLzT7uKeGQZSWGQMrD1BHBr84/Gf7C37XWsF28f/wDBNL9kHxS7Z82fwd9s0aWX33uitn3Jrzu7/YH%2BIfhm5a903/gizq%2BiTE5k1P4c/tQ%2BQ2fVYZpG/QCj%2B281pfxMNf8A7dqx/wDbKi/EX9peEeI/5f5lhn2qYKnWS9ZUK8X/AOSs/WWivyWHw3/aU8E/NpHwp/bx8MbOlroHxSs9atU%2BkRjG786D8d/23/B3y6Z8X/20tB2dJfFP7NWm6zCPq5uV3flR/rQofxMPJej/AM4RD2XhnW/hcSQh/wBfsFmFL73GjXX3H600V%2BSw/wCCjv7b3hL/AI//ANqvXp9vX/hNP2X7mx/76%2Bxs%2BPwpR/wW1/ah8MEDWfj3%2Bz7PGv3hrfw88a2cx/79WrIDR/rjlUfjUo/KP/yaD%2ByeE6n8HibLX/ixFWj/AOnsJH8bH60UV%2BVWnf8ABfr4uwY%2B12vwN1n/ALB3iHWbDd9PtdoMfjW7pv8AwcIeNUYJqH7LfgW9X%2BKex%2BPem24/74uIAa0jxhkMt6jX/br/AEbNY8LUq3%2B75tltT/DmWDX/AKcqUj9OKK/OWy/4OE/CkYDeIf2abWD%2B99g%2BMOg3OPp%2B9TNaNp/wcVfs0odur/AnxvkfeGj6jo98fw2XozWy4q4fe9dL1Ul%2BhtDgXPa38CeGqf4MbgJfljUfoTRXwnpP/Bwd%2Bx1qgBk%2BD3xgtQe83g%2B3YD/v3dtXQWP/AAXa/YcuQDe2HxDsgepuvA1wcf8AfBat48R5DPbEw%2B9/rFFPw%2B4xTssLzf4auGn/AOkYuZ9mUV8iwf8ABcn/AIJx4zqnxY1zTx3%2B2eBtVGP%2B%2BLdq0LH/AILa/wDBL/UMCD9qW2Q%2Blx4W1aL/ANDtBWqz3JH/AMxNP/wOP6tFLw54/krwyrES/wANKUvxg5n1VRXzdY/8Fe/%2BCbOoY8j9rTw6uf8AnvBdRf8AocQrXsv%2BCon/AATyv8eR%2B2D4GXP/AD31pYv/AEPFaxzbKpbYiH/gcf8A5IyqeH3H1JXnlOKX/cvW/wDlTPeqK8bs/wDgoj%2BwVfY8j9s34YLn/nt44sY//Q5RWrZ/tufsYahj7B%2B138MJ89PJ8fac2fymrVY/AS2rQ/8AA4//ACRwVOEuLKP8TLsQvXD11/7hPT6K4S0/al/Zkv8AH2D9ozwJPnp5Pi%2Byb%2BUtaVr8cfgpfY%2BxfGDwtNnp5XiC2b%2BT1qsTh5bTi/8At5f5nDUybOaX8TC1V606i/OmjqaKyLX4geA77H2LxtpE2enlalE38mrRttS069/487%2BGX/rlKG/ka0U4S2ZxToV6Xxwa9U1%2BaRNRRRVGQUUUUAFeM%2BOP%2BUhfwv8A%2ByM%2BPP8A07eEK9mrxnxx/wApC/hf/wBkZ8ef%2BnbwhQB7NRRRQAVm%2BMPGXhD4eeF7/wAceP8AxXpuh6Lpds1xqesaxfR21rZwqMtJLLIQkaAdWYgCtKvEP2/vDfiLXfgno2raJ4U1LX7Tw38S/Cuv%2BIND0fTpLy6vNNsdatLm4MVtErSXLwrH9pEKK0kn2faiu5VSAemab8YfhHrPwyHxr0f4p%2BHLvwYdPe/Hi221y3k0z7IgJe4%2B1K5i8pQrZfdtG05PFUtE/aF%2BAXib4VXnx28N/HHwfqHgjTra4uNQ8ZWPia1l0q1hgBM8kl2shhRYwrF2LAJtOcYr5C8R%2BFfGnjD9hn40%2BH9F%2BD3jWI%2BNfiTeeKvDWgv4Qv7bUdP0afXLYyajDbSQqTfK0F3q0enOPPkZ41lhzMyHz3xV%2Bz1%2B1/8AFH9nL4q6f8OPAtx438K6x8R9a8RalcfFxb7wn4l8diLw5pkWn3Eun2%2BjMD5F/DLGluLSx8/%2ByLFsFZJXnAP0o0vVNM1zTLbWtF1GC8s7yBJ7S7tZlkinidQyujKSGUgggg4IIIr87v8AgkJ4eP8Awvr9sTx2yki9/aavNOVz/wBO3iLUGIH/AIECvsT9n/SPjXH%2Bxv4J0G5tdF8I%2BOIfAum27w6jaXOrWenXKW0alZYibGabAGGTMLBsjPy5PzZ/wR98IeI/Dnwi%2BO2r%2BNNRs77WdV/bE8ZvqOoadp72lvcyReIVgd4oXllaGMyRyssbSyFQ20u5G48GLp%2B0xWHf8spP/wAkkv1PreH8asHkGcRvrVo0qf34qlN/%2Bm0fc9FfMXj/AP4Ka/8ACBeO9b8C/wDDvn9p7Wv7F1e5sP7Y0D4T/abC/wDJlaPz7aX7SPNhfbvR8DcrKcDNZH/D2H/rGp%2B1p/4Zv/7qrKWdZZGTi6mq/uz/APlZ%2Bcy4hyaEnGVXVafDU6af8%2Bj60rF%2BI/w88GfFz4fa58KviNoMWq%2BH/EukXOl65pk7MqXVpcRNFNEShDAMjMMqQRnIIPNfPngH/gpr/wAJ7470XwL/AMO%2Bf2ntF/trV7aw/tjX/hP9msLDzpVj8%2B5l%2B0nyoU3b3fB2qrHBxXs37SfjD4nfDz4BeL/iD8GfDlprPifQdAudS0fRb2F3TUpIEMptQEdCHlVGjRt2Fd1YhgCp68NjMNjIuVGV0t9JL/0qMf1O3B4/B5hFyw8uZLR6SXn9qMfwuY0H7Gv7PC%2BFfFPg7U/CGpavZ%2BNfDdvoPiqXxF4r1PU7rUrCD7T5Mclzd3Mk%2B9Ptc%2BJQ4lG5fn%2BRNud4H/YK/Za%2BHupLrnh/wFqU2pDxcPFEura14x1bUry41caRNowu5ri8upZZ2Gnzy2%2BJGZdpU43IjL4b4j/4KP8AxN%2BJHha58Y/suNoeq2HiPx3NpHwoli8JLqjeINOsNIW61W9ka51vSraGOK78%2BAO1wu0WbgJK0g8vifBv7dXxG%2BLniPRPjxZfabXTvHnwy/Z31WPwo2v3v2HSp/EXi7Xba/kg%2BzTxbnMXkozHKTrawrMksS%2BUek7D7D8MfsnfAjwTY6JYeDvCd7pS%2BHPA1p4O0SbTvEeoQzWmi2rxvBarKk4c7TFHmQsZGAIZ2DMDo/G/9nr4U/tE6Jp%2Bh/FLR9RmGkaib7SL/RPEV9pF9Y3BhlgZ4bywmhuIt0M00ThJAHSRlYFSRXyb8E/2qf2oPjd%2B1J8IPGGp%2BKvCP9ieO/hb4/1vw58PdKur3T2tZLO/0aC2g1aUzXCXUsfmlGuEtojbSPcIsUmcn279t/VvEk%2BmfCj4by%2BKtV8O6R47%2BK9hofjPUvDeu3Gn3UNmdPv7pIIb23aKe38%2B9tbO18yNo5GW4KqVLigD0KT9nf4WJ4DHww0ax1jRdAi8OWGhWWmeGfFeo6VHp9jZkm3S0%2Bx3ERs3UHaZYCkroiIzssaKvO3f7Ev7P0/w8074W2Nh4t0vSNNury5B0D4l69pt3ez3bmS5lvbu1vY7i/eVyXdrmSUsx3Ek815f8ItR/aF%2BKf8AwTb8b6H8J/iTdz%2BNLPUvHfhzwD4s1jVS1xcW%2Bn69qmn6ZcSXkoctKbW2gH2tw5dsTtv3HPFfs%2B2fxV%2BLOnfG/wCBZ8F%2BPrCw8JeKdGPgnw944/aE1a01WG/l0qKe70%2B78QaTdX10kY3JdCFZrrat0m5VVliiAPoTU/2F/wBlbU/EvhfxQ3wpS0l8HabpOn6FYaXrF7Z6eLXS5jPpkM9jBMlteJZyky24uI5BA5Lx7GOat%2BHf2Nf2bvC/xO1j4vaV8Oi2sa5HqCXsV7rN7dafH9vdJL9rewmme0tHunjV53gijadsmQuWJPy14I8QePfFH7Ov7Lvxc1n42eNp/EVn8XY/DGvG08ZX0dnqCrfX9pdW10sUwj1eONrQRR3VwJDMkYnwrSmvVvGenTav%2B3/4Z0b4CfEPxvda3pGonWPjKk3jjULjw9pWhyaZcQWmmHTpJmsory5uTbXESwxJMsdvNM8gV0S4APXfgX%2By38Ev2b21Kf4TeG9QtrjVre0tr291jxLqGrXJtbUSC1tEmv55pIraHzpvKt0ZYozNIURS7Z63wf8A8gmb/sK33/pXLWpWX4P/AOQTN/2Fb7/0rloA1KKKKACiiigAooooAKKKKACiiigAooooAKKKKACiiigAooooAKKKKACiiigArxn9l/8A5Lf%2B0d/2Wax/9QrwvXs1eM/sv/8AJb/2jv8Ass1j/wCoV4XoA9mooooAKKKKACiiigAooooAKKKKACiiigAooooAKKKKACiiigAooooAKK8e/wCCg58cj9hz4sH4b/2n/bH/AAgWp/Z/7E3/AG7Z9nfzfs3l/P5/leZ5ez59%2B3b82K8S/Y58X/sa6Bqvxx0j4P8AivwLYfAW8S2m0S30LULaHQpnh0WNteksREwjMEcLWZuGh%2BRJmnLkSmWgD7Orxnxx/wApC/hf/wBkZ8ef%2BnbwhXkP/BJvxH%2Bzb8S5PiT8av2T7/wJongfxNfaYfD/AMNvAl9Z7dHtIYZkj1S%2Bs7Rtmn3uoZZzAyrIIbW3EoEyzImr8ZfFH7X1n/wUZ8CR%2BBPgZ8NtStofhT43TQ5tW%2BK2oWUl3aHU/ChllnSPQpxbyq4iCxI0ysHcmRCgVwD6vorxn/hOP%2BChf/Rr/wAGf/D8at/8y9H/AAnH/BQv/o1/4M/%2BH41b/wCZegD2aivGf%2BE4/wCChf8A0a/8Gf8Aw/Grf/MvR/wnH/BQv/o1/wCDP/h%2BNW/%2BZegD2aivnHSf2jv27dY%2BM%2Bv/AAOt/wBlD4SLqnh3wvpGu3ly/wAddU8iSDUbnUreFEI8Mbi6tpc5YFQAHjwWJYL1H/Ccf8FC/wDo1/4M/wDh%2BNW/%2BZegD2aivGf%2BE4/4KF/9Gv8AwZ/8Pxq3/wAy9H/Ccf8ABQv/AKNf%2BDP/AIfjVv8A5l6APZqK8Z/4Tj/goX/0a/8ABn/w/Grf/MvXL%2BAf2jv27fiJ4r8b%2BENH/ZQ%2BEkNx4D8URaFqslz8ddUCTzyaVp%2Bph4tvhgkp5OowqSwU70cYwAzAH0dRXjP/AAnH/BQv/o1/4M/%2BH41b/wCZej/hOP8AgoX/ANGv/Bn/AMPxq3/zL0AezUV4z/wnH/BQv/o1/wCDP/h%2BNW/%2BZej/AITj/goX/wBGv/Bn/wAPxq3/AMy9AHs1BAYbWGQeoNfOPwi/aO/bt%2BMvhS78X%2BHP2UPhJbW9n4o1vQpI73466ormfS9VutMncbfDDDY01pIyHOSjKSFOVHUf8Jx/wUL/AOjX/gz/AOH41b/5l6APUtR8E%2BDNXyNW8I6XdZ6/aLCN8/8AfSmsS/8A2e/gHquf7U%2BB/g%2B5z1%2B0eGrV8/nHXEf8Jx/wUL/6Nf8Agz/4fjVv/mXo/wCE4/4KF/8ARr/wZ/8AD8at/wDMvWcqNKfxRT%2BS/wAjKVChP4oJ%2BqT/ADTN69/Y2/ZC1PP9pfsq/De4z18/wNp75/OGsi8/4J9/sIX2ftH7GHwryepj8Aach/NYRUH/AAnH/BQv/o1/4M/%2BH41b/wCZeuX%2BCP7R37dvx4%2BDHhD44%2BFf2UPhJa6X4z8L6frum22ofHXVFnhgu7aO4jSQJ4YZQ4WQBgrMMg4JHNYvA4KW9KD/AO3Y/wDyJhLLsun8VCD/AO3If/IG3d/8Ey/%2BCfN7nzv2Ofh8uf8Anj4bgj/9BUVm3X/BKD/gnLef679kPwgM/wDPK0eP/wBBcVv/APCcf8FC/wDo1/4M/wDh%2BNW/%2BZej/hOP%2BChf/Rr/AMGf/D8at/8AMvWTyvLJb0If%2BAR/%2BRMJZLk0t8NT/wDBcP8A5E4%2B5/4I8/8ABNO7/wBb%2ByZoI/653l4n/oMwqhcf8EVf%2BCYd1/rf2VbAf9c/EOqJ/wCg3Qrv/wDhOP8AgoX/ANGv/Bn/AMPxq3/zL1y/xu/aO/bt%2BA/wY8X/ABx8VfsofCS60vwZ4X1DXdSttP8AjrqjTzQWltJcSJGH8MKpcrGQoZlGSMkDmoeTZO98NT/8Aj/kZPh7IJb4Sl/4Lh/8ic3N/wAEN/8AglvMd3/DL4Q9jH4z1pcfleVVm/4IU/8ABMeT/VfAO%2Bi/65%2BNtX/rdGvVv%2BE4/wCChf8A0a/8Gf8Aw/Grf/MvR/wnH/BQv/o1/wCDP/h%2BNW/%2BZeoeRZI/%2BYan/wCAR/yEuHOH4u6wlNekIr8rHjtz/wAEFP8AgmhcZH/CoNZT/d8Zagf/AEKY1Sm/4N/v%2BCa0v3Phz4hj/wBzxbdf1Y17f/wnH/BQv/o1/wCDP/h%2BNW/%2BZej/AITj/goX/wBGv/Bn/wAPxq3/AMy9Q%2BHsie%2BFp/8AgKN4ZRllP4KSXo5L8po8Hl/4N7/%2BCcMn3PCfiuP/AHPFUv8AUGq0v/BvD/wTrk%2B7pvjRP93xQf6xmvWfi7%2B0d%2B3b8GvClp4v8R/sofCS5t7zxRomhRx2Xx11RnE%2Bqara6ZA53eGFGxZruNnOchFYgMcKeo/4Tj/goX/0a/8ABn/w/Grf/MvUPhvh9/8AMLD/AMB/4J0RwWHh8PMvSpVX5VkfO0n/AAbq/wDBPR/uSePE/wB3xNH/AFgNQSf8G5X/AAT8f7ms/ERP93xJB/W2NfSH/Ccf8FC/%2BjX/AIM/%2BH41b/5l6P8AhOP%2BChf/AEa/8Gf/AA/Grf8AzL1L4Y4ef/MLD7v%2BCaxpyj8NSovStiF%2BWIR83J/wbpfsNQf8eXxD%2BKlv6eR4otRj/wAk6ni/4N7v2R7b/jy%2BPPxpgx08nxjaD/2yr6K/4Tj/AIKF/wDRr/wZ/wDD8at/8y9cv4%2B/aO/bt%2BHfivwR4Q1j9lD4STXHjzxRLoWlSW3x11QpBPHpWoamXl3eGAQnk6dMoKhjvdBjBLKLhnh9bYaP4/8AyQ3TnLerV/8AB%2BI/%2BaTyeD/ggj%2Bzraf8eP7Vfx%2Bg/wCuPjy1X/2yq7D/AMEOvhJaDFj%2B2z%2B0fDjps%2BI0A/lZivc/%2BE4/4KF/9Gv/AAZ/8Pxq3/zL0f8ACcf8FC/%2BjX/gz/4fjVv/AJl6tcOZGtqC%2B%2BX/AMmc88DRn8Uqj/7jYj/5oPFYv%2BCLvhS1/wCPH/goB%2B0xDjpt%2BJkY/lbCpfgB%2Bx1H%2ByZ/wUJ8HLF%2B0d8T/iAuvfBnxjgfEfxR/aX9n%2BRq3hb/AI9v3aeXv875%2Bu7y4%2Bm2vZf%2BE4/4KF/9Gv8AwZ/8Pxq3/wAy9UPA/gf9qzxj%2B1Z4c%2BN3xu%2BHHw98M6N4Z%2BHviHQ4YfCvxDvtauru61K%2B0S4RmS40ixSKNE0uUFg7sWlQBcZI6MPk%2BW4WqqtKnaS85fk5tfgKll2Fo1VUjzXXedWX4SqyX3pnutFFFekdoUUUUAFFFFABXzl%2BxD4Y03wt%2Bzx4svbHzCL39obx/qd87DOD/wAJ5qm9uB0VIx%2BC19G18lfsleLP2ztP%2BHviiz%2BGPwD%2BGGr6Enxp%2BIv9n6jr3xd1HTbuZf8AhM9ZLGS2i0C5SIhtwAEz5AByCdoTSbT7FxqVIwlBPSVr%2Bdndfc9T6g/4TnwT/wBDhpf/AIMI/wD4ql/4TnwT/wBDhpX/AIMI/wD4qvLf%2BE4/4KF/9Gv/AAZ/8Pxq3/zL0f8ACcf8FC/%2BjX/gz/4fjVv/AJl6ZB6l/wAJz4J/6HDSv/BhH/8AFUf8Jz4J/wChw0r/AMGEf/xVeW/8Jx/wUL/6Nf8Agz/4fjVv/mXo/wCE4/4KF/8ARr/wZ/8AD8at/wDMvQBqX3wM/Yo1T4caT8HdT%2BDvwtuPCOgXv2zQvCs/h7TX03TbndI3nQWxTyoZN0sp3ooOZHOfmOdDT/hx%2ByjpNra2WleA/h7bQ2VppNpZQ2%2Bl2KLbwaXPJcaZEgCgIlpPLLLbqMCCSR3jCsxJ8z%2BCP7R37dvx4%2BDHhD44%2BFf2UPhJa6X4z8L6frum22ofHXVFnhgu7aO4jSQJ4YZQ4WQBgrMMg4JHNdR/wnH/AAUL/wCjX/gz/wCH41b/AOZegDVsfgf%2BxVpfinW/HOmfCD4XW%2Bt%2BJYLqHxHrEHh/TUutVjusfaUuZQm%2BdZdq%2BYHJD4G7OK6DxvpXwA%2BJngi5%2BGXxI03wd4g8N3kKRXfh7XIbS7sZ40ZWRHglDRsqsqkArgFQR0FcV/wnH/BQv/o1/wCDP/h%2BNW/%2BZej/AITj/goX/wBGv/Bn/wAPxq3/AMy9AHVDwT%2BzCPD1v4RHhHwGNJtPDc/h610v7BZfZ4dInEazacke3atrIIYg8AHlsIkBU7RjDuv2fP2GL74W2vwOvfgh8J5vBVlfm%2Bs/B8vhrTG0uC6O/M6Whj8lJP3j/OFDfO3PJrifjd%2B0d%2B3b8B/gx4v%2BOPir9lD4SXWl%2BDPC%2Boa7qVtp/wAddUaeaC0tpLiRIw/hhVLlYyFDMoyRkgc11H/Ccf8ABQv/AKNf%2BDP/AIfjVv8A5l6ALPxH/Zt/YL%2BMWiaB4Z%2BLnwD%2BEPirTfCls1t4W0/xH4W0u%2Bg0eEhAY7WOaNlt0IjjBWMKMRr/AHRixF8Bf2IYPiw/x6g%2BDHwqTx1JdC6k8aJ4d00as04iEIlN5s84uIlWMNuzsULnAxWd/wAJx/wUL/6Nf%2BDP/h%2BNW/8AmXo/4Tj/AIKF/wDRr/wZ/wDD8at/8y9AHqP/AAnPgn/ocNL/APBhH/8AFUeDDv0MzqDsmvruWIkY3I9zIyt9CpBHsa8u/wCE4/4KF/8ARr/wZ/8AD8at/wDMvXL/ABd/aO/bt%2BDXhS08X%2BI/2UPhJc2954o0TQo47L466ozifVNVtdMgc7vDCjYs13GznOQisQGOFIB9HUV4z/wnH/BQv/o1/wCDP/h%2BNW/%2BZej/AITj/goX/wBGv/Bn/wAPxq3/AMy9AHs1FeM/8Jx/wUL/AOjX/gz/AOH41b/5l6P%2BE4/4KF/9Gv8AwZ/8Pxq3/wAy9AHs1FfOPj79o79u34d%2BK/BHhDWP2UPhJNcePPFEuhaVJbfHXVCkE8elahqZeXd4YBCeTp0ygqGO90GMEsvUf8Jx/wAFC/8Ao1/4M/8Ah%2BNW/wDmXoA9morxn/hOP%2BChf/Rr/wAGf/D8at/8y9H/AAnH/BQv/o1/4M/%2BH41b/wCZegD2aivGf%2BE4/wCChf8A0a/8Gf8Aw/Grf/MvXL6t%2B0d%2B3bo/xn0D4HXH7KHwkbVPEXhfV9ds7lPjrqnkRwadc6bbzI5PhjcHZtUgKgKQQkmSpChgD6Oorxn/AITj/goX/wBGv/Bn/wAPxq3/AMy9H/Ccf8FC/wDo1/4M/wDh%2BNW/%2BZegD2aivGf%2BE4/4KF/9Gv8AwZ/8Pxq3/wAy9H/Ccf8ABQv/AKNf%2BDP/AIfjVv8A5l6APZqK%2BcdJ/aO/bt1j4z6/8Drf9lD4SLqnh3wvpGu3ly/x11TyJINRudSt4UQjwxuLq2lzlgVAAePBYlgvUf8ACcf8FC/%2BjX/gz/4fjVv/AJl6APZqK8Z/4Tj/AIKF/wDRr/wZ/wDD8at/8y9H/Ccf8FC/%2BjX/AIM/%2BH41b/5l6APZqK8Z/wCE4/4KF/8ARr/wZ/8AD8at/wDMvXL%2BAf2jv27fiJ4r8b%2BENH/ZQ%2BEkNx4D8URaFqslz8ddUCTzyaVp%2Bph4tvhgkp5OowqSwU70cYwAzAH0dRXjP/Ccf8FC/wDo1/4M/wDh%2BNW/%2BZej/hOP%2BChf/Rr/AMGf/D8at/8AMvQB7NXjP7L/APyW/wDaO/7LNY/%2BoV4Xo/4Tj/goX/0a/wDBn/w/Grf/ADL1b/ZW%2BHPxp8H6x8UPHfx00DwvpOqePviFFrlnpXhPxLc6tb2trFoOj6YqvcXFlZs0jSadK5URbQsiDcxzgA9booooAKKKKACiiigAooooAKKKKACiiigAooooAKKKKACiiigAooooAKKKKACvlf8Aae/a0%2BLnww%2BMfizWvAPh3wfJ4Y%2BD/h/w/e%2BNTrWkXE2q6pb6vfypcwWFxHcRpZeRbWcdxmSKcXMhSMiHy/NP1RXjPxn/AGIfhx8bvikfiZrnjnxVpcWo2ukWvi/w1o11app3imDS72S9sYr5ZbeSYLHNNLn7PLAZY5DFMZYwqAA9mooooAKKKKAPmPw5%2B0r8TIf2/wDxR8H/AIjax4e8J%2BG18QWmieDItR%2BEWspdeMYBoEGo4g8RtdrpzSx3dzqAFoIXk8u0mAUFmkX6cryvxZ%2By1B4/%2BMmkfFPx78b/ABrq%2BleHtdj1rQPAFwdMi0ax1CO3eCOcNDZJey7PMkkVJrqSMSPu2fIgX1SgAooooA8X/wCCgvxd%2BOH7P37I/jT49fAK98KR6x4J0K71y6g8YaLc31td2lrbSzPboltdWzJK7IiiQuVQFiUfgV5/48/a0%2BLngv48eLdT8KeHfCEXw88IfGPwj8PvGVnNpFwdb1XVddg0VI9Qhu0uFhjjg/tzSYzFJbyvIkM%2BJY9qCvYf2sf2cbL9rT4Ea9%2Bz7rXxV8U%2BEdJ8T2Utjrl/4QXTvtdzZSxPFNbbr%2B0uo0R1flkRZAVG115zxcH7APg6f4i2fxF8VfHHx9rrHWdJ1zxNo2oS6VFY%2BJ9c0xI0sdWvY7awiZbiIQWmFtmggY2NsXiYx5IB73RRRQAV4v8Atk/F344fBK18A%2BMfhZe%2BFP7G1D4meHPD3i%2Bx8QaLc3N1c2uq6zY6aDZyw3UKW0ka3Msm%2BRJ1JRF2ck17RXlX7V37Lb/tVeG9C8Lz/H3xv4Gt9C8SWGuo3guHR2e7vbG8gvLNpTqWn3g2xXFvG4WMIG5WTep2gA84/Z5/aV%2BJmt/tVeLfgj8UNX8PeE9Oh8U63b%2BCfCUnwi1nTLnXraF0lN/b61cXf2DUHYyTSyxW0BfkuxXDE/TleS6T%2ByiH%2BMmi/GX4j/tAeO/Gs3he7vLvwnoXiEaTDYaPdXNvJayXES2Gn20sr/Z5p4V8%2BSVUWd9oBII9aoAKKKKAPD/27vi58eP2fvg1q/x1%2BFHjHwLY6f4W0W5vL3RfFnhm9v7nxDe5RbPTLOS2vYPs81xKRbo3lXTNLPEFhY/K3n/wR/a%2B%2BM%2BufEvwV/a3gzwlpHw08b/E/wAUfDbwr4a07S5o9X0S/wBAh1bfPPci4a3mgkbw/qaLDHbxGNWtj5kmWA9P/aV/ZBg/aS8eeCPiBN%2B0D478IXPgG7ub3RbHwxFo09nJeyoI1vJoNT068R54Y/MWGQBTGJ5SPmbIq%2BA/2Gvh74D%2BMtv8XYfiL4u1KDTtd1PXtE8Ialc2X9k6VreoxvHqGqQJFapP584nuyyvM8KNfXJjij8zgA9rooooAK%2BX/wBrn48ftL/Bb4iaf4U0qHwB410fxzDrVtovw5i8H30msJa2mh3V3Jf3E4vXiurYXUVvbSQi1iB%2B3woJjIyJJ9QV4dN%2BxNcR/tH%2BK/2mtE/ar%2BJenav4t02HTrnS4YPD89pp9nDA0cNtZtc6TLc28Syu91sWba87l3Dg7aAGfsIftB%2BN/j38Pby6%2BK/j7Rr7xdpws21/w3ZfC7V/CN5oDz2yyiC5stXup7hwW3%2BXcAJHIqHaG2k17pXm/wADv2btO%2BDPifxJ8Q9Y%2BKXinxx4q8VxWNvrHifxc1gty9pZib7LapFp9ra20cUbXNy42whma4kLM2Rj0igAooooA%2BOf%2BCgn7cfxU/Yw8c/2nrmi6B4x8Ivo2o63b%2BFZfhzqdlLbppujX2pJJ/wkU10%2BmT3f2vTRssVgS6EcyygbYWkb179mj4u/HPVvip43/Z6/aOufCmoeJ/COk6HrUeteCtIubCxubHVBeRpEYLm5uXWWK4067Uv5uJEMTbIySorfHX9hLwR%2B05rV1a/H/wCLfjXxR4LuZLiRfhleSabDosUk1jNZM2%2B3so76QCO4mYJLdOgd9235EC9P%2Bz5%2BzNpHwDvNe8RXfxQ8WeOPEfiQ2cereKvGtxZvfS21pEYrW1H2O2t4ViiDysMR72eeV3Z2cmgD0qiiigAr4j/an/bK/az%2BDfxq8QfCjwd4b8OeNdTsNFuNd8MBPgf4gjk0UDUdMtUMLfbnHiaQWOqXHnf2X5TwtCVlEYmEdfbleH69%2BxbqfiXx6fidrX7XPxRm1vT4LyLwbeFNAA8KrdTQyT/ZIxpOydmjgW33Xq3TLEzhSruzkA6r9lj4sP8AGT4RweLL34maN4qv4dRurLVL7RvBl94dFtcRSsrWs2m6hcT3VnPGMK8czh8/NtUMBXo1cN8A/gL4e%2BAHhnU9G0rxTrfiDUdf1641vxJ4k8RzQNe6rfzBEaeUW8UMCYjihiVIYo41SJAFGCT3NABRRRQAUUUUAFFFFABRRRQBR8UeIbDwl4a1HxXqoc2umWM13ciJct5caF2wO5wpr5z/AGJv2k/jX4/8U6P4M%2BNnh7wZZjx18LbL4jeGYfBmlXFoNMjvLgm70%2B7M1xKLuaN7m2f7YggE7SzEwR7QX%2Blru0tb%2B1lsb23SaGaNo5opVDK6kYKkHggjjFeQ/szfsV%2BAv2YNVfV9A%2BIPi3xLLbeGLHwz4dHiy9tZhoGhWbyPb6bam3t4S0amT5pZzNcSCOLzJn8tcAHsVFFFABXC/tQePPiL8LP2aPiJ8Tvg/wCFF17xb4c8C6vqnhbQ2sZroajqNvZyy21sYYGWWYSSoieXGwdt2FIJBruqzvFuiX/iXwxqHh/S/Feo6Fc3tpJDb61pCwNdWLspAmiFxFLEXU8gSRumR8ysMggHl37FPxan%2BKHwzvrLVviF4f1nU/Duqrp15pmifDDU/Bz6GgtoJIrO40rVLme5hcI4kV28tHili2Jgb39irzz4D/s7aT8DrzxL4jufiJ4k8Y%2BJPF%2Bow3niLxT4rezF3dGG3S3giEdjbW1tFFHGgCrHCmSzsxZmZj6HQAUUUUAfLn7VH7WPxQ/Zw%2BL3jiy%2BJWjeEvEXwvsP2d/F/j220K30S4TVXbRBpaz21xcyXL280U6304CC2QqETLvlhXb/ALM/xf8Aj5qnxc8Zfs6/tLP4SvPFHhjwx4e8Sx6r4K0m5sbKSy1Z9St1tjDc3Ny5lhuNIuwZRIFkR4m8uM7lqD4x/sK%2BHfjp8dW%2BMvjz47eOZdNm8Fan4Rvvh7DBov8AYl3o2pLbfb7SQvprXpE7WkDs4ug6lCEZEZkPSfs7/su6H%2Bz7fa14jn%2BKHi3xv4h1%2B1sLK/8AE/ja5tJL02Fiki2dmPsltbx%2BVEZ7hwShkd7mV3d2bNAHp9FFFABXyJ8a/wBpf9rbwZrv7QHgS38K%2BDPFl74C8P8AhTxJ8NrHSfh/qd/Oseo6rqUIS8tYrx5dRngXTY51NsLclyQq/KrV9d14XL%2BxR4hi%2BOnjb4/6F%2B2h8VtK1bxvpFjplzY2Vn4Ya0022sri5ns0thLoryfujeXSgzPKXWciTzCqFQDq/wBlT4tzfGX4UjxNqPxO0bxTqNrqtzY6tdaP4Iv/AA2bO4ib5rWfTNRuJ7q0nRSu5JmDEMrbVVhXpNcJ8A/gHoHwB0LWbHT/ABbrniPVfE3iCXXPE/ibxJLbte6rfyQwwebILaGGCMLBb28KpFFGipCgC5yT3dABRRRQB8bftLftd/tLfs8fGaD4baynwz8a32twQTeEYdO8LXtpL4LvNS8Q6Z4e0ibU5XvphdRTtq84LRLZyOLG6WMMvmGL3H9lX4v/ABI%2BIw8f/D74xHRJ/FXw08eN4a1nVfDWnTWdhqfmaXp2rW9xDbzTzyW%2BbXVLdHjaaXEkcmGIIxwtt/wTV8JNdfEN/EP7S/xO1m3%2BJOvHXNYt9SOheZZ6lFcQz6fc211FpaXSmwe3txaRvNJFEsKBkfnPrHwD%2BAuh/APw9q2m2Xi/XPEmreItem1rxP4o8SvbG/1e%2Bkjih86YWsEEC7IILeBEiijRY4I1C8EkA7qiiigBlz9p%2BzSfY9nnbD5Xm527scZxzjNfEHxW/a5/bT%2BGnxE1z4bW9t4D8Z694YvfDVvq3jrwR8Fdf1aPw5b6s1497YS6VZ6lPd3M0cNlY3RMU6fu7qFpYEBiaT7eu4ZLi1lt4bqSB5I2VZ4gpeMkYDLuBXI6jII9Qa%2Be/gx%2BwF4g%2BAnw2uPhp8O/26vjFFHdas%2BpzazeWXhOfUJbuV5ZLmeaZ9CP2mSd5d0kk4kfMabCgGCAes/AT4h2XxW%2BDvh/4hWHxA0bxUmp6eJH1/w/pM1haXcgJWQpazzTS2xV1ZGhkkd42VlY7lIHX1yXwL%2BC/hL9n34X6d8KfBVzf3FlYS3VxNfarcia6vru6uZbq6upnCqGlmuJ5pX2qq7pDtVVwo62gAqj4nh8SXPhvULfwbqdjZavJZSrpd5qdg91bQXBQiOSWGOWJpo1bBZFkjLAEB1J3C9Wb4x0G/8AFHha/wDDul%2BLdS0G5vLV4oNa0cQG6sXI4miFxFLEXU8gSRuhx8ysMigD4e%2BG/wC3Z%2B1r8YPinrfwS%2BFmm/D5PGem2uu30njPxX8Lta0NdU0zSLXRZUsZdEvL5NQ0%2BV7vxDsSaeZ4/KhkuEhdZ0B%2BxvgF8WtN%2BPnwJ8FfHXRtNls7Pxr4S03XrSzmfc8EV5ax3CxsQBkqJACfUV4tq/8AwTI8D61rl98Rbv8AaU%2BKafEDVkvLXWviTbXukQ6tf6ZdW1rbTaYUTTRZw2xSytGHkW0UqyQLKsocsx%2Bg/Bfg/wANfDzwdpPgDwZpMWn6PoemQafpNhDnZbW0MaxxRrnnCoqqPpQBp0UUUAcv8adR8caN8Lda1v4c%2BIbHS9WsLM3UN9qHg%2B98QIkcZDygadYzwXN5I0SuqRQyBy7LhXPyN8W/CX/goj8fvEnjTQ9T8b3HhHwJ4M1KedfEHji8%2BBniKa21i/h1%2B60hEuZVvo08MzyWtpa/uNUaSWB5VjfOwJX238TPBmu%2BPfCU3hzw38Utf8G3kksbxa/4ZisXu4NrAlVW/trmBgwBUh4m4Jxg4I8Vuv8AgnN4U1DwfcfDbVv2kPibd%2BGNc1Ca/wDHmgTXGjiLxhdz3jXVxNfSrpouIvNLLC0dnLaxCGJI1RRu3AH0TRRRQAUUUUAFFFFABRRRQAUUUUAFFFFABRRRQAUUUUAFFFFABRRRQAUUUUAFFFFABRRRQAUUUUAFFFFABRRRQAUUUUAFFFFABRRRQAUUUUAFFFFABRRRQAUUUUAFFFFABRRRQAUUUUAFFFFABRRRQAUUUUAFFFFABRRRQAUUUUAFFFFABRRRQAUUUUAFFFFABRRRQAUUUUAFFFFABRRRQAUUUUAFFFFABRRRQAUUUUAFFFFABRRRQAUUUUAFFFFABRRRQAUUUUAFFFFABRRRQAUUUUAFFFFABRRRQAUUUUAFFFFABRRRQAUUUUAFFFFABRRRQB//2Q%3D%3D\">"
            ]
          },
          "metadata": {
            "tags": []
          }
        }
      ]
    },
    {
      "cell_type": "markdown",
      "metadata": {
        "id": "KghMveQQY7vK",
        "colab_type": "text"
      },
      "source": [
        "# Submit a linear model"
      ]
    },
    {
      "cell_type": "code",
      "metadata": {
        "id": "4pCI5kKcY7vL",
        "colab_type": "code",
        "colab": {}
      },
      "source": [
        "## GRADED PART, DO NOT CHANGE!\n",
        "# Testing shapes \n",
        "grader.set_answer(\"9XaAS\", grading_utils.get_tensors_shapes_string([W, b, input_X, input_y, logits, probas, classes]))\n",
        "# Validation loss\n",
        "grader.set_answer(\"vmogZ\", s.run(loss, {input_X: X_val_flat, input_y: y_val_oh}))\n",
        "# Validation accuracy\n",
        "grader.set_answer(\"RMv95\", accuracy_score(y_val, s.run(classes, {input_X: X_val_flat})))"
      ],
      "execution_count": 0,
      "outputs": []
    },
    {
      "cell_type": "code",
      "metadata": {
        "id": "QPlKXxmRaXte",
        "colab_type": "code",
        "colab": {
          "base_uri": "https://localhost:8080/",
          "height": 34
        },
        "outputId": "d88e71ee-62bd-4cc0-8a18-4e1eb8c7c7e5"
      },
      "source": [
        "grading_utils.get_tensors_shapes_string([W, b, input_X, input_y, logits, probas, classes])"
      ],
      "execution_count": 17,
      "outputs": [
        {
          "output_type": "execute_result",
          "data": {
            "text/plain": [
              "'784 10 10 None 784 None 10 None 10 None 10 None'"
            ]
          },
          "metadata": {
            "tags": []
          },
          "execution_count": 17
        }
      ]
    },
    {
      "cell_type": "code",
      "metadata": {
        "id": "TPwVYzTXY7vN",
        "colab_type": "code",
        "colab": {
          "base_uri": "https://localhost:8080/",
          "height": 34
        },
        "outputId": "ecf1c032-f6be-4498-f093-68cb90ddb22d"
      },
      "source": [
        "# you can make submission with answers so far to check yourself at this stage\n",
        "grader.submit(COURSERA_EMAIL, COURSERA_TOKEN)"
      ],
      "execution_count": 19,
      "outputs": [
        {
          "output_type": "stream",
          "text": [
            "Submitted to Coursera platform. See results on assignment page!\n"
          ],
          "name": "stdout"
        }
      ]
    },
    {
      "cell_type": "markdown",
      "metadata": {
        "id": "jeJSaT5sY7vP",
        "colab_type": "text"
      },
      "source": [
        "# MLP with hidden layers"
      ]
    },
    {
      "cell_type": "markdown",
      "metadata": {
        "id": "d-I1jpeIY7vQ",
        "colab_type": "text"
      },
      "source": [
        "Previously we've coded a dense layer with matrix multiplication by hand. \n",
        "But this is not convenient, you have to create a lot of variables and your code becomes a mess. \n",
        "In TensorFlow there's an easier way to make a dense layer:\n",
        "```python\n",
        "hidden1 = tf.layers.dense(inputs, 256, activation=tf.nn.sigmoid)\n",
        "```\n",
        "\n",
        "That will create all the necessary variables automatically.\n",
        "Here you can also choose an activation function (remember that we need it for a hidden layer!).\n",
        "\n",
        "Now define the MLP with 2 hidden layers and restart training with the cell above.\n",
        "\n",
        "You're aiming for ~0.97 validation accuracy here."
      ]
    },
    {
      "cell_type": "code",
      "metadata": {
        "id": "VWZejcmQY7vQ",
        "colab_type": "code",
        "colab": {
          "base_uri": "https://localhost:8080/",
          "height": 309
        },
        "outputId": "3304568c-a1dc-47ff-bebb-47a44bcf77b3"
      },
      "source": [
        "# write the code here to get a new `step` operation and then run the cell with training loop above.\n",
        "# name your variables in the same way (e.g. logits, probas, classes, etc) for safety.\n",
        "### YOUR CODE HERE ###\n",
        "\n",
        "hidden1 = tf.layers.dense(input_X , 256 , activation= tf.nn.sigmoid)\n",
        "hidden2 = tf.layers.dense(hidden1 , 256 , activation= tf.nn.sigmoid)\n",
        "logits =   tf.layers.dense(hidden2 , 10)\n",
        "\n",
        "probas =tf.nn.softmax(logits)\n",
        "classes =  tf.argmax(probas,axis = 1)\n",
        "\n",
        "loss =tf.reduce_mean(tf.nn.softmax_cross_entropy_with_logits(labels=input_y, logits=logits)) \n",
        "step =tf.train.AdamOptimizer().minimize(loss)\n",
        "s.run(tf.global_variables_initializer())\n",
        "\n",
        "BATCH_SIZE = 512\n",
        "EPOCHS = 40\n",
        "\n",
        "# for logging the progress right here in Jupyter (for those who don't have TensorBoard)\n",
        "simpleTrainingCurves = matplotlib_utils.SimpleTrainingCurves(\"cross-entropy\", \"accuracy\")\n",
        "\n",
        "for epoch in range(EPOCHS):  # we finish an epoch when we've looked at all training samples\n",
        "    \n",
        "    batch_losses = []\n",
        "    for batch_start in range(0, X_train_flat.shape[0], BATCH_SIZE):  # data is already shuffled\n",
        "        _, batch_loss = s.run([step, loss], {input_X: X_train_flat[batch_start:batch_start+BATCH_SIZE], \n",
        "                                             input_y: y_train_oh[batch_start:batch_start+BATCH_SIZE]})\n",
        "        # collect batch losses, this is almost free as we need a forward pass for backprop anyway\n",
        "        batch_losses.append(batch_loss)\n",
        "\n",
        "    train_loss = np.mean(batch_losses)\n",
        "    val_loss = s.run(loss, {input_X: X_val_flat, input_y: y_val_oh})  # this part is usually small\n",
        "    train_accuracy = accuracy_score(y_train, s.run(classes, {input_X: X_train_flat}))  # this is slow and usually skipped\n",
        "    valid_accuracy = accuracy_score(y_val, s.run(classes, {input_X: X_val_flat}))  \n",
        "    simpleTrainingCurves.add(train_loss, val_loss, train_accuracy, valid_accuracy)"
      ],
      "execution_count": 23,
      "outputs": [
        {
          "output_type": "display_data",
          "data": {
            "text/html": [
              "<img src=\"data:image/jpeg;base64,/9j/4AAQSkZJRgABAQEASABIAAD/2wBDAAIBAQEBAQIBAQECAgICAgQDAgICAgUEBAMEBgUGBgYFBgYGBwkIBgcJBwYGCAsICQoKCgoKBggLDAsKDAkKCgr/2wBDAQICAgICAgUDAwUKBwYHCgoKCgoKCgoKCgoKCgoKCgoKCgoKCgoKCgoKCgoKCgoKCgoKCgoKCgoKCgoKCgoKCgr/wAARCAEgA2ADASIAAhEBAxEB/8QAHwAAAQUBAQEBAQEAAAAAAAAAAAECAwQFBgcICQoL/8QAtRAAAgEDAwIEAwUFBAQAAAF9AQIDAAQRBRIhMUEGE1FhByJxFDKBkaEII0KxwRVS0fAkM2JyggkKFhcYGRolJicoKSo0NTY3ODk6Q0RFRkdISUpTVFVWV1hZWmNkZWZnaGlqc3R1dnd4eXqDhIWGh4iJipKTlJWWl5iZmqKjpKWmp6ipqrKztLW2t7i5usLDxMXGx8jJytLT1NXW19jZ2uHi4%2BTl5ufo6erx8vP09fb3%2BPn6/8QAHwEAAwEBAQEBAQEBAQAAAAAAAAECAwQFBgcICQoL/8QAtREAAgECBAQDBAcFBAQAAQJ3AAECAxEEBSExBhJBUQdhcRMiMoEIFEKRobHBCSMzUvAVYnLRChYkNOEl8RcYGRomJygpKjU2Nzg5OkNERUZHSElKU1RVVldYWVpjZGVmZ2hpanN0dXZ3eHl6goOEhYaHiImKkpOUlZaXmJmaoqOkpaanqKmqsrO0tba3uLm6wsPExcbHyMnK0tPU1dbX2Nna4uPk5ebn6Onq8vP09fb3%2BPn6/9oADAMBAAIRAxEAPwD9/KKKKACiiigAooooAKKKKACiiigAooooAKKKKACiiigAooooAKKKKACiiigAooooAKKKKACiiigAooooAKKKKACiiigAooooAKKKKACiiigAooooAKKKKACiiigAooooAKKKKACiiigAooooAKKKKACiiigAooooAKKKKACiiigAooooAKKKKACiiigAooooAKKKKACiiigAooooAKKKKACiiigAooooAKKKKACiiigAooooAKKKKACiiigAooooAKKKKACiiigAooooAKKKKACiiigAooooAKKKKACiiigAooooAKKKKACiiigAooooAKKKKACiiigAooooAKKKKACiiigAooooAKKKKACvPfjt%2B1J8FP2b5NGsfil4g1Maj4ilnTQNB8OeF9R1zVNR8lVed4bHTbee5kjiVkMkixlI96biu5c%2BhV4N%2B0P8D/j5/wANJ%2BDv2tv2bLLwfrWueH/B2seFNX8KeOdcutLtLywv7mwuxcQXtraXj288U2noCpt3WVJSCUKK1ABpf/BTL9izWLvxPb2nxXv0h8FWsk/jLUrvwXrEFjoIS0iu9l5dy2iwWsrQzRskMjrJIWKorMrKL2n/APBQ/wDZK1HwBrXxFTx/q9vB4f1ay0vVdE1DwNrNrrkV5ebfscC6PNaLqEr3AYGER27eaAxTcFYjy2b9gH4y%2BMf2a/jn8NfGHinwppHin4o/FS38daHc6U1xeWFpeW0OiywQ3IkihkkiN3pRRwoyYHGDuJVaPi79i/8AaV%2BLmr/Ef45fG34S/CjWvFnjWx8KaPp/gKy%2BI2s2Wm6fY6Hcaldw3qa7b6al5DqDXOqTOksVoPJSKNFZiWcgHsviH9vv9mzwv4a8OeI9XvvG3meK0v5NE8P2vwm8SXGuSRWUscV3NJpMWntf28MLzQq8s0CIpmiy37xM%2Bmaz8RPBHhv4e3XxX8T%2BJbbSvDljo76rf6vqrfZYbSySIzPPMZdvlKsYLNvxtAOcYNfGHin9hH9s/WPgX4X8Nay3hfxV470a58RHRfGV/wDHbxNpGr%2BCLW%2BuUktLO11q1sJLzXIYkjhEy3qw/aTbReYCFGPUfjR/wTotfj1%2Bzb4n%2BHHxD%2BOfjW78d%2BMPhfH4Z17xS3jbWho818tpDE2oJoS3y2FuzzQLK3kRRSEPIBIrSM5AOkg/4KUfsZf8K58V/FbWPite6Jo3giysr7xQ/ifwdq%2Bk3NlZXkxhtb37LeWsVxJaSyK6pcxxtC3luQ%2BEYjj/AI3f8FZP2d/hn8ENU%2BMfgPRfFXiqbQfiD4X8L674Y/4QXXbHU7A6zqVrax3T2cmnNdeV5Fw88DeT5d48aW8MhknjB8r1T/gmJ8ZPHfwq8faR4i8DeG9G8Y%2BI9D0fR7DxDqv7RfjPxut3aWusW%2BoTRyf27AfsEZ8likUSzHe%2BGkxknv8A9qH9gz40/GD4g/F/4g%2BBfEPheOTxfB8LbzwlZ6tfXMSvf%2BE/EdzrUsN40dvJ5ENwGt4VljEzrl2MfyKrgHqFh/wUE/Zb1H4m2XwZh8T%2BJo/Fd5oun6xLoF38N9egudO0%2B9adILu/SSyU6dDut5VeS68pYiFEhQum6j4a/wCCmH7FPi3wZ4s%2BIWkfGC4TR/Bfgi68Zaxe6h4S1W0Fx4et0Z5tWsVntUbVLNVQ4nsxPGxZArEugbB0P9kP4ofEP4mfG74g/G9fD2gxfGj4O%2BHfCF1Y%2BE9duNRl0u4tE11Ltlnns7XzYwNViMT7FZikm6OPA3fN37Y37Kn7UOj/ALDHxS%2BJv7TF34AtIfhD%2BxT8QfBHhePwFqF5cNrzXukWxn1G6W5toBYqE0i3CWcbXAVppCZ22oKAPrPw9/wUl/Yy8TaHrHiPT/i1dQWehppU1/JqnhLVbJmtNSu1s7HUIUuLVGubCWdgovoQ9qoDO0qorMPT9E%2BLvw88R/FLX/gvofiH7T4k8LaXp%2Boa/YR2k22zgvmuBa7pinlF3%2ByzHy1cyKoRmVVkjLfJOofsz%2BIPFegeKfjb/wAFIvF/wz8J%2BBbf9nu5%2BHUlx4f8QTLay6beyQyXmq3k17BbpYOTBbCG2QzCAmT/AEiQsuOw/wCCPngP4u2f7I9r8f8A9pDUDf8AxJ%2BL15H4n8V6g9nJbtJCLSCy01fKl%2BeH/iX2lpI0TYKSzTZAYtkA%2BqqKKKACiiigAooooAKKKKACiiigAooooAKKKKACiiigAooooAKKKKACiiigAooooAKKKKACiiigAooooAKKKKACiiigAooooAK8R0j/AIKMfse6ld69Z6n8Urzw83hzw5c%2BINQk8a%2BEdV0GObSbd0jnv7WTUrWBb63R5IlaW2MqAyxjOXXPtN7FczWcsNndCCZ4mWKYx7/LYjhtp64POO9fmJq//BHL9uX4v6t4X1z43fHHQ31vw14P1Cz1DxRqHxW8TeJx4h1v7ZpV9a6idLvoobLSbaS50xfPsLIBRHJtWWQKgUA%2B2X/b/wD2YbX4aN8WNY8QeKtK0ttcg0axs9c%2BGWv2GqanfzIZIYLLTbixS9v2kQM6/Z4ZAyo7AkIxHReA/wBqz4H/ABH1%2By8J%2BHPEOqQ6vf8AhSfxJDpGteFdS0y7TTYbv7JLLLDeW8UkDrP8hhkVZe%2BzbzXk3xO%2BDn7bvxib4e/G3XPBvwq0P4h/Cjx1NrHh/wAM2vjjUr/Rdcs7jSbvTLmO4vn0qGaxmKXskkbpa3AjMQU%2BYJGxV%2BJPwG/bg1/4y%2BHf2mvA%2BjfCu08WX3ww1XwX4x0LUvFepSWGkLcX8N1a39lcJpwk1AxCN1kt5YrQSlxiWLHIB3Gk/wDBRv8AZA8R694F8LeFfiNqus6n8SfBuleLfBunaJ4H1m9nvND1F9lrqMiQWjNa2%2B7HmSTiNbcMpm8oMCdj4a/tufs3fFf4jXPwn8M%2BL9Ws9ft9LudThsvE/gzVtEW/sbeRI57uyl1G1gjv4I3liDy2zSIvmISQGUnyj9hT9hL4sfsw6/8ADjWfHniDw1dnwd%2Byl4R%2BGN%2B%2BkXM8rNq2lvM1zNF5kEe61bemxmKu235o0wK8a%2BGn/BKv9sbxP8UfC/ib9qb4w2eqRaf4A8V%2BF/GniaD4v%2BJNavPEUur2KW39p2umX0Men6EcqWNpaKUXKgTOI1WgD6l8J/8ABRf9kfxrosfirQfHeuf2Hcarpen6f4lvfh/rdrpWoy6lex2VlJaX09mlteQS3M0UYuIJHhBlQs4VgT6X4W%2BLvw88a/EDxT8LvC/iH7XrnguSzj8T2iWkwWxkuoPtEEZlZBG7tCVkKIzMiyRlgokTd8w%2BOPAnxF8K/wDBPbxp8CP%2BChnif4VeCPAWg/DSLQLb4meHfFt2GadI0trXUntLqzgTTZlmFvJDBHcXTGcoiOTtDdr/AMEr/h98WPDf7ImlfFX9oqwS3%2BJ3xYvpfHXxEhW3aL7Pf36xmG02N8yfZbGOys9pyQLXBoA%2BjaKKKACiiigAooooAKKKKACiiigAooooAKKKKACiiigAooooAKKKKACiiigAooooAKKKKACiiigAooooAKKKKACiiigAooooAKKKKACvF/j14/8A2i/%2BGi/AvwI%2BAvjPwV4fTX/BXiXXtX1Pxf4Lu9aJOnXeh28MMMdvqVj5Yb%2B1JWZmZ8%2BWgAXkn2ivC/iLrS2f/BSr4Q6LIoxe/BP4hsjd90ereDTj8mY/hSbS3LhCVR2j2b%2B7Vl7/AIQf/goX/wBHQfBn/wAMPq3/AM1FH/CD/wDBQv8A6Og%2BDP8A4YfVv/mor2aimQeM/wDCD/8ABQv/AKOg%2BDP/AIYfVv8A5qKP%2BEH/AOChf/R0HwZ/8MPq3/zUV7NRQB4z/wAIP/wUL/6Og%2BDP/hh9W/8Amoo/4Qf/AIKF/wDR0HwZ/wDDD6t/81FezUUAeM/8IP8A8FC/%2BjoPgz/4YfVv/moo/wCEH/4KF/8AR0HwZ/8ADD6t/wDNRXs1FAHjP/CD/wDBQv8A6Og%2BDP8A4YfVv/moo/4Qf/goX/0dB8Gf/DD6t/8ANRXs1FAHjP8Awg//AAUL/wCjoPgz/wCGH1b/AOaij/hB/wDgoX/0dB8Gf/DD6t/81FezUUAeM/8ACD/8FC/%2BjoPgz/4YfVv/AJqKP%2BEH/wCChf8A0dB8Gf8Aww%2Brf/NRXs1effEDx/8AAz4aDU/GHx98ceFPD%2BnnWotPstS8YapbWkHmG0jlWCOS5ZV3kCV9oOSFY44OJnOFOLlNpJdW7L73ZG2Hw%2BIxdeNGhCU5ydlGKcpN9lGKlJvR6JN6bHNf8IP/AMFC/wDo6D4M/wDhh9W/%2Baij/hB/%2BChf/R0HwZ/8MPq3/wA1FV/%2BGv8A/gnB/wBHRfBH/wALbR//AI7R/wANf/8ABOD/AKOi%2BCP/AIW2j/8Ax2ub6/gP%2Bf0P/A4f/JHtf6pcWf8AQuxH/hPX/wDlBY/4Qf8A4KF/9HQfBn/ww%2Brf/NRR/wAIP/wUL/6Og%2BDP/hh9W/8AmorsPhp4k/Zy%2BNGhS%2BKfg7r/AIJ8WaZb3bWs%2Bo%2BGrqzv4I51VXaJpICyhwroxUnIDqcYIryf4g/ts/snfCH41/ET4RfFjwPqGh2nw08Dad4p8Q%2BLZPh/f3GlRWVyL5mLXMFo8UflpZE5Z/3jO0ce54ZVXphOFSKlBpp9U7r71dHi4jD4jCV5Ua8JQnF2cZJxkn2cZKMk9Vo0nrsdR/wg/wDwUL/6Og%2BDP/hh9W/%2Baij/AIQf/goX/wBHQfBn/wAMPq3/AM1FRN%2B03%2ByhbTeG49Y8J69pUPiu4ht9Iv8AXPg/rdhaLNNevZW8dzc3FgkNk81woSJbh4ml82FkDLNEz8zrv7dP7FPgK0J%2BJM1jb3bXvitYbXw34H1bWCLPw/qp03UbqUW%2Bm74UglaITMy%2BUhdiks0SidqMTq/%2BEH/4KF/9HQfBn/ww%2Brf/ADUUf8IP/wAFC/8Ao6D4M/8Ahh9W/wDmorvtAj%2BDHiu4ntPC8fhjUZraGCa5hsVt5XhjnTzIXdVyVEifMpONy8jIrw/9n79qrRPjR8UtG8L65%2Bzdomh%2BGPHOm67qHwz8SQ6ql3Pq1vpV7DazG7tTaRixaZJ47mBUluN0IfzDC6iMgHZf8IP/AMFC/wDo6D4M/wDhh9W/%2Baij/hB/%2BChf/R0HwZ/8MPq3/wA1Fcb4s/aq0Tw18eNR8D2/7N2h3PgTw98RNF8B%2BJ/Graqkd5aa/qtpZ3FokWn/AGQrPa51LTYXnNyjLJdECJxE7Vr/AAr%2BLXjj4ja58XfAV3%2Byj4O0/wAUfDfWbey0PTo/FgnttbjubKK7t5Z7g6chsiVlUOix3GzB2tIeKANv/hB/%2BChf/R0HwZ/8MPq3/wA1FH/CD/8ABQv/AKOg%2BDP/AIYfVv8A5qK43w9%2B1Rosfw9%2BIN18Qv2cvD1p448B%2BOIPB0XhXw3rKanaa9rV1Y2N3ZW1neyWdu5DrqECStJbp9nMc7uDFH5h4Ob/AIKK6PffAXwr8fvCn7Imi32nv8ANJ%2BL/AMTrSfxCkMvhrQb6Bp1is8WL/wBqXQW3vysbfZVcWR%2BdWkVKAPbv%2BEH/AOChf/R0HwZ/8MPq3/zUUf8ACD/8FC/%2BjoPgz/4YfVv/AJqK4i2/a00C4%2BOcfhBf2a9GfwBdfES68B2HjeDVI3vZ9eg02W%2Bcf2d9kCizLwTWiz/aTIbhAPIEbCWvMPhH/wAFXPg/8QvhZ4v%2BKeu/APwbDb%2BHfD%2Bg30Ft4b8ZW2pG01HWL9tPtNB1l5bO3TRtVW5MKT27GZYBIzNJhPmAPob/AIQf/goX/wBHQfBn/wAMPq3/AM1FH/CD/wDBQv8A6Og%2BDP8A4YfVv/morz22/am1vxJ4T8EWXwt/Z/8Ag/428Z%2BPbvVZNGtPCPxUF74c/s7Tola5ujrC6TvZxJLBbiJbQ/vZgC6orOOH1X/gqN8IZfGfw40Xwl%2Bz94aks/iH4c8Jaxpun%2BIfEcOneINSj1y7a38rSNNFpKuqyWIXzLzE8IgTnLDmgD3r/hB/%2BChf/R0HwZ/8MPq3/wA1FH/CD/8ABQv/AKOg%2BDP/AIYfVv8A5qK8t8Oft3eDdQ8YyWeu/sz6PHoWr3XjSy8BnRtWivtc1u98MzzxX1tLpn2WMWzS/Zp2h23ExICLKIXkVKyPgf8At8N%2B0N8E/iL8SvhH%2BzV8L/Eup%2BBdD0zVIF8NfE1L7QrwXUU001jNqaaUGtdQtYoS89qLaUoLi2%2Bc%2BadgB7T/AMIP/wAFC/8Ao6D4M/8Ahh9W/wDmoo/4Qf8A4KF/9HQfBn/ww%2Brf/NRXm/xL/bK0/wAMeC/Aev8AgX9mXwrqeo%2BLPhFqHxH1Wy1/xRFpVtp2kWMOnyXUUNx9im%2B1XQOoxBEZIYiEdpJYQVDS6H%2B3D8GfiV8fvDvwa%2BDng/4ZXVpq2laPqF1eeMPGsGjalcx6jbLeJFpenCznk1KaKzkhuJVLwIouIlEjEv5YB6H/AMIP/wAFC/8Ao6D4M/8Ahh9W/wDmoo/4Qf8A4KF/9HQfBn/ww%2Brf/NRXkunf8FCfhBqek/Fv4k6f8Mfh3feEPhP4c8R6re2Wl%2BN7a48W3SaPJLFJK%2Bii0C2ttO9vN5M8l1llMLtGgl%2BTrPh18dPH3xKuvGnwu0X9mj4VL8TPA7aRdar4ePxGkk0dtM1KCWW2uBqUejNKsp8icGFrQD5AwkKOrEA67/hB/wDgoX/0dB8Gf/DD6t/81FUPA/jj9qzwd%2B1Z4c%2BCPxu%2BI/w98TaN4m%2BHviHXIZvCvw8vtFurS602%2B0S3RWe41e%2BSWN01SUlQiMGiQhsZBX9l/wCKSftKfsgaT%2B0pq3wb0Twhe%2BINKvdR0m00XU/t8X2RZphZXsN01rbO6XFukNyuYkIWcKQcEm944/5SF/C//sjPjz/07eEKAPZqKKKACvJ/23P2g/iB%2Byr%2BzZ4l/aE%2BH/wn03xkfCWm3Gqa1pGpeKW0gLp9vBLNPJHMtrcl5QIwqRbAGL8ugBNesV5T%2B218AviF%2B1L%2BzH4t/Z3%2BHXxP0bwhN4y0a50jVNb1rwpLrCxWVxBJFKIoIr20KzfOCsjSMq7TmNs8AGj%2B0r8c9W%2BB3hbRG8IeCYPEnibxZ4qs/D3hXRLzVjYW1zezh5Gae5WGZoIYoIbiZ3WKVtsJCozECvENY/4KX%2BNpfCIu/AP7NEOs%2BJfD2heKdX%2BJPh2fxr9mTRofD%2BpNpt5FZz/Y3/tCeeeOY2qultHLHEWlktyyqfTfil%2Bzz8bvi/4C0O38U/GvwvbeNPCXiLTfEHhbxHpPgG4jsbfUrdZI5/PspNTkee3nhmnhMS3EbokpxKWAYeY6x/wTP8cReEBaeAf2mING8S%2BIdB8VaR8SfEU/gn7Smsw%2BINSbUryazg%2B2J/Z88E8ky2rO9zHFHKVljuCqsAD6n8MeI9H8YeG9P8XeHrsXGn6rYxXljOFI8yGVA6Ng8jKsDz618/8Awm8Vft3/AB10fXvHfhf43/CTQNLt/iF4q0PS9Kv/AIP6pf3EVrpevX%2BmQtLcJ4igWWR47NXZlijXc5AUACvbbz4T/DXVfhknwZ8Q%2BB9L1bwqulxaa%2BgaxZJd2s1rGqokUkUoZZFAVeGB6V4v%2Bw54X8NeDf2Ur3wP4O8P2WkaNY/Gnxxp9jpOl2qW9tbWg8eatEII44wFjjEfyBVAAXgDFAHR/wDCD/8ABQv/AKOg%2BDP/AIYfVv8A5qKP%2BEH/AOChf/R0HwZ/8MPq3/zUU/X/ANqD/gn74U1298LeKf2iPg5pup6bdyWuo6dqHi7SoZ7WeNikkUkbyhkdWBVlYAgggjIqp/w1/wD8E4P%2Bjovgj/4W2j//AB2uV47Ap2dWH/gcf/kj3ocK8U1IKcMvxDTSaaoV2mnqmmqDTTTTTTaaaabTTLH/AAg//BQv/o6D4M/%2BGH1b/wCaij/hB/8AgoX/ANHQfBn/AMMPq3/zUU/QP2oP%2BCfvivXbLwt4W/aI%2BDmpanqV3Ha6dp2n%2BLdKmnup5GCRxRxpKWd2YhVVQSSQAMmr37VfxL%2BFX7KH7N/jX9pLxT8Ll1bT/BXh641W603SNEE1xcrEudiLHGxGTjLkbUXLuVVWYa0q9Cum6c1K3Zp/k2efjsrzPK5xhjcPUpOSulUhOm2trpThBtX0uk1fS99DO/4Qf/goX/0dB8Gf/DD6t/8ANRR/wg//AAUL/wCjoPgz/wCGH1b/AOaiqGk/tZ/sf6543l%2BGul%2BGtfl8Q23hxde1DRf%2BFNa6t1p9g8d28Ut1G2nhrVpfsNysUcwSSZ4xHGru6KztM/ac/Zg8TSeHf%2BEV0ywQ6z46m8K3th4l8Jajo%2Bo2N9Ho11q5hayubATJKbW3WZVuFt43hk8xZWYxRzanCXf%2BEH/4KF/9HQfBn/ww%2Brf/ADUUf8IP/wAFC/8Ao6D4M/8Ahh9W/wDmoqh8FP2v/wBhf9oLRpvEfw28TaX/AGdF4f0/XUv/ABF4Ru9FgudLvmZbW9gk1G2gW5t5HUoJYi6h8ISGIFXf2jfiI3wr1/wf8NPhB8APDXi7xn42vbxNK0vWtVXSLGC1s7Vri5uZ7pLO6dAP3MSqsLlpLiPOxA7qAO/4Qf8A4KF/9HQfBn/ww%2Brf/NRR/wAIP/wUL/6Og%2BDP/hh9W/8Amorntf8A2pPhbB%2Bxb4a/a/8ACfwUsrweLx4dt9G8O6oYLPyL/WL%2B00%2BCC7uRHItvHFc3iLNKqybVjkKLIdqtxVr%2B24viK%2BsvhZ4J/Zm8BXnxKTxd4g0DxFo1945W20LTp9Htbe7udmqDTXknZoLy0dIzaRt803meUIHNAHq3/CD/APBQv/o6D4M/%2BGH1b/5qKP8AhB/%2BChf/AEdB8Gf/AAw%2Brf8AzUV5J4d/4KJfA34q%2BKvhr4Z%2BCvgX4asfH/gfw/4rP/CwfHFtoEws9YaUWtpp8K2ly2p34W2uWeBfKRdsWZf3y43/AIM/tf8AgT4p/HP4m/DXV/AXwk0fSPhjqmqWuriP4grdeJBDZiMm9l0ZdNXyLZw5xJ9pboMBt3AB3n/CD/8ABQv/AKOg%2BDP/AIYfVv8A5qKP%2BEH/AOChf/R0HwZ/8MPq3/zUVgfsTftDeEv2xfDOpeOrT4c/DKy0pIbObTrPw345t9c1WzE6PJ9n1e1is449Mu1QREwLNcDc0i7/AN3lvcPBg2aGYFJ2Q313FECc7US5kVV%2BgUAD2FAHl3/CD/8ABQv/AKOg%2BDP/AIYfVv8A5qKP%2BEH/AOChf/R0HwZ/8MPq3/zUV7NRQB4z/wAIP/wUL/6Og%2BDP/hh9W/8Amoo/4Qf/AIKF/wDR0HwZ/wDDD6t/81FezUUAeM/8IP8A8FC/%2BjoPgz/4YfVv/moo/wCEH/4KF/8AR0HwZ/8ADD6t/wDNRXs1FAHjP/CD/wDBQv8A6Og%2BDP8A4YfVv/moo/4Qf/goX/0dB8Gf/DD6t/8ANRXs1FAHjP8Awg//AAUL/wCjoPgz/wCGH1b/AOaij/hB/wDgoX/0dB8Gf/DD6t/81FezUUAeM/8ACD/8FC/%2BjoPgz/4YfVv/AJqKP%2BEH/wCChf8A0dB8Gf8Aww%2Brf/NRXs1FAHjP/CD/APBQv/o6D4M/%2BGH1b/5qKP8AhB/%2BChf/AEdB8Gf/AAw%2Brf8AzUV7NRQB4z/wg/8AwUL/AOjoPgz/AOGH1b/5qKP%2BEH/4KF/9HQfBn/ww%2Brf/ADUV7NUV5f2OnQm51C9igjHWSaQKo/E0bDScnZLU8e/4Qf8A4KF/9HQfBn/ww%2Brf/NRR/wAIP/wUL/6Og%2BDP/hh9W/8Amor0WX4ufCiCY28/xO8PJIv3kfWoAR%2BG%2Bob342fBnTY/O1H4ueGIEx96bX7dB%2BZes3Wor7S%2B9f5nZHLcyk0lQm7/ANyf/wAgcB/wg/8AwUL/AOjoPgz/AOGH1b/5qKP%2BEH/4KF/9HQfBn/ww%2Brf/ADUVt6/%2B2h%2Bx74VQv4l/as%2BG9hjtd%2BN7CMn6Ay5NcL4g/wCCr3/BObwyWGo/td%2BEZNvX%2Bz7t7v8ALyEfP4VzVMxy6l8daC9Zx/8Akj2MHwXxlmH%2B65ZiJ/4aFZ/j7K34m/8A8IP/AMFC/wDo6D4M/wDhh9W/%2Baij/hB/%2BChf/R0HwZ/8MPq3/wA1FeaXP/Ba39ga%2Bnay%2BHPjXxR41ulODaeE/Aep3D59AZIEUn8ajH/BUnxh4j4%2BGX/BNf8AaK1VW/1VzqvgmPTYJfdZJZjx74rm/tzKH8NZS/w3l/6TGX5ntrwr8Q4q9fLqlFf9PnTof%2Bn61F/%2BSs9P/wCEH/4KF/8AR0HwZ/8ADD6t/wDNRVv9lb4jfGnxhrHxQ8CfHTX/AAvq2qeAfiFFodnqvhPw1c6Tb3VrLoOj6mrPb3F7eMsiyajKhYS7SsaHapznyb/hsX/gpZ4rOzwD/wAEprmyib7t94s%2BLGm2uz6wKhc/ga6H/gnXrHxk8Qa38edY/aA8G6T4f8XTfGaA6to%2Bh6gbu1tgPCPhsRBJSAXJhEbN6MzAcCujDZhQxdRxpxl3u4Sivvklc8fO%2BEc04fwsa%2BLq0Hd8vLTxNCtNaN3cKM6jS0s23o2l1PpOiiiu4%2BXCiiigAooooAKKKKACiiigAooooAKKKKACiiigAooooAKKKKAOW%2BNvgix%2BI3wo13wbqWv69pcF3YkvfeGdfutLvo9hEg8q6tJI5oSSgUtG6sVLDIzXkP7NviPRvGX/AASw%2BGfjn9oH4taxp1lefA/w/qvjLxpL4suLC9VP7Ktp7q7l1FJFnidsOzziRZPmY7gTmvbviD8Ovh98WvB198O/ip4E0bxN4f1SNY9S0LxBpcV7Z3aBg4WWGZWSQBlVgGB5UHqK47Sf2Mv2PtA%2BH1z8JNC/ZR%2BGtl4UvLJrO88M2ngXT49PntmmEzQvbLCI2jMqrIUK4LqGxkZoA5X/AIJ/af8AEKP4Sa34j8U3Hi1PDeveL7nUfhppXj3Vru%2B1vTvDrwW6QJeTXrvcl5Z47q7SO4dpoYryKGTa0RRfNPit8SvEd/8A8FjPgR4T1f4U%2BINBtIPhp8R7TT9b1W5057XXFMvhmVntVtruWdFTyBuFzFAx3rtDYbb9MfCj4J/Br4D%2BHZvB/wADvhJ4Y8GaTcXrXlxpfhTQbfTraW4ZERpmjt0RWkKRxqXIyQijOAK%2BXv2wtXOl/wDBY39jOAthb7wx8ULdj/246M4H5oK5sXPko83nH8ZRX6nt8PYf61mfs/8Ap3Wf/gNCtL/20%2ByKKKK6TxAooooAKKKKACiiigAooooAKKKKACuJ8V/CL4T/ABog1fwt8Yvhh4d8WaZb%2BIIrqDTvE2iwX8Ec62UKLKsc6MocK7qGAyA7DOCa7avJ/jv%2B1b8Av2PvDWo/Ev8AaL8e/wDCO6JfeK4dMtb3%2By7q733T6ekqx7LWKRxlIZTuKhflxnJAOOInh6dCUq7SglrzWtbzvpb1GsfLKn9bjWdJ09edScHHpdSUouO%2B6kt99RP%2BGB/2Ff8Aoyz4S/8AhudM/wDjFH/DA/7Cv/Rlnwl/8Nzpn/xivJP%2BH5v/AASy/wCjov8Ayydc/wDkKj/h%2Bb/wSy/6Oi/8snXP/kKvF%2BvcK/8APyh/5T/yNP8AiKWJ/wCh7P8A8LKv/wA0H0l8NPhF8J/gvoUvhb4O/DDw74T0y4u2up9O8NaLBYQSTsqo0rRwIqlyqIpYjJCKM4ArxX9pX9hfxX8ePF3xK1Pw/wDGfTdC0f4q/C%2Bw8IeJdOvfCEl9cQtZS6nJbXdtOt7CqDOpyCSJ4pN4iTa8ZLE%2Bk/s0ftW/AL9sHwJd/Ev9nTx7/wAJFoljq8mmXV7/AGXdWmy6SKKVo9l1FG5wk0R3BSvzYzkEDH%2BJX7Zfww%2BFfizxL4F8S6Drz6x4cl8MRx6fa2sDSat/b9%2B%2Bnae1pumUODdxTROXMezyXY/IAx9rDzw9ShGVBpwa05bWt5W0t6Gbx8s1f1uVZ1XU153Jzcul3Jyk5bbuT230PKv2vv8AgmPL%2B1Z8erf4y3PxS8O2cUMvhia3j1/4dprGpaPJo%2BrHUCNJvXu4xpqXeRFcbYXdwoIcYCjY8O/8E7F0HXdV1s/F8Tf2noPxM03y/wDhHtvlf8Jd4ih1nfn7Qc/ZPK8jbx5%2B7fmLGw818ev%2BCsfw78HeG/j34G%2BGmlW8fxL%2BEfwl8W%2BL9J0zW9a0nULTUDosPzmaHS9SmurZPOltcw3S2kzpMdgyknl95q37eGg%2BH/iP4k%2BFOm/DrxX418S6f8QLnw/pfhnwno1nBdGG20TTNUurky3moJDLDEuowgys0Ds88cKQOyiSXYR6p8Gfh94j%2BFngTSPh3qfimy1Sw0Hw/p2mabJBpL20x%2Bz2ywySSsZ5FfeyBlVVTYDtJk%2B9Xjnwd/YV8c/B/wAa2fiCy%2BOmmahpngrQvEWm/CLRrrwY6jQhq13Fcs2oSLfA6mLcQRW8SxizPkeYHZ5GEy9l%2BxB%2B0jqn7T37Mvw8%2BLvizRzZ654t8A6b4i1GKx0S8t7CM3SE7IpJgyhgVbMJkaVAVLgBlJ878E/tjfGzXvjzoMurab4WHw28Y/GLxJ8NtB0%2B3025XWrO/wBHtNUlfUZ7prkwywyz6JfxC3W3RkWW3cyv86gA3PFH7DfiDxH8dL/xuvxktoPA/iD4haJ488U%2BDP8AhGC13eeINKtLO3tZIb/7UFt7UnTdNmeA28jtJakiZRK4qDQf2Vv2vPDfjv42ePNE/az8E2F58U7UN4cubH4Q3Pn%2BGL6G1is7O5Yza1JHfCOCLLxmOISzEPmNAYWyv2mv2xvjb8K/in4xf4eaZ4Wbwb8JtF8N6n47ttZ025m1HWI9UvriKaOxmjuY47Rra1t/PDSRXAnklEWIQpkPN/C39u79oD4k/th6h%2Bzy9p4Z06xudf8AF2jaZHdeB9TRNPOlOUtLxNYe7Wx115gEkm06zEVxaiSRJXRraUkA7P4X/wDBOjwxafBbw38Ivj94sXXZvB3iC41jw34h%2BHN94g8HXwvbiCWK6vbq5ttamubu8nNzdtLO04En2l8pkknhND/4JH3/AIJ/Z08Mfs3eAP2lLi10o/Ayy%2BFXxPvtY0G51K58S6LB5u6Sykm1DfpU3%2BmaikQLXUNvFeLFHEFgi219f/bR/bG%2BHPhH4x634l1r4e%2BJrXwJ8RvDHgzQvEXhz4a6pCBd3jWZ1WY6YurXVxqxtk1G2jjtbSWOaWeGeJdzAAY7/wDBRP8Aab1H4aeA/Hct/wCGvDeiahe%2BNYPHHj24%2BB3iTWrTTk0fUYbWzlutMtb6O58PmeJp5po7%2BZjbGBkkKFWwAev3P7Aep3nxik12X40iH4er49vPG9n4LsvDzQ39trlzpcthIw1IXOPsoaea7WEWwkW4ZT55jURVxOlf8EptT1b4cy%2BBPi38dNH119J8A%2BHvCngm40v4eiwhtINE1OHU7C41GBr2ZdSmF1a2zOqm2iKCZUjj89iNrxJ%2B33Ld/tjS/Afw78UPCmg%2BG/D154dstZ1LVPAmq6sNbvNWVJoIItRtbiKy0dZY5raK3lujMbmeZo40/dfvJ/2b/wBqT9oT4tfEn4hfDD4geMPCvh3xTZ6n4wt/APgjWfhBr2kyy2ena5cWGn6qdRu77yNatXthZTzfYY0AN9H88eVDABYfsA/Fzw7rsnxt8H/tIaBp/wAWL3xrqmv6n4hb4cySaFJHf6VY6ZPZxaUNSWWJPL0vT5w5vHY3MLyPvWVo6xx/wSvuNB0fTfhn4B%2BPaWngdvDXg3RvEmn614T%2B3avcJ4cuPPtpbLUFuoksXmb5pN1vOFkZ5IvKdia6DwR%2B0J%2B014j8LfFzw/eePfBN3qvww8S22np4%2B8M/CbWdU0/UP9DhuLyzj0S11OS7mu7dpPKfyLqQbnA2B45Ih5bdf8FTPiLqHw/%2BHFrc634X8Ha74n8OeJ9f8Q%2BJdQ%2BG2t6/aWmm6Rqq6cszaRYXMd3YecHFxP8AapwNN8t4LgtL0APTvG3/AATY0L4sfGbxb8WPiL4j8JWD65oGu6XpN38Pfh4mh61EdTtHsje3%2Bpm6nk1G6t7WSWKFwkCKZpGaNiU8ubw1%2BxB8c9B8K/ETUJv2h/Br%2BN/G/gHRPBtlq9p8K5rXRtN0vTTe7GfTY9V8y4uXTUbpTILqKNdtvtiCxMknI%2BOP%2BCkXibwJ%2B1XH8M9a8VeA4tAk%2BIvhrwppPhMafcvr/iO01mzsWi8SWVyLryRp6Xt99mI%2BzyITaSg3CyOkQ0/ih%2B258bf2WPE/xMi%2BON74I8aaX4F%2BC%2Bq%2BP71fBeiXWkyaC1vMq2WmX0tzeXSStep9pMU4WDb/AGdOxi2su0A0vGX7AvxQ%2BI37KngP9mjx/wDFL4W6xP4R0c6Xc%2BKNT%2BCBvJo4khS3t7vS4rrVZV02/ihU/wCkOblGkIfyVUeWW%2BJP%2BCZXh8eNlHwv8eaZ4b8F6jdeC7nxNoEnhQ3epXEnheeCTTBaaibpBaIUtbaKQPBO21GMTQvIz1i%2BHP21Pjd4m8M%2BG/h94W%2BKnw/1n4jeNfiZb%2BF7Wa4%2BFGu6Ja%2BGFOiX2tSS3emahfpeXytaaZc%2BROslrHOZIyAArZp/Ez9r39si4/ZCsfjz8JvEfwz0zxZH4yu/AFx4V13wHqGpwaz4qg8TzeHA1tNDq9q1tZvdQtNh0meODczOdhNAHX/Dn/gnhqfw0%2BIVtrmg/FTQR4b8NXfi%2B/8AAWgDwJtnsrzxDcyXN0NQuftmNRto5JpNkCRWxZRH5kkjxiSo/h7/AME5ZPh38Ffi14K8J%2BPvCfhTxZ8V9BGjTa/8N/hsmhaXoNokE8MH2LTFu5SJUa7vJzJJcOzTXBY4RVjGDq/7eXxs0v8Ab4X9m6TSNBTw4vxEtPDAt5fCGpA3FvN4eXUzf/2%2BLj%2BzobkTs0K6O8RvHjRZQdkqsF/4J6ft5/Gn9qj4lTeEvifo2hWsNz4Di8RLaWXhLUdIk0qdrxrdrKC5vbiWLxHbKB/yFbBUtSVTH/HxGAAfS9x4S8OeAPg5J4E8H6VFYaRonhk2Gl2MAwlvbQ2/lxRqPRUVQPYV5/44/wCUhfwv/wCyM%2BPP/Tt4Qr1Lxz/yJOsf9gq4/wDRbV5b44/5SF/C/wD7Iz48/wDTt4QoA9mooooAKKKKACiiigArwX9j/wD5N61f/svfjn/1YGq171Xgv7H/APyb1q//AGXvxz/6sDVaAOs1/wDYm/Yy8V67e%2BKfFP7I/wAMdS1PUruS61HUdQ8A6dNPdTyMXklkkeEs7sxLMzEkkkk5NVP%2BGB/2Ff8Aoyz4S/8AhudM/wDjFed%2BP/8Agsp/wTc%2BF/jvW/hp46/aO%2Bw634d1e50zWLL/AIRDWJfs91bytFLHvjtGR9row3KxU4yCRzWR/wAPzf8Agll/0dF/5ZOuf/IVeDPG8MKbUp0b3d7%2BzvfrfTe97mn/ABE3E0P3SzyceXS31uqrW0tb6wrWta1la1rK1l7NoH7E37GXhTXbLxT4W/ZH%2BGOm6npt3HdadqOn%2BAdOhntZ42DxyxyJCGR1YBlZSCCAQcitb9pr4J2X7Sf7Onjv9nvUNfl0mHxv4R1DQ31WCASvZ/ard4RMEJAcoXDbSQG24yM5rxrwD/wWU/4JufFDx3ovw08C/tHfbtb8RavbaZo9l/wiGsRfaLq4lWKKPfJaKibndRuZgozkkDmvcfjr8YfDn7Pvwe8R/G/xlpmo3WjeFdKl1PWU0qFJJ4rOIbp5grugZY4w8rDOdsbbQzYU%2Bhga2W1oSeDlBpPXk5bX8%2BVLW3cmXElTiT97PGvE8ml3VlV5b62vKpUtfeyavvbqeR%2BIv2JviF4/0H4uy%2BPfj7axeJPi38O9N8M32teE/Cs2mw6bJZjUQtzFFJfTyMji/AaIzA4ibEg8wbOG%2BCP/AASmi%2BEXiKHxND8SfCFht%2BLg8cvoPgL4Xx6BpEDDwjeeHDZ21ql5KYQ32oXbSs8jM6MpHzh09F%2BM/wDwUQ%2BDvwW0vxdrmqeG9T1Cx8FeLbPw3rGojxBoOlWj39xpsWohIbjV9Ss4ZNkE8AYB9%2B%2BYKivskKcja/8ABR3SfFPj6O/8E3FpceAtc8GfCTXfCOqxaFJPeXX/AAmHiDVtNKzI93CscYis7MqwBeBpJnZLnCwV3EnV/A39ijxD8Ao/Al34R%2BLllc3/AIG%2BBulfDq3l1Dwu7Q3f2OSBjfNGl2rLvWFgIQ52FwfMbbtbrP2jfgF44%2BKniDwf8TPg/wDE/TvCPjPwTe3j6VqmteGn1exntby1a3ubae1S6tXcH9zKrLMhWS3jzvQujeYeDf8Ago0fiZ%2B0V4P8EeEPg/4msvAPiPwV4s1%2B08WapoSzt4hh0m406GOfS47K5mnMb/apW8qe3SeYNA0KEE59J/ak%2BNHxA%2BHujeBfC3wcTSIfFHxJ8b2/h3QtQ8T6XPcWWm5srzUJ7me1jmt5ZttrYXAWISxEyMgLKM0AU/Dv7LGseAv2XbX9lbwZ4p8L6hoemeB7DQrH/hO/BLaxHeTx7hd3OoQLeQR3cdwm3MCCHY5kbe6uqJ53Z/8ABNeLw3%2Bzy/wX8I3vwke81bxlN4k8Rz%2BJvgfDqOjJdvAlvEdM0kX8UenG3ghtooC8lxtSD5xKzs56HSv2uvim/wCwT41/aPf4d2WseOPAv/CV6ZfaJo8NwLPUNT0PUr7TZZoYwZJ1t5ZLIziIGSVY32Zdxk8n8Ef2zPiP8evB/wATNH8FftNfCC6v/hhqFld6h8UtL8DXt94Z1HR59PN0zR2yayrJLDIk8byLezRjyDlQ7NHEAR%2BKf%2BCUXhiLQrbwB8I/iZa6B4Z1D4ZeGvAXjKLVvCw1LU9Q0nQ7meezks7wXMIsrtjdXHmTvFcAt5TpGjxBm9D8ZfskeOfjF8b9J8ffHL4o%2BHNU8K%2BF5tbfwz4Z8P8AgeXTr3ZqVnNYyRX1%2B9/P9qjFvcSZWKC2DyiKRuY1WvBZ/wDgpN8fdF%2BF/wAJNN%2BKPiLwV4H8ZeM/hbd/EDxjrl18K9d1mw0fTPPhFtE2mWN8Z7QLFcq11dz3fkWzQENu85Nn0EfjR8Z9P/bx8NfBO81fwff/AA88Z/CrxB4k0Q6fpFyuqW11pd74et90l2bpoJoJhrMrBEt0ZfJjPmNuIoAy/wBkH9iTXP2aPEkHiHxT8VtN8Rf2J8OdI8CeFYNG8IDR1t9F06SZ4Dd4uZxd3Z83BlQQRLhvLgj8x8%2B2%2BD/%2BQTN/2Fb7/wBK5a1Ky/B//IJm/wCwrff%2BlctAGpRRRQAUUVX1bV9K0HTZtZ1zU7eys7ZC9xdXcyxxxKOrMzEBR7mk2krscYynJRirt9FqyxRXzV8S/wDgrh%2Bwv8PtfPg3QfitN4517nbonw50qbWpnxwQHt1MOc4GDIDmudP/AAUH/a3%2BJf7r9nH/AIJdfEi6SXiLUPiVqVp4ZiQf89DHMXZ174BBI6V5k86yyMnGNTna6QTm/wDyRSX4n3WH8M%2BOK1CNetg3h6cldTxE6eGi13X1ipSk15qmz63qtq%2Bs6R4f06XWNe1W2sbSBd091eTrFHGPVmYgAfWvk9/h7/wWN%2BNw8jxn8dfhZ8HNLmPzR%2BCNBm1vVEj7qz3hEIbtujPHUc1Y0b/gjx%2BzX4h1KLxR%2B0/438ffGfWo23refELxdcywQv38q3gaNET0Rt4FT9fx9f8A3fDP1qNQX3Lnm/uRv/qpwpleub51Tb/594SE8TL51JfV8PH/AMDn8%2BvXfE7/AIKsf8E8fhFdPYeLv2rfC81xGSHg0CWTVnDf3SLJJcNnjBwa4z/h7/8ACXxT%2B7%2BBf7MXxx%2BIjP8A6ifwx8NpxbH0LSztHsX3219BfC/9nD9n74JWqWnwg%2BCXhTwyqDG7RNAt7Z292dEDMfckmu0o9jnVT4q0If4YOX4zl/7aL%2B0/DLBaUMtxOIa61sVGkn/25hqDa9Pav1Pkn/hr7/gpd4/O34Vf8EwW0a2f/V6p4/8AiTZWpX/etYlMo/OlGhf8FsPHH73UfHf7P/gaB/uR6Vpeqancxj/aM5EZP04r61oo/surP%2BLiakvRxgv/ACSP6i/16wOG0wGSYKn5zp1cRL769dq//blvI%2BS/%2BGPP%2BCmPif8AeeN/%2BCrk1lG33rHwv8I9Mtwn%2B7Mzlz%2BIo/4difE7xDz8Rf8Agp5%2B0LeZ/wBYmgeKodKVvbEULce1fWlFH9i4B/HzS/xVKj/9vQf8RO4tp/7u6FH/AK9YTBw/FYab/FvzPkv/AIc2fsy6lz45%2BKvxg8Tsf9Y%2Bv/E68kL/AF8spU1n/wAERv8AgmfDMLvUv2eZ9SuO8%2Bp%2BMtXmY/UG62n8q%2BrqKf8AYWTdcPB%2Bqv8Am2J%2BKviXa0c4xEF2hUdNfdTjTX4HzbF/wSB/4JsQwiBP2TPDxUdC9xdMfzM2TUtn/wAEj/8Agm9YyebB%2ByT4ZY%2BkxnkH5PIRX0bRWiyfKF/zD0//AACP%2BRxy8R/EOSaecYrX/qIrf/LDxbQf%2BCcf7A/htxJpn7HPw4LD7rXfhG1uCPcGVGxXdeH/ANnz4CeEwo8K/BDwhpm37v8AZ/hq1hx9NkYrr6K6KeCwdL4KUV6RivyiePjOJuJcw/3rHV6n%2BKtVl%2BEqrX4DLa2trOFba0t0ijUYWONAqj6AU%2Biiuk8Vtt3YV4z%2By/8A8lv/AGjv%2ByzWP/qFeF69mrxn9l//AJLf%2B0d/2Wax/wDUK8L0CPZqKKKACiiigAooooAKKKKACiiigAooooAKKKKACiiigAooooAKKKKACiiigAr4U/4KLan/AGJ/wVo/Yh1PdtzceObXP/XaHRYsf%2BPV911%2Bef8AwVz1P%2Bxf%2BCkv7DmqbsZ8c6xbE/8AXa%2B8PRf%2BzV5uby5MvnLs4/8ApdM%2B18O6H1njDD0f5o119%2BFxf%2BR%2BhlFFFekfFBRRRQAUUUUAFFFFABRRRQAUUUUAFZXh/wD5C2uf9hRP/SS3rVrPvfDGkX929/ILmKWQASPa380G/AwCwjdQxA4yecUAaFFZf/CH6T/z96r/AODy7/8AjtH/AAh%2Bk/8AP3qv/g8u/wD47QBqV5T8Vf2PPhV8YP2jfh7%2B054ov9Zi1z4ci8/s/T7G7jSw1QzRlYjfRNGzT/ZmaSWDa6eXJIzfNxj0L/hD9J/5%2B9V/8Hl3/wDHaP8AhD9J/wCfvVf/AAeXf/x2gD5q1D/gkl8ENY0vxD4Z1j40fEm50PW/h74z8GadoT6lpq22g6X4nmim1L7JssRI8wkhQxzXL3DLyHMgwB2vir9gnwDrPj7Vfiz4S%2BLHjfwl4s1Txnc%2BIj4i8O3dgZ7ZrnSbDSrmyjS6s5ojaywabaOyvG8iyxh0kQhQvsH/AAh%2Bk/8AP3qv/g8u/wD47R/wh%2Bk/8/eq/wDg8u//AI7QByf7OX7PHh/9mL4V%2BFvgr4D8a%2BIL7w34Q8J2Wg6RY63NbTN5dsGVbmSVIEkkndSquS3lkRqVRWLM3L6B%2Bw98OvDvxzX41Wfj3xXJb2niTUfEmieCprq0OjaRrt/ayWt5qluothc%2BfLFcXYKSTvCrXlwyxK0hNeqf8IfpP/P3qv8A4PLv/wCO0f8ACH6T/wA/eq/%2BDy7/APjtAHkPxI/YP8CfFXxpZ%2BNfFvxZ8as82laJp/jfT7afT4rXxrHpN293ZHUkWzypWeWZn%2Bxm1WVZWikDRBY1k8AfsJfDz4ffFuy%2BJ1n8SvGN/p%2Bi%2BKdc8S%2BF/BOo3dm2k6Hq%2BsPdPf3lv5dql07SG%2BvtqT3EscYvJRGiDYE9a/4Q/Sf%2BfvVf/B5d/wDx2j/hD9J/5%2B9V/wDB5d//AB2gDyq5/YZ%2BGTfAyD4J6X428VafNZ%2BOZ/GVl4ytLu1Orwa7Nqk2pyX26S3a3kYzzyr5ckDxGJvLKFQMZ0/7B9rH8LZ/hR4d/ak%2BKGjWms3ur3njfUtOl0U3niufUpA1zJdyTaY4t2xuRPsK2vlo2FxtQr7N/wAIfpP/AD96r/4PLv8A%2BO0f8IfpP/P3qv8A4PLv/wCO0AeOeJf%2BCe/wa1zxZY6ro/inxPoOgRHw82seBtGurVdK1t9Dljl0t7oy20l0DCYYFPkTxCVII0lEijabuofsZvr/AI21P4jeK/2nviXqmtv4b1nRfCOoTS6PA3g6LUvL86fTxbadEr3CeTAI5bwXRQQgc75d/q3/AAh%2Bk/8AP3qv/g8u/wD47R/wh%2Bk/8/eq/wDg8u//AI7QB4/8IP2JtW%2BBfwItPgF8N/2vvidY2OmTQto%2BsDT/AAwb2yjUP5sfGjCG4895GklluIpZnkJk8wMWJzNT/wCCb3wwl8FaV4X8K/F/x94d1KysfEVnq3i3SL7T21PXbfXr4X%2Brx3bXFlLEPtF4BPvgiheFhiBoUJQ%2B5/8ACH6T/wA/eq/%2BDy7/APjtH/CH6T/z96r/AODy7/8AjtAHm91%2Bx94Uv/GPhXUb74meK5fCPgmSwn8L/DIvYLodldWUHk2twStoL2ZosCRUluniEqpJ5e5EK8v8OP8Agnb4L8F%2BG/iT4E8afHjx/wCPPDnxZi1YeNdE8YLopF7LqAEcsxurLTba8Z47cC2hV52SGBUjRAIotnuH/CH6T/z96r/4PLv/AOO0f8IfpP8Az96r/wCDy7/%2BO0AeIv8A8E8vCF7BeeIde/aA%2BI2peO59e03VrD4n3c%2BkjWdMmsLe4trZII49PWx8tYLy%2BiZZLV/MW%2Bn3liwK9J4a/Ys%2BFPhjQvhn4ct9Z165tfhh4mvfEmnJe3kTnWNZu4L6Oe/vyIh50rSajeXPyeWgnlDhfkQL6V/wh%2Bk/8/eq/wDg8u//AI7R/wAIfpP/AD96r/4PLv8A%2BO0AeR3/AOwd8ONR%2BM0/xVufiP4wOk3fjaHxhefD77XZHRJ9eitI7WO/ObX7YCFiik8kXItzLGJDEWJy/wDZs/YX%2BH/7M%2Bv6TrmifE3xn4lTwv4MHhHwNYeKryzkh8M6F5kDmxtTbWsMkqn7JaKZbp55itrEDJ94t6z/AMIfpP8Az96r/wCDy7/%2BO0f8IfpP/P3qv/g8u/8A47QAnjn/AJEnWP8AsF3H/otq8u8cf8pC/hf/ANkZ8ef%2BnbwhXqJ8GaG%2BFna%2BmTIJiuNWuZEb2ZWkKsPYgivLvHH/ACkL%2BF//AGRnx5/6dvCFAHs1FFFABXmH7W3xk8ZfBj4YWF98NbPTJfEviTxhovhrQJNbgklsrW41C/htjdTxxSRvLHDHJJN5SyRmUxCMPHv3r6fXG/Hj4JeGv2gfh1L8O/E2sanpe3UrHU9L1rRJo473S9QsrqK7tLuBpY5I98c8MbbZEeNwCjo6MykA8Tv/ANsf4z%2BGf2Q/iJ8SNd8PeHr3xz8N/G83hbW76w026TRgFvraL%2B2WtvOknS1hsruO%2BngEzMghmjExwJa8uuP%2BCofxL1XwFJa%2BAfGHgzxHeaX8aJvBGqfEjwb8N9Y8R6bf248Nx67FeadoOnXz314G%2B0RWrmC5mSMwzXBJiHH0z8Of2WB8Kfh7q3gbwX8evHEF1rkl5e6l4mlXSZdQm1a6unuJ9VJewMPnkuIxF5X2VIoo0SBQtcxL/wAE/PBsenadq2h/HT4gaZ45sfFl54juPihaz6W%2Bs6jf3VkthObiOawksHja0it4FjW0VI0tYPLCGMGgDqPgB%2B0lpvjf9jzwd%2B1J8btZ8NeFINY8GWOteIrw67CNL09poUdz9pd9ixhmxlnO37pYkZPF/sM%2BJ/DXjX9li48YeDfENjq%2Bkap8b/Gl3pmq6ZdpcW13byePtVaOWKVCVkRlIYMpIIIINewfBP4QeD/gD8J9B%2BDfgFbr%2ByfD2npaWkl/cma4mxkvLLIcb5Hcs7NgAs5IAHFeefsPWFpqfwF1%2BxvoBJFJ8ZfiMGUkj/mdtaIORyCDggjkEUAe2UVlf8IfpP8Az96p/wCDy7/%2BO0v/AAh%2Bk/8AP3qv/g8u/wD47QBqVU17QtH8UaHe%2BGfEWmxXmn6jaSWt9Z3Cbo54ZFKPGw7qykgj0NVv%2BEP0n/n71X/weXf/AMdo/wCEP0n/AJ%2B9V/8AB5d//HaAPn7wT/wTB%2BFHw0%2BEfgP4YfDz41fEfStQ%2BH2t6nqml%2BOV1PT7nW7yW/SaK6F1Jc2UkEm6KbyldYUljSGIRum0k2PA3/BMT4B/D/w14e8K6J4t8YSW3hrw18PNDsGu9Stnke28G6rd6ppbSN9nG6SWe8lW4bgOioIxCwLt7z/wh%2Bk/8/eq/wDg8u//AI7R/wAIfpP/AD96r/4PLv8A%2BO0AeIfDb/gnd4F%2BFPxE0v4geEvjr8RFXwv4b13QvAehXF5pslh4Ws9VmtppktENjvlMT2kHkm6e42Kmw7k%2BWvSPjn8A9E%2BO/g3S/Dmr%2BNNd0TVNA1q11jw94s0B7VdR0zUIAyrcxCeCW3YtHJNE6SQvG8c0ilMHjp/%2BEP0n/n71X/weXf8A8do/4Q/Sf%2BfvVf8AweXf/wAdoA4v4bfs22Hwi%2BGEPwr%2BHvxV8VWFqmnautxqJNhNeXWqaldNeXGtSPLaMpvftMtxMAFFsXuZN0DgRhOZuf2FfAGu/BX4g/B3x38T/GXiOb4qtt8f%2BLtUubGPVNWt/IitjaH7NaRW0FubWL7P5cMEY2SysMSyPKfWv%2BEP0n/n71X/AMHl3/8AHaP%2BEP0n/n71X/weXf8A8doA82/aL/Y68G/tE31tq8vxF8VeDr6PwzqHhvUL7wbNZRSajot6YTc6fL9qtZwsbNBGVliEc8RDeXKm991W8/YysD%2B0f4O/aI8O/H/x1osXgXwrc%2BG9B8DabBop0ZNLuX097m2czabJeMJX0uxYuLoOvk4jZFdw3qf/AAh%2Bk/8AP3qv/g8u/wD47SHwfpAGTeap/wCD27/%2BO0AatZXg/wD5BM3/AGFL7/0rlr51%2BOv/AAUT/ZB%2BDniU/DPwt4n8S/Efx1IxS28DfDW%2BvNWv3kHBVzFL5cJBI3B3DAHO01y2l%2BDf%2BCpH7VsES654k0j9mrwMwzDo2hbNZ8UXUZyf31w2IbYtkNlMSKSQwNeXUzbDe0dKgnVmt1DVL/FLSEfnJvyPu8F4e508JHG5tOGAw0leM8Q3BzXelRSliKt%2BjhSUP%2Bnh9X%2BPPiL8P/hZ4cn8YfEzxvpPh7SbYZn1LWtRjtYI/q8jBR%2BdfMWsf8FW9D%2BJ2sT%2BD/2Df2dfGPxt1OCQxTavpdv/AGXoFvIONsmo3ShQc9MKVYA4atPwP/wSC/Y90nxBF44%2BMVj4m%2BLXiOI7v7c%2BKniSfVnJzkgwsVgZc9mjb0r6Z0TQ9F8NaTb6D4c0e10%2BxtIxHa2VlbrFFCg6KiKAFA9AKjlznFfE40Y%2BXvz%2B9pQXyUjpVbw2yJXpU62ZVV1qXwuHX/bkJTxNReUqlFdz5OT4Pf8ABWr9oRvtfxW/aY8HfBbR5eRoHw20L%2B1dRKH%2BCW8uztjcf3ocjgcVa0z/AII7fs1a/qEOuftHfEP4l/GC%2BikEob4ieObm4gWQf3YYTEoUdkO4Y45r6xoprJcBJ3rp1X/fk5f%2BS3Uf/JSJeJ3FlBOGVyp4GG1sLSp0Xb/r6ozrvzbr3f4HNfDH4NfCP4KaEPDHwg%2BGWg%2BGNPAGbTQdJhtUcjuwjUbj7nJPrXS0UV6kIQpxUYJJLolZfcrHwuJxOJxleVfETlOcndylJyk33cpOTb9WwoooqjAKKKKACiiigAoqrrOu6J4csH1XxDrNrYWsf%2Bsub24WKNfqzEAV5jrX7ef7EHh3UH0rXP2wPhla3Mf%2Bsgl8c2AdD6EebwfY1jVxGHofxJqPq0vzaMK2KwuG/jVIx/xSivzaPWKK8Zm/4KLfsDwLuf8AbN%2BGJ/3PG1k38pDWJ4k/4Kq/8E6vClsbvVP2vvBkqjtpuom9b/vm3Vz%2BlYSzPLYK8q8F/wBvx/8AkjllnGUQV5Ymmv8At%2BH/AMkfQNFfJUn/AAWl/Y316Rrf4LaR8R/iXODhbfwJ8Ob%2B4dm9B56Qg/nQv/BSf4/akPtnh/8A4JYfHCSzfmB9RsrW0mI/2onkJQ%2BxNc/9uZU/gq83%2BFSl%2BMYtficv%2BseSS%2BCsp/4FOa%2B%2BEJL8T61or5K/4eJ/tSTHbZ/8Epvi4x/6bXtlGPzLUf8ADdv7eWp/J4X/AOCSHjGZuw1b4h6XYj83Bo/trAdOZ%2BlOp/8AIB/rDlnTnfpSqv8A9xn1rRXyV/w1X/wVdvPntv8AglFploD0W7%2BOeluR9dkVB/a1/wCCpuh/vPEH/BKK11CHq0mifGvSyyD02SR5Y/Sj%2B2ML/JU/8FVP/kQ/t/BfyVf/AATV/wDkP0PrWvGf2X/%2BS3/tHf8AZZrH/wBQrwvXmH/Dev7cTny4P%2BCSnjoyDhhJ4401VB9mxyPeui/4J1%2BOvH/xK1v48%2BNvij8IrvwJrt78ZoPt3hS%2B1OK8lsdnhHw3Gm6aH5H3xqkgx0EgB5Brow2YYbFz5KfNe19YTivvlFL5bnVhM0wmOqOFLmulfWE4r75Rivle59J0UUV2nohRRRQAUUUUAFFFFABRRRQAUUUUAFFFFABRRRQAUUUUAFFFFAHLfG3wRY/Eb4Ua74N1LX9e0uC7sSXvvDOv3Wl30ewiQeVdWkkc0JJQKWjdWKlhkZr5mf4vfE/Tf%2BCKPw/%2BK6fEXVofEOrfCPwX/b3jOa%2BaS/tYr6PTodR1RriQlvOjgnuLgzMSQybyeCa%2BqfiD8Ovh98WvB198O/ip4E0bxN4f1SNY9S0LxBpcV7Z3aBg4WWGZWSQBlVgGB5UHqK57wF%2By7%2BzN8K/C8vgf4Yfs6%2BBPDeiz6bNp8%2Bj6D4RsrO1ktJmLTW7RRRKhidiSyEbWJJINAHn37FFxq2h%2BNfjV8G4PGOva94b8CfEy303wteeJfEN1q15bQzeH9Iv57N728kluLkR3N3OwaWR2QTCLOI1UfH//AAWN8aeJNT/bc/Z1udW%2BEfiHQbPwV4ivb2w8Q6rc6c9prA/t3wshktltruWdAm4Z%2B0RQH5xtDfNj9Hfhr8K/hh8GPCFv8Pvg98ONB8J6BaO7Wmh%2BGtHgsLOFnYu5SGBVRSzEsSBySSea%2BA/%2BC9H%2Bg6x4C8V9P7B8E63qG7%2B7t8VeCEz/AORK8nPf%2BRPXfaN/ucX%2Bh%2BgeFOviRlUP56yh/wCDI1af/uQ/RqiiivWPz8KKKKACiiigAooooAKKKKACiiigAooooAKKKKACiiigAooooAKKKKACiiigAooooAKKKKACiiigAooooAKKKKACiiigArxnxx/ykL%2BF/wD2Rnx5/wCnbwhXs1eM%2BOP%2BUhfwv/7Iz48/9O3hCgD2aiiigAooooAKKKKACvGf2D/%2BSIa5/wBlm%2BI//qa63Xs1eM/sH/8AJENc/wCyzfEf/wBTXW6APZqKKKACiiigAooooAKKKKACivP/ANo79qL4GfsnfD%2BT4kfHbx7a6LYAlLOByXub%2BbHENvCuXmkPHCjgcsQASPjv4wfEf40ftZ%2BFz8RP2vfig37Mv7PUzf6N4fvdUS08U%2BMIuoW4b71rE6/8u8YaRgWBVwVkHmY7NaGDk6cfeqWvyppWXecn7sI%2Bcnr9lSZ9dkvCVbHZdLN8yrxweXwbUsRVvytreFGF1OvU/u0/djdOrVprf2r45/8ABTP4e%2BF/HcvwF/Zb8Cal8Z/iapKyeGvB8q/Y9MOcb7%2B/IMNqoPB5YqeGCZzXJr%2BxF%2B2D%2B1%2Bw1X/goL%2B0Y%2Bi%2BGp/m/wCFQ/Ce4ksrFkP/ACzvb4/vrrIwGQHbkZRxXL/A39tT4J%2BAvB0fwn/4JQ/8E%2BvGXjzSonwusadpf9g6LdOON82p343yy/7UqliB9707j/hYn/BaXx9x4a/Z0%2BCXgBH/AOhw8XXuqyRj/twAUt%2BleIsRSx/vYmU6y/kpRn7P0cvd9p85cv8AdsS/FThzIP3XBmEnzL/mLnS9tiJPvTk4/V8MuyoqpUXWvfVe%2B/Av9mj4Bfsz%2BGh4R%2BA3wm0XwvZFQJv7Mswstxjo00zZkmb/AGpGY%2B9dpeXtnp1pJf6hdxQQQoXlmmkCoijqSTwB718mt%2BzR/wAFYviCNnj/AP4KL%2BGPCFvJxcWXgL4YQTsVPVUnvHEkZ9GAzTrP/gjr%2Bz14uu49X/af%2BK/xP%2BMV4riQp488cXLWiOOf3cFsYgi56ISw%2Bor1aeJxigqeFwnLFbczhBL5R53%2BCPgsbn/EWc4qeJq0KlSpN3lOvVV2%2B7fNVqP%2Bvl3Pxa/4Ki/8E/vgncNY%2BOv2qPC7XSNtey0K4fVZ0b%2B60dksrIfZgK4X/h8L8GvER/4s3%2BzJ8ePiAjf6u48JfC%2B4kiI/vFp3jIHvivefhH%2Byz%2Bzb8BIUj%2BDHwJ8J%2BGXRcG50jQoIZ393lC%2BY592Ymu9rT2OdVNZVoQ8owcvxnJf%2BknL9X4hrazr06flCm5fjUmr/APgKPkr/AIeMftNa383gj/glR8YbhT9069NZ6YfxEjtihv2zP%2BCletj7L4U/4JLX1vJJxHda78XtKgii/wBp1CFiB6DmvrWij6hjn8WLn8o01/7aw/szMpfFjp/KFJf%2B2SPkf%2Byv%2BC1XxT4vfFXwP%2BFdjJ0bTbG91vUofqJsW7Y9qVP%2BCbf7RHjg/bvjt/wVR%2BNd/eHknwBc2vhiAHviKBJBivreij%2Bx8NP%2BNOdT/FOVvui4L8A/sDB1P94qVKv%2BKpO33RdNfgfJX/DorwNcHdrX7bv7SupN3a%2B%2BLkjE/wDfMIo/4c8fA8/NJ%2B0j8eHk/wCerfFS53f%2Bg19a0Uf2HlP/AD5X3y/WbD/VvI%2BtBffN/nUZ8lf8Og/hjF/x4ftg/tFWnp9n%2BLMwx%2BcRo/4dL6bb/NpP/BQ/9qezYdPI%2BLxx%2BRtjmvrWij%2Bw8p/59L75r8qgf6uZH0oJekpr8qiPko/8EtfGb/6NL/wU6/aZNt3RPiDGsv8A388jP6UH/gkD8LdS48bftd/tEeJVP30134sTSB/r5cSV9a0Uf2HlT3pX9ZTf51GH%2BrmSPejf1lUf51GvwPlPR/8Agir/AME7rPUE1bxL8HtS8TXcf3J/E3jDUrvHrlDOEOfdTXp%2Bh/sAfsMeHNPXTNK/Y8%2BGSxJ0M3gixmc/V5ImZvxJr12itaWVZXR%2BChBf9ux/VM3o5Jk2H/h4amv%2B3I/m03%2BJ5hF%2BxL%2BxlA2%2BD9kb4YIfVPAOnD/2jW14c/Zt/Z18HXIvfCPwD8FaVMOkuneFrSBh%2BKRg12tFdEcJhIO8acV/27H/AOROqOBwMHeNKCflGK/KKEjjSJBFEgVVGFVRgAelLRRXQdQUUUUAFFFFABXjP7L/APyW/wDaO/7LNY/%2BoV4Xr2avGf2X/wDkt/7R3/ZZrH/1CvC9AHs1FFFABRRRQAUUUUAFFFFABRRRQAUUUUAFFFFABRRRQAUUUUAFFFFABRRRQAV%2Be/8AwXc0f%2B2/CMtntz5fwI8W3H/frxT4Flz/AOOV%2BhFfEH/BXvR/7cXULLZu2fsv/Em4x/1y1PwhLn/xyvOziHtMpxEe8J/%2BkyPsvDnEfVPELJ6/8uKw7/8AK1P/ADPs3wdq48QeEdK14Nu%2B3abBcbvXfGrf1rSrhP2XNY/4SH9mX4da/v3fbvAmkXG7PXfZRNn9a7uuyjP2lGM%2B6T%2B9J/qfN5nh/qeZ18P/ACVJx/8AAZzj/wC2hRRRWpwhRRRQAUUUUAFFFFABRRRQAUUUUAFFFFABRRRQAUUUUAFFFFABRRRQAUUUUAFFFFABRRRQAUUUUAFFFFABRRRQAV4z44/5SF/C/wD7Iz48/wDTt4Qr2avGfHH/ACkL%2BF//AGRnx5/6dvCFAHs1FFFABXmH7W3xk8ZfBj4YWF98NbPTJfEviTxhovhrQJNbgklsrW41C/htjdTxxSRvLHDHJJN5SyRmUxCMPHv3r6fXG/Hj4JeGv2gfh1L8O/E2sanpe3UrHU9L1rRJo473S9QsrqK7tLuBpY5I98c8MbbZEeNwCjo6MykA8Tv/ANsf4z%2BGf2Q/iJ8SNd8PeHr3xz8N/G83hbW76w026TRgFvraL%2B2WtvOknS1hsruO%2BngEzMghmjExwJa8wj/4Kt67qHhMeCvCvjzwX4h8Tv8AGWfwNZ/EHwp4F1bWNF1GCLw7D4gbULLR7C6mvL0%2BVcJaeTDdMDIks/m%2BUhWvpf4c/ssD4U/D3VvA3gv49eOILrXJLy91LxNKuky6hNq11dPcT6qS9gYfPJcRiLyvsqRRRokChawT%2BwZ4Ii8L2ken/GDxva%2BNLTxvN4ub4pRyaY%2BuXGrzWDabLPIsli1iytp7C0EP2QRJFFFsRWjR1AO2%2BH/xx8B3X7Ouj/Hrxt8ZvCdxoUugQ3%2BpeN7f/iVaRIpUb7gLdTSG0jLZ/dyys0Z%2BRmLA1xP/AATp8T%2BGvGv7N194w8G%2BIbHV9I1T4t/EO70zVNMu0uLa7gk8Z600csUqErIjKQwZSQQQQa9K%2BCPwe8I/AH4VaL8IPArXj6bolsY4rjUbjzrm5kd2klnmfADSySu8jkAAs5wFGAOD/YP/AOSIa5/2Wb4j/wDqa63QB7NRRRQAUUUUAFFFZPjnx54J%2BGXhW88c/EXxbpuhaNp8RkvtU1a8S3ggX1Z3IA9OvJ4pSlGEXKTskTKUYRcpOyW7eiNavh7/AIKD/wDBaX4Sfsw3V58IPgNJp3jH4gpJ9mupWlZ9K0OUnbi5eLLTzA5/0aHL/KwYoRg8J8fP2s/2tP8AgqPd337P/wDwTJ0S90X4dLO1n4v%2BNGsiXT4Lv%2B/bWbFfNCbSN2xTM28ArEhLSe0/sF/8Ef8A9mn9iaGz8Y3lmPGnj2FAW8Wa1arts3xz9it8lbYf7eWlOTl8HbXy%2BIzDM82n7HK/dp9az281TX2n/e%2BHs3ueplWcZFg6CxNKisZXfwxnzRwsO0qsk41MQ%2BqoUXCm9PbYnlfI/lT9nH9mf/gop%2B0v8QI/2jNZ8GrpPim8AaH4u/G3T1lutIiPzBNC8PrmKz2k5WScHeMspjLMtfYvwZ/4JYfs/wDgrxcnxe%2BPGq6x8ZPiBw0niz4kXP20QNnOLa0bMNugPKjDMn8LCvpmiuvA8PYDCJOpepK97z1V%2B/LtfzfNLzWx52dV8x4ozCOOz2vLE1IpKCkoxpUoraFGhBRo0YR%2BzGEHbdylJuTbDDFbxLBBEqIihURFwFA6AAdBTqKK94QUUUUAFFFFABRRRQAUUUUAFFFFABRRRQAUUUUAFFFFABRRRQAUUUUAFFFFABRRRQAV4z%2By/wD8lv8A2jv%2ByzWP/qFeF69mrxn9l/8A5Lf%2B0d/2Wax/9QrwvQB7NRRRQAUUUUAFFFFABRRRQAUUUUAFFFFABRRRQAUUUUAFFFFABRRRQB49/wAFBz45H7DnxYPw3/tP%2B2P%2BEC1P7P8A2Jv%2B3bPs7%2Bb9m8v5/P8AK8zy9nz79u35sV85/A/xp%2Bz34a8B/tLad%2Bx9e6fN8M7nw69x8O9D%2BE%2BoW8I1HVIPD4bVV0EQ5jMoDWAZoVZUu3kLjzTLn7tooA%2BDf%2BCNOk%2BEPDvjb4i6J8O/Gfw68UaP/wAIR4Lml8QfBvRf7M8N/bjHqiT2slsJp1bWECRyXdz5ivLFcWIeC3MSiTb/AG7Iviv4r%2BNHijwv418EeHrDRH/ZR%2BK0PhjUNK8Tz3l3fq03hkM1zbSWUKWjKdm0JNcbsnJXaN32vXzl%2B1Jo/wDwkP7UvhzQNm77d%2Bzl8S7fbjrvvvCa4/WsMVD2mFqQ7xkvvjJfqerkOI%2Bp57hMR/JVpS/8Bq0pf%2B2nU/8ABO/V/wC3P2DPg1f7txHwy0SFj6mOyijP6qa9kr5y/wCCR2r/ANuf8E3fhJe792zwybfP/XK4lix/45X0bXPlc/aZZQl3hD/0mJ63HmH%2Bqcc5rQ/lxOIX/ler/mFFFFd58oFFFFABRRRQAUUUUAFFFFABRRRQAUUUUAFFFFABRRRQAUUUUAFFFFABRRRQAUUUUAFFFFABRRRQAUUUUAFFFFABXjPjj/lIX8L/APsjPjz/ANO3hCvZq8Z8cf8AKQv4X/8AZGfHn/p28IUAezUUUUAFFFFABRRRQAV4z%2Bwf/wAkQ1z/ALLN8R//AFNdbr2avGf2D/8AkiGuf9lm%2BI//AKmut0AezUUUUAFFFfG3/BRD9tLxDDrl9%2Bx5%2Bzb47tdC8RjSG1H4n/EaZz9l%2BHuhbQZLh2Xn7ZIpAhjB35dSMMyMOPHY2jl%2BHdWp6JdW%2BiX9WSTbaSbObFYn6vGKjBznOShCEVedScnaMIRWrlJtJL5vRM6b9sz/AIKaeCP2f9Yvfgz8EtDg8e/E2CykubzR4b1YdN8OQKMteatdkiO0hQEMVLBjlQdgdWr4x/Z8/ZD/AGof%2BCwPxUg%2BPP7ZXxe1W/8AhHpF%2BW0u1sIZdOsdckUkNHplqdrRWoOVa8kAmkUBRtfcY%2B%2B/Yy/YR8PftZaTZX8fgDUvB37OVlfR32n6Nqjsuu/FW9Rty6trE33/ALKWy8cGQp3ZUAYav0s0rStL0LTLfRNE02CzsrOBIbS0tYVjigiUBVRFUAKoAAAAwAMV8zQwOL4iqqvjnagtYwV1GXZvZyj5ytz7qMYWcvuMRkOB4MoOGcKGJzaW9LSeGwP91rWGJxq%2B1KanQwz92FOpXTlSo%2BCPA/g/4a%2BEtP8AAXgDw1ZaPouk2q2%2Bm6Zp1usUNvEvRVVeAP5kknk1q0UV9jGMYxUYqyR8lOc6k3KTu3q292wooopkhRRRQAUUUUAFFFFABRRRQAUUUUAFFFFABRRRQAUUUUAFFFFABRRRQAUUUUAFFFFABRRRQAV4z%2By//wAlv/aO/wCyzWP/AKhXhevZq8Z/Zf8A%2BS3/ALR3/ZZrH/1CvC9AHs1FFFABRRRQAUUUUAFFFFABRRRQAUUUUAFFFFABRRRQAUUUUAFFFFABRRRQAV4r8Q7WG9/4KAfDSyuFzHN8FfHyOPUHVfCANe1V4z44/wCUhfwv/wCyM%2BPP/Tt4QoGm07o81/4Ih3Uz/wDBND4faVdtmfTLnWrOb2KaveYH/fJWvrCvkv8A4Iz/AOg/sreIPCfT%2Bwfix4m0/b/d23zPj/yJX1pXlZF/yJcOu0Ir7rr9D77xWS/4iZnEl9rEVZ/%2BBuNT/wByBRRRXqnwAUUUUAFFFFABRRRQAUUUUAFFFFABRRRQAUUUUAFFFFABRRRQAUUUUAFFFFABRRRQAUUUUAFFFFABRRRQAUUUUAFeM%2BOP%2BUhfwv8A%2ByM%2BPP8A07eEK9mrxnxx/wApC/hf/wBkZ8ef%2BnbwhQB7NRRRQAV5D%2B2v8SPH3w8%2BE%2BkWXwy8StoWseLPH/h3wxD4iS0hnfSYtQ1O3t57mOOdHiaYQvIIvMR4xK0ZdHUFG9ernfix8J/APxv8BXvwz%2BJuhtqGj37wSTQxXs1tLHLDMk8E8M8DpLBNFNFHLHLE6yRyRo6MrKCAD50sPjL%2B1RP%2ByH8ULDwb4g1HxV47%2BH3xGu/DNv4otdBtZdSvtLivrVpr%2BOzhiS3nv4NOuZcRJEI5rm1AEIEnlV4t40/4Ki698N/gJ8SPh7rfx/l8O%2BKrP4k3vhT4f/Eb4xaNY%2BHr77BH4c0zW59RurK4t7SAXUQ1Bre3t2tkM0jWRkh2vMR9n%2BFv2Ufgv4I%2BHt18L/CFn4k03SL20nhuhZ%2BPNYjupXnupLqe7N0Lv7R9tknlkke98z7S5b5pSAANPwF%2Bz38JPhr8Mr/4Q%2BEvDc6aJqxu21gX%2BsXd5d6jJcgiea5vLiV7m4mcHBlkkaTAUbsKMAHNfs5/tCaP45/Yt8DftH634ol8URan4E03UtV1TwppUmqyXty1vH9oMNtpsUjyv53mAxwxkqQwCjaQMT/gnT4hsPFv7N194p0q3vorbUfi38Q7m3i1PS57K5RH8Z60wEtvcIk0DgHmORFdTkMoIIr2LwZ4Q8O/D3wfpPgHwhp32PSdD0yDT9LtPOeTyLaGNY403OSzYRVGWJJxkknmvK/2D/8AkiGuf9lm%2BI//AKmut0AezUUVyvxu%2BM3w/wD2efhPr3xp%2BKWtLYaD4d097u/uDgsQOFjQZ%2BaR2Koi9WZlA61M5wpQc5uySu2%2BiW5FSpTo03UqO0Um23sktW36I8l/4KD/ALXOu/s5eAdM%2BHnwasItW%2BLHxDu20n4e6KxUiOYj97qE2eFt7dD5jM3y5ChsLuZfjv8AYx/ZC0b9rnXpfBVlrF3rXwV8M%2BJP7S%2BJPje7djcfGLxajbpGaRvmbS7eQsEXO1uvzO7PHysGgfHf9t79oY6Vrjz6V8SvjJoqz%2BIGjO//AIVb8NS2Us1yMJfX6sN2QDsl5VBO%2B39VPhf8M/BHwa%2BHmj/Cv4baBDpehaDYR2emWMA%2BWOJBgZPVmJyzMeWYkkkkmvjsPTnxFmEq9VWoQ0SfXZ2frpKp5clP/n4n9pw5CXB2VU%2BKMRG2ZYuD%2BpRlvhMLK8Xi3F7YnE%2B8sO2k6VFOqrSlTa2rW1tbG1jsrK2jhhhjCQwxIFVFAwFAHAAHAAqSiivsz49tt3YUUUUCCiiigAooooAKKKKACiiigAooooAKKKKACiiigAooooAKKKKACiiigAooooAKKKKACiiigAooooAK8Z/Zf/5Lf%2B0d/wBlmsf/AFCvC9ezV4z%2By/8A8lv/AGjv%2ByzWP/qFeF6APZqKKKACiiigAooooAKKKKACiiigAooooAKKKKACiiigAooooAKKKKAPHv8AgoOfHI/Yc%2BLB%2BG/9p/2x/wAIFqf2f%2BxN/wBu2fZ3837N5fz%2Bf5XmeXs%2Bfft2/Nivn39nTxZ8NdF8O/tFaH/wTv1vwnH4YvtHEvwa03wdcWw0y88Rw6CrXp0yOM%2BVIiSNp3neSCguGm3/AL0y19x0UAfEn/BH7xT4DK%2BIfAPw78N/C%2B/ig8E%2BGdW17xx8MtHkgkuNUuRfJPpWszyzTSXurWxgEs08rpM327MsEBK%2BZ6pf6l8V7v8A4KbeC7Pxt4L8PafoVv8AB7xwPDWo6V4nnvLu/Q6t4S8xrm2ksoUtCMJgJNcBtxyV2jd9D14z44/5SF/C/wD7Iz48/wDTt4QoA8x/4JN/8S7T/wBoPwm3H9k/tPeLIol9ImNs6H8cmvrSvkv/AIJw/wDEq/aI/ao8KdPJ%2BNT6ht/6%2BrSN8/jtr60rycj0yyEezmvuqVEfoHij73HOJq/8/I4ef/geEwkvzuFFFFesfn4UUUUAFFFFABRRRQAUUUUAFFFFABRRRQAUUUUAFFFFABRRRQAUUUUAFFFFABRRRQAUUUUAFFFFABRRRQAUUUUAFeM%2BOP8AlIX8L/8AsjPjz/07eEK9mrxnxx/ykL%2BF/wD2Rnx5/wCnbwhQB7NRRRQAUUUUAFFFFABXjP7B/wDyRDXP%2ByzfEf8A9TXW69mrxn9g/wD5Ihrn/ZZviP8A%2BprrdAHs1fmx%2B3N%2B0j4e/aQ8aeKviBrKLqHwG/Z2u/MvbXJMHj7xvkJaaYMf622gldBJjIO5iQysrL9Y/wDBSf8AaC1P9m79jfxf428KtI3iXU7VdD8IQW/%2Bul1S9b7PB5Y7uhdpcdxEa%2BX/AIM/s66N4x/aA%2BFP/BP7w9bwT%2BBP2aNEsvFHxRnt1Bg1fxhcIXtoHI4Yq7S3BzkFS8bfdFfLZ/Xq16scDS3dr%2BcpNqCf91csqk%2B8YJbSd/S4WyTBcU8Vxw2Y3/s/B03i8ZbTmpU5L2dC/R16ihTS3fNtZM%2Bkf%2BCdH7Luv/AX4S3XxH%2BMNw%2BofFX4lXK6/wDEfV7lQJRdSLujsVx9yK3RvLVB8obeVwCAPoWiivocJhqWDw8aNPaK%2Bb7t923dt9W2bZ/nmO4kzmvmWMa9pVleyVoxWijCC2jCEFGEIrSMIRS63KKKK6DxwooooAKKKKACiiigAooooAKKKKACiiigAooooAKKKKACiiigAooooAKKKKACiiigAooooAKKKKACiiigArxn9l//AJLf%2B0d/2Wax/wDUK8L17NXjP7L/APyW/wDaO/7LNY/%2BoV4XoA9mooooAKKKKACiiigAooooAKKKKACiiigAooooAKKKKACiiigAooooAKKKKACvGPHMkY/4KH/C6EyKHb4L%2BPSq55IGreD8nH4j8xXs9fFX7eXxpm%2BBn/BVP9kDW7q68rSvEumeOfC2qnOA326Tw6tuCfT7VHbnn%2B7WGIrww1J1J7K34tL9Uc%2BLxNPB0HVnsmr/ADlGP5yR0P7Ff/Ep/wCCj/7XXhboE1fwfqCD1%2B0aRIzEfitfWlfJf7P/APxJv%2BCvP7Qem9P7a8CeFNQx/e8mGSDP64r60rgybTCzj2qVV/5Uk/1P0jxJ9/PsPW/nweBl/wCWlKL/ABpsKKKK9Y/PwooooAKKKKACiiigAooooAKKKKACiiigAooooAKKKKACiiigAooooAKKKKACiiigAooooAKKKKACiiigAooooAK8Z8cf8pC/hf8A9kZ8ef8Ap28IV7NXjPjj/lIX8L/%2ByM%2BPP/Tt4QoA9mooooAK8Q/b%2B8SeItC%2BCejaRonivUtAtPEnxL8K%2BH9f1zR9Qks7qz06%2B1q0trgRXMTK9s8yyfZhMjK8f2jcjI4Vh7fWb4x8GeD/AIieFr/wP8QPCmm67omqWzW%2Bp6PrFjHdWt5Cww0csUgKSIR1VgQaAPlPwhF%2B0D44/Y1%2BK/wv%2BC/j/XtV1Hwv8V9S0DwlrN74qk/tXUdFtdUt2u7CPVLhzJ9rERv9Niu5ZPMSSKNnl3o0lcD4C%2BJOmX3wT%2BKmmfH5fjHpml%2BDfjc3hz4T%2BDdM%2BMOov4p1m5m0LS500htT07UWkv5xf3V%2BNr3k0NusbCaQJZu0f2Pb/s1/s52ngt/hva/AHwVF4dk0P%2BxZNAj8K2a2Tab5jSfYjAI/LNvvd38rGzc7HGSTWb4h/Y5/ZF8XeAdE%2BFPiv9lf4can4X8MzvN4b8N6j4HsJ7DSpHDB3trd4THAzB3BKKpIds9TQAnwfT43/Cv9lHwnbfGCxv8Ax78Q9D8FadD4pi0Ce0W41nVY7eNbloZLqS2gJaUO253iVuuFyFrk/wDgnTq1/r37N19req%2BGL7RLm8%2BLfxDmuNH1OSB7mxdvGetEwytbyywl0J2kxyOmQdrMME%2ByeFPCfhXwH4asfBfgfwzp%2BjaPpdqltpmk6TZJb21pAgwkUUUYCRooAAVQAB0FeS/sNXdtYfAbxDfXs6xQw/GL4kSSyOcBFHjTWySfYAUBsfN//BR/44eH7/8Aa98OaNr4S68Jfs7%2BD7v4oeL7Z2/d3WsY%2Bz6LZE9Fl891dQeqzfl7f/wS9%2BBGvfB79luw8Y/Ehnn8efEq8k8YeO764XEst/fYlEbD%2BHy4jGmzoGDkY3V8IfC7Tr/9tv4h%2BG9H1eBpLj9pb4sXXjzxtA/LWvgXw/K9vp1hMP7ss0ciK3cpH%2BP69ABQFUAADgCvkcjX9oZhVx8tr%2B7/ANvJW%2B6moLy535n1OAvkvhnRltXziq8VPusJQcqODg%2BtpyVbEW2fuO2wUUUV9cfLBRRRQAUUUUAFFFFABRRRQAUUUUAFFFFABRRRQAUUUUAFFFFABRRRQAUUUUAFFFFABRRRQAUUUUAFFFFABRRRQAV4z%2By//wAlv/aO/wCyzWP/AKhXhevZq8Z/Zf8A%2BS3/ALR3/ZZrH/1CvC9AHs1FFFABRRRQAUUUUAFFFFABRRRQAUUUUAFFFFABRRRQAUUUUAFFFFAHj3/BQc%2BOR%2Bw58WD8N/7T/tj/AIQLU/s/9ib/ALds%2Bzv5v2by/n8/yvM8vZ8%2B/bt%2BbFeG/sjfEP4T%2BBrr47f8MA6L4R8Q%2BD2htrz4R%2BC/COs2VlpWv6/b6LG9/baa%2B9bdY2dtOSeSM%2BXHPJM0hEnm19p0UAfE3/BI%2B08eeHfin%2B0V4X%2BIvwl8Z6Hrknj/AEfVPEmr%2BMLrSHl1HVrnw5pj3TbdO1G8WPL/AL1IwxiigmgiRsxtHHwn/BW/4cfGz4x/El7W98F6BpjeC/gr4z8UfDnWtF8TT3t/cT6drXhC6kea2ksoUtJPLjdFWOa43eaeVwN36KV4n8SLCy1X9vz4a6XqVqk9vc/BPx9FcQyrlZEbVfCAZSO4IJFc2Mw0cZhKlCW0k1963%2BTs/kcmPwkMfgauGltOLj6XTs/k7P5Hz/8ACn42aQf%2BCjvw3/aT1aFbfw1%2B0Z8CLOx8PXyP%2B7i1u2kW7ezkJ%2B63lPtXJyX%2BUAnOPuyvzU%2BC/wCzt4l%2BMf7BnxK/Yj0DUZbf4j/s3/FS%2Bl%2BGepF/9Iilgna%2B0ydWP3ROss0IJ4CkH%2BEV9r/sV/tMaP8Atdfs0%2BGPjjp1utreajZ%2BTr2m4Iaw1KE%2BXdW5U8rtlVtucEoVbvXh5DiZ3dOpvUXtF66Rqx9Y1I3/AMMkff4zEPi7w9yriKK/e0IQwWJj/LOkp%2Bwn5KpD2tN9PaUWvtJHqlFFFfSnxYUUUUAFFFFABRRRQAUUUUAFFFFABRRRQAUUUUAFFFFABRRRQAUUUUAFFFFABRRRQAUUUUAFFFFABRRRQAUUUUAFeM%2BOP%2BUhfwv/AOyM%2BPP/AE7eEK9mrxnxx/ykL%2BF//ZGfHn/p28IUAezUUUUAFFFFABRRRQAV8car8Sf%2BFR/8Esvjl4/juPKns/FnxYjspM423M3i/XYIT/39kSvsevzD/wCCgXxBs/CH/BJfxF4RvbgpF4y/aa8YaTcbTg%2BSnjvXL2Q%2BwC2hyfQ%2B9ebnOI%2Bq5TXq9oS%2B9qy/Fo4M0%2BsPLqsMOr1JLlgurnNqnBLzc6kUvNo63/gg18JLvWfC%2BvftR%2BIbPCRaPp/gPwZnlU0/TYkN7NEf%2BedxfGST2aNq/Q%2Bvnn/gk94I/wCFf/8ABOX4RaD5Oz7R4Sj1LbjGftsj3mfx8/P419DVjw/hlhcmoQ6uKk/WSTf5peiR%2Bg8f1KUeLMRgqD/c4TlwtJLZUsLFYeH3%2BylN/wB6pN%2BYUUUV7B8aFFFFABRRRQAUUUUAFFFFABRRRQAUUUUAFFFFABRRRQAUUUUAFFFFABRRRQAUUUUAFFFFABRRRQAUUUUAFFFFABXjP7L/APyW/wDaO/7LNY/%2BoV4Xr2avGf2X/wDkt/7R3/ZZrH/1CvC9AHs1FFFABRRRQAUUUUAFFFFABRRRQAUUUUAFFFFABRRRQAUUUUAFFFFABRRRQAV4z44/5SF/C/8A7Iz48/8ATt4Qr2avGfHH/KQv4X/9kZ8ef%2BnbwhQB4p%2B0deeM/wDgnx%2B2PrX7d8HhGbWvhP8AEbSdN0v4sf2VEz3nh67tMw2urGJc%2BbAI2Eb4%2BZcsepUNgt8Q/wDh3X8bfEP7TXhfTP8AhJv2ZvjTqFtr2pa94Yc3I8IatOgWW/MUYO%2BzuSUZnTJUgKACqpL90anpmm61ptxo2s6fBd2d3A8N1a3MQkjmjYFWR1YEMpBIIPBBxXxPrf7Of7TH/BPO/wBeu/2Tvh7bfFb4Ga5NLca38Fb%2BcnUdDEuftA0tpAyTwNlmNq4JOdqqSzPXy%2BYYKvhKntaLfJzOaaXM6cn8T5d505/bivei/ejfp0cM8RVOBsdiY4jDvFZZi1y4iim1OPvKftKbSbUoTXtISUZOnPmvGdKpUgvs/wAK%2BK/DPjrw3Y%2BMfBmv2eq6Tqdqlzp2pafcLLDcwuMq6OpIZSO4rQr80/2bfHeufDy51bx//wAEofGtp4t8JfbZLvxl%2By145uDp%2BteHp8/v/wCzjKS0B3ZzGd0WQwUyNtVfr39lv/goF%2Bz1%2B1TPN4S8P61c%2BG/G%2Bns0Wt/DvxdB9h1mwmUZdTBIQZVHXfHuABG7aeB3YDOsPi1GFRqM3treMv8ABLaX%2BF2mtpR0ufWZhwlTxGWSzvhuusdl27qQ/iUU/s4mkrypST91ztKhJq8asb8i9vooor2j4sKKKKACiiigAooooAKKKKACiiigAooooAKKKKACiiigAooooAKKKKACiiigAooooAKKKKACiiigAooooAK8Z8cf8pC/hf8A9kZ8ef8Ap28IV7NXjPjj/lIX8L/%2ByM%2BPP/Tt4QoA9mooooAK8Q/b%2B8SeItC%2BCejaRonivUtAtPEnxL8K%2BH9f1zR9Qks7qz06%2B1q0trgRXMTK9s8yyfZhMjK8f2jcjI4Vh7fWb4x8GeD/AIieFr/wP8QPCmm67omqWzW%2Bp6PrFjHdWt5Cww0csUgKSIR1VgQaAPlPwhF%2B0D44/Y1%2BK/wv%2BC/j/XtV1Hwv8V9S0DwlrN74qk/tXUdFtdUt2u7CPVLhzJ9rERv9Niu5ZPMSSKNnl3o0leVfCjx38Uvip8RrX9mL4h638SfBfw%2BP7QetaHpyXnxSu5NfktbXwZaaomkz67ZX0s8jLqE2ozMIryRlFj9maRkhlQ/b1v8As1/s52ngt/hva/AHwVF4dk0P%2BxZNAj8K2a2Tab5jSfYjAI/LNvvd38rGzc7HGSTUep/swfs0618Jbb4Bax%2Bzx4Gu/Alm6vZ%2BCrnwlZyaTAyuXUpZtEYVIdmYELwST1NAHC/sZfF74jeK/wBgbwH8XvEWkaz4616fwhBOg06S0jvvESL8kN2rXM0Fv5lxEEnLNJGh8wkEAgV%2BX3/BR34q6jr37NfgfwjqHhe%2B0kn4g/GPxDr2hanJA9zp0kvizVbC1jlNtLLC0iz3boTHI6ZB2uw5r9rtO07T9I0%2BDSdJsYbW1tYVhtra3iCRwxqAqoqrgKoAAAHAAr8NPiq7/G79r/XPh8pM1vZ/G%2B6%2BH8tuOVWXVPiRr2rM5HY%2BVbAE%2BmK%2BX4wnJZJKlHepKMfxv%2BiPd4Qw1LH8e5HhaqvCWMw8pr%2B5QlLFVP8AyTCs/ar4KeCl%2BGvwa8JfDpYwg0DwxYaaEH8PkW8cWP8Ax2unoor6aEI04KEdkkvuSX6Hk4rEVcZiqmIqO8pylJ%2BspSk/xkwoooqjAKKKKACiiigAooooAKKKKACiiigAooooAKKKKACiiigAooooAKKKKACiiigAooooAKKKKACiiigAooooAKKKKACvGf2X/wDkt/7R3/ZZrH/1CvC9ezV4z%2By//wAlv/aO/wCyzWP/AKhXhegD2aiiigAooooAKKKKACiiigAooooAKKKKACiiigAooooAKKKKACiiigDx7/goOfHI/Yc%2BLB%2BG/wDaf9sf8IFqf2f%2BxN/27Z9nfzfs3l/P5/leZ5ez59%2B3b82K8S/Y58X/ALGugar8cdI%2BD/ivwLYfAW8S2m0S30LULaHQpnh0WNteksREwjMEcLWZuGh%2BRJmnLkSmWvs6igD47/4JN%2BI/2bfiXJ8SfjV%2Byff%2BBNE8D%2BJr7TD4f%2BG3gS%2Bs9uj2kMMyR6pfWdo2zT73UMs5gZVkENrbiUCZZkTvb/Uvivd/8FNvBdn428F%2BHtP0K3%2BD3jgeGtR0rxPPeXd%2Bh1bwl5jXNtJZQpaEYTASa4DbjkrtG76Hrxnxx/ykL%2BF//ZGfHn/p28IUAezUUUUAeIftM/8ABPH9lv8Aap1SPxj488Dy6V4uttraf478KXbadrNo6jCOtxF/rCo%2B6JQ6jsBXyd%2B0t/wTd/bIns4112z8JftG6VpYB0XVNduj4b8d6aqnMa2%2Brw/u5yp53XBcFsHZ2r9IKK8fG5Hl2O5nKPLKW7jpf/ErOMvnG/aSMcFTxGUZoszymvUwmKW1WhN05/8Ab1vdmns1OEk1o7rQ/Irwv/wU0/bM/Yb1SHwT8VV8RazpMUgig8KfHfR5dM1kAf8ALO012BXtb1QAT59yEz0CgYr61/Z%2B/wCC3f7D3xlW10rxx4vuPh1rNwSq2njBFSzlYHDNDfxFrZ4wejs6Z64r6113QNB8UaVNoPibRLTUbG5TbcWV/bLNFKvoyOCGHsRXzP8AGP8A4Iz/APBOv4zSXF9e/s/Wnhy%2BuFIa%2B8GXcumFc9cQwsID%2BMZry45bxHlz/wBjxEakP5aia%2B6Sba%2B9ryPqqvFtbM4/8LmX0MTP/n9Q/wBirvznGEKuDqvq26FBt7tXbPpjQfEGg%2BKtIg8QeGNbs9SsLqPfa31hcpNDMv8AeV0JVh7g1br86LP/AIIOeOfgXq0viH9iP/goN498BymTzBYX8XnxXB7LK1tJAjjp96Jxx0rsNKl/4L2/AOCO01LS/hF8cLFJQDJFeHStTeMerOLW3Q47lZPqea7aeb4%2BkrYzBzj5wtUj/wCStS/8lZ83jMZlcJXoRrxXadKMmv8At%2BhUnB%2BvJG/RH3PRXw9qn/BYb4ofB43LftY/8EzfjB4Nt7Rys%2Bp6Bbx61YrjqftO23iI75Vjx61r%2BB/%2BC9v/AATS8XhF1X4uat4dlfpFrnhW84PoWt45UH1LY962jxDkrlyyrqL7TvB/dOMTgqZng6NL2tZunD%2BacKkI%2BnNKmoX8ue/kfZVFeI%2BD/wDgpP8AsB%2BOwn/CP/tgfD8NJ9yLUPEsFk7ewS4ZGz7YzXqPhX4ofDTx0qv4I%2BImhayGGVOlavDcAj28tjXo0sXhMR/CqRl6Si/ybNaGOwOK/g1Yy9JRf5SZu0UUV0HUFFFFABRRRQAUUUUAFFFFABRRRQAUUUUAFFFFABRRRQAUUUUAFFFFABRRRQAV4z44/wCUhfwv/wCyM%2BPP/Tt4Qr2avGfHH/KQv4X/APZGfHn/AKdvCFAHs1FFFABRRRQAUUUUAFfjN%2ByT4BfxH/wUajiubY7vEn7bPxO1SUEf8sPD8108Eh9vNvJlHupr9ma/NX9hjw1pOsf8FQ5NN0q3PleFYPit4gvJSc4v7/4jaxaEexMEaf8AAVFeDn1BV44dP/n7D8X/AJRZ9t4fYZf6wVcxf/MJhMdVX%2BJ4WVCD9VLE6H6VUUUV7x8SFFFFABRRRQAUUUUAFFFFABRRRQAUUUUAFFFFABRRRQAUUUUAFFFFABRRRQAUUUUAFFFFABRRRQAUUUUAFFFFABRRRQAV4z%2By/wD8lv8A2jv%2ByzWP/qFeF69mrxn9l/8A5Lf%2B0d/2Wax/9QrwvQB7NRRRQAUUUUAFFFFABRRRQAUUUUAFFFFABRRRQAUUUUAFFFFABRRRQAUUUUAFeM%2BOP%2BUhfwv/AOyM%2BPP/AE7eEK9mrxnxx/ykL%2BF//ZGfHn/p28IUAezUUUUAFFFFABRRRQAUUUUAFea/Fn9jj9lH46mWX4u/s6%2BDteuJs77%2B%2B0CA3XPXE4USr%2BDCvSqKzq0aNeHLVipLs0mvxTOzA5jmGWV/bYOtOlP%2BaE5Qf3xlF28tV5M%2BI/if/wAG/f8AwT28eKzeFdC8U%2BDn370Tw/4jeaIP1z5d8twuM/wjAxwMV4n43/4Nyru1uDefDn4%2BeG9YgT/U6P4t8C/ZBx0LXemTxSn8Fr9SKK8Kvwrw/iHd4dJ/3bx/LT8D3XxfmuIXLj6WHxa7YnC4Wv6%2B9PDqpr39rfzR%2BSh/4Jcft4fB/I0T4OxavFF/qz8Hv2gtV0KUqOmP7W81Vb9M0fZP2p/hX8vjW5/b58MeX9%2Bez1ey8aWkHu0iLF8g9cV%2BtdFcv%2BqeGpfwKso%2Btn%2BTgyPrvAOK/wB94awqffD1MXhH8lSxNSmv/Bf4H5PaR%2B2hrOj3qaO//BcDxl4Nvj93Sfib%2BzlG8h9mlMZVfc7q9R8FftEftY%2BJtifDr/gsj%2Bzf4plb/V22uaFa2Mz/AFiimDj8q/QfV9F0bX7JtN13Sba9tn%2B/b3cCyI31VgQa8t8a/sE/sS/EPe/jD9k34e3csn37keErSOY/9tY0V/1o/sTM6XwVr/8Ab9aP5TmvwF/ZXhBiv%2BXOZYV/9O8ZTrxXyrU6creXM35njWjaj/wWrubMaj4X8a/sr%2BKLTtOv9uRs/wBDCSlW/wDhY/8AwWl0n/kIfs3fA3Vsdf7K8YX0G76ecvFW9Z/4Ir/8E5r68OreH/gfd%2BHb4/dvfDfi3U7R1%2BircFB/3zVT/h0xovh/5/hX%2B3Z%2B0X4W2/6u0sviW01qPrFLE27/AL6o%2Bp51T/nf%2BGun%2BFSivzD/AFM8OcR/u3EeNo%2BVbDOS%2B%2BjUqffb5B/w0f8A8FcdM/4/f%2BCbXhHU8df7N%2BMNpDn6ebHR/wANlf8ABTax41n/AIJBXmB1ew%2BOGjT5/ARg0f8ADDP7ffhkZ%2BG//BWnxVEq/di8U/DrTNW3D0LSMp/HrS/8Km/4LLeF/wDkBftbfB/xTt6f8JN4DuLHf9fsbHH4UXzSHxfWF6ewn%2BSTD/iG2Aq/7pxbQflUVWk/n7TAyX/kzE/4b1/bgtP%2BQv8A8ElfHaY6/Y/G%2Bm3H/oIGaP8Ah4x%2B0zbf8hL/AIJU/GJPX7LLZzfycUv/AAl3/BbLw1/yGPhD%2Bz14mC/9ADX9Wsmcf9vQIBo/4ap/4KqeHjjxD/wSz0zWUH37jw/8aNOjx7iOaPcfpR9ZxMfirV4%2BtCL/APSUw/4hPxPP/ds8wlX0xWCX/p2ND9BP%2BHmfxhg/4/v%2BCXH7QC%2Bv2fw9by/ylFL/AMPSPGkX/H3/AMExf2mF9fJ%2BH8cn8p6D/wAFDv2qtE/5Hb/glN8WIMff/sLUrHU8fTy2XNH/AA9is9M%2BXxl/wT3/AGm9Hx9%2Bab4VmWEfR0nOfyo%2Bv23xsl/ioW/OAf8AEHvE%2BX8GrGp/gnl9T/0nFpv5IT/h61qMf/Hz/wAEzv2qx/1y%2BEwf%2BVzR/wAPZrNP%2BPj/AIJyftWxf9dPg6R/7c0v/D5r9k6w/wCRt8E/FTQMfe/tn4aXybfrsVqltf8Agt5/wTNkmFrqP7Q8%2BnTH/ljqPgzWIiPqfsmP1p/2lS/6GcF6wpr82hPwb8ZkrxwmJkv7uEhUX305zIv%2BHt3hxf8AXfsCftQx/wC/8IH/APkik/4e5%2BC1/wBZ%2Bw1%2B0wn%2B98IpP/j9dLpX/BXj/gm1rGPsn7WvhxM9PtUVzB/6NiXFdHpn/BSf9gDVsfZf2yPhymen2nxXbQ/%2BjHWto4tz%2BHMab/7dpf8Ayw82v4Z%2BK%2BF/i4bEx9cDP9Is84/4e6%2BBe/7En7So%2Bvwjl/8Aj1B/4K6%2BBe37En7Sp%2Bnwjl/%2BPV7Np37bP7GesYGk/tb/AAxus9Bb%2BPdOf%2BU1bth%2B0T%2Bz9quDpfx08HXOen2fxPaPn8pK3j9bn8OOg/SFP/5YeTW4S47w/wDF9rH/ABYOS/OKPnv/AIe5eD2/1f7Cv7TT/wC78IpP/j9H/D23w%2Bf9X%2BwB%2B1G/%2B78IG/8Akivp2x%2BIXgHU8f2b440e4z08jU4n/k1asFzb3KeZbTpIv95GBH6VssPmctsWv/BcP/kjzamV8RUXapinH1oQX5yR8m/8PaNOP%2Br/AOCdX7Vb/wC78Hj/APJNH/D2SE/d/wCCbn7WJ%2Bnwc/8AuqvrWiq%2BqZr/ANBX/lKH/wAkZfUc7/6Df/KNP/5I%2BS/%2BHsQ7f8E1f2sz/wB0b/8Auqk/4ewSn7v/AATS/ax/H4PY/wDbqvrWij6pmv8A0F/%2BUqf/AMkH1DOv%2Bg3/AMo0/wD5I%2BSh/wAFW75vuf8ABM/9q38fhIB/7c1U%2BCf7Vl1%2B05/wUL8Gfaf2Zvir8Ov7E%2BDPjLb/AMLN8KDS/wC0PO1bwr/x7YkfzPL8r5%2Bm3zY%2Bu7j7Arxnxx/ykL%2BF/wD2Rnx5/wCnbwhWtDDY%2BnVUqmI5o9vZwjf5pto3w2EzOlWUq2K549Y%2BzhG/zTbXc9mooor0D1Ar5%2B/4KXHTB%2BzXa/8ACaeX/wAIV/wsLwv/AMLI%2B0f8e/8Awj39s2n237Vnj7H5f/Hzu/d/ZvP8z93vr6BooA/O/UfFHw5f/gmZ8aPBHwx8T6fD4Km8cX7/AA7t9HuI2s7HwpPrcFub/wAhMl9Ajuft7uIwIXsIpUiYRlCPGJNJ%2BFdx8PbLwTqXxL%2BCVl4Ai/aG12aw8d654Nim%2BD16v/CJWjJHa6O18kMQ8%2BaWONBfsgv7TUJhI8j/AGYfrvRQB4T%2BxJqHxCt/%2BCdHwru/CXhCa68RQfDDR47LSvHXiGe3e4lS0iQG6vBaSSrvA37zbbvmGY1OQPlL/gijB4u8Zfti/tSeP/H%2Bi2Nhqeg%2BPtU0JrXTdQe8toJZvEuuXtzFDPJDC0qLKygO0UZYEEopOB%2BkdfFX/BGXwe%2BmD9pzx1dQ7Ztb/a28ewxt/egttXmRD/320o/CvOxtN1cVhl0U3L7oSt%2BLPs%2BGcbDA5FnTfxVMPCkv%2B38VRcv/ACWm0/Jn2rRRRXonxgUUUUAFFFFABRRRQAUUUUAFFFFABRRRQAUUUUAFFFFABRRRQAUUUUAFFFFABRRRQAUUUUAFFFFABRRRQAUUUUAFFFFABXjP7L//ACW/9o7/ALLNY/8AqFeF69mrxn9l/wD5Lf8AtHf9lmsf/UK8L0AezUUUUAFFFFABRRRQAUUUUAFFFFABRRRQAUUUUAFFFFABRRRQAUUUUAePf8FBz45H7DnxYPw3/tP%2B2P8AhAtT%2Bz/2Jv8At2z7O/m/ZvL%2Bfz/K8zy9nz79u35sV82fCLxL8PNO%2BGP7T3hr/gnJr/hqDw7qXhaZ/grYeBbq3WwuvEsXh3N4dJSE%2BW4SV9NMpgBVblpd%2BJTLX3pRQB8b/wDBMs/s%2BH4x%2BPf%2BGLTpH/Cp/wDhW/grzP8AhHNv2H/hKt%2Bs/wBpeZs4/tH7H/ZH2vd%2B93eT5n7zfXoN/qXxXu/%2BCm3guz8beC/D2n6Fb/B7xwPDWo6V4nnvLu/Q6t4S8xrm2ksoUtCMJgJNcBtxyV2jd9D184ftH6v8a9H/AG8PhPP8Dvh/4W8Rak3wj8drd2nivxhc6LBHB/anhIl0lt9PvWd920bDGowSd%2BQFIB9H0V4z/wAJx/wUL/6Nf%2BDP/h%2BNW/8AmXo/4Tj/AIKF/wDRr/wZ/wDD8at/8y9AHs1FeM/8Jx/wUL/6Nf8Agz/4fjVv/mXo/wCE4/4KF/8ARr/wZ/8AD8at/wDMvQB7NRXzjpP7R37dusfGfX/gdb/sofCRdU8O%2BF9I128uX%2BOuqeRJBqNzqVvCiEeGNxdW0ucsCoADx4LEsF6j/hOP%2BChf/Rr/AMGf/D8at/8AMvQB7NRXjP8AwnH/AAUL/wCjX/gz/wCH41b/AOZej/hOP%2BChf/Rr/wAGf/D8at/8y9AHs1FeM/8ACcf8FC/%2BjX/gz/4fjVv/AJl65fwD%2B0d%2B3b8RPFfjfwho/wCyh8JIbjwH4oi0LVZLn466oEnnk0rT9TDxbfDBJTydRhUlgp3o4xgBmAPo6ivGf%2BE4/wCChf8A0a/8Gf8Aw/Grf/MvR/wnH/BQv/o1/wCDP/h%2BNW/%2BZegD2aivGf8AhOP%2BChf/AEa/8Gf/AA/Grf8AzL0f8Jx/wUL/AOjX/gz/AOH41b/5l6APZqK%2BcfhF%2B0d%2B3b8ZfCl34v8ADn7KHwktrez8Ua3oUkd78ddUVzPpeq3WmTuNvhhhsaa0kZDnJRlJCnKjqP8AhOP%2BChf/AEa/8Gf/AA/Grf8AzL0AezUV4z/wnH/BQv8A6Nf%2BDP8A4fjVv/mXo/4Tj/goX/0a/wDBn/w/Grf/ADL0AezUV4z/AMJx/wAFC/8Ao1/4M/8Ah%2BNW/wDmXrl/gj%2B0d%2B3b8ePgx4Q%2BOPhX9lD4SWul%2BM/C%2Bn67pttqHx11RZ4YLu2juI0kCeGGUOFkAYKzDIOCRzQB9HUV4z/wnH/BQv8A6Nf%2BDP8A4fjVv/mXo/4Tj/goX/0a/wDBn/w/Grf/ADL0AezUV4z/AMJx/wAFC/8Ao1/4M/8Ah%2BNW/wDmXrl/jd%2B0d%2B3b8B/gx4v%2BOPir9lD4SXWl%2BDPC%2Boa7qVtp/wAddUaeaC0tpLiRIw/hhVLlYyFDMoyRkgc0AfR1R3VlZ30RgvrSKZD1SWMMD%2BBrx3/hOP8AgoX/ANGv/Bn/AMPxq3/zL0f8Jx/wUL/6Nf8Agz/4fjVv/mXo3Gm4u6PQtU%2BDXwg1zJ1v4U%2BG7zd977VoVvJn/vpDXO6n%2Bx5%2ByPrWf7Y/Za%2BHN3nr9p8EWEmf%2B%2BoTXP8A/Ccf8FC/%2BjX/AIM/%2BH41b/5l6P8AhOP%2BChf/AEa/8Gf/AA/Grf8AzL1jLDYafxU4v1jF/mmelQzvOsL/AAcVVh/hq1I/%2Bk1IhqP/AATq/YI1TP2r9jT4ZLnr9n8FWUP/AKLjFYeof8EqP%2BCdWpZ%2B0/sh%2BDlz/wA%2B9g0X/oDCqfxd/aO/bt%2BDXhS08X%2BI/wBlD4SXNveeKNE0KOOy%2BOuqM4n1TVbXTIHO7wwo2LNdxs5zkIrEBjhT1H/Ccf8ABQv/AKNf%2BDP/AIfjVv8A5l655ZZlk/ioQf8A25H/AORPWo8c8b4f%2BFmuJXpiK/8A8uZxN9/wRr/4Jm6jn7R%2ByjpC5/54atfxf%2BgXArLn/wCCH3/BMGV/Og/Zpa3k7PbeM9ZQj8rzFelf8Jx/wUL/AOjX/gz/AOH41b/5l6P%2BE4/4KF/9Gv8AwZ/8Pxq3/wAy9YvI8llvhqf/AIBH/I9Kn4o%2BJlFWhneLX/cxW/WbPMv%2BHJn7AEH/ACCvA/imw9PsfxA1VcfncGj/AIcx/sjw/wDIM8V/FCy9PsvxKvxj83Nem/8ACcf8FC/%2BjX/gz/4fjVv/AJl65fx9%2B0d%2B3b8O/FfgjwhrH7KHwkmuPHniiXQtKktvjrqhSCePStQ1MvLu8MAhPJ06ZQVDHe6DGCWWf7Cybph4fJW/Jo1/4it4lv4s3xD9anN/6VCRzX/Dnj4DQ/8AIO/aD%2BOVn6fZvindDH5qaP8Ah0V4Ai/5B/7aX7SNp6fZvi3KMfnCa9N/4Tj/AIKF/wDRr/wZ/wDD8at/8y9H/Ccf8FC/%2BjX/AIM/%2BH41b/5l6P7Cyj/nyvvkvymg/wCIqeIj3zGb9Y0X/wClYaR5j/w6btIv%2BPH/AIKM/tV2/oIvjAcfrbVT%2BCv7Kt5%2BzJ/wUL8FrdftMfFP4irrfwZ8ZbB8TPFQ1M6f5OreFc/ZyI08vzPNG/ru8qPpt59a/wCE4/4KF/8ARr/wZ/8AD8at/wDMvVDwP4H/AGrPGP7Vnhz43fG74cfD3wzo3hn4e%2BIdDhh8K/EO%2B1q6u7rUr7RLhGZLjSLFIo0TS5QWDuxaVAFxkjahlWX4aqqlKFpL%2B9N/g5tfgefmnH3F%2Bd4GeDx2K56c7XXs8Or2aa96GGpzWqW012d1dP3WiiivQPjwooooAKKKKACvB/8Agnb4V0zwx8FfF02nBt%2BqfHj4lX12zY%2BaVvGesL27BUUfhXvFfJX7JXiz9s7T/h74os/hj8A/hhq%2BhJ8afiL/AGfqOvfF3UdNu5l/4TPWSxktotAuUiIbcABM%2BQAcgnaE4ptN9C41KkYSgnpK113s7r7nqfWtFeM/8Jx/wUL/AOjX/gz/AOH41b/5l6P%2BE4/4KF/9Gv8AwZ/8Pxq3/wAy9Mg9morxn/hOP%2BChf/Rr/wAGf/D8at/8y9H/AAnH/BQv/o1/4M/%2BH41b/wCZegD2aivnH4I/tHft2/Hj4MeEPjj4V/ZQ%2BElrpfjPwvp%2Bu6bbah8ddUWeGC7to7iNJAnhhlDhZAGCswyDgkc11H/Ccf8ABQv/AKNf%2BDP/AIfjVv8A5l6APZqK8Z/4Tj/goX/0a/8ABn/w/Grf/MvR/wAJx/wUL/6Nf%2BDP/h%2BNW/8AmXoA9mor5x%2BN37R37dvwH%2BDHi/44%2BKv2UPhJdaX4M8L6hrupW2n/AB11Rp5oLS2kuJEjD%2BGFUuVjIUMyjJGSBzXUf8Jx/wAFC/8Ao1/4M/8Ah%2BNW/wDmXoA9morxn/hOP%2BChf/Rr/wAGf/D8at/8y9H/AAnH/BQv/o1/4M/%2BH41b/wCZegD2aivGf%2BE4/wCChf8A0a/8Gf8Aw/Grf/MvXL/F39o79u34NeFLTxf4j/ZQ%2BElzb3nijRNCjjsvjrqjOJ9U1W10yBzu8MKNizXcbOc5CKxAY4UgH0dRXjP/AAnH/BQv/o1/4M/%2BH41b/wCZej/hOP8AgoX/ANGv/Bn/AMPxq3/zL0AezUV4z/wnH/BQv/o1/wCDP/h%2BNW/%2BZej/AITj/goX/wBGv/Bn/wAPxq3/AMy9AHs1FfOPj79o79u34d%2BK/BHhDWP2UPhJNcePPFEuhaVJbfHXVCkE8elahqZeXd4YBCeTp0ygqGO90GMEsvUf8Jx/wUL/AOjX/gz/AOH41b/5l6APZqK8Z/4Tj/goX/0a/wDBn/w/Grf/ADL0f8Jx/wAFC/8Ao1/4M/8Ah%2BNW/wDmXoA9morxn/hOP%2BChf/Rr/wAGf/D8at/8y9cvq37R37duj/GfQPgdcfsofCRtU8ReF9X12zuU%2BOuqeRHBp1zptvMjk%2BGNwdm1SAqApBCSZKkKGAPo6ivGf%2BE4/wCChf8A0a/8Gf8Aw/Grf/MvR/wnH/BQv/o1/wCDP/h%2BNW/%2BZegD2aivGf8AhOP%2BChf/AEa/8Gf/AA/Grf8AzL0f8Jx/wUL/AOjX/gz/AOH41b/5l6APZqK%2BcdJ/aO/bt1j4z6/8Drf9lD4SLqnh3wvpGu3ly/x11TyJINRudSt4UQjwxuLq2lzlgVAAePBYlgvUf8Jx/wAFC/8Ao1/4M/8Ah%2BNW/wDmXoA9morxn/hOP%2BChf/Rr/wAGf/D8at/8y9H/AAnH/BQv/o1/4M/%2BH41b/wCZegD2aivGf%2BE4/wCChf8A0a/8Gf8Aw/Grf/MvXL%2BAf2jv27fiJ4r8b%2BENH/ZQ%2BEkNx4D8URaFqslz8ddUCTzyaVp%2Bph4tvhgkp5OowqSwU70cYwAzAH0dRXjP/Ccf8FC/%2BjX/AIM/%2BH41b/5l6P8AhOP%2BChf/AEa/8Gf/AA/Grf8AzL0AezV4z%2By//wAlv/aO/wCyzWP/AKhXhej/AITj/goX/wBGv/Bn/wAPxq3/AMy9W/2Vvhz8afB%2BsfFDx38dNA8L6Tqnj74hRa5Z6V4T8S3OrW9raxaDo%2BmKr3FxZWbNI0mnSuVEW0LIg3Mc4APW6KKKACiiigAooooAKKKKACiiigAooooAKKKKACiiigAooooAKKKKACiiigAr5X/ae/a0%2BLnww%2BMfizWvAPh3wfJ4Y%2BD/AIf8P3vjU61pFxNquqW%2Br38qXMFhcR3EaWXkW1nHcZkinFzIUjIh8vzT9UV4z8Z/2Ifhx8bvikfiZrnjnxVpcWo2ukWvi/w1o11app3imDS72S9sYr5ZbeSYLHNNLn7PLAZY5DFMZYwqAA9mooooAKKKKAPmPw5%2B0r8TIf2//FHwf%2BI2seHvCfhtfEFpongyLUfhFrKXXjGAaBBqOIPEbXa6c0sd3c6gBaCF5PLtJgFBZpF%2BnK8r8WfstQeP/jJpHxT8e/G/xrq%2BleHtdj1rQPAFwdMi0ax1CO3eCOcNDZJey7PMkkVJrqSMSPu2fIgX1SgAooooA8X/AOCgvxd%2BOH7P37I/jT49fAK98KR6x4J0K71y6g8YaLc31td2lrbSzPboltdWzJK7IiiQuVQFiUfgV5/48/a0%2BLngv48eLdT8KeHfCEXw88IfGPwj8PvGVnNpFwdb1XVddg0VI9Qhu0uFhjjg/tzSYzFJbyvIkM%2BJY9qCvYf2sf2cbL9rT4Ea9%2Bz7rXxV8U%2BEdJ8T2Utjrl/4QXTvtdzZSxPFNbbr%2B0uo0R1flkRZAVG115zxcH7APg6f4i2fxF8VfHHx9rrHWdJ1zxNo2oS6VFY%2BJ9c0xI0sdWvY7awiZbiIQWmFtmggY2NsXiYx5IB73RRRQAV4v%2B2T8Xfjh8ErXwD4x%2BFl74U/sbUPiZ4c8PeL7HxBotzc3Vza6rrNjpoNnLDdQpbSRrcyyb5EnUlEXZyTXtFeVftXfstv%2B1V4b0LwvP8AH3xv4Gt9C8SWGuo3guHR2e7vbG8gvLNpTqWn3g2xXFvG4WMIG5WTep2gA84/Z5/aV%2BJmt/tVeLfgj8UNX8PeE9Oh8U63b%2BCfCUnwi1nTLnXraF0lN/b61cXf2DUHYyTSyxW0BfkuxXDE/TleS6T%2ByiH%2BMmi/GX4j/tAeO/Gs3he7vLvwnoXiEaTDYaPdXNvJayXES2Gn20sr/Z5p4V8%2BSVUWd9oBII9aoAKKKKAPD/27vi58eP2fvg1q/wAdfhR4x8C2On%2BFtFuby90XxZ4Zvb%2B58Q3uUWz0yzktr2D7PNcSkW6N5V0zSzxBYWPyt5/8Ef2vvjPrnxL8Ff2t4M8JaR8NPG/xP8UfDbwr4a07S5o9X0S/0CHVt889yLhreaCRvD%2BposMdvEY1a2PmSZYD0/8AaV/ZBg/aS8eeCPiBN%2B0D478IXPgG7ub3RbHwxFo09nJeyoI1vJoNT068R54Y/MWGQBTGJ5SPmbIq%2BA/2Gvh74D%2BMtv8AF2H4i%2BLtSg07XdT17RPCGpXNl/ZOla3qMbx6hqkCRWqT%2BfOJ7ssrzPCjX1yY4o/M4APa6KKKACvl/wDa5%2BPH7S/wW%2BImn%2BFNKh8AeNdH8cw61baL8OYvB99JrCWtpod1dyX9xOL14rq2F1Fb20kItYgft8KCYyMiSfUFeHTfsTXEf7R/iv8Aaa0T9qv4l6dq/i3TYdOudLhg8Pz2mn2cMDRw21m1zpMtzbxLK73WxZtrzuXcODtoAZ%2Bwh%2B0H43%2BPfw9vLr4r%2BPtGvvF2nCzbX/Ddl8LtX8I3mgPPbLKILmy1e6nuHBbf5dwAkciodobaTXuleb/A79m7Tvgz4n8SfEPWPil4p8ceKvFcVjb6x4n8XNYLcvaWYm%2By2qRafa2ttHFG1zcuNsIZmuJCzNkY9IoAKKKKAPjn/goJ%2B3H8VP2MPHP9p65ougeMfCL6NqOt2/hWX4c6nZS26abo19qSSf8ACRTXT6ZPd/a9NGyxWBLoRzLKBthaRvXv2aPi78c9W%2BKnjf8AZ6/aOufCmoeJ/COk6HrUeteCtIubCxubHVBeRpEYLm5uXWWK4067Uv5uJEMTbIySorfHX9hLwR%2B05rV1a/H/AOLfjXxR4LuZLiRfhleSabDosUk1jNZM2%2B3so76QCO4mYJLdOgd9235EC9P%2Bz5%2BzNpHwDvNe8RXfxQ8WeOPEfiQ2cereKvGtxZvfS21pEYrW1H2O2t4ViiDysMR72eeV3Z2cmgD0qiiigAr4j/an/bK/az%2BDfxq8QfCjwd4b8OeNdTsNFuNd8MBPgf4gjk0UDUdMtUMLfbnHiaQWOqXHnf2X5TwtCVlEYmEdfbleH69%2BxbqfiXx6fidrX7XPxRm1vT4LyLwbeFNAA8KrdTQyT/ZIxpOydmjgW33Xq3TLEzhSruzkA6r9lj4sP8ZPhHB4svfiZo3iq/h1G6stUvtG8GX3h0W1xFKytazabqFxPdWc8YwrxzOHz821QwFejVw3wD%2BAvh74AeGdT0bSvFOt%2BINR1/XrjW/EniTxHNA17qt/MERp5RbxQwJiOKGJUhijjVIkAUYJPc0AFFFFABRRRQAUUUUAFFFFAFHxR4hsPCXhrUfFeqhza6ZYzXdyIly3lxoXbA7nCmvnP9ib9pP41%2BP/ABTo/gz42eHvBlmPHXwtsviN4Zh8GaVcWg0yO8uCbvT7szXEou5o3ubZ/tiCATtLMTBHtBf6Wu7S1v7WWxvbdJoZo2jmilUMrqRgqQeCCOMV5D%2BzN%2BxX4C/Zg1V9X0D4g%2BLfEstt4YsfDPh0eLL21mGgaFZvI9vptqbe3hLRqZPmlnM1xII4vMmfy1wAexUUUUAFcL%2B1B48%2BIvws/Zo%2BInxO%2BD/hRde8W%2BHPAur6p4W0NrGa6Go6jb2csttbGGBllmEkqInlxsHbdhSCQa7qs7xbol/4l8Mah4f0vxXqOhXN7aSQ2%2BtaQsDXVi7KQJohcRSxF1PIEkbpkfMrDIIB5d%2BxT8Wp/ih8M76y1b4heH9Z1Pw7qq6deaZonww1Pwc%2BhoLaCSKzuNK1S5nuYXCOJFdvLR4pYtiYG9/Yq88%2BA/7O2k/A688S%2BI7n4ieJPGPiTxfqMN54i8U%2BK3sxd3Rht0t4IhHY21tbRRRxoAqxwpks7MWZmY%2Bh0AFFFFAHy5%2B1R%2B1j8UP2cPi944sviVo3hLxF8L7D9nfxf49ttCt9EuE1V20QaWs9tcXMly9vNFOt9OAgtkKhEy75YV2/7M/xf%2BPmqfFzxl%2Bzr%2B0s/hK88UeGPDHh7xLHqvgrSbmxspLLVn1K3W2MNzc3LmWG40i7BlEgWRHiby4zuWoPjH%2Bwr4d%2BOnx1b4y%2BPPjt45l02bwVqfhG%2B%2BHsMGi/2Jd6NqS232%2B0kL6a16RO1pA7OLoOpQhGRGZD0n7O/wCy7of7Pt9rXiOf4oeLfG/iHX7Wwsr/AMT%2BNrm0kvTYWKSLZ2Y%2ByW1vH5URnuHBKGR3uZXd3Zs0Aen0UUUAFfInxr/aX/a28Ga7%2B0B4Et/CvgzxZe%2BAvD/hTxJ8NrHSfh/qd/Oseo6rqUIS8tYrx5dRngXTY51NsLclyQq/KrV9d14XL%2BxR4hi%2BOnjb4/6F%2B2h8VtK1bxvpFjplzY2Vn4Ya0022sri5ns0thLoryfujeXSgzPKXWciTzCqFQDq/2VPi3N8ZfhSPE2o/E7RvFOo2uq3Njq11o/gi/wDDZs7iJvmtZ9M1G4nurSdFK7kmYMQyttVWFek1wnwD%2BAegfAHQtZsdP8W654j1XxN4gl1zxP4m8SS27Xuq38kMMHmyC2hhgjCwW9vCqRRRoqQoAuck93QAUUUUAfG37S37Xf7S37PHxmg%2BG2sp8M/Gt9rcEE3hGHTvC17aS%2BC7zUvEOmeHtIm1OV76YXUU7avOC0S2cjixuljDL5hi9x/ZV%2BL/AMSPiMPH/wAPvjEdEn8VfDTx43hrWdV8NadNZ2Gp%2BZpenatb3ENvNPPJb5tdUt0eNppcSRyYYgjHC23/AATV8JNdfEN/EP7S/wATtZt/iTrx1zWLfUjoXmWepRXEM%2Bn3NtdRaWl0psHt7cWkbzSRRLCgZH5z6x8A/gLofwD8Patptl4v1zxJq3iLXpta8T%2BKPEr2xv8AV76SOKHzphawQQLsggt4ESKKNFjgjULwSQDuqKKKAGXP2n7NJ9j2edsPlebnbuxxnHOM18QfFb9rn9tP4afETXPhtb23gPxnr3hi98NW%2BreOvBHwV1/Vo/DlvqzXj3thLpVnqU93czRw2VjdExTp%2B7uoWlgQGJpPt67hkuLWW3hupIHkjZVniCl4yRgMu4FcjqMgj1Br57%2BDH7AXiD4CfDa4%2BGnw7/bq%2BMUUd1qz6nNrN5ZeE59Qlu5XlkuZ5pn0I/aZJ3l3SSTiR8xpsKAYIB6z8BPiHZfFb4O%2BH/iFYfEDRvFSanp4kfX/AA/pM1haXcgJWQpazzTS2xV1ZGhkkd42VlY7lIHX1yXwL%2BC/hL9n34X6d8KfBVzf3FlYS3VxNfarcia6vru6uZbq6upnCqGlmuJ5pX2qq7pDtVVwo62gAqj4nh8SXPhvULfwbqdjZavJZSrpd5qdg91bQXBQiOSWGOWJpo1bBZFkjLAEB1J3C9Wb4x0G/wDFHha/8O6X4t1LQbm8tXig1rRxAbqxcjiaIXEUsRdTyBJG6HHzKwyKAPh74b/t2fta/GD4p638EvhZpvw%2BTxnptrrt9J4z8V/C7WtDXVNM0i10WVLGXRLy%2BTUNPle78Q7EmnmePyoZLhIXWdAfsb4BfFrTfj58CfBXx10bTZbOz8a%2BEtN160s5n3PBFeWsdwsbEAZKiQAn1FeLav8A8EyPA%2Bta5ffEW7/aU%2BKafEDVkvLXWviTbXukQ6tf6ZdW1rbTaYUTTRZw2xSytGHkW0UqyQLKsocsx%2Bg/Bfg/w18PPB2k%2BAPBmkxafo%2Bh6ZBp%2Bk2EOdltbQxrHFGuecKiqo%2BlAGnRRRQBy/xp1Hxxo3wt1rW/hz4hsdL1awszdQ32oeD73xAiRxkPKBp1jPBc3kjRK6pFDIHLsuFc/I3xb8Jf%2BCiPx%2B8SeNND1PxvceEfAngzUp518QeOLz4GeIprbWL%2BHX7rSES5lW%2BjTwzPJa2lr%2B41RpJYHlWN87AlfbfxM8Ga7498JTeHPDfxS1/wbeSSxvFr/hmKxe7g2sCVVb%2B2uYGDAFSHibgnGDgjxW6/4JzeFNQ8H3Hw21b9pD4m3fhjXNQmv/HmgTXGjiLxhdz3jXVxNfSrpouIvNLLC0dnLaxCGJI1RRu3AH0TRRRQAUUUUAFFFFABRRRQAUUUUAFFFFABRRRQAUUUUAFFFFABRRRQAUUUUAFFFFABRRRQAUUUUAFFFFABRRRQAUUUUAFFFFABRRRQAUUUUAFFFFABRRRQAUUUUAFFFFABRRRQAUUUUAFFFFABRRRQAUUUUAFFFFABRRRQAUUUUAFFFFABRRRQAUUUUAFFFFABRRRQAUUUUAFFFFABRRRQAUUUUAFFFFABRRRQAUUUUAFFFFABRRRQAUUUUAFFFFABRRRQAUUUUAFFFFABRRRQAUUUUAFFFFABRRRQAUUUUAFFFFABRRRQAUUUUAFFFFABRRRQB//Z\">"
            ]
          },
          "metadata": {
            "tags": []
          }
        }
      ]
    },
    {
      "cell_type": "markdown",
      "metadata": {
        "id": "iIb9ue6KY7vS",
        "colab_type": "text"
      },
      "source": [
        "# Submit the MLP with 2 hidden layers\n",
        "Run these cells after training the MLP with 2 hidden layers"
      ]
    },
    {
      "cell_type": "code",
      "metadata": {
        "id": "0_vGsjYkY7vT",
        "colab_type": "code",
        "colab": {}
      },
      "source": [
        "## GRADED PART, DO NOT CHANGE!\n",
        "# Validation loss for MLP\n",
        "grader.set_answer(\"i8bgs\", s.run(loss, {input_X: X_val_flat, input_y: y_val_oh}))\n",
        "# Validation accuracy for MLP\n",
        "grader.set_answer(\"rE763\", accuracy_score(y_val, s.run(classes, {input_X: X_val_flat})))"
      ],
      "execution_count": 0,
      "outputs": []
    },
    {
      "cell_type": "code",
      "metadata": {
        "id": "M0VF3m-3Y7vV",
        "colab_type": "code",
        "colab": {
          "base_uri": "https://localhost:8080/",
          "height": 34
        },
        "outputId": "ff01d8cd-bea7-492d-ca12-579e521b7c63"
      },
      "source": [
        "# you can make submission with answers so far to check yourself at this stage\n",
        "grader.submit(COURSERA_EMAIL, COURSERA_TOKEN)"
      ],
      "execution_count": 25,
      "outputs": [
        {
          "output_type": "stream",
          "text": [
            "Submitted to Coursera platform. See results on assignment page!\n"
          ],
          "name": "stdout"
        }
      ]
    },
    {
      "cell_type": "code",
      "metadata": {
        "id": "zL52l_HMY7vY",
        "colab_type": "code",
        "colab": {}
      },
      "source": [
        ""
      ],
      "execution_count": 0,
      "outputs": []
    }
  ]
}