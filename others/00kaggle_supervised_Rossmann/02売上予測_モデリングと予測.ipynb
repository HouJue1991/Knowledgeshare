{
 "cells": [
  {
   "cell_type": "markdown",
   "metadata": {
    "colab_type": "text",
    "id": "WgECiMzrOJ3N"
   },
   "source": [
    "## モデリングと予測"
   ]
  },
  {
   "cell_type": "code",
   "execution_count": 0,
   "metadata": {
    "colab": {},
    "colab_type": "code",
    "id": "Dv_nsAHnOG7a"
   },
   "outputs": [],
   "source": [
    "import pandas as pd \n",
    "import numpy as np\n",
    "import matplotlib.pyplot as plt\n",
    "import seaborn as sns\n",
    "import warnings\n",
    "from datetime import datetime, timedelta\n",
    "warnings.filterwarnings('ignore')\n",
    "%matplotlib inline \n"
   ]
  },
  {
   "cell_type": "markdown",
   "metadata": {
    "colab_type": "text",
    "id": "yKyJhfWKOU93"
   },
   "source": [
    "### 前処理"
   ]
  },
  {
   "cell_type": "code",
   "execution_count": 0,
   "metadata": {
    "colab": {},
    "colab_type": "code",
    "id": "OuOW3m8BEYd_"
   },
   "outputs": [],
   "source": []
  },
  {
   "cell_type": "code",
   "execution_count": 0,
   "metadata": {
    "colab": {},
    "colab_type": "code",
    "id": "MxrJiH5xOTdh"
   },
   "outputs": [],
   "source": [
    "st = pd.read_csv('./store.csv')\n",
    "train_df = pd.read_csv('./train.csv')\n",
    "test_df = pd.read_csv('./test.csv')"
   ]
  },
  {
   "cell_type": "code",
   "execution_count": 0,
   "metadata": {
    "colab": {},
    "colab_type": "code",
    "id": "QOXwSKxyEVrs"
   },
   "outputs": [],
   "source": []
  },
  {
   "cell_type": "code",
   "execution_count": 0,
   "metadata": {
    "colab": {},
    "colab_type": "code",
    "id": "7APrcnVlPIPj"
   },
   "outputs": [],
   "source": [
    "test_df[test_df['Open'].isna()]\n",
    "test_df = test_df.fillna(1)"
   ]
  },
  {
   "cell_type": "code",
   "execution_count": 0,
   "metadata": {
    "colab": {},
    "colab_type": "code",
    "id": "EinzAwcNERli"
   },
   "outputs": [],
   "source": []
  },
  {
   "cell_type": "code",
   "execution_count": 0,
   "metadata": {
    "colab": {},
    "colab_type": "code",
    "id": "T8bPXkoROkvn"
   },
   "outputs": [],
   "source": [
    "cols1 = ['CompetitionDistance','CompetitionOpenSinceMonth','CompetitionOpenSinceYear']\n",
    "st[cols1] = st[cols1].fillna(st[cols1].mean()).astype(int)\n",
    "\n",
    "st['Promo2SinceYear'] = st['Promo2SinceYear'].fillna(2016)\n",
    "st['Promo2SinceWeek'] = st['Promo2SinceWeek'].fillna(0)\n",
    "st['PromoInterval'] = st['PromoInterval'].fillna('NoPromo')\n"
   ]
  },
  {
   "cell_type": "code",
   "execution_count": 0,
   "metadata": {
    "colab": {},
    "colab_type": "code",
    "id": "-nbXFEo7Ou67"
   },
   "outputs": [],
   "source": [
    "def preprocess_df(dataframe):\n",
    "  dataframe = pd.merge(dataframe,st,on='Store',how='left')\n",
    "  dataframe['Date'] =  dataframe['Date'].astype('datetime64')\n",
    "  dataframe['StateHoliday']=dataframe['StateHoliday'].astype(str)\n",
    "  return dataframe\n",
    "\n",
    "df = preprocess_df(train_df)\n",
    "\n",
    "df['SalesPerCustomer'] = df['Sales']/df['Customers']\n",
    "df = df[df['SalesPerCustomer']<=30] \n"
   ]
  },
  {
   "cell_type": "code",
   "execution_count": 44,
   "metadata": {
    "colab": {
     "base_uri": "https://localhost:8080/",
     "height": 102
    },
    "colab_type": "code",
    "id": "ye5cqgaPDx0y",
    "outputId": "381bdaaa-b1a6-4dd8-c2f2-204c6a20e1fa"
   },
   "outputs": [
    {
     "data": {
      "text/plain": [
       "Index(['Id', 'Store', 'DayOfWeek', 'Date', 'Open', 'Promo', 'StateHoliday',\n",
       "       'SchoolHoliday', 'StoreType', 'Assortment', 'CompetitionDistance',\n",
       "       'CompetitionOpenSinceMonth', 'CompetitionOpenSinceYear', 'Promo2',\n",
       "       'Promo2SinceWeek', 'Promo2SinceYear', 'PromoInterval'],\n",
       "      dtype='object')"
      ]
     },
     "execution_count": 44,
     "metadata": {
      "tags": []
     },
     "output_type": "execute_result"
    }
   ],
   "source": [
    "test_df = pd.merge(test_df,st,on='Store',how='left')\n",
    "test_df.columns"
   ]
  },
  {
   "cell_type": "code",
   "execution_count": 45,
   "metadata": {
    "colab": {
     "base_uri": "https://localhost:8080/",
     "height": 204
    },
    "colab_type": "code",
    "id": "iniqnCTbTJ1o",
    "outputId": "b0eb73d1-99c4-424f-c38e-7f8d10dba689"
   },
   "outputs": [
    {
     "data": {
      "text/html": [
       "<div>\n",
       "<style scoped>\n",
       "    .dataframe tbody tr th:only-of-type {\n",
       "        vertical-align: middle;\n",
       "    }\n",
       "\n",
       "    .dataframe tbody tr th {\n",
       "        vertical-align: top;\n",
       "    }\n",
       "\n",
       "    .dataframe thead th {\n",
       "        text-align: right;\n",
       "    }\n",
       "</style>\n",
       "<table border=\"1\" class=\"dataframe\">\n",
       "  <thead>\n",
       "    <tr style=\"text-align: right;\">\n",
       "      <th></th>\n",
       "      <th>Store</th>\n",
       "      <th>DayOfWeek</th>\n",
       "      <th>Date</th>\n",
       "      <th>Open</th>\n",
       "      <th>Promo</th>\n",
       "      <th>StateHoliday</th>\n",
       "      <th>SchoolHoliday</th>\n",
       "      <th>StoreType</th>\n",
       "      <th>Assortment</th>\n",
       "      <th>CompetitionDistance</th>\n",
       "      <th>Promo2</th>\n",
       "      <th>PromoInterval</th>\n",
       "      <th>CompeLife</th>\n",
       "      <th>PromoLife</th>\n",
       "    </tr>\n",
       "  </thead>\n",
       "  <tbody>\n",
       "    <tr>\n",
       "      <th>0</th>\n",
       "      <td>1</td>\n",
       "      <td>4</td>\n",
       "      <td>2015-09-17</td>\n",
       "      <td>1.0</td>\n",
       "      <td>1</td>\n",
       "      <td>0</td>\n",
       "      <td>0</td>\n",
       "      <td>c</td>\n",
       "      <td>a</td>\n",
       "      <td>1270</td>\n",
       "      <td>0</td>\n",
       "      <td>NoPromo</td>\n",
       "      <td>84</td>\n",
       "      <td>-16.0</td>\n",
       "    </tr>\n",
       "    <tr>\n",
       "      <th>1</th>\n",
       "      <td>3</td>\n",
       "      <td>4</td>\n",
       "      <td>2015-09-17</td>\n",
       "      <td>1.0</td>\n",
       "      <td>1</td>\n",
       "      <td>0</td>\n",
       "      <td>0</td>\n",
       "      <td>a</td>\n",
       "      <td>a</td>\n",
       "      <td>14130</td>\n",
       "      <td>1</td>\n",
       "      <td>Jan,Apr,Jul,Oct</td>\n",
       "      <td>105</td>\n",
       "      <td>230.0</td>\n",
       "    </tr>\n",
       "    <tr>\n",
       "      <th>2</th>\n",
       "      <td>7</td>\n",
       "      <td>4</td>\n",
       "      <td>2015-09-17</td>\n",
       "      <td>1.0</td>\n",
       "      <td>1</td>\n",
       "      <td>0</td>\n",
       "      <td>0</td>\n",
       "      <td>a</td>\n",
       "      <td>c</td>\n",
       "      <td>24000</td>\n",
       "      <td>0</td>\n",
       "      <td>NoPromo</td>\n",
       "      <td>29</td>\n",
       "      <td>-16.0</td>\n",
       "    </tr>\n",
       "    <tr>\n",
       "      <th>3</th>\n",
       "      <td>8</td>\n",
       "      <td>4</td>\n",
       "      <td>2015-09-17</td>\n",
       "      <td>1.0</td>\n",
       "      <td>1</td>\n",
       "      <td>0</td>\n",
       "      <td>0</td>\n",
       "      <td>a</td>\n",
       "      <td>a</td>\n",
       "      <td>7520</td>\n",
       "      <td>0</td>\n",
       "      <td>NoPromo</td>\n",
       "      <td>11</td>\n",
       "      <td>-16.0</td>\n",
       "    </tr>\n",
       "    <tr>\n",
       "      <th>4</th>\n",
       "      <td>9</td>\n",
       "      <td>4</td>\n",
       "      <td>2015-09-17</td>\n",
       "      <td>1.0</td>\n",
       "      <td>1</td>\n",
       "      <td>0</td>\n",
       "      <td>0</td>\n",
       "      <td>a</td>\n",
       "      <td>c</td>\n",
       "      <td>2030</td>\n",
       "      <td>0</td>\n",
       "      <td>NoPromo</td>\n",
       "      <td>181</td>\n",
       "      <td>-16.0</td>\n",
       "    </tr>\n",
       "  </tbody>\n",
       "</table>\n",
       "</div>"
      ],
      "text/plain": [
       "   Store  DayOfWeek       Date  ...    PromoInterval  CompeLife PromoLife\n",
       "0      1          4 2015-09-17  ...          NoPromo         84     -16.0\n",
       "1      3          4 2015-09-17  ...  Jan,Apr,Jul,Oct        105     230.0\n",
       "2      7          4 2015-09-17  ...          NoPromo         29     -16.0\n",
       "3      8          4 2015-09-17  ...          NoPromo         11     -16.0\n",
       "4      9          4 2015-09-17  ...          NoPromo        181     -16.0\n",
       "\n",
       "[5 rows x 14 columns]"
      ]
     },
     "execution_count": 45,
     "metadata": {
      "tags": []
     },
     "output_type": "execute_result"
    }
   ],
   "source": [
    " # 1、ライバルの今までの存在期間\n",
    "df['CompeLife'] = 12*(df['Date'].dt.year -  df['CompetitionOpenSinceYear']) +(df['Date'].dt.month -  df['CompetitionOpenSinceMonth'])\n",
    "df = df.drop(['CompetitionOpenSinceYear','CompetitionOpenSinceMonth'],axis = 1)\n",
    "\n",
    "#2、プロモーションの持続期間\n",
    "df['PromoLife'] = 52*(df['Date'].dt.year -  df['Promo2SinceYear']) +(df['Date'].dt.month*4 -  df['Promo2SinceWeek'])\n",
    "df = df.drop(['Promo2SinceYear','Promo2SinceWeek'],axis=1)\n",
    "\n",
    "test_df['Date'] =  pd.to_datetime(test_df['Date'])\n",
    "test_df['StateHoliday']=test_df['StateHoliday'].astype(str)\n",
    "\n",
    "test_df['CompeLife'] = 12*(test_df['Date'].dt.year -  test_df['CompetitionOpenSinceYear']) +(test_df['Date'].dt.month -  test_df['CompetitionOpenSinceMonth'])\n",
    "test_df = test_df.drop(['CompetitionOpenSinceYear','CompetitionOpenSinceMonth'],axis = 1)\n",
    "\n",
    "test_df['PromoLife'] = 52*(test_df['Date'].dt.year -  test_df['Promo2SinceYear']) +(test_df['Date'].dt.month*4 -  test_df['Promo2SinceWeek'])\n",
    "test_df = test_df.drop(['Promo2SinceYear','Promo2SinceWeek'],axis=1)\n",
    "test_df = test_df.drop('Id',axis=1)\n",
    "\n",
    "test_df.head()"
   ]
  },
  {
   "cell_type": "code",
   "execution_count": 0,
   "metadata": {
    "colab": {},
    "colab_type": "code",
    "id": "_bFJfWS9Dx06"
   },
   "outputs": [],
   "source": []
  },
  {
   "cell_type": "markdown",
   "metadata": {
    "colab_type": "text",
    "id": "UMCZxZp7TKfx"
   },
   "source": [
    "### 特徴量作成\n",
    "・ライバルの今までの存在期間  \n",
    "・プロモーションの持続期間  \n",
    "・過去120日、過去180日、過去1年、過去2年間の売上  \n",
    "・holidayやpromotionがこの店舗に対する影響度    \n",
    "　holidayにおける売上/普段の売上      \n",
    "　promotionにおける売上/普段の売上      \n"
   ]
  },
  {
   "cell_type": "code",
   "execution_count": 0,
   "metadata": {
    "colab": {},
    "colab_type": "code",
    "id": "Mhh14vMSHGoV"
   },
   "outputs": [],
   "source": [
    "def feature_engineering(df):\n",
    "    #月、年、何周目、何シーズン目、\n",
    "  df['Month'] = df['Date'].dt.month\n",
    "  df['Year'] = df['Date'].dt.year\n",
    "  df['Week']=df['Date'].dt.week\n",
    "  df['Quarter']=df['Date'].dt.quarter\n",
    "  df['Day']=df['Date'].dt.day\n",
    "  df['DayOfYear']=df['Date'].dt.dayofyear\n",
    "\n",
    "  \n",
    "  #promo2進行中であるかどうか\n",
    "  df['InPromo2'] = 0\n",
    "  df.loc[(df['PromoInterval']=='Jan,Apr,Jul,Oct')  &  (df['Month'].isin([1,4,7,10])) , 'InPromo2'] = 1 \n",
    "  df.loc[(df['PromoInterval']=='Feb,May,Aug,Nov') & (df['Month'].isin([2,5,8,11])) , 'InPromo2'] = 1 \n",
    "  df.loc[(df['PromoInterval']=='Mar,Jun,Sept,Dec') & (df['Month'].isin([3,6,9,12])) , 'InPromo2'] = 1 \n",
    "  df = df.drop('PromoInterval',axis=1)\n",
    "  \n",
    "  return df\n",
    "df = feature_engineering(df)\n",
    "test_df = feature_engineering(test_df)"
   ]
  },
  {
   "cell_type": "code",
   "execution_count": 47,
   "metadata": {
    "colab": {
     "base_uri": "https://localhost:8080/",
     "height": 34
    },
    "colab_type": "code",
    "id": "VKJyrHEMTeZA",
    "outputId": "cb31b75e-897f-4635-8a3d-f56069e63786"
   },
   "outputs": [
    {
     "data": {
      "text/plain": [
       "Timestamp('2013-01-01 00:00:00')"
      ]
     },
     "execution_count": 47,
     "metadata": {
      "tags": []
     },
     "output_type": "execute_result"
    }
   ],
   "source": [
    "df['Date'].max()\n",
    "df['Date'].min()"
   ]
  },
  {
   "cell_type": "code",
   "execution_count": 48,
   "metadata": {
    "colab": {
     "base_uri": "https://localhost:8080/",
     "height": 34
    },
    "colab_type": "code",
    "id": "p4yNUbneaeeK",
    "outputId": "33ce0660-1f45-43b7-c80c-100b8235ff0f"
   },
   "outputs": [
    {
     "name": "stdout",
     "output_type": "stream",
     "text": [
      "2013-06-30 00:00:00\n"
     ]
    }
   ],
   "source": [
    "start_dt = df['Date'].min()+timedelta(days=180)\n",
    "print(start_dt)\n",
    "dates = df.loc[df['Date']>=start_dt,'Date'].unique()\n",
    "dates = pd.to_datetime(dates)"
   ]
  },
  {
   "cell_type": "code",
   "execution_count": 0,
   "metadata": {
    "colab": {},
    "colab_type": "code",
    "id": "9cNAMk2d6s-F"
   },
   "outputs": [],
   "source": [
    "def calculate_ndays_past_mean(df,days):\n",
    "  sales_col_name = 'SalesBefore'+str(days)\n",
    "  cust_col_name = 'CustBefore'+str(days)\n",
    "\n",
    "  df_past_means = pd.DataFrame({\n",
    "   'Date':[],\n",
    "   'Store':[],\n",
    "       sales_col_name:[],\n",
    "      cust_col_name:[]\n",
    "  })\n",
    "\n",
    "  for date in dates :\n",
    "    start_date = date- timedelta(days=days)\n",
    "    \n",
    "    if start_date < dates.min():\n",
    "      start_date = dates.min()\n",
    "    \n",
    "    df_past_means_temp = df[(df['Date'] < date) & (df['Date'] >=start_date)].groupby('Store').mean()\n",
    "    df_past_means_temp = df_past_means_temp.reset_index()[['Store','Sales','Customers']].rename(columns = {\n",
    "        'Sales':sales_col_name,\n",
    "       'Customers':cust_col_name \n",
    "\n",
    "    })\n",
    "    df_past_means_temp['Date'] = date\n",
    "    df_past_means = pd.concat([df_past_means,df_past_means_temp])\n",
    "    \n",
    "  return df_past_means"
   ]
  },
  {
   "cell_type": "code",
   "execution_count": 0,
   "metadata": {
    "colab": {},
    "colab_type": "code",
    "id": "JkDwTyLeTO_d"
   },
   "outputs": [],
   "source": [
    "#過去120日、過去180日、過去1年、過去2年間の売上\n",
    "for days in [120,180,365,730]:\n",
    "  past_means=calculate_ndays_past_mean(df,days)\n",
    "  df = pd.merge(df,past_means,on=['Store','Date'])\n"
   ]
  },
  {
   "cell_type": "code",
   "execution_count": 0,
   "metadata": {
    "colab": {},
    "colab_type": "code",
    "id": "XJqIZg6qt0CF"
   },
   "outputs": [],
   "source": [
    "def make_store_features(df):\n",
    "  \n",
    "  store_features= df.groupby('Store').mean().reset_index()[['Store','Sales','Customers']]\\\n",
    "  .rename(columns={\n",
    "      'Sales':'SalesMeanAll',\n",
    "          'Customers':'CustomerMean'\n",
    "  })\n",
    "  \n",
    "  max_date = df['Date'].max()\n",
    "\n",
    "  for day in  [120,180,365,730]:\n",
    "    before_n = max_date-timedelta(days=day)\n",
    "    feature_name_sales =  'SalesBefore'+str(day)\n",
    "    feature_name_sales_per = 'CustBefore'+str(day)\n",
    "\n",
    "    feature_value = df.loc[df['Date']>=before_n]\\\n",
    "    .groupby('Store').mean().reset_index()[['Store','Sales','Customers']]\n",
    "    store_features[feature_name_sales] = feature_value['Sales']\n",
    "    store_features[feature_name_sales_per] = feature_value['Customers']\n",
    "\n",
    "# ・holidayやpromotionがこの店舗に対する影響度    \n",
    "# 　holidayにおける売上/普段の売上      \n",
    "# 　promotionにおける売上/普段の売上      \n",
    "  \n",
    "  for feature in ['SchoolHoliday','Promo','InPromo2']:\n",
    "\n",
    "\n",
    "    feature_true_sales = df[df[feature]==1].groupby('Store').mean()\\\n",
    "    .reset_index()[['Store','Sales']]\n",
    "\n",
    "\n",
    "    feature_true_sales['FeatureFalse'] = df[df[feature]==0].groupby('Store').mean()\\\n",
    "    .reset_index()['Sales']\n",
    "\n",
    "    col_name = feature + 'Influence'\n",
    "\n",
    "    feature_true_sales[col_name] = feature_true_sales['Sales']/feature_true_sales['FeatureFalse']\n",
    "    store_features[col_name] =  feature_true_sales[col_name] \n",
    "\n",
    "    store_features = store_features.fillna(store_features.mean())  \n",
    "  \n",
    "  return store_features\n",
    "\n",
    "\n",
    "store_features = make_store_features(df)\n"
   ]
  },
  {
   "cell_type": "code",
   "execution_count": 0,
   "metadata": {
    "colab": {},
    "colab_type": "code",
    "id": "7ZkaMI5LEvRc"
   },
   "outputs": [],
   "source": [
    "store_features_to_join = store_features[['Store','SalesMeanAll','CustomerMean','SchoolHolidayInfluence','PromoInfluence','InPromo2Influence']]\n",
    "df = pd.merge(df,store_features_to_join,on = 'Store',how='left')\n",
    "test_df = pd.merge(test_df,store_features,on = 'Store',how='left')\n"
   ]
  },
  {
   "cell_type": "markdown",
   "metadata": {
    "colab_type": "text",
    "id": "ELYUDwEdDx1h"
   },
   "source": [
    "カテゴリ変数のダミー化"
   ]
  },
  {
   "cell_type": "code",
   "execution_count": 0,
   "metadata": {
    "colab": {},
    "colab_type": "code",
    "id": "yDqG9NHnV0qW"
   },
   "outputs": [],
   "source": [
    "categoritial_features = ['Open', 'Promo',\n",
    "       'StateHoliday', 'SchoolHoliday', 'Promo2']\n",
    "\n",
    "one_hot_target = ['DayOfWeek','StoreType', 'Assortment','StateHoliday','Month', 'Year', 'Quarter', 'Day']"
   ]
  },
  {
   "cell_type": "code",
   "execution_count": 0,
   "metadata": {
    "colab": {},
    "colab_type": "code",
    "id": "I9JoY8VIV0tK"
   },
   "outputs": [],
   "source": [
    "df = pd.get_dummies(df, columns = one_hot_target)\n",
    "\n",
    "test_df = pd.get_dummies(test_df, columns = one_hot_target)"
   ]
  },
  {
   "cell_type": "code",
   "execution_count": 0,
   "metadata": {
    "colab": {},
    "colab_type": "code",
    "id": "TL21Ero0pHFL"
   },
   "outputs": [],
   "source": []
  },
  {
   "cell_type": "code",
   "execution_count": 55,
   "metadata": {
    "colab": {
     "base_uri": "https://localhost:8080/",
     "height": 357
    },
    "colab_type": "code",
    "id": "iVXrIrtdI-HQ",
    "outputId": "a3d1ee93-fb60-4049-e56e-ca127a5e866e"
   },
   "outputs": [
    {
     "data": {
      "text/plain": [
       "Index(['Store', 'Date', 'Sales', 'Customers', 'Open', 'Promo', 'SchoolHoliday',\n",
       "       'CompetitionDistance', 'Promo2', 'SalesPerCustomer', 'CompeLife',\n",
       "       'PromoLife', 'Week', 'DayOfYear', 'InPromo2', 'CustBefore120',\n",
       "       'SalesBefore120', 'CustBefore180', 'SalesBefore180', 'CustBefore365',\n",
       "       'SalesBefore365', 'CustBefore730', 'SalesBefore730', 'SalesMeanAll',\n",
       "       'CustomerMean', 'SchoolHolidayInfluence', 'PromoInfluence',\n",
       "       'InPromo2Influence', 'DayOfWeek_1', 'DayOfWeek_2', 'DayOfWeek_3',\n",
       "       'DayOfWeek_4', 'DayOfWeek_5', 'DayOfWeek_6', 'DayOfWeek_7',\n",
       "       'StoreType_a', 'StoreType_b', 'StoreType_c', 'StoreType_d',\n",
       "       'Assortment_a', 'Assortment_b', 'Assortment_c', 'StateHoliday_0',\n",
       "       'StateHoliday_a', 'StateHoliday_b', 'StateHoliday_c', 'Month_1',\n",
       "       'Month_2', 'Month_3', 'Month_4', 'Month_5', 'Month_6', 'Month_7',\n",
       "       'Month_8', 'Month_9', 'Month_10', 'Month_11', 'Month_12', 'Year_2013',\n",
       "       'Year_2014', 'Year_2015', 'Quarter_1', 'Quarter_2', 'Quarter_3',\n",
       "       'Quarter_4', 'Day_1', 'Day_2', 'Day_3', 'Day_4', 'Day_5', 'Day_6',\n",
       "       'Day_7', 'Day_8', 'Day_9', 'Day_10', 'Day_11', 'Day_12', 'Day_13',\n",
       "       'Day_14', 'Day_15', 'Day_16', 'Day_17', 'Day_18', 'Day_19', 'Day_20',\n",
       "       'Day_21', 'Day_22', 'Day_23', 'Day_24', 'Day_25', 'Day_26', 'Day_27',\n",
       "       'Day_28', 'Day_29', 'Day_30', 'Day_31'],\n",
       "      dtype='object')"
      ]
     },
     "execution_count": 55,
     "metadata": {
      "tags": []
     },
     "output_type": "execute_result"
    }
   ],
   "source": [
    "df.columns"
   ]
  },
  {
   "cell_type": "code",
   "execution_count": 0,
   "metadata": {
    "colab": {},
    "colab_type": "code",
    "id": "RO27tczZArT3"
   },
   "outputs": [],
   "source": [
    "df = df.dropna(how='any')"
   ]
  },
  {
   "cell_type": "code",
   "execution_count": 0,
   "metadata": {
    "colab": {},
    "colab_type": "code",
    "id": "BnvT1Z6FDx2E"
   },
   "outputs": [],
   "source": []
  },
  {
   "cell_type": "code",
   "execution_count": 0,
   "metadata": {
    "colab": {},
    "colab_type": "code",
    "id": "C2ST46N9FvFK"
   },
   "outputs": [],
   "source": [
    "from sklearn.model_selection import train_test_split\n",
    "\n",
    "col_to_drop = ['Store', 'Date'\n",
    "               , 'Sales','Customers','SalesPerCustomer','StateHoliday_c','StateHoliday_b']\n",
    "\n",
    "\n",
    "# features = test_df.columns.drop(col_to_drop)\n",
    "features = df.columns.drop(col_to_drop)\n",
    "\n",
    "\n",
    "X_train_val = df.loc[\\\n",
    "    (df['Date']>'2013-01-01')&\\\n",
    "                (df['Date']<'2015-06-30'),features]\n",
    "y_train_val = df.loc[\\\n",
    "    (df['Date']>'2013-01-01')&\\\n",
    "                (df['Date']<'2015-06-30'),'Sales']\n",
    "\n",
    "\n",
    "X_test = df.loc[df['Date']>='2015-06-30',features]\n",
    "y_test =  df.loc[df['Date']>='2015-06-30','Sales']\n",
    "\n",
    "X_train_all = df[features]\n",
    "y_train_all = df['Sales']\n",
    "\n",
    "\n",
    "\n",
    "X_train,X_val,y_train,y_val = train_test_split(\n",
    "    X_train_val, y_train_val, test_size=0.2, random_state=0,\n",
    ")\n"
   ]
  },
  {
   "cell_type": "code",
   "execution_count": 58,
   "metadata": {
    "colab": {
     "base_uri": "https://localhost:8080/",
     "height": 357
    },
    "colab_type": "code",
    "id": "tZo0HD06u3cX",
    "outputId": "20029618-aa41-4e79-a34d-32d218b17f83"
   },
   "outputs": [
    {
     "data": {
      "text/plain": [
       "Index(['Store', 'Date', 'Sales', 'Customers', 'Open', 'Promo', 'SchoolHoliday',\n",
       "       'CompetitionDistance', 'Promo2', 'SalesPerCustomer', 'CompeLife',\n",
       "       'PromoLife', 'Week', 'DayOfYear', 'InPromo2', 'CustBefore120',\n",
       "       'SalesBefore120', 'CustBefore180', 'SalesBefore180', 'CustBefore365',\n",
       "       'SalesBefore365', 'CustBefore730', 'SalesBefore730', 'SalesMeanAll',\n",
       "       'CustomerMean', 'SchoolHolidayInfluence', 'PromoInfluence',\n",
       "       'InPromo2Influence', 'DayOfWeek_1', 'DayOfWeek_2', 'DayOfWeek_3',\n",
       "       'DayOfWeek_4', 'DayOfWeek_5', 'DayOfWeek_6', 'DayOfWeek_7',\n",
       "       'StoreType_a', 'StoreType_b', 'StoreType_c', 'StoreType_d',\n",
       "       'Assortment_a', 'Assortment_b', 'Assortment_c', 'StateHoliday_0',\n",
       "       'StateHoliday_a', 'StateHoliday_b', 'StateHoliday_c', 'Month_1',\n",
       "       'Month_2', 'Month_3', 'Month_4', 'Month_5', 'Month_6', 'Month_7',\n",
       "       'Month_8', 'Month_9', 'Month_10', 'Month_11', 'Month_12', 'Year_2013',\n",
       "       'Year_2014', 'Year_2015', 'Quarter_1', 'Quarter_2', 'Quarter_3',\n",
       "       'Quarter_4', 'Day_1', 'Day_2', 'Day_3', 'Day_4', 'Day_5', 'Day_6',\n",
       "       'Day_7', 'Day_8', 'Day_9', 'Day_10', 'Day_11', 'Day_12', 'Day_13',\n",
       "       'Day_14', 'Day_15', 'Day_16', 'Day_17', 'Day_18', 'Day_19', 'Day_20',\n",
       "       'Day_21', 'Day_22', 'Day_23', 'Day_24', 'Day_25', 'Day_26', 'Day_27',\n",
       "       'Day_28', 'Day_29', 'Day_30', 'Day_31'],\n",
       "      dtype='object')"
      ]
     },
     "execution_count": 58,
     "metadata": {
      "tags": []
     },
     "output_type": "execute_result"
    }
   ],
   "source": [
    "df.columns"
   ]
  },
  {
   "cell_type": "code",
   "execution_count": 0,
   "metadata": {
    "colab": {},
    "colab_type": "code",
    "id": "nP26ZBdGSuW7"
   },
   "outputs": [],
   "source": [
    "def rmspe(y,y_pred):\n",
    "  return np.sqrt((np.mean((y-y_pred)/y)**2)*100)"
   ]
  },
  {
   "cell_type": "markdown",
   "metadata": {
    "colab_type": "text",
    "id": "ayle_fpbFflv"
   },
   "source": [
    "R2score でモデル精度を判定 "
   ]
  },
  {
   "cell_type": "code",
   "execution_count": 0,
   "metadata": {
    "colab": {},
    "colab_type": "code",
    "id": "rWywz_YSDx2O"
   },
   "outputs": [],
   "source": [
    "# X_train.sample"
   ]
  },
  {
   "cell_type": "code",
   "execution_count": 61,
   "metadata": {
    "colab": {
     "base_uri": "https://localhost:8080/",
     "height": 1000
    },
    "colab_type": "code",
    "id": "WT69U-g8moeK",
    "outputId": "ae2617b1-09a2-4a89-a7dc-bbcdd29bd11a"
   },
   "outputs": [
    {
     "name": "stdout",
     "output_type": "stream",
     "text": [
      "[1]\tvalid_0's l2: 8.39881e+06\tvalid_0's rmse: 2898.07\n",
      "Training until validation scores don't improve for 100 rounds.\n",
      "[2]\tvalid_0's l2: 7.21329e+06\tvalid_0's rmse: 2685.76\n",
      "[3]\tvalid_0's l2: 6.24353e+06\tvalid_0's rmse: 2498.71\n",
      "[4]\tvalid_0's l2: 5.4475e+06\tvalid_0's rmse: 2333.99\n",
      "[5]\tvalid_0's l2: 4.79825e+06\tvalid_0's rmse: 2190.49\n",
      "[6]\tvalid_0's l2: 4.25453e+06\tvalid_0's rmse: 2062.65\n",
      "[7]\tvalid_0's l2: 3.81405e+06\tvalid_0's rmse: 1952.96\n",
      "[8]\tvalid_0's l2: 3.44534e+06\tvalid_0's rmse: 1856.16\n",
      "[9]\tvalid_0's l2: 3.13471e+06\tvalid_0's rmse: 1770.51\n",
      "[10]\tvalid_0's l2: 2.88082e+06\tvalid_0's rmse: 1697.3\n",
      "[11]\tvalid_0's l2: 2.6623e+06\tvalid_0's rmse: 1631.66\n",
      "[12]\tvalid_0's l2: 2.47565e+06\tvalid_0's rmse: 1573.42\n",
      "[13]\tvalid_0's l2: 2.3183e+06\tvalid_0's rmse: 1522.6\n",
      "[14]\tvalid_0's l2: 2.18055e+06\tvalid_0's rmse: 1476.67\n",
      "[15]\tvalid_0's l2: 2.06314e+06\tvalid_0's rmse: 1436.36\n",
      "[16]\tvalid_0's l2: 1.96038e+06\tvalid_0's rmse: 1400.14\n",
      "[17]\tvalid_0's l2: 1.87618e+06\tvalid_0's rmse: 1369.74\n",
      "[18]\tvalid_0's l2: 1.79419e+06\tvalid_0's rmse: 1339.47\n",
      "[19]\tvalid_0's l2: 1.72154e+06\tvalid_0's rmse: 1312.08\n",
      "[20]\tvalid_0's l2: 1.65768e+06\tvalid_0's rmse: 1287.51\n",
      "[21]\tvalid_0's l2: 1.60315e+06\tvalid_0's rmse: 1266.16\n",
      "[22]\tvalid_0's l2: 1.55438e+06\tvalid_0's rmse: 1246.75\n",
      "[23]\tvalid_0's l2: 1.50945e+06\tvalid_0's rmse: 1228.6\n",
      "[24]\tvalid_0's l2: 1.47109e+06\tvalid_0's rmse: 1212.88\n",
      "[25]\tvalid_0's l2: 1.43822e+06\tvalid_0's rmse: 1199.26\n",
      "[26]\tvalid_0's l2: 1.40418e+06\tvalid_0's rmse: 1184.98\n",
      "[27]\tvalid_0's l2: 1.37045e+06\tvalid_0's rmse: 1170.66\n",
      "[28]\tvalid_0's l2: 1.34171e+06\tvalid_0's rmse: 1158.32\n",
      "[29]\tvalid_0's l2: 1.31439e+06\tvalid_0's rmse: 1146.47\n",
      "[30]\tvalid_0's l2: 1.2899e+06\tvalid_0's rmse: 1135.74\n",
      "[31]\tvalid_0's l2: 1.259e+06\tvalid_0's rmse: 1122.05\n",
      "[32]\tvalid_0's l2: 1.23893e+06\tvalid_0's rmse: 1113.07\n",
      "[33]\tvalid_0's l2: 1.21621e+06\tvalid_0's rmse: 1102.82\n",
      "[34]\tvalid_0's l2: 1.19677e+06\tvalid_0's rmse: 1093.97\n",
      "[35]\tvalid_0's l2: 1.17748e+06\tvalid_0's rmse: 1085.12\n",
      "[36]\tvalid_0's l2: 1.15561e+06\tvalid_0's rmse: 1074.99\n",
      "[37]\tvalid_0's l2: 1.14348e+06\tvalid_0's rmse: 1069.34\n",
      "[38]\tvalid_0's l2: 1.12848e+06\tvalid_0's rmse: 1062.3\n",
      "[39]\tvalid_0's l2: 1.11405e+06\tvalid_0's rmse: 1055.49\n",
      "[40]\tvalid_0's l2: 1.10045e+06\tvalid_0's rmse: 1049.02\n",
      "[41]\tvalid_0's l2: 1.08526e+06\tvalid_0's rmse: 1041.76\n",
      "[42]\tvalid_0's l2: 1.07458e+06\tvalid_0's rmse: 1036.62\n",
      "[43]\tvalid_0's l2: 1.05713e+06\tvalid_0's rmse: 1028.17\n",
      "[44]\tvalid_0's l2: 1.04879e+06\tvalid_0's rmse: 1024.11\n",
      "[45]\tvalid_0's l2: 1.03942e+06\tvalid_0's rmse: 1019.52\n",
      "[46]\tvalid_0's l2: 1.02931e+06\tvalid_0's rmse: 1014.55\n",
      "[47]\tvalid_0's l2: 1.01623e+06\tvalid_0's rmse: 1008.08\n",
      "[48]\tvalid_0's l2: 1.00694e+06\tvalid_0's rmse: 1003.47\n",
      "[49]\tvalid_0's l2: 999630\tvalid_0's rmse: 999.815\n",
      "[50]\tvalid_0's l2: 989780\tvalid_0's rmse: 994.877\n",
      "[51]\tvalid_0's l2: 981464\tvalid_0's rmse: 990.689\n",
      "[52]\tvalid_0's l2: 976077\tvalid_0's rmse: 987.966\n",
      "[53]\tvalid_0's l2: 964553\tvalid_0's rmse: 982.116\n",
      "[54]\tvalid_0's l2: 957122\tvalid_0's rmse: 978.326\n",
      "[55]\tvalid_0's l2: 951813\tvalid_0's rmse: 975.609\n",
      "[56]\tvalid_0's l2: 947848\tvalid_0's rmse: 973.575\n",
      "[57]\tvalid_0's l2: 943212\tvalid_0's rmse: 971.191\n",
      "[58]\tvalid_0's l2: 938187\tvalid_0's rmse: 968.601\n",
      "[59]\tvalid_0's l2: 924667\tvalid_0's rmse: 961.596\n",
      "[60]\tvalid_0's l2: 919773\tvalid_0's rmse: 959.048\n",
      "[61]\tvalid_0's l2: 915051\tvalid_0's rmse: 956.583\n",
      "[62]\tvalid_0's l2: 909364\tvalid_0's rmse: 953.606\n",
      "[63]\tvalid_0's l2: 904645\tvalid_0's rmse: 951.128\n",
      "[64]\tvalid_0's l2: 901074\tvalid_0's rmse: 949.249\n",
      "[65]\tvalid_0's l2: 895542\tvalid_0's rmse: 946.331\n",
      "[66]\tvalid_0's l2: 891678\tvalid_0's rmse: 944.287\n",
      "[67]\tvalid_0's l2: 887068\tvalid_0's rmse: 941.843\n",
      "[68]\tvalid_0's l2: 877500\tvalid_0's rmse: 936.75\n",
      "[69]\tvalid_0's l2: 874162\tvalid_0's rmse: 934.966\n",
      "[70]\tvalid_0's l2: 871398\tvalid_0's rmse: 933.487\n",
      "[71]\tvalid_0's l2: 868870\tvalid_0's rmse: 932.132\n",
      "[72]\tvalid_0's l2: 866274\tvalid_0's rmse: 930.739\n",
      "[73]\tvalid_0's l2: 864315\tvalid_0's rmse: 929.685\n",
      "[74]\tvalid_0's l2: 862144\tvalid_0's rmse: 928.517\n",
      "[75]\tvalid_0's l2: 858406\tvalid_0's rmse: 926.502\n",
      "[76]\tvalid_0's l2: 854240\tvalid_0's rmse: 924.251\n",
      "[77]\tvalid_0's l2: 851918\tvalid_0's rmse: 922.994\n",
      "[78]\tvalid_0's l2: 849794\tvalid_0's rmse: 921.843\n",
      "[79]\tvalid_0's l2: 841954\tvalid_0's rmse: 917.58\n",
      "[80]\tvalid_0's l2: 839562\tvalid_0's rmse: 916.276\n",
      "[81]\tvalid_0's l2: 835128\tvalid_0's rmse: 913.854\n",
      "[82]\tvalid_0's l2: 828326\tvalid_0's rmse: 910.124\n",
      "[83]\tvalid_0's l2: 824400\tvalid_0's rmse: 907.965\n",
      "[84]\tvalid_0's l2: 819169\tvalid_0's rmse: 905.079\n",
      "[85]\tvalid_0's l2: 817241\tvalid_0's rmse: 904.014\n",
      "[86]\tvalid_0's l2: 815139\tvalid_0's rmse: 902.85\n",
      "[87]\tvalid_0's l2: 812596\tvalid_0's rmse: 901.441\n",
      "[88]\tvalid_0's l2: 810457\tvalid_0's rmse: 900.254\n",
      "[89]\tvalid_0's l2: 808990\tvalid_0's rmse: 899.439\n",
      "[90]\tvalid_0's l2: 806808\tvalid_0's rmse: 898.225\n",
      "[91]\tvalid_0's l2: 799849\tvalid_0's rmse: 894.343\n",
      "[92]\tvalid_0's l2: 796710\tvalid_0's rmse: 892.586\n",
      "[93]\tvalid_0's l2: 794942\tvalid_0's rmse: 891.595\n",
      "[94]\tvalid_0's l2: 793349\tvalid_0's rmse: 890.702\n",
      "[95]\tvalid_0's l2: 791481\tvalid_0's rmse: 889.652\n",
      "[96]\tvalid_0's l2: 789370\tvalid_0's rmse: 888.465\n",
      "[97]\tvalid_0's l2: 787560\tvalid_0's rmse: 887.446\n",
      "[98]\tvalid_0's l2: 785250\tvalid_0's rmse: 886.143\n",
      "[99]\tvalid_0's l2: 782613\tvalid_0's rmse: 884.654\n",
      "[100]\tvalid_0's l2: 780827\tvalid_0's rmse: 883.644\n",
      "[101]\tvalid_0's l2: 778566\tvalid_0's rmse: 882.364\n",
      "[102]\tvalid_0's l2: 775236\tvalid_0's rmse: 880.475\n",
      "[103]\tvalid_0's l2: 773076\tvalid_0's rmse: 879.247\n",
      "[104]\tvalid_0's l2: 772072\tvalid_0's rmse: 878.676\n",
      "[105]\tvalid_0's l2: 770599\tvalid_0's rmse: 877.838\n",
      "[106]\tvalid_0's l2: 768479\tvalid_0's rmse: 876.629\n",
      "[107]\tvalid_0's l2: 767214\tvalid_0's rmse: 875.907\n",
      "[108]\tvalid_0's l2: 764516\tvalid_0's rmse: 874.366\n",
      "[109]\tvalid_0's l2: 763526\tvalid_0's rmse: 873.8\n",
      "[110]\tvalid_0's l2: 762142\tvalid_0's rmse: 873.008\n",
      "[111]\tvalid_0's l2: 760719\tvalid_0's rmse: 872.192\n",
      "[112]\tvalid_0's l2: 758753\tvalid_0's rmse: 871.065\n",
      "[113]\tvalid_0's l2: 755887\tvalid_0's rmse: 869.417\n",
      "[114]\tvalid_0's l2: 753371\tvalid_0's rmse: 867.97\n",
      "[115]\tvalid_0's l2: 749108\tvalid_0's rmse: 865.51\n",
      "[116]\tvalid_0's l2: 746643\tvalid_0's rmse: 864.085\n",
      "[117]\tvalid_0's l2: 745177\tvalid_0's rmse: 863.237\n",
      "[118]\tvalid_0's l2: 744177\tvalid_0's rmse: 862.657\n",
      "[119]\tvalid_0's l2: 743492\tvalid_0's rmse: 862.26\n",
      "[120]\tvalid_0's l2: 741587\tvalid_0's rmse: 861.154\n",
      "[121]\tvalid_0's l2: 739349\tvalid_0's rmse: 859.854\n",
      "[122]\tvalid_0's l2: 738378\tvalid_0's rmse: 859.289\n",
      "[123]\tvalid_0's l2: 736978\tvalid_0's rmse: 858.474\n",
      "[124]\tvalid_0's l2: 736005\tvalid_0's rmse: 857.907\n",
      "[125]\tvalid_0's l2: 735414\tvalid_0's rmse: 857.563\n",
      "[126]\tvalid_0's l2: 733636\tvalid_0's rmse: 856.525\n",
      "[127]\tvalid_0's l2: 732370\tvalid_0's rmse: 855.786\n",
      "[128]\tvalid_0's l2: 730741\tvalid_0's rmse: 854.834\n",
      "[129]\tvalid_0's l2: 729928\tvalid_0's rmse: 854.358\n",
      "[130]\tvalid_0's l2: 728161\tvalid_0's rmse: 853.323\n",
      "[131]\tvalid_0's l2: 727357\tvalid_0's rmse: 852.852\n",
      "[132]\tvalid_0's l2: 726259\tvalid_0's rmse: 852.208\n",
      "[133]\tvalid_0's l2: 723909\tvalid_0's rmse: 850.828\n",
      "[134]\tvalid_0's l2: 723167\tvalid_0's rmse: 850.392\n",
      "[135]\tvalid_0's l2: 721795\tvalid_0's rmse: 849.585\n",
      "[136]\tvalid_0's l2: 719666\tvalid_0's rmse: 848.331\n",
      "[137]\tvalid_0's l2: 718727\tvalid_0's rmse: 847.778\n",
      "[138]\tvalid_0's l2: 717873\tvalid_0's rmse: 847.274\n",
      "[139]\tvalid_0's l2: 716493\tvalid_0's rmse: 846.459\n",
      "[140]\tvalid_0's l2: 715630\tvalid_0's rmse: 845.949\n",
      "[141]\tvalid_0's l2: 715015\tvalid_0's rmse: 845.586\n",
      "[142]\tvalid_0's l2: 713742\tvalid_0's rmse: 844.833\n",
      "[143]\tvalid_0's l2: 712697\tvalid_0's rmse: 844.214\n",
      "[144]\tvalid_0's l2: 711627\tvalid_0's rmse: 843.58\n",
      "[145]\tvalid_0's l2: 710869\tvalid_0's rmse: 843.131\n",
      "[146]\tvalid_0's l2: 709020\tvalid_0's rmse: 842.033\n",
      "[147]\tvalid_0's l2: 708313\tvalid_0's rmse: 841.614\n",
      "[148]\tvalid_0's l2: 707429\tvalid_0's rmse: 841.088\n",
      "[149]\tvalid_0's l2: 705249\tvalid_0's rmse: 839.791\n",
      "[150]\tvalid_0's l2: 704796\tvalid_0's rmse: 839.521\n",
      "[151]\tvalid_0's l2: 703012\tvalid_0's rmse: 838.458\n",
      "[152]\tvalid_0's l2: 701887\tvalid_0's rmse: 837.787\n",
      "[153]\tvalid_0's l2: 700552\tvalid_0's rmse: 836.99\n",
      "[154]\tvalid_0's l2: 699885\tvalid_0's rmse: 836.591\n",
      "[155]\tvalid_0's l2: 699068\tvalid_0's rmse: 836.103\n",
      "[156]\tvalid_0's l2: 698319\tvalid_0's rmse: 835.655\n",
      "[157]\tvalid_0's l2: 697292\tvalid_0's rmse: 835.04\n",
      "[158]\tvalid_0's l2: 696388\tvalid_0's rmse: 834.499\n",
      "[159]\tvalid_0's l2: 695299\tvalid_0's rmse: 833.846\n",
      "[160]\tvalid_0's l2: 694013\tvalid_0's rmse: 833.074\n",
      "[161]\tvalid_0's l2: 693283\tvalid_0's rmse: 832.636\n",
      "[162]\tvalid_0's l2: 692106\tvalid_0's rmse: 831.929\n",
      "[163]\tvalid_0's l2: 691438\tvalid_0's rmse: 831.527\n",
      "[164]\tvalid_0's l2: 690627\tvalid_0's rmse: 831.039\n",
      "[165]\tvalid_0's l2: 689795\tvalid_0's rmse: 830.539\n",
      "[166]\tvalid_0's l2: 689193\tvalid_0's rmse: 830.177\n",
      "[167]\tvalid_0's l2: 688494\tvalid_0's rmse: 829.755\n",
      "[168]\tvalid_0's l2: 687782\tvalid_0's rmse: 829.326\n",
      "[169]\tvalid_0's l2: 686906\tvalid_0's rmse: 828.798\n",
      "[170]\tvalid_0's l2: 685720\tvalid_0's rmse: 828.082\n",
      "[171]\tvalid_0's l2: 685183\tvalid_0's rmse: 827.758\n",
      "[172]\tvalid_0's l2: 684801\tvalid_0's rmse: 827.527\n",
      "[173]\tvalid_0's l2: 684412\tvalid_0's rmse: 827.292\n",
      "[174]\tvalid_0's l2: 683858\tvalid_0's rmse: 826.957\n",
      "[175]\tvalid_0's l2: 682390\tvalid_0's rmse: 826.069\n",
      "[176]\tvalid_0's l2: 680919\tvalid_0's rmse: 825.178\n",
      "[177]\tvalid_0's l2: 680432\tvalid_0's rmse: 824.883\n",
      "[178]\tvalid_0's l2: 679903\tvalid_0's rmse: 824.562\n",
      "[179]\tvalid_0's l2: 679432\tvalid_0's rmse: 824.277\n",
      "[180]\tvalid_0's l2: 678963\tvalid_0's rmse: 823.992\n",
      "[181]\tvalid_0's l2: 678039\tvalid_0's rmse: 823.431\n",
      "[182]\tvalid_0's l2: 677740\tvalid_0's rmse: 823.249\n",
      "[183]\tvalid_0's l2: 677185\tvalid_0's rmse: 822.912\n",
      "[184]\tvalid_0's l2: 676451\tvalid_0's rmse: 822.467\n",
      "[185]\tvalid_0's l2: 675825\tvalid_0's rmse: 822.086\n",
      "[186]\tvalid_0's l2: 675477\tvalid_0's rmse: 821.874\n",
      "[187]\tvalid_0's l2: 674834\tvalid_0's rmse: 821.483\n",
      "[188]\tvalid_0's l2: 673756\tvalid_0's rmse: 820.826\n",
      "[189]\tvalid_0's l2: 673381\tvalid_0's rmse: 820.598\n",
      "[190]\tvalid_0's l2: 672833\tvalid_0's rmse: 820.264\n",
      "[191]\tvalid_0's l2: 671844\tvalid_0's rmse: 819.661\n",
      "[192]\tvalid_0's l2: 671062\tvalid_0's rmse: 819.184\n",
      "[193]\tvalid_0's l2: 670361\tvalid_0's rmse: 818.756\n",
      "[194]\tvalid_0's l2: 669554\tvalid_0's rmse: 818.263\n",
      "[195]\tvalid_0's l2: 667490\tvalid_0's rmse: 817.001\n",
      "[196]\tvalid_0's l2: 666595\tvalid_0's rmse: 816.453\n",
      "[197]\tvalid_0's l2: 665888\tvalid_0's rmse: 816.019\n",
      "[198]\tvalid_0's l2: 665441\tvalid_0's rmse: 815.746\n",
      "[199]\tvalid_0's l2: 664731\tvalid_0's rmse: 815.31\n",
      "[200]\tvalid_0's l2: 664291\tvalid_0's rmse: 815.041\n",
      "[201]\tvalid_0's l2: 663714\tvalid_0's rmse: 814.686\n",
      "[202]\tvalid_0's l2: 662739\tvalid_0's rmse: 814.088\n",
      "[203]\tvalid_0's l2: 662477\tvalid_0's rmse: 813.927\n",
      "[204]\tvalid_0's l2: 662194\tvalid_0's rmse: 813.753\n",
      "[205]\tvalid_0's l2: 661394\tvalid_0's rmse: 813.261\n",
      "[206]\tvalid_0's l2: 660805\tvalid_0's rmse: 812.899\n",
      "[207]\tvalid_0's l2: 660439\tvalid_0's rmse: 812.674\n",
      "[208]\tvalid_0's l2: 659890\tvalid_0's rmse: 812.336\n",
      "[209]\tvalid_0's l2: 659655\tvalid_0's rmse: 812.191\n",
      "[210]\tvalid_0's l2: 658707\tvalid_0's rmse: 811.608\n",
      "[211]\tvalid_0's l2: 657938\tvalid_0's rmse: 811.134\n",
      "[212]\tvalid_0's l2: 657252\tvalid_0's rmse: 810.711\n",
      "[213]\tvalid_0's l2: 656409\tvalid_0's rmse: 810.191\n",
      "[214]\tvalid_0's l2: 655724\tvalid_0's rmse: 809.768\n",
      "[215]\tvalid_0's l2: 655440\tvalid_0's rmse: 809.593\n",
      "[216]\tvalid_0's l2: 655166\tvalid_0's rmse: 809.423\n",
      "[217]\tvalid_0's l2: 654925\tvalid_0's rmse: 809.275\n",
      "[218]\tvalid_0's l2: 654507\tvalid_0's rmse: 809.016\n",
      "[219]\tvalid_0's l2: 654090\tvalid_0's rmse: 808.759\n",
      "[220]\tvalid_0's l2: 653763\tvalid_0's rmse: 808.556\n",
      "[221]\tvalid_0's l2: 652992\tvalid_0's rmse: 808.079\n",
      "[222]\tvalid_0's l2: 652711\tvalid_0's rmse: 807.905\n",
      "[223]\tvalid_0's l2: 652396\tvalid_0's rmse: 807.71\n",
      "[224]\tvalid_0's l2: 651972\tvalid_0's rmse: 807.448\n",
      "[225]\tvalid_0's l2: 651814\tvalid_0's rmse: 807.35\n",
      "[226]\tvalid_0's l2: 651600\tvalid_0's rmse: 807.217\n",
      "[227]\tvalid_0's l2: 650918\tvalid_0's rmse: 806.795\n",
      "[228]\tvalid_0's l2: 650022\tvalid_0's rmse: 806.239\n",
      "[229]\tvalid_0's l2: 649415\tvalid_0's rmse: 805.863\n",
      "[230]\tvalid_0's l2: 648866\tvalid_0's rmse: 805.522\n",
      "[231]\tvalid_0's l2: 648533\tvalid_0's rmse: 805.315\n",
      "[232]\tvalid_0's l2: 647624\tvalid_0's rmse: 804.751\n",
      "[233]\tvalid_0's l2: 646949\tvalid_0's rmse: 804.331\n",
      "[234]\tvalid_0's l2: 645914\tvalid_0's rmse: 803.688\n",
      "[235]\tvalid_0's l2: 645275\tvalid_0's rmse: 803.29\n",
      "[236]\tvalid_0's l2: 644559\tvalid_0's rmse: 802.844\n",
      "[237]\tvalid_0's l2: 644059\tvalid_0's rmse: 802.533\n",
      "[238]\tvalid_0's l2: 643492\tvalid_0's rmse: 802.179\n",
      "[239]\tvalid_0's l2: 642554\tvalid_0's rmse: 801.595\n",
      "[240]\tvalid_0's l2: 641822\tvalid_0's rmse: 801.138\n",
      "[241]\tvalid_0's l2: 641600\tvalid_0's rmse: 801\n",
      "[242]\tvalid_0's l2: 641243\tvalid_0's rmse: 800.777\n",
      "[243]\tvalid_0's l2: 640161\tvalid_0's rmse: 800.1\n",
      "[244]\tvalid_0's l2: 639733\tvalid_0's rmse: 799.833\n",
      "[245]\tvalid_0's l2: 639122\tvalid_0's rmse: 799.451\n",
      "[246]\tvalid_0's l2: 637791\tvalid_0's rmse: 798.618\n",
      "[247]\tvalid_0's l2: 637495\tvalid_0's rmse: 798.433\n",
      "[248]\tvalid_0's l2: 637294\tvalid_0's rmse: 798.307\n",
      "[249]\tvalid_0's l2: 636945\tvalid_0's rmse: 798.088\n",
      "[250]\tvalid_0's l2: 636507\tvalid_0's rmse: 797.814\n",
      "[251]\tvalid_0's l2: 636199\tvalid_0's rmse: 797.621\n",
      "[252]\tvalid_0's l2: 635639\tvalid_0's rmse: 797.27\n",
      "[253]\tvalid_0's l2: 635039\tvalid_0's rmse: 796.893\n",
      "[254]\tvalid_0's l2: 634684\tvalid_0's rmse: 796.671\n",
      "[255]\tvalid_0's l2: 634138\tvalid_0's rmse: 796.328\n",
      "[256]\tvalid_0's l2: 633431\tvalid_0's rmse: 795.884\n",
      "[257]\tvalid_0's l2: 633213\tvalid_0's rmse: 795.747\n",
      "[258]\tvalid_0's l2: 632648\tvalid_0's rmse: 795.392\n",
      "[259]\tvalid_0's l2: 632131\tvalid_0's rmse: 795.067\n",
      "[260]\tvalid_0's l2: 631902\tvalid_0's rmse: 794.923\n",
      "[261]\tvalid_0's l2: 631674\tvalid_0's rmse: 794.779\n",
      "[262]\tvalid_0's l2: 630945\tvalid_0's rmse: 794.321\n",
      "[263]\tvalid_0's l2: 629987\tvalid_0's rmse: 793.717\n",
      "[264]\tvalid_0's l2: 629652\tvalid_0's rmse: 793.506\n",
      "[265]\tvalid_0's l2: 629139\tvalid_0's rmse: 793.183\n",
      "[266]\tvalid_0's l2: 628683\tvalid_0's rmse: 792.895\n",
      "[267]\tvalid_0's l2: 628172\tvalid_0's rmse: 792.573\n",
      "[268]\tvalid_0's l2: 627837\tvalid_0's rmse: 792.362\n",
      "[269]\tvalid_0's l2: 627155\tvalid_0's rmse: 791.931\n",
      "[270]\tvalid_0's l2: 626168\tvalid_0's rmse: 791.307\n",
      "[271]\tvalid_0's l2: 625512\tvalid_0's rmse: 790.893\n",
      "[272]\tvalid_0's l2: 625301\tvalid_0's rmse: 790.76\n",
      "[273]\tvalid_0's l2: 624929\tvalid_0's rmse: 790.524\n",
      "[274]\tvalid_0's l2: 624685\tvalid_0's rmse: 790.37\n",
      "[275]\tvalid_0's l2: 624273\tvalid_0's rmse: 790.11\n",
      "[276]\tvalid_0's l2: 623648\tvalid_0's rmse: 789.714\n",
      "[277]\tvalid_0's l2: 622472\tvalid_0's rmse: 788.969\n",
      "[278]\tvalid_0's l2: 621615\tvalid_0's rmse: 788.426\n",
      "[279]\tvalid_0's l2: 621156\tvalid_0's rmse: 788.134\n",
      "[280]\tvalid_0's l2: 620039\tvalid_0's rmse: 787.426\n",
      "[281]\tvalid_0's l2: 619135\tvalid_0's rmse: 786.851\n",
      "[282]\tvalid_0's l2: 618771\tvalid_0's rmse: 786.62\n",
      "[283]\tvalid_0's l2: 618106\tvalid_0's rmse: 786.197\n",
      "[284]\tvalid_0's l2: 617793\tvalid_0's rmse: 785.998\n",
      "[285]\tvalid_0's l2: 617337\tvalid_0's rmse: 785.708\n",
      "[286]\tvalid_0's l2: 616806\tvalid_0's rmse: 785.37\n",
      "[287]\tvalid_0's l2: 616275\tvalid_0's rmse: 785.032\n",
      "[288]\tvalid_0's l2: 615948\tvalid_0's rmse: 784.824\n",
      "[289]\tvalid_0's l2: 615190\tvalid_0's rmse: 784.341\n",
      "[290]\tvalid_0's l2: 614792\tvalid_0's rmse: 784.087\n",
      "[291]\tvalid_0's l2: 613949\tvalid_0's rmse: 783.549\n",
      "[292]\tvalid_0's l2: 613531\tvalid_0's rmse: 783.282\n",
      "[293]\tvalid_0's l2: 613017\tvalid_0's rmse: 782.954\n",
      "[294]\tvalid_0's l2: 612819\tvalid_0's rmse: 782.827\n",
      "[295]\tvalid_0's l2: 612555\tvalid_0's rmse: 782.659\n",
      "[296]\tvalid_0's l2: 612202\tvalid_0's rmse: 782.433\n",
      "[297]\tvalid_0's l2: 611800\tvalid_0's rmse: 782.177\n",
      "[298]\tvalid_0's l2: 610550\tvalid_0's rmse: 781.377\n",
      "[299]\tvalid_0's l2: 610380\tvalid_0's rmse: 781.268\n",
      "[300]\tvalid_0's l2: 609906\tvalid_0's rmse: 780.965\n",
      "[301]\tvalid_0's l2: 609610\tvalid_0's rmse: 780.775\n",
      "[302]\tvalid_0's l2: 609358\tvalid_0's rmse: 780.614\n",
      "[303]\tvalid_0's l2: 609108\tvalid_0's rmse: 780.454\n",
      "[304]\tvalid_0's l2: 608925\tvalid_0's rmse: 780.336\n",
      "[305]\tvalid_0's l2: 608669\tvalid_0's rmse: 780.172\n",
      "[306]\tvalid_0's l2: 608444\tvalid_0's rmse: 780.028\n",
      "[307]\tvalid_0's l2: 607653\tvalid_0's rmse: 779.521\n",
      "[308]\tvalid_0's l2: 607236\tvalid_0's rmse: 779.254\n",
      "[309]\tvalid_0's l2: 607000\tvalid_0's rmse: 779.102\n",
      "[310]\tvalid_0's l2: 606268\tvalid_0's rmse: 778.632\n",
      "[311]\tvalid_0's l2: 605902\tvalid_0's rmse: 778.397\n",
      "[312]\tvalid_0's l2: 605670\tvalid_0's rmse: 778.248\n",
      "[313]\tvalid_0's l2: 605451\tvalid_0's rmse: 778.107\n",
      "[314]\tvalid_0's l2: 605099\tvalid_0's rmse: 777.881\n",
      "[315]\tvalid_0's l2: 604420\tvalid_0's rmse: 777.445\n",
      "[316]\tvalid_0's l2: 604088\tvalid_0's rmse: 777.231\n",
      "[317]\tvalid_0's l2: 603912\tvalid_0's rmse: 777.118\n",
      "[318]\tvalid_0's l2: 603518\tvalid_0's rmse: 776.864\n",
      "[319]\tvalid_0's l2: 603199\tvalid_0's rmse: 776.659\n",
      "[320]\tvalid_0's l2: 602353\tvalid_0's rmse: 776.114\n",
      "[321]\tvalid_0's l2: 602002\tvalid_0's rmse: 775.888\n",
      "[322]\tvalid_0's l2: 601110\tvalid_0's rmse: 775.313\n",
      "[323]\tvalid_0's l2: 600804\tvalid_0's rmse: 775.116\n",
      "[324]\tvalid_0's l2: 600386\tvalid_0's rmse: 774.846\n",
      "[325]\tvalid_0's l2: 600278\tvalid_0's rmse: 774.776\n",
      "[326]\tvalid_0's l2: 600080\tvalid_0's rmse: 774.648\n",
      "[327]\tvalid_0's l2: 599636\tvalid_0's rmse: 774.362\n",
      "[328]\tvalid_0's l2: 599502\tvalid_0's rmse: 774.275\n",
      "[329]\tvalid_0's l2: 598944\tvalid_0's rmse: 773.915\n",
      "[330]\tvalid_0's l2: 598768\tvalid_0's rmse: 773.801\n",
      "[331]\tvalid_0's l2: 598457\tvalid_0's rmse: 773.6\n",
      "[332]\tvalid_0's l2: 598347\tvalid_0's rmse: 773.529\n",
      "[333]\tvalid_0's l2: 598090\tvalid_0's rmse: 773.363\n",
      "[334]\tvalid_0's l2: 597910\tvalid_0's rmse: 773.246\n",
      "[335]\tvalid_0's l2: 597754\tvalid_0's rmse: 773.145\n",
      "[336]\tvalid_0's l2: 597204\tvalid_0's rmse: 772.79\n",
      "[337]\tvalid_0's l2: 596917\tvalid_0's rmse: 772.604\n",
      "[338]\tvalid_0's l2: 596035\tvalid_0's rmse: 772.033\n",
      "[339]\tvalid_0's l2: 595599\tvalid_0's rmse: 771.751\n",
      "[340]\tvalid_0's l2: 595478\tvalid_0's rmse: 771.672\n",
      "[341]\tvalid_0's l2: 595066\tvalid_0's rmse: 771.405\n",
      "[342]\tvalid_0's l2: 594542\tvalid_0's rmse: 771.066\n",
      "[343]\tvalid_0's l2: 594370\tvalid_0's rmse: 770.954\n",
      "[344]\tvalid_0's l2: 593958\tvalid_0's rmse: 770.686\n",
      "[345]\tvalid_0's l2: 593608\tvalid_0's rmse: 770.46\n",
      "[346]\tvalid_0's l2: 593099\tvalid_0's rmse: 770.129\n",
      "[347]\tvalid_0's l2: 592845\tvalid_0's rmse: 769.964\n",
      "[348]\tvalid_0's l2: 592428\tvalid_0's rmse: 769.694\n",
      "[349]\tvalid_0's l2: 591928\tvalid_0's rmse: 769.368\n",
      "[350]\tvalid_0's l2: 591779\tvalid_0's rmse: 769.272\n",
      "[351]\tvalid_0's l2: 591177\tvalid_0's rmse: 768.88\n",
      "[352]\tvalid_0's l2: 590785\tvalid_0's rmse: 768.626\n",
      "[353]\tvalid_0's l2: 590330\tvalid_0's rmse: 768.33\n",
      "[354]\tvalid_0's l2: 589829\tvalid_0's rmse: 768.004\n",
      "[355]\tvalid_0's l2: 589367\tvalid_0's rmse: 767.702\n",
      "[356]\tvalid_0's l2: 589031\tvalid_0's rmse: 767.483\n",
      "[357]\tvalid_0's l2: 588703\tvalid_0's rmse: 767.27\n",
      "[358]\tvalid_0's l2: 588376\tvalid_0's rmse: 767.057\n",
      "[359]\tvalid_0's l2: 588292\tvalid_0's rmse: 767.002\n",
      "[360]\tvalid_0's l2: 588054\tvalid_0's rmse: 766.847\n",
      "[361]\tvalid_0's l2: 587894\tvalid_0's rmse: 766.743\n",
      "[362]\tvalid_0's l2: 587468\tvalid_0's rmse: 766.465\n",
      "[363]\tvalid_0's l2: 587293\tvalid_0's rmse: 766.35\n",
      "[364]\tvalid_0's l2: 587039\tvalid_0's rmse: 766.185\n",
      "[365]\tvalid_0's l2: 586181\tvalid_0's rmse: 765.625\n",
      "[366]\tvalid_0's l2: 585717\tvalid_0's rmse: 765.321\n",
      "[367]\tvalid_0's l2: 585057\tvalid_0's rmse: 764.89\n",
      "[368]\tvalid_0's l2: 584818\tvalid_0's rmse: 764.734\n",
      "[369]\tvalid_0's l2: 584685\tvalid_0's rmse: 764.647\n",
      "[370]\tvalid_0's l2: 584375\tvalid_0's rmse: 764.444\n",
      "[371]\tvalid_0's l2: 583862\tvalid_0's rmse: 764.109\n",
      "[372]\tvalid_0's l2: 583701\tvalid_0's rmse: 764.003\n",
      "[373]\tvalid_0's l2: 583599\tvalid_0's rmse: 763.936\n",
      "[374]\tvalid_0's l2: 583340\tvalid_0's rmse: 763.767\n",
      "[375]\tvalid_0's l2: 583194\tvalid_0's rmse: 763.671\n",
      "[376]\tvalid_0's l2: 582815\tvalid_0's rmse: 763.423\n",
      "[377]\tvalid_0's l2: 582601\tvalid_0's rmse: 763.283\n",
      "[378]\tvalid_0's l2: 582277\tvalid_0's rmse: 763.071\n",
      "[379]\tvalid_0's l2: 582045\tvalid_0's rmse: 762.918\n",
      "[380]\tvalid_0's l2: 581916\tvalid_0's rmse: 762.834\n",
      "[381]\tvalid_0's l2: 581827\tvalid_0's rmse: 762.776\n",
      "[382]\tvalid_0's l2: 580985\tvalid_0's rmse: 762.224\n",
      "[383]\tvalid_0's l2: 580695\tvalid_0's rmse: 762.034\n",
      "[384]\tvalid_0's l2: 580085\tvalid_0's rmse: 761.633\n",
      "[385]\tvalid_0's l2: 579739\tvalid_0's rmse: 761.406\n",
      "[386]\tvalid_0's l2: 579402\tvalid_0's rmse: 761.184\n",
      "[387]\tvalid_0's l2: 578763\tvalid_0's rmse: 760.765\n",
      "[388]\tvalid_0's l2: 578607\tvalid_0's rmse: 760.662\n",
      "[389]\tvalid_0's l2: 577997\tvalid_0's rmse: 760.261\n",
      "[390]\tvalid_0's l2: 577713\tvalid_0's rmse: 760.074\n",
      "[391]\tvalid_0's l2: 577440\tvalid_0's rmse: 759.895\n",
      "[392]\tvalid_0's l2: 577425\tvalid_0's rmse: 759.885\n",
      "[393]\tvalid_0's l2: 577232\tvalid_0's rmse: 759.758\n",
      "[394]\tvalid_0's l2: 577148\tvalid_0's rmse: 759.703\n",
      "[395]\tvalid_0's l2: 577056\tvalid_0's rmse: 759.642\n",
      "[396]\tvalid_0's l2: 576852\tvalid_0's rmse: 759.508\n",
      "[397]\tvalid_0's l2: 576520\tvalid_0's rmse: 759.289\n",
      "[398]\tvalid_0's l2: 576299\tvalid_0's rmse: 759.144\n",
      "[399]\tvalid_0's l2: 576060\tvalid_0's rmse: 758.986\n",
      "[400]\tvalid_0's l2: 575985\tvalid_0's rmse: 758.937\n",
      "[401]\tvalid_0's l2: 575527\tvalid_0's rmse: 758.635\n",
      "[402]\tvalid_0's l2: 575020\tvalid_0's rmse: 758.3\n",
      "[403]\tvalid_0's l2: 574833\tvalid_0's rmse: 758.178\n",
      "[404]\tvalid_0's l2: 574631\tvalid_0's rmse: 758.044\n",
      "[405]\tvalid_0's l2: 574433\tvalid_0's rmse: 757.914\n",
      "[406]\tvalid_0's l2: 574078\tvalid_0's rmse: 757.679\n",
      "[407]\tvalid_0's l2: 573874\tvalid_0's rmse: 757.545\n",
      "[408]\tvalid_0's l2: 573582\tvalid_0's rmse: 757.352\n",
      "[409]\tvalid_0's l2: 573203\tvalid_0's rmse: 757.102\n",
      "[410]\tvalid_0's l2: 572978\tvalid_0's rmse: 756.953\n",
      "[411]\tvalid_0's l2: 572905\tvalid_0's rmse: 756.905\n",
      "[412]\tvalid_0's l2: 572712\tvalid_0's rmse: 756.777\n",
      "[413]\tvalid_0's l2: 572285\tvalid_0's rmse: 756.495\n",
      "[414]\tvalid_0's l2: 571675\tvalid_0's rmse: 756.092\n",
      "[415]\tvalid_0's l2: 571346\tvalid_0's rmse: 755.875\n",
      "[416]\tvalid_0's l2: 571114\tvalid_0's rmse: 755.721\n",
      "[417]\tvalid_0's l2: 571041\tvalid_0's rmse: 755.672\n",
      "[418]\tvalid_0's l2: 570957\tvalid_0's rmse: 755.617\n",
      "[419]\tvalid_0's l2: 570835\tvalid_0's rmse: 755.536\n",
      "[420]\tvalid_0's l2: 570373\tvalid_0's rmse: 755.231\n",
      "[421]\tvalid_0's l2: 570215\tvalid_0's rmse: 755.126\n",
      "[422]\tvalid_0's l2: 569953\tvalid_0's rmse: 754.953\n",
      "[423]\tvalid_0's l2: 569838\tvalid_0's rmse: 754.876\n",
      "[424]\tvalid_0's l2: 569187\tvalid_0's rmse: 754.445\n",
      "[425]\tvalid_0's l2: 568934\tvalid_0's rmse: 754.277\n",
      "[426]\tvalid_0's l2: 568760\tvalid_0's rmse: 754.162\n",
      "[427]\tvalid_0's l2: 568390\tvalid_0's rmse: 753.916\n",
      "[428]\tvalid_0's l2: 568184\tvalid_0's rmse: 753.78\n",
      "[429]\tvalid_0's l2: 568101\tvalid_0's rmse: 753.725\n",
      "[430]\tvalid_0's l2: 567959\tvalid_0's rmse: 753.63\n",
      "[431]\tvalid_0's l2: 567813\tvalid_0's rmse: 753.534\n",
      "[432]\tvalid_0's l2: 567293\tvalid_0's rmse: 753.188\n",
      "[433]\tvalid_0's l2: 567003\tvalid_0's rmse: 752.996\n",
      "[434]\tvalid_0's l2: 566358\tvalid_0's rmse: 752.567\n",
      "[435]\tvalid_0's l2: 566187\tvalid_0's rmse: 752.454\n",
      "[436]\tvalid_0's l2: 566018\tvalid_0's rmse: 752.342\n",
      "[437]\tvalid_0's l2: 565805\tvalid_0's rmse: 752.2\n",
      "[438]\tvalid_0's l2: 565592\tvalid_0's rmse: 752.059\n",
      "[439]\tvalid_0's l2: 565162\tvalid_0's rmse: 751.773\n",
      "[440]\tvalid_0's l2: 564705\tvalid_0's rmse: 751.468\n",
      "[441]\tvalid_0's l2: 564523\tvalid_0's rmse: 751.347\n",
      "[442]\tvalid_0's l2: 564072\tvalid_0's rmse: 751.048\n",
      "[443]\tvalid_0's l2: 563943\tvalid_0's rmse: 750.961\n",
      "[444]\tvalid_0's l2: 563641\tvalid_0's rmse: 750.76\n",
      "[445]\tvalid_0's l2: 563476\tvalid_0's rmse: 750.65\n",
      "[446]\tvalid_0's l2: 562832\tvalid_0's rmse: 750.221\n",
      "[447]\tvalid_0's l2: 562582\tvalid_0's rmse: 750.055\n",
      "[448]\tvalid_0's l2: 562298\tvalid_0's rmse: 749.865\n",
      "[449]\tvalid_0's l2: 562006\tvalid_0's rmse: 749.671\n",
      "[450]\tvalid_0's l2: 561732\tvalid_0's rmse: 749.488\n",
      "[451]\tvalid_0's l2: 561626\tvalid_0's rmse: 749.417\n",
      "[452]\tvalid_0's l2: 561565\tvalid_0's rmse: 749.377\n",
      "[453]\tvalid_0's l2: 561498\tvalid_0's rmse: 749.332\n",
      "[454]\tvalid_0's l2: 561200\tvalid_0's rmse: 749.133\n",
      "[455]\tvalid_0's l2: 561055\tvalid_0's rmse: 749.036\n",
      "[456]\tvalid_0's l2: 560851\tvalid_0's rmse: 748.9\n",
      "[457]\tvalid_0's l2: 560146\tvalid_0's rmse: 748.429\n",
      "[458]\tvalid_0's l2: 559800\tvalid_0's rmse: 748.198\n",
      "[459]\tvalid_0's l2: 559583\tvalid_0's rmse: 748.053\n",
      "[460]\tvalid_0's l2: 559453\tvalid_0's rmse: 747.966\n",
      "[461]\tvalid_0's l2: 559361\tvalid_0's rmse: 747.905\n",
      "[462]\tvalid_0's l2: 559216\tvalid_0's rmse: 747.807\n",
      "[463]\tvalid_0's l2: 559022\tvalid_0's rmse: 747.678\n",
      "[464]\tvalid_0's l2: 558533\tvalid_0's rmse: 747.351\n",
      "[465]\tvalid_0's l2: 558469\tvalid_0's rmse: 747.308\n",
      "[466]\tvalid_0's l2: 558413\tvalid_0's rmse: 747.271\n",
      "[467]\tvalid_0's l2: 558297\tvalid_0's rmse: 747.193\n",
      "[468]\tvalid_0's l2: 558092\tvalid_0's rmse: 747.056\n",
      "[469]\tvalid_0's l2: 557454\tvalid_0's rmse: 746.628\n",
      "[470]\tvalid_0's l2: 557271\tvalid_0's rmse: 746.506\n",
      "[471]\tvalid_0's l2: 556880\tvalid_0's rmse: 746.244\n",
      "[472]\tvalid_0's l2: 556729\tvalid_0's rmse: 746.142\n",
      "[473]\tvalid_0's l2: 556389\tvalid_0's rmse: 745.915\n",
      "[474]\tvalid_0's l2: 556173\tvalid_0's rmse: 745.77\n",
      "[475]\tvalid_0's l2: 555914\tvalid_0's rmse: 745.596\n",
      "[476]\tvalid_0's l2: 555666\tvalid_0's rmse: 745.43\n",
      "[477]\tvalid_0's l2: 555497\tvalid_0's rmse: 745.317\n",
      "[478]\tvalid_0's l2: 555312\tvalid_0's rmse: 745.193\n",
      "[479]\tvalid_0's l2: 554806\tvalid_0's rmse: 744.853\n",
      "[480]\tvalid_0's l2: 554649\tvalid_0's rmse: 744.748\n",
      "[481]\tvalid_0's l2: 554461\tvalid_0's rmse: 744.621\n",
      "[482]\tvalid_0's l2: 554320\tvalid_0's rmse: 744.527\n",
      "[483]\tvalid_0's l2: 554247\tvalid_0's rmse: 744.478\n",
      "[484]\tvalid_0's l2: 554145\tvalid_0's rmse: 744.409\n",
      "[485]\tvalid_0's l2: 553973\tvalid_0's rmse: 744.294\n",
      "[486]\tvalid_0's l2: 553832\tvalid_0's rmse: 744.199\n",
      "[487]\tvalid_0's l2: 553679\tvalid_0's rmse: 744.096\n",
      "[488]\tvalid_0's l2: 553501\tvalid_0's rmse: 743.977\n",
      "[489]\tvalid_0's l2: 553085\tvalid_0's rmse: 743.697\n",
      "[490]\tvalid_0's l2: 552585\tvalid_0's rmse: 743.361\n",
      "[491]\tvalid_0's l2: 552108\tvalid_0's rmse: 743.04\n",
      "[492]\tvalid_0's l2: 551700\tvalid_0's rmse: 742.765\n",
      "[493]\tvalid_0's l2: 551277\tvalid_0's rmse: 742.48\n",
      "[494]\tvalid_0's l2: 551122\tvalid_0's rmse: 742.376\n",
      "[495]\tvalid_0's l2: 550957\tvalid_0's rmse: 742.265\n",
      "[496]\tvalid_0's l2: 550628\tvalid_0's rmse: 742.043\n",
      "[497]\tvalid_0's l2: 550378\tvalid_0's rmse: 741.875\n",
      "[498]\tvalid_0's l2: 550233\tvalid_0's rmse: 741.777\n",
      "[499]\tvalid_0's l2: 550157\tvalid_0's rmse: 741.726\n",
      "[500]\tvalid_0's l2: 550007\tvalid_0's rmse: 741.625\n",
      "[501]\tvalid_0's l2: 549710\tvalid_0's rmse: 741.425\n",
      "[502]\tvalid_0's l2: 549426\tvalid_0's rmse: 741.233\n",
      "[503]\tvalid_0's l2: 549314\tvalid_0's rmse: 741.157\n",
      "[504]\tvalid_0's l2: 549150\tvalid_0's rmse: 741.047\n",
      "[505]\tvalid_0's l2: 549091\tvalid_0's rmse: 741.007\n",
      "[506]\tvalid_0's l2: 548935\tvalid_0's rmse: 740.902\n",
      "[507]\tvalid_0's l2: 548674\tvalid_0's rmse: 740.725\n",
      "[508]\tvalid_0's l2: 548536\tvalid_0's rmse: 740.632\n",
      "[509]\tvalid_0's l2: 548442\tvalid_0's rmse: 740.569\n",
      "[510]\tvalid_0's l2: 548060\tvalid_0's rmse: 740.311\n",
      "[511]\tvalid_0's l2: 547897\tvalid_0's rmse: 740.201\n",
      "[512]\tvalid_0's l2: 547366\tvalid_0's rmse: 739.842\n",
      "[513]\tvalid_0's l2: 547106\tvalid_0's rmse: 739.666\n",
      "[514]\tvalid_0's l2: 546827\tvalid_0's rmse: 739.477\n",
      "[515]\tvalid_0's l2: 546363\tvalid_0's rmse: 739.164\n",
      "[516]\tvalid_0's l2: 546218\tvalid_0's rmse: 739.066\n",
      "[517]\tvalid_0's l2: 546025\tvalid_0's rmse: 738.935\n",
      "[518]\tvalid_0's l2: 545544\tvalid_0's rmse: 738.61\n",
      "[519]\tvalid_0's l2: 545436\tvalid_0's rmse: 738.536\n",
      "[520]\tvalid_0's l2: 545368\tvalid_0's rmse: 738.49\n",
      "[521]\tvalid_0's l2: 545178\tvalid_0's rmse: 738.362\n",
      "[522]\tvalid_0's l2: 544696\tvalid_0's rmse: 738.035\n",
      "[523]\tvalid_0's l2: 544586\tvalid_0's rmse: 737.961\n",
      "[524]\tvalid_0's l2: 544491\tvalid_0's rmse: 737.897\n",
      "[525]\tvalid_0's l2: 544224\tvalid_0's rmse: 737.715\n",
      "[526]\tvalid_0's l2: 544003\tvalid_0's rmse: 737.566\n",
      "[527]\tvalid_0's l2: 543840\tvalid_0's rmse: 737.455\n",
      "[528]\tvalid_0's l2: 543494\tvalid_0's rmse: 737.221\n",
      "[529]\tvalid_0's l2: 543165\tvalid_0's rmse: 736.997\n",
      "[530]\tvalid_0's l2: 542897\tvalid_0's rmse: 736.816\n",
      "[531]\tvalid_0's l2: 542728\tvalid_0's rmse: 736.701\n",
      "[532]\tvalid_0's l2: 542530\tvalid_0's rmse: 736.566\n",
      "[533]\tvalid_0's l2: 542340\tvalid_0's rmse: 736.437\n",
      "[534]\tvalid_0's l2: 542172\tvalid_0's rmse: 736.323\n",
      "[535]\tvalid_0's l2: 542053\tvalid_0's rmse: 736.242\n",
      "[536]\tvalid_0's l2: 541938\tvalid_0's rmse: 736.164\n",
      "[537]\tvalid_0's l2: 541885\tvalid_0's rmse: 736.128\n",
      "[538]\tvalid_0's l2: 541509\tvalid_0's rmse: 735.873\n",
      "[539]\tvalid_0's l2: 541027\tvalid_0's rmse: 735.545\n",
      "[540]\tvalid_0's l2: 540927\tvalid_0's rmse: 735.477\n",
      "[541]\tvalid_0's l2: 540593\tvalid_0's rmse: 735.25\n",
      "[542]\tvalid_0's l2: 540492\tvalid_0's rmse: 735.182\n",
      "[543]\tvalid_0's l2: 540205\tvalid_0's rmse: 734.987\n",
      "[544]\tvalid_0's l2: 540057\tvalid_0's rmse: 734.886\n",
      "[545]\tvalid_0's l2: 540027\tvalid_0's rmse: 734.866\n",
      "[546]\tvalid_0's l2: 539782\tvalid_0's rmse: 734.699\n",
      "[547]\tvalid_0's l2: 539548\tvalid_0's rmse: 734.539\n",
      "[548]\tvalid_0's l2: 539375\tvalid_0's rmse: 734.422\n",
      "[549]\tvalid_0's l2: 539098\tvalid_0's rmse: 734.233\n",
      "[550]\tvalid_0's l2: 539048\tvalid_0's rmse: 734.199\n",
      "[551]\tvalid_0's l2: 538930\tvalid_0's rmse: 734.118\n",
      "[552]\tvalid_0's l2: 538770\tvalid_0's rmse: 734.01\n",
      "[553]\tvalid_0's l2: 538530\tvalid_0's rmse: 733.846\n",
      "[554]\tvalid_0's l2: 538415\tvalid_0's rmse: 733.768\n",
      "[555]\tvalid_0's l2: 538282\tvalid_0's rmse: 733.677\n",
      "[556]\tvalid_0's l2: 538122\tvalid_0's rmse: 733.568\n",
      "[557]\tvalid_0's l2: 537978\tvalid_0's rmse: 733.47\n",
      "[558]\tvalid_0's l2: 537843\tvalid_0's rmse: 733.378\n",
      "[559]\tvalid_0's l2: 537767\tvalid_0's rmse: 733.326\n",
      "[560]\tvalid_0's l2: 537587\tvalid_0's rmse: 733.203\n",
      "[561]\tvalid_0's l2: 537500\tvalid_0's rmse: 733.144\n",
      "[562]\tvalid_0's l2: 537424\tvalid_0's rmse: 733.092\n",
      "[563]\tvalid_0's l2: 537307\tvalid_0's rmse: 733.012\n",
      "[564]\tvalid_0's l2: 537359\tvalid_0's rmse: 733.048\n",
      "[565]\tvalid_0's l2: 537228\tvalid_0's rmse: 732.959\n",
      "[566]\tvalid_0's l2: 537090\tvalid_0's rmse: 732.865\n",
      "[567]\tvalid_0's l2: 537019\tvalid_0's rmse: 732.816\n",
      "[568]\tvalid_0's l2: 536811\tvalid_0's rmse: 732.674\n",
      "[569]\tvalid_0's l2: 536771\tvalid_0's rmse: 732.646\n",
      "[570]\tvalid_0's l2: 536615\tvalid_0's rmse: 732.54\n",
      "[571]\tvalid_0's l2: 536521\tvalid_0's rmse: 732.476\n",
      "[572]\tvalid_0's l2: 536451\tvalid_0's rmse: 732.428\n",
      "[573]\tvalid_0's l2: 536315\tvalid_0's rmse: 732.336\n",
      "[574]\tvalid_0's l2: 536178\tvalid_0's rmse: 732.241\n",
      "[575]\tvalid_0's l2: 535506\tvalid_0's rmse: 731.783\n",
      "[576]\tvalid_0's l2: 535406\tvalid_0's rmse: 731.714\n",
      "[577]\tvalid_0's l2: 535329\tvalid_0's rmse: 731.662\n",
      "[578]\tvalid_0's l2: 534881\tvalid_0's rmse: 731.355\n",
      "[579]\tvalid_0's l2: 534790\tvalid_0's rmse: 731.293\n",
      "[580]\tvalid_0's l2: 534654\tvalid_0's rmse: 731.2\n",
      "[581]\tvalid_0's l2: 534568\tvalid_0's rmse: 731.142\n",
      "[582]\tvalid_0's l2: 534407\tvalid_0's rmse: 731.031\n",
      "[583]\tvalid_0's l2: 534178\tvalid_0's rmse: 730.875\n",
      "[584]\tvalid_0's l2: 534029\tvalid_0's rmse: 730.773\n",
      "[585]\tvalid_0's l2: 533896\tvalid_0's rmse: 730.682\n",
      "[586]\tvalid_0's l2: 533524\tvalid_0's rmse: 730.427\n",
      "[587]\tvalid_0's l2: 533419\tvalid_0's rmse: 730.355\n",
      "[588]\tvalid_0's l2: 533177\tvalid_0's rmse: 730.19\n",
      "[589]\tvalid_0's l2: 532429\tvalid_0's rmse: 729.678\n",
      "[590]\tvalid_0's l2: 532172\tvalid_0's rmse: 729.501\n",
      "[591]\tvalid_0's l2: 532058\tvalid_0's rmse: 729.423\n",
      "[592]\tvalid_0's l2: 531658\tvalid_0's rmse: 729.149\n",
      "[593]\tvalid_0's l2: 531533\tvalid_0's rmse: 729.063\n",
      "[594]\tvalid_0's l2: 531300\tvalid_0's rmse: 728.903\n",
      "[595]\tvalid_0's l2: 530569\tvalid_0's rmse: 728.401\n",
      "[596]\tvalid_0's l2: 530332\tvalid_0's rmse: 728.239\n",
      "[597]\tvalid_0's l2: 530078\tvalid_0's rmse: 728.064\n",
      "[598]\tvalid_0's l2: 529404\tvalid_0's rmse: 727.602\n",
      "[599]\tvalid_0's l2: 529075\tvalid_0's rmse: 727.375\n",
      "[600]\tvalid_0's l2: 528660\tvalid_0's rmse: 727.09\n",
      "[601]\tvalid_0's l2: 528348\tvalid_0's rmse: 726.876\n",
      "[602]\tvalid_0's l2: 528131\tvalid_0's rmse: 726.726\n",
      "[603]\tvalid_0's l2: 528026\tvalid_0's rmse: 726.654\n",
      "[604]\tvalid_0's l2: 527856\tvalid_0's rmse: 726.537\n",
      "[605]\tvalid_0's l2: 527729\tvalid_0's rmse: 726.45\n",
      "[606]\tvalid_0's l2: 527249\tvalid_0's rmse: 726.119\n",
      "[607]\tvalid_0's l2: 527076\tvalid_0's rmse: 726\n",
      "[608]\tvalid_0's l2: 526875\tvalid_0's rmse: 725.862\n",
      "[609]\tvalid_0's l2: 526531\tvalid_0's rmse: 725.625\n",
      "[610]\tvalid_0's l2: 526112\tvalid_0's rmse: 725.336\n",
      "[611]\tvalid_0's l2: 525852\tvalid_0's rmse: 725.156\n",
      "[612]\tvalid_0's l2: 525612\tvalid_0's rmse: 724.991\n",
      "[613]\tvalid_0's l2: 525471\tvalid_0's rmse: 724.894\n",
      "[614]\tvalid_0's l2: 525219\tvalid_0's rmse: 724.72\n",
      "[615]\tvalid_0's l2: 524892\tvalid_0's rmse: 724.494\n",
      "[616]\tvalid_0's l2: 524752\tvalid_0's rmse: 724.398\n",
      "[617]\tvalid_0's l2: 524514\tvalid_0's rmse: 724.234\n",
      "[618]\tvalid_0's l2: 524330\tvalid_0's rmse: 724.106\n",
      "[619]\tvalid_0's l2: 524029\tvalid_0's rmse: 723.898\n",
      "[620]\tvalid_0's l2: 523681\tvalid_0's rmse: 723.658\n",
      "[621]\tvalid_0's l2: 523567\tvalid_0's rmse: 723.579\n",
      "[622]\tvalid_0's l2: 523436\tvalid_0's rmse: 723.489\n",
      "[623]\tvalid_0's l2: 523111\tvalid_0's rmse: 723.264\n",
      "[624]\tvalid_0's l2: 523020\tvalid_0's rmse: 723.201\n",
      "[625]\tvalid_0's l2: 522862\tvalid_0's rmse: 723.092\n",
      "[626]\tvalid_0's l2: 522685\tvalid_0's rmse: 722.969\n",
      "[627]\tvalid_0's l2: 522505\tvalid_0's rmse: 722.845\n",
      "[628]\tvalid_0's l2: 522455\tvalid_0's rmse: 722.811\n",
      "[629]\tvalid_0's l2: 522309\tvalid_0's rmse: 722.709\n",
      "[630]\tvalid_0's l2: 522068\tvalid_0's rmse: 722.543\n",
      "[631]\tvalid_0's l2: 521901\tvalid_0's rmse: 722.427\n",
      "[632]\tvalid_0's l2: 521786\tvalid_0's rmse: 722.348\n",
      "[633]\tvalid_0's l2: 521479\tvalid_0's rmse: 722.135\n",
      "[634]\tvalid_0's l2: 521443\tvalid_0's rmse: 722.11\n",
      "[635]\tvalid_0's l2: 521240\tvalid_0's rmse: 721.97\n",
      "[636]\tvalid_0's l2: 521145\tvalid_0's rmse: 721.903\n",
      "[637]\tvalid_0's l2: 521015\tvalid_0's rmse: 721.814\n",
      "[638]\tvalid_0's l2: 520982\tvalid_0's rmse: 721.791\n",
      "[639]\tvalid_0's l2: 520904\tvalid_0's rmse: 721.737\n",
      "[640]\tvalid_0's l2: 520750\tvalid_0's rmse: 721.63\n",
      "[641]\tvalid_0's l2: 520510\tvalid_0's rmse: 721.464\n",
      "[642]\tvalid_0's l2: 520383\tvalid_0's rmse: 721.376\n",
      "[643]\tvalid_0's l2: 520277\tvalid_0's rmse: 721.302\n",
      "[644]\tvalid_0's l2: 520063\tvalid_0's rmse: 721.154\n",
      "[645]\tvalid_0's l2: 519914\tvalid_0's rmse: 721.051\n",
      "[646]\tvalid_0's l2: 519753\tvalid_0's rmse: 720.939\n",
      "[647]\tvalid_0's l2: 519659\tvalid_0's rmse: 720.874\n",
      "[648]\tvalid_0's l2: 519511\tvalid_0's rmse: 720.771\n",
      "[649]\tvalid_0's l2: 519434\tvalid_0's rmse: 720.718\n",
      "[650]\tvalid_0's l2: 519189\tvalid_0's rmse: 720.548\n",
      "[651]\tvalid_0's l2: 519058\tvalid_0's rmse: 720.457\n",
      "[652]\tvalid_0's l2: 518825\tvalid_0's rmse: 720.295\n",
      "[653]\tvalid_0's l2: 518695\tvalid_0's rmse: 720.205\n",
      "[654]\tvalid_0's l2: 518603\tvalid_0's rmse: 720.141\n",
      "[655]\tvalid_0's l2: 518398\tvalid_0's rmse: 719.998\n",
      "[656]\tvalid_0's l2: 518252\tvalid_0's rmse: 719.897\n",
      "[657]\tvalid_0's l2: 518114\tvalid_0's rmse: 719.802\n",
      "[658]\tvalid_0's l2: 517948\tvalid_0's rmse: 719.686\n",
      "[659]\tvalid_0's l2: 517662\tvalid_0's rmse: 719.487\n",
      "[660]\tvalid_0's l2: 517489\tvalid_0's rmse: 719.367\n",
      "[661]\tvalid_0's l2: 517333\tvalid_0's rmse: 719.259\n",
      "[662]\tvalid_0's l2: 517171\tvalid_0's rmse: 719.146\n",
      "[663]\tvalid_0's l2: 517161\tvalid_0's rmse: 719.139\n",
      "[664]\tvalid_0's l2: 516991\tvalid_0's rmse: 719.021\n",
      "[665]\tvalid_0's l2: 516926\tvalid_0's rmse: 718.976\n",
      "[666]\tvalid_0's l2: 516777\tvalid_0's rmse: 718.872\n",
      "[667]\tvalid_0's l2: 516649\tvalid_0's rmse: 718.783\n",
      "[668]\tvalid_0's l2: 516546\tvalid_0's rmse: 718.711\n",
      "[669]\tvalid_0's l2: 516395\tvalid_0's rmse: 718.606\n",
      "[670]\tvalid_0's l2: 516334\tvalid_0's rmse: 718.564\n",
      "[671]\tvalid_0's l2: 516259\tvalid_0's rmse: 718.511\n",
      "[672]\tvalid_0's l2: 516209\tvalid_0's rmse: 718.477\n",
      "[673]\tvalid_0's l2: 516117\tvalid_0's rmse: 718.413\n",
      "[674]\tvalid_0's l2: 515891\tvalid_0's rmse: 718.256\n",
      "[675]\tvalid_0's l2: 515742\tvalid_0's rmse: 718.152\n",
      "[676]\tvalid_0's l2: 515579\tvalid_0's rmse: 718.038\n",
      "[677]\tvalid_0's l2: 515488\tvalid_0's rmse: 717.975\n",
      "[678]\tvalid_0's l2: 515375\tvalid_0's rmse: 717.897\n",
      "[679]\tvalid_0's l2: 515108\tvalid_0's rmse: 717.71\n",
      "[680]\tvalid_0's l2: 514820\tvalid_0's rmse: 717.51\n",
      "[681]\tvalid_0's l2: 514790\tvalid_0's rmse: 717.489\n",
      "[682]\tvalid_0's l2: 514765\tvalid_0's rmse: 717.471\n",
      "[683]\tvalid_0's l2: 514702\tvalid_0's rmse: 717.427\n",
      "[684]\tvalid_0's l2: 514661\tvalid_0's rmse: 717.399\n",
      "[685]\tvalid_0's l2: 514585\tvalid_0's rmse: 717.346\n",
      "[686]\tvalid_0's l2: 514188\tvalid_0's rmse: 717.069\n",
      "[687]\tvalid_0's l2: 513807\tvalid_0's rmse: 716.804\n",
      "[688]\tvalid_0's l2: 513657\tvalid_0's rmse: 716.699\n",
      "[689]\tvalid_0's l2: 513378\tvalid_0's rmse: 716.504\n",
      "[690]\tvalid_0's l2: 513111\tvalid_0's rmse: 716.317\n",
      "[691]\tvalid_0's l2: 512993\tvalid_0's rmse: 716.236\n",
      "[692]\tvalid_0's l2: 512842\tvalid_0's rmse: 716.13\n",
      "[693]\tvalid_0's l2: 512797\tvalid_0's rmse: 716.098\n",
      "[694]\tvalid_0's l2: 512706\tvalid_0's rmse: 716.035\n",
      "[695]\tvalid_0's l2: 512625\tvalid_0's rmse: 715.978\n",
      "[696]\tvalid_0's l2: 512379\tvalid_0's rmse: 715.807\n",
      "[697]\tvalid_0's l2: 512299\tvalid_0's rmse: 715.75\n",
      "[698]\tvalid_0's l2: 511890\tvalid_0's rmse: 715.465\n",
      "[699]\tvalid_0's l2: 511714\tvalid_0's rmse: 715.342\n",
      "[700]\tvalid_0's l2: 511665\tvalid_0's rmse: 715.308\n",
      "[701]\tvalid_0's l2: 511632\tvalid_0's rmse: 715.284\n",
      "[702]\tvalid_0's l2: 511599\tvalid_0's rmse: 715.262\n",
      "[703]\tvalid_0's l2: 511500\tvalid_0's rmse: 715.193\n",
      "[704]\tvalid_0's l2: 511418\tvalid_0's rmse: 715.135\n",
      "[705]\tvalid_0's l2: 511389\tvalid_0's rmse: 715.114\n",
      "[706]\tvalid_0's l2: 511302\tvalid_0's rmse: 715.054\n",
      "[707]\tvalid_0's l2: 511241\tvalid_0's rmse: 715.011\n",
      "[708]\tvalid_0's l2: 511121\tvalid_0's rmse: 714.927\n",
      "[709]\tvalid_0's l2: 511038\tvalid_0's rmse: 714.869\n",
      "[710]\tvalid_0's l2: 510926\tvalid_0's rmse: 714.791\n",
      "[711]\tvalid_0's l2: 510753\tvalid_0's rmse: 714.67\n",
      "[712]\tvalid_0's l2: 510805\tvalid_0's rmse: 714.706\n",
      "[713]\tvalid_0's l2: 510716\tvalid_0's rmse: 714.644\n",
      "[714]\tvalid_0's l2: 510617\tvalid_0's rmse: 714.575\n",
      "[715]\tvalid_0's l2: 510396\tvalid_0's rmse: 714.42\n",
      "[716]\tvalid_0's l2: 510296\tvalid_0's rmse: 714.35\n",
      "[717]\tvalid_0's l2: 510059\tvalid_0's rmse: 714.184\n",
      "[718]\tvalid_0's l2: 509856\tvalid_0's rmse: 714.042\n",
      "[719]\tvalid_0's l2: 509760\tvalid_0's rmse: 713.975\n",
      "[720]\tvalid_0's l2: 509673\tvalid_0's rmse: 713.914\n",
      "[721]\tvalid_0's l2: 509542\tvalid_0's rmse: 713.822\n",
      "[722]\tvalid_0's l2: 509412\tvalid_0's rmse: 713.731\n",
      "[723]\tvalid_0's l2: 509307\tvalid_0's rmse: 713.658\n",
      "[724]\tvalid_0's l2: 508885\tvalid_0's rmse: 713.362\n",
      "[725]\tvalid_0's l2: 508578\tvalid_0's rmse: 713.146\n",
      "[726]\tvalid_0's l2: 508536\tvalid_0's rmse: 713.117\n",
      "[727]\tvalid_0's l2: 508464\tvalid_0's rmse: 713.067\n",
      "[728]\tvalid_0's l2: 508321\tvalid_0's rmse: 712.966\n",
      "[729]\tvalid_0's l2: 508182\tvalid_0's rmse: 712.869\n",
      "[730]\tvalid_0's l2: 508064\tvalid_0's rmse: 712.786\n",
      "[731]\tvalid_0's l2: 507999\tvalid_0's rmse: 712.741\n",
      "[732]\tvalid_0's l2: 507932\tvalid_0's rmse: 712.693\n",
      "[733]\tvalid_0's l2: 507863\tvalid_0's rmse: 712.645\n",
      "[734]\tvalid_0's l2: 507850\tvalid_0's rmse: 712.636\n",
      "[735]\tvalid_0's l2: 507819\tvalid_0's rmse: 712.614\n",
      "[736]\tvalid_0's l2: 507679\tvalid_0's rmse: 712.516\n",
      "[737]\tvalid_0's l2: 507548\tvalid_0's rmse: 712.424\n",
      "[738]\tvalid_0's l2: 507488\tvalid_0's rmse: 712.382\n",
      "[739]\tvalid_0's l2: 507349\tvalid_0's rmse: 712.284\n",
      "[740]\tvalid_0's l2: 507093\tvalid_0's rmse: 712.105\n",
      "[741]\tvalid_0's l2: 506997\tvalid_0's rmse: 712.038\n",
      "[742]\tvalid_0's l2: 506820\tvalid_0's rmse: 711.913\n",
      "[743]\tvalid_0's l2: 506329\tvalid_0's rmse: 711.568\n",
      "[744]\tvalid_0's l2: 506207\tvalid_0's rmse: 711.483\n",
      "[745]\tvalid_0's l2: 505928\tvalid_0's rmse: 711.286\n",
      "[746]\tvalid_0's l2: 505866\tvalid_0's rmse: 711.243\n",
      "[747]\tvalid_0's l2: 505782\tvalid_0's rmse: 711.184\n",
      "[748]\tvalid_0's l2: 505623\tvalid_0's rmse: 711.072\n",
      "[749]\tvalid_0's l2: 505529\tvalid_0's rmse: 711.005\n",
      "[750]\tvalid_0's l2: 505440\tvalid_0's rmse: 710.943\n",
      "[751]\tvalid_0's l2: 505377\tvalid_0's rmse: 710.899\n",
      "[752]\tvalid_0's l2: 505320\tvalid_0's rmse: 710.859\n",
      "[753]\tvalid_0's l2: 505219\tvalid_0's rmse: 710.787\n",
      "[754]\tvalid_0's l2: 505143\tvalid_0's rmse: 710.734\n",
      "[755]\tvalid_0's l2: 504979\tvalid_0's rmse: 710.619\n",
      "[756]\tvalid_0's l2: 504838\tvalid_0's rmse: 710.519\n",
      "[757]\tvalid_0's l2: 504729\tvalid_0's rmse: 710.443\n",
      "[758]\tvalid_0's l2: 504682\tvalid_0's rmse: 710.41\n",
      "[759]\tvalid_0's l2: 504414\tvalid_0's rmse: 710.221\n",
      "[760]\tvalid_0's l2: 504353\tvalid_0's rmse: 710.178\n",
      "[761]\tvalid_0's l2: 503877\tvalid_0's rmse: 709.843\n",
      "[762]\tvalid_0's l2: 503596\tvalid_0's rmse: 709.645\n",
      "[763]\tvalid_0's l2: 503524\tvalid_0's rmse: 709.594\n",
      "[764]\tvalid_0's l2: 503359\tvalid_0's rmse: 709.478\n",
      "[765]\tvalid_0's l2: 503243\tvalid_0's rmse: 709.396\n",
      "[766]\tvalid_0's l2: 503168\tvalid_0's rmse: 709.343\n",
      "[767]\tvalid_0's l2: 502996\tvalid_0's rmse: 709.222\n",
      "[768]\tvalid_0's l2: 502911\tvalid_0's rmse: 709.162\n",
      "[769]\tvalid_0's l2: 502810\tvalid_0's rmse: 709.091\n",
      "[770]\tvalid_0's l2: 502753\tvalid_0's rmse: 709.051\n",
      "[771]\tvalid_0's l2: 502674\tvalid_0's rmse: 708.995\n",
      "[772]\tvalid_0's l2: 502629\tvalid_0's rmse: 708.963\n",
      "[773]\tvalid_0's l2: 502522\tvalid_0's rmse: 708.888\n",
      "[774]\tvalid_0's l2: 502459\tvalid_0's rmse: 708.843\n",
      "[775]\tvalid_0's l2: 502237\tvalid_0's rmse: 708.687\n",
      "[776]\tvalid_0's l2: 502116\tvalid_0's rmse: 708.601\n",
      "[777]\tvalid_0's l2: 502053\tvalid_0's rmse: 708.557\n",
      "[778]\tvalid_0's l2: 502021\tvalid_0's rmse: 708.535\n",
      "[779]\tvalid_0's l2: 501976\tvalid_0's rmse: 708.503\n",
      "[780]\tvalid_0's l2: 501883\tvalid_0's rmse: 708.437\n",
      "[781]\tvalid_0's l2: 501543\tvalid_0's rmse: 708.197\n",
      "[782]\tvalid_0's l2: 501498\tvalid_0's rmse: 708.166\n",
      "[783]\tvalid_0's l2: 501379\tvalid_0's rmse: 708.081\n",
      "[784]\tvalid_0's l2: 501336\tvalid_0's rmse: 708.051\n",
      "[785]\tvalid_0's l2: 501168\tvalid_0's rmse: 707.932\n",
      "[786]\tvalid_0's l2: 500769\tvalid_0's rmse: 707.65\n",
      "[787]\tvalid_0's l2: 500653\tvalid_0's rmse: 707.568\n",
      "[788]\tvalid_0's l2: 500596\tvalid_0's rmse: 707.528\n",
      "[789]\tvalid_0's l2: 500545\tvalid_0's rmse: 707.492\n",
      "[790]\tvalid_0's l2: 500487\tvalid_0's rmse: 707.451\n",
      "[791]\tvalid_0's l2: 500470\tvalid_0's rmse: 707.439\n",
      "[792]\tvalid_0's l2: 500402\tvalid_0's rmse: 707.391\n",
      "[793]\tvalid_0's l2: 500359\tvalid_0's rmse: 707.361\n",
      "[794]\tvalid_0's l2: 500175\tvalid_0's rmse: 707.231\n",
      "[795]\tvalid_0's l2: 500082\tvalid_0's rmse: 707.165\n",
      "[796]\tvalid_0's l2: 500014\tvalid_0's rmse: 707.117\n",
      "[797]\tvalid_0's l2: 499860\tvalid_0's rmse: 707.008\n",
      "[798]\tvalid_0's l2: 499760\tvalid_0's rmse: 706.937\n",
      "[799]\tvalid_0's l2: 499673\tvalid_0's rmse: 706.875\n",
      "[800]\tvalid_0's l2: 499375\tvalid_0's rmse: 706.665\n",
      "[801]\tvalid_0's l2: 499313\tvalid_0's rmse: 706.621\n",
      "[802]\tvalid_0's l2: 499220\tvalid_0's rmse: 706.555\n",
      "[803]\tvalid_0's l2: 499092\tvalid_0's rmse: 706.464\n",
      "[804]\tvalid_0's l2: 498985\tvalid_0's rmse: 706.388\n",
      "[805]\tvalid_0's l2: 498969\tvalid_0's rmse: 706.377\n",
      "[806]\tvalid_0's l2: 498712\tvalid_0's rmse: 706.195\n",
      "[807]\tvalid_0's l2: 498395\tvalid_0's rmse: 705.971\n",
      "[808]\tvalid_0's l2: 498291\tvalid_0's rmse: 705.897\n",
      "[809]\tvalid_0's l2: 498203\tvalid_0's rmse: 705.835\n",
      "[810]\tvalid_0's l2: 498125\tvalid_0's rmse: 705.779\n",
      "[811]\tvalid_0's l2: 498103\tvalid_0's rmse: 705.764\n",
      "[812]\tvalid_0's l2: 498024\tvalid_0's rmse: 705.708\n",
      "[813]\tvalid_0's l2: 497890\tvalid_0's rmse: 705.614\n",
      "[814]\tvalid_0's l2: 497837\tvalid_0's rmse: 705.575\n",
      "[815]\tvalid_0's l2: 497775\tvalid_0's rmse: 705.531\n",
      "[816]\tvalid_0's l2: 497577\tvalid_0's rmse: 705.391\n",
      "[817]\tvalid_0's l2: 497385\tvalid_0's rmse: 705.255\n",
      "[818]\tvalid_0's l2: 497265\tvalid_0's rmse: 705.17\n",
      "[819]\tvalid_0's l2: 497182\tvalid_0's rmse: 705.111\n",
      "[820]\tvalid_0's l2: 497099\tvalid_0's rmse: 705.053\n",
      "[821]\tvalid_0's l2: 497066\tvalid_0's rmse: 705.029\n",
      "[822]\tvalid_0's l2: 496959\tvalid_0's rmse: 704.953\n",
      "[823]\tvalid_0's l2: 496841\tvalid_0's rmse: 704.869\n",
      "[824]\tvalid_0's l2: 496757\tvalid_0's rmse: 704.81\n",
      "[825]\tvalid_0's l2: 496641\tvalid_0's rmse: 704.728\n",
      "[826]\tvalid_0's l2: 496354\tvalid_0's rmse: 704.524\n",
      "[827]\tvalid_0's l2: 496301\tvalid_0's rmse: 704.486\n",
      "[828]\tvalid_0's l2: 496085\tvalid_0's rmse: 704.333\n",
      "[829]\tvalid_0's l2: 495971\tvalid_0's rmse: 704.252\n",
      "[830]\tvalid_0's l2: 495902\tvalid_0's rmse: 704.203\n",
      "[831]\tvalid_0's l2: 495756\tvalid_0's rmse: 704.1\n",
      "[832]\tvalid_0's l2: 495698\tvalid_0's rmse: 704.058\n",
      "[833]\tvalid_0's l2: 495631\tvalid_0's rmse: 704.011\n",
      "[834]\tvalid_0's l2: 495506\tvalid_0's rmse: 703.922\n",
      "[835]\tvalid_0's l2: 495279\tvalid_0's rmse: 703.76\n",
      "[836]\tvalid_0's l2: 495076\tvalid_0's rmse: 703.616\n",
      "[837]\tvalid_0's l2: 495014\tvalid_0's rmse: 703.572\n",
      "[838]\tvalid_0's l2: 494729\tvalid_0's rmse: 703.369\n",
      "[839]\tvalid_0's l2: 494587\tvalid_0's rmse: 703.269\n",
      "[840]\tvalid_0's l2: 494430\tvalid_0's rmse: 703.157\n",
      "[841]\tvalid_0's l2: 494243\tvalid_0's rmse: 703.024\n",
      "[842]\tvalid_0's l2: 494153\tvalid_0's rmse: 702.96\n",
      "[843]\tvalid_0's l2: 494115\tvalid_0's rmse: 702.933\n",
      "[844]\tvalid_0's l2: 494076\tvalid_0's rmse: 702.905\n",
      "[845]\tvalid_0's l2: 494003\tvalid_0's rmse: 702.854\n",
      "[846]\tvalid_0's l2: 493945\tvalid_0's rmse: 702.812\n",
      "[847]\tvalid_0's l2: 493839\tvalid_0's rmse: 702.736\n",
      "[848]\tvalid_0's l2: 493731\tvalid_0's rmse: 702.66\n",
      "[849]\tvalid_0's l2: 493559\tvalid_0's rmse: 702.538\n",
      "[850]\tvalid_0's l2: 493455\tvalid_0's rmse: 702.463\n",
      "[851]\tvalid_0's l2: 493272\tvalid_0's rmse: 702.333\n",
      "[852]\tvalid_0's l2: 493213\tvalid_0's rmse: 702.291\n",
      "[853]\tvalid_0's l2: 493144\tvalid_0's rmse: 702.242\n",
      "[854]\tvalid_0's l2: 492921\tvalid_0's rmse: 702.083\n",
      "[855]\tvalid_0's l2: 492508\tvalid_0's rmse: 701.789\n",
      "[856]\tvalid_0's l2: 492314\tvalid_0's rmse: 701.651\n",
      "[857]\tvalid_0's l2: 492121\tvalid_0's rmse: 701.513\n",
      "[858]\tvalid_0's l2: 491961\tvalid_0's rmse: 701.399\n",
      "[859]\tvalid_0's l2: 491872\tvalid_0's rmse: 701.336\n",
      "[860]\tvalid_0's l2: 491792\tvalid_0's rmse: 701.278\n",
      "[861]\tvalid_0's l2: 491790\tvalid_0's rmse: 701.278\n",
      "[862]\tvalid_0's l2: 491658\tvalid_0's rmse: 701.183\n",
      "[863]\tvalid_0's l2: 491611\tvalid_0's rmse: 701.15\n",
      "[864]\tvalid_0's l2: 491592\tvalid_0's rmse: 701.136\n",
      "[865]\tvalid_0's l2: 491427\tvalid_0's rmse: 701.019\n",
      "[866]\tvalid_0's l2: 491171\tvalid_0's rmse: 700.836\n",
      "[867]\tvalid_0's l2: 491144\tvalid_0's rmse: 700.816\n",
      "[868]\tvalid_0's l2: 491080\tvalid_0's rmse: 700.771\n",
      "[869]\tvalid_0's l2: 490983\tvalid_0's rmse: 700.702\n",
      "[870]\tvalid_0's l2: 490862\tvalid_0's rmse: 700.615\n",
      "[871]\tvalid_0's l2: 490768\tvalid_0's rmse: 700.548\n",
      "[872]\tvalid_0's l2: 490674\tvalid_0's rmse: 700.481\n",
      "[873]\tvalid_0's l2: 490606\tvalid_0's rmse: 700.433\n",
      "[874]\tvalid_0's l2: 490517\tvalid_0's rmse: 700.369\n",
      "[875]\tvalid_0's l2: 490481\tvalid_0's rmse: 700.344\n",
      "[876]\tvalid_0's l2: 490355\tvalid_0's rmse: 700.254\n",
      "[877]\tvalid_0's l2: 490311\tvalid_0's rmse: 700.222\n",
      "[878]\tvalid_0's l2: 490265\tvalid_0's rmse: 700.189\n",
      "[879]\tvalid_0's l2: 490193\tvalid_0's rmse: 700.138\n",
      "[880]\tvalid_0's l2: 489936\tvalid_0's rmse: 699.954\n",
      "[881]\tvalid_0's l2: 489873\tvalid_0's rmse: 699.909\n",
      "[882]\tvalid_0's l2: 489872\tvalid_0's rmse: 699.909\n",
      "[883]\tvalid_0's l2: 489864\tvalid_0's rmse: 699.903\n",
      "[884]\tvalid_0's l2: 489836\tvalid_0's rmse: 699.883\n",
      "[885]\tvalid_0's l2: 489737\tvalid_0's rmse: 699.812\n",
      "[886]\tvalid_0's l2: 489666\tvalid_0's rmse: 699.761\n",
      "[887]\tvalid_0's l2: 489578\tvalid_0's rmse: 699.699\n",
      "[888]\tvalid_0's l2: 489362\tvalid_0's rmse: 699.544\n",
      "[889]\tvalid_0's l2: 489299\tvalid_0's rmse: 699.499\n",
      "[890]\tvalid_0's l2: 489231\tvalid_0's rmse: 699.451\n",
      "[891]\tvalid_0's l2: 489158\tvalid_0's rmse: 699.398\n",
      "[892]\tvalid_0's l2: 489093\tvalid_0's rmse: 699.352\n",
      "[893]\tvalid_0's l2: 488972\tvalid_0's rmse: 699.266\n",
      "[894]\tvalid_0's l2: 488940\tvalid_0's rmse: 699.242\n",
      "[895]\tvalid_0's l2: 488858\tvalid_0's rmse: 699.184\n",
      "[896]\tvalid_0's l2: 488818\tvalid_0's rmse: 699.155\n",
      "[897]\tvalid_0's l2: 488502\tvalid_0's rmse: 698.929\n",
      "[898]\tvalid_0's l2: 488459\tvalid_0's rmse: 698.898\n",
      "[899]\tvalid_0's l2: 488413\tvalid_0's rmse: 698.865\n",
      "[900]\tvalid_0's l2: 488332\tvalid_0's rmse: 698.807\n",
      "[901]\tvalid_0's l2: 488262\tvalid_0's rmse: 698.757\n",
      "[902]\tvalid_0's l2: 488314\tvalid_0's rmse: 698.795\n",
      "[903]\tvalid_0's l2: 488193\tvalid_0's rmse: 698.708\n",
      "[904]\tvalid_0's l2: 488105\tvalid_0's rmse: 698.645\n",
      "[905]\tvalid_0's l2: 488088\tvalid_0's rmse: 698.633\n",
      "[906]\tvalid_0's l2: 488028\tvalid_0's rmse: 698.59\n",
      "[907]\tvalid_0's l2: 487943\tvalid_0's rmse: 698.529\n",
      "[908]\tvalid_0's l2: 487661\tvalid_0's rmse: 698.327\n",
      "[909]\tvalid_0's l2: 487382\tvalid_0's rmse: 698.127\n",
      "[910]\tvalid_0's l2: 487363\tvalid_0's rmse: 698.114\n",
      "[911]\tvalid_0's l2: 487300\tvalid_0's rmse: 698.069\n",
      "[912]\tvalid_0's l2: 487179\tvalid_0's rmse: 697.982\n",
      "[913]\tvalid_0's l2: 487120\tvalid_0's rmse: 697.94\n",
      "[914]\tvalid_0's l2: 487040\tvalid_0's rmse: 697.883\n",
      "[915]\tvalid_0's l2: 487020\tvalid_0's rmse: 697.868\n",
      "[916]\tvalid_0's l2: 486902\tvalid_0's rmse: 697.784\n",
      "[917]\tvalid_0's l2: 486860\tvalid_0's rmse: 697.753\n",
      "[918]\tvalid_0's l2: 486817\tvalid_0's rmse: 697.722\n",
      "[919]\tvalid_0's l2: 486734\tvalid_0's rmse: 697.663\n",
      "[920]\tvalid_0's l2: 486657\tvalid_0's rmse: 697.608\n",
      "[921]\tvalid_0's l2: 486505\tvalid_0's rmse: 697.499\n",
      "[922]\tvalid_0's l2: 486416\tvalid_0's rmse: 697.435\n",
      "[923]\tvalid_0's l2: 486348\tvalid_0's rmse: 697.386\n",
      "[924]\tvalid_0's l2: 486284\tvalid_0's rmse: 697.341\n",
      "[925]\tvalid_0's l2: 486230\tvalid_0's rmse: 697.302\n",
      "[926]\tvalid_0's l2: 486109\tvalid_0's rmse: 697.215\n",
      "[927]\tvalid_0's l2: 486045\tvalid_0's rmse: 697.169\n",
      "[928]\tvalid_0's l2: 486023\tvalid_0's rmse: 697.153\n",
      "[929]\tvalid_0's l2: 485830\tvalid_0's rmse: 697.015\n",
      "[930]\tvalid_0's l2: 485592\tvalid_0's rmse: 696.844\n",
      "[931]\tvalid_0's l2: 485558\tvalid_0's rmse: 696.82\n",
      "[932]\tvalid_0's l2: 485484\tvalid_0's rmse: 696.767\n",
      "[933]\tvalid_0's l2: 485295\tvalid_0's rmse: 696.631\n",
      "[934]\tvalid_0's l2: 485275\tvalid_0's rmse: 696.617\n",
      "[935]\tvalid_0's l2: 485216\tvalid_0's rmse: 696.575\n",
      "[936]\tvalid_0's l2: 485127\tvalid_0's rmse: 696.51\n",
      "[937]\tvalid_0's l2: 484977\tvalid_0's rmse: 696.403\n",
      "[938]\tvalid_0's l2: 484904\tvalid_0's rmse: 696.351\n",
      "[939]\tvalid_0's l2: 484834\tvalid_0's rmse: 696.3\n",
      "[940]\tvalid_0's l2: 484789\tvalid_0's rmse: 696.268\n",
      "[941]\tvalid_0's l2: 484679\tvalid_0's rmse: 696.189\n",
      "[942]\tvalid_0's l2: 484629\tvalid_0's rmse: 696.153\n",
      "[943]\tvalid_0's l2: 484540\tvalid_0's rmse: 696.089\n",
      "[944]\tvalid_0's l2: 484510\tvalid_0's rmse: 696.068\n",
      "[945]\tvalid_0's l2: 484406\tvalid_0's rmse: 695.993\n",
      "[946]\tvalid_0's l2: 484229\tvalid_0's rmse: 695.865\n",
      "[947]\tvalid_0's l2: 484184\tvalid_0's rmse: 695.834\n",
      "[948]\tvalid_0's l2: 484157\tvalid_0's rmse: 695.814\n",
      "[949]\tvalid_0's l2: 484008\tvalid_0's rmse: 695.707\n",
      "[950]\tvalid_0's l2: 483853\tvalid_0's rmse: 695.595\n",
      "[951]\tvalid_0's l2: 483757\tvalid_0's rmse: 695.526\n",
      "[952]\tvalid_0's l2: 483566\tvalid_0's rmse: 695.389\n",
      "[953]\tvalid_0's l2: 483523\tvalid_0's rmse: 695.358\n",
      "[954]\tvalid_0's l2: 483432\tvalid_0's rmse: 695.293\n",
      "[955]\tvalid_0's l2: 483393\tvalid_0's rmse: 695.265\n",
      "[956]\tvalid_0's l2: 483304\tvalid_0's rmse: 695.2\n",
      "[957]\tvalid_0's l2: 483183\tvalid_0's rmse: 695.114\n",
      "[958]\tvalid_0's l2: 483089\tvalid_0's rmse: 695.046\n",
      "[959]\tvalid_0's l2: 483034\tvalid_0's rmse: 695.007\n",
      "[960]\tvalid_0's l2: 482998\tvalid_0's rmse: 694.981\n",
      "[961]\tvalid_0's l2: 482887\tvalid_0's rmse: 694.901\n",
      "[962]\tvalid_0's l2: 482797\tvalid_0's rmse: 694.836\n",
      "[963]\tvalid_0's l2: 482749\tvalid_0's rmse: 694.802\n",
      "[964]\tvalid_0's l2: 482709\tvalid_0's rmse: 694.772\n",
      "[965]\tvalid_0's l2: 482547\tvalid_0's rmse: 694.656\n",
      "[966]\tvalid_0's l2: 482520\tvalid_0's rmse: 694.637\n",
      "[967]\tvalid_0's l2: 482443\tvalid_0's rmse: 694.581\n",
      "[968]\tvalid_0's l2: 482327\tvalid_0's rmse: 694.498\n",
      "[969]\tvalid_0's l2: 482288\tvalid_0's rmse: 694.47\n",
      "[970]\tvalid_0's l2: 482231\tvalid_0's rmse: 694.428\n",
      "[971]\tvalid_0's l2: 482202\tvalid_0's rmse: 694.408\n",
      "[972]\tvalid_0's l2: 482114\tvalid_0's rmse: 694.344\n",
      "[973]\tvalid_0's l2: 482018\tvalid_0's rmse: 694.275\n",
      "[974]\tvalid_0's l2: 481971\tvalid_0's rmse: 694.241\n",
      "[975]\tvalid_0's l2: 481959\tvalid_0's rmse: 694.232\n",
      "[976]\tvalid_0's l2: 481873\tvalid_0's rmse: 694.171\n",
      "[977]\tvalid_0's l2: 481784\tvalid_0's rmse: 694.107\n",
      "[978]\tvalid_0's l2: 481743\tvalid_0's rmse: 694.077\n",
      "[979]\tvalid_0's l2: 481672\tvalid_0's rmse: 694.026\n",
      "[980]\tvalid_0's l2: 481535\tvalid_0's rmse: 693.927\n",
      "[981]\tvalid_0's l2: 481464\tvalid_0's rmse: 693.876\n",
      "[982]\tvalid_0's l2: 481108\tvalid_0's rmse: 693.619\n",
      "[983]\tvalid_0's l2: 481082\tvalid_0's rmse: 693.601\n",
      "[984]\tvalid_0's l2: 481064\tvalid_0's rmse: 693.588\n",
      "[985]\tvalid_0's l2: 481004\tvalid_0's rmse: 693.545\n",
      "[986]\tvalid_0's l2: 480956\tvalid_0's rmse: 693.51\n",
      "[987]\tvalid_0's l2: 480780\tvalid_0's rmse: 693.383\n",
      "[988]\tvalid_0's l2: 480780\tvalid_0's rmse: 693.383\n",
      "[989]\tvalid_0's l2: 480684\tvalid_0's rmse: 693.314\n",
      "[990]\tvalid_0's l2: 480567\tvalid_0's rmse: 693.229\n",
      "[991]\tvalid_0's l2: 480557\tvalid_0's rmse: 693.222\n",
      "[992]\tvalid_0's l2: 480409\tvalid_0's rmse: 693.116\n",
      "[993]\tvalid_0's l2: 480216\tvalid_0's rmse: 692.976\n",
      "[994]\tvalid_0's l2: 480197\tvalid_0's rmse: 692.962\n",
      "[995]\tvalid_0's l2: 480182\tvalid_0's rmse: 692.952\n",
      "[996]\tvalid_0's l2: 480107\tvalid_0's rmse: 692.897\n",
      "[997]\tvalid_0's l2: 480058\tvalid_0's rmse: 692.862\n",
      "[998]\tvalid_0's l2: 479963\tvalid_0's rmse: 692.794\n",
      "[999]\tvalid_0's l2: 479621\tvalid_0's rmse: 692.547\n",
      "[1000]\tvalid_0's l2: 479448\tvalid_0's rmse: 692.422\n",
      "Did not meet early stopping. Best iteration is:\n",
      "[1000]\tvalid_0's l2: 479448\tvalid_0's rmse: 692.422\n",
      "1000\n"
     ]
    }
   ],
   "source": [
    "from sklearn.metrics import mean_squared_error\n",
    "from sklearn.metrics import r2_score\n",
    "import lightgbm as lgb\n",
    "import time\n",
    "\n",
    "\n",
    "lgb_params = {\n",
    "    'task' : 'train',\n",
    "        'boosting_type' : 'gbdt',\n",
    "        'objective' : 'regression',\n",
    "'metric' : {'rmse','mse'},\n",
    "               'verbose' : 0\n",
    "             }\n",
    "lgb_train = lgb.Dataset(X_train,label=y_train)\n",
    "lgb_eval = lgb.Dataset(X_val, y_val, reference=lgb_train)\n",
    "\n",
    "\n",
    "evals_result = {}\n",
    "md = lgb.train(lgb_params, \n",
    "               lgb_train,\n",
    "               valid_sets = lgb_eval,\n",
    "               num_boost_round = 1000,\n",
    "               early_stopping_rounds=100)\n",
    "\n",
    "\n",
    "\n",
    "print(md.best_iteration)\n"
   ]
  },
  {
   "cell_type": "code",
   "execution_count": 0,
   "metadata": {
    "colab": {},
    "colab_type": "code",
    "id": "emDh4C53M0ZY"
   },
   "outputs": [],
   "source": []
  },
  {
   "cell_type": "code",
   "execution_count": 62,
   "metadata": {
    "colab": {
     "base_uri": "https://localhost:8080/",
     "height": 51
    },
    "colab_type": "code",
    "id": "3_2Nd2vea568",
    "outputId": "ed7dcd8d-a819-4f09-dc14-aa25a10f405e"
   },
   "outputs": [
    {
     "name": "stdout",
     "output_type": "stream",
     "text": [
      "lgb :  0.9513187425139384\n",
      "rmspe: 0.10822627297478563\n"
     ]
    }
   ],
   "source": [
    "\n",
    "ypred = md.predict(X_val)\n",
    "\n",
    "print( 'lgb : ', r2_score(y_val,ypred))\n",
    "print('rmspe:',rmspe(y_val,ypred))"
   ]
  },
  {
   "cell_type": "markdown",
   "metadata": {
    "colab_type": "text",
    "id": "zuZM7kEDFTIz"
   },
   "source": [
    "結果は悪くない、更にパラメータチューニングする必要があります。  \n"
   ]
  },
  {
   "cell_type": "markdown",
   "metadata": {
    "colab_type": "text",
    "id": "3IJwT8DHFbXe"
   },
   "source": [
    "### LightGBMのパラメータチューニング"
   ]
  },
  {
   "cell_type": "code",
   "execution_count": 63,
   "metadata": {
    "colab": {
     "base_uri": "https://localhost:8080/",
     "height": 289
    },
    "colab_type": "code",
    "id": "7AMMm6XD5tFa",
    "outputId": "9a213024-7e36-4153-c205-17a2894dedba"
   },
   "outputs": [
    {
     "data": {
      "text/plain": [
       "GridSearchCV(cv=3, error_score='raise-deprecating',\n",
       "             estimator=LGBMRegressor(boosting_type='gbdt', class_weight=None,\n",
       "                                     colsample_bytree=1.0,\n",
       "                                     importance_type='split', learning_rate=0.1,\n",
       "                                     max_depth=-1, min_child_samples=20,\n",
       "                                     min_child_weight=0.001, min_split_gain=0.0,\n",
       "                                     n_estimators=100, n_jobs=-1,\n",
       "                                     num_boost_round=1000, num_leaves=31,\n",
       "                                     objective=None, random_state=None,\n",
       "                                     reg_alpha=0.0, reg_lambda=0.0,\n",
       "                                     scale_pos_weight=1, seed=27, silent=True,\n",
       "                                     subsample=1.0, subsample_for_bin=200000,\n",
       "                                     subsample_freq=0),\n",
       "             iid=False, n_jobs=-1, param_grid={'max_depth': [13, 15, 17]},\n",
       "             pre_dispatch='2*n_jobs', refit=True, return_train_score=False,\n",
       "             scoring='r2', verbose=0)"
      ]
     },
     "execution_count": 63,
     "metadata": {
      "tags": []
     },
     "output_type": "execute_result"
    }
   ],
   "source": [
    "from sklearn.model_selection import GridSearchCV\n",
    "\n",
    "param_test1={\n",
    "        'max_depth': [13,15,17]\n",
    "}\n",
    "\n",
    "lgb_model = lgb.LGBMRegressor(num_boost_round = 800,scale_pos_weight=1,seed=27)\n",
    "\n",
    "\n",
    "gsearch1 = GridSearchCV(lgb_model,param_grid=param_test1,n_jobs=-1,iid=False,cv=3,scoring = 'r2')\n",
    "gsearch1.fit(X_train,y_train)"
   ]
  },
  {
   "cell_type": "code",
   "execution_count": 64,
   "metadata": {
    "colab": {
     "base_uri": "https://localhost:8080/",
     "height": 34
    },
    "colab_type": "code",
    "id": "8e0T5C5YfQ7M",
    "outputId": "cd5a5eda-f2eb-49cc-c98c-0f5e7af60634"
   },
   "outputs": [
    {
     "data": {
      "text/plain": [
       "({'max_depth': 15}, 0.949212997551852)"
      ]
     },
     "execution_count": 64,
     "metadata": {
      "tags": []
     },
     "output_type": "execute_result"
    }
   ],
   "source": [
    "gsearch1.best_params_, gsearch1.best_score_\n"
   ]
  },
  {
   "cell_type": "code",
   "execution_count": 65,
   "metadata": {
    "colab": {
     "base_uri": "https://localhost:8080/",
     "height": 306
    },
    "colab_type": "code",
    "id": "fCt75BQmJOMc",
    "outputId": "df76b313-d232-4eea-d7ff-593b843ec1a8"
   },
   "outputs": [
    {
     "data": {
      "text/plain": [
       "GridSearchCV(cv=3, error_score='raise-deprecating',\n",
       "             estimator=LGBMRegressor(boosting_type='gbdt', class_weight=None,\n",
       "                                     colsample_bytree=1.0,\n",
       "                                     importance_type='split', learning_rate=0.1,\n",
       "                                     max_depth=15, min_child_samples=20,\n",
       "                                     min_child_weight=0.001, min_split_gain=0.0,\n",
       "                                     n_estimators=100, n_jobs=-1,\n",
       "                                     num_boost_round=1000, num_leaves=31,\n",
       "                                     objective=None, random_state=None,\n",
       "                                     reg_alpha=0.0, reg_lambda=0.0,\n",
       "                                     scale_pos_weight=1, seed=27, silent=True,\n",
       "                                     subsample=1.0, subsample_for_bin=200000,\n",
       "                                     subsample_freq=0),\n",
       "             iid=False, n_jobs=-1,\n",
       "             param_grid={'learning_rate': [0.15, 0.2, 0.25]},\n",
       "             pre_dispatch='2*n_jobs', refit=True, return_train_score=False,\n",
       "             scoring='r2', verbose=0)"
      ]
     },
     "execution_count": 65,
     "metadata": {
      "tags": []
     },
     "output_type": "execute_result"
    }
   ],
   "source": [
    "from sklearn.model_selection import GridSearchCV\n",
    "\n",
    "param_test2={\n",
    "        'learning_rate': [0.15,0.2,0.25]\n",
    "}\n",
    "\n",
    "lgb_model = lgb.LGBMRegressor(num_boost_round=800,max_depth=15, scale_pos_weight=1,seed=27)\n",
    "\n",
    "\n",
    "gsearch2 = GridSearchCV(lgb_model,param_grid=param_test2,n_jobs=-1,iid=False,cv=3,scoring='r2')\n",
    "gsearch2.fit(X_train,y_train)"
   ]
  },
  {
   "cell_type": "code",
   "execution_count": 66,
   "metadata": {
    "colab": {
     "base_uri": "https://localhost:8080/",
     "height": 34
    },
    "colab_type": "code",
    "id": "AX4YarUvJOKs",
    "outputId": "f62ce7eb-8971-4368-9680-140f8142ffc5"
   },
   "outputs": [
    {
     "data": {
      "text/plain": [
       "({'learning_rate': 0.25}, 0.9529839754288233)"
      ]
     },
     "execution_count": 66,
     "metadata": {
      "tags": []
     },
     "output_type": "execute_result"
    }
   ],
   "source": [
    "gsearch2.best_params_, gsearch2.best_score_\n"
   ]
  },
  {
   "cell_type": "code",
   "execution_count": 67,
   "metadata": {
    "colab": {
     "base_uri": "https://localhost:8080/",
     "height": 136
    },
    "colab_type": "code",
    "id": "rhxn0_4UiuTh",
    "outputId": "f04ac17a-7e07-4cf0-b79e-a60f7865367a"
   },
   "outputs": [
    {
     "data": {
      "text/plain": [
       "LGBMRegressor(boosting_type='gbdt', class_weight=None, colsample_bytree=1.0,\n",
       "              eta=0.2, importance_type='split', learning_rate=0.1, max_depth=15,\n",
       "              min_child_samples=20, min_child_weight=0.001, min_split_gain=0.0,\n",
       "              n_estimators=100, n_jobs=-1, num_boost_round=1000, num_leaves=31,\n",
       "              objective=None, random_state=None, reg_alpha=0.0, reg_lambda=0.0,\n",
       "              scale_pos_weight=1, seed=27, silent=True, subsample=1.0,\n",
       "              subsample_for_bin=200000, subsample_freq=0)"
      ]
     },
     "execution_count": 67,
     "metadata": {
      "tags": []
     },
     "output_type": "execute_result"
    }
   ],
   "source": [
    "lgb_model = lgb.LGBMRegressor(num_boost_round=800,max_depth=15,\\\n",
    "                              eta=0.2, scale_pos_weight=1,seed=27)\n",
    "lgb_model.fit(X_train,y_train)"
   ]
  },
  {
   "cell_type": "code",
   "execution_count": 68,
   "metadata": {
    "colab": {
     "base_uri": "https://localhost:8080/",
     "height": 51
    },
    "colab_type": "code",
    "id": "oEL0S5LdJN_n",
    "outputId": "730c7e44-86f8-4786-f116-35c57e341c7f"
   },
   "outputs": [
    {
     "name": "stdout",
     "output_type": "stream",
     "text": [
      "lgb :  0.9516169301339064\n",
      "rmspe: 0.10733717012233343\n"
     ]
    }
   ],
   "source": [
    "ypred2 = lgb_model.predict(X_val)\n",
    "\n",
    "print( 'lgb : ', r2_score(y_val,ypred2))\n",
    "print('rmspe:',rmspe(y_val,ypred2))"
   ]
  },
  {
   "cell_type": "code",
   "execution_count": 69,
   "metadata": {
    "colab": {
     "base_uri": "https://localhost:8080/",
     "height": 51
    },
    "colab_type": "code",
    "id": "z1a5xBd1M0V1",
    "outputId": "3e325dd3-c48b-4c74-d62a-dd69fdd3465a"
   },
   "outputs": [
    {
     "name": "stdout",
     "output_type": "stream",
     "text": [
      "lgb :  0.9082698773744339\n",
      "rmspe: 0.02262760212712538\n"
     ]
    }
   ],
   "source": [
    "# dtest = lgb.Dataset(X_test, label=y_test)\n",
    "ypred_t = lgb_model.predict(X_test)\n",
    "\n",
    "print( 'lgb : ', r2_score(y_test,ypred_t))\n",
    "print('rmspe:',rmspe(y_test,ypred_t))"
   ]
  },
  {
   "cell_type": "code",
   "execution_count": 0,
   "metadata": {
    "colab": {},
    "colab_type": "code",
    "id": "C7nzFQNTdoKg"
   },
   "outputs": [],
   "source": []
  },
  {
   "cell_type": "markdown",
   "metadata": {
    "colab_type": "text",
    "id": "fNNIOfOeH_39"
   },
   "source": [
    "# 結果の提出"
   ]
  },
  {
   "cell_type": "code",
   "execution_count": 70,
   "metadata": {
    "colab": {
     "base_uri": "https://localhost:8080/",
     "height": 136
    },
    "colab_type": "code",
    "id": "cgi-xlB746Ml",
    "outputId": "c6cb0c26-b8f2-44ab-90cd-5251ffcab448"
   },
   "outputs": [
    {
     "data": {
      "text/plain": [
       "LGBMRegressor(boosting_type='gbdt', class_weight=None, colsample_bytree=1.0,\n",
       "              eta=0.2, importance_type='split', learning_rate=0.1, max_depth=15,\n",
       "              min_child_samples=20, min_child_weight=0.001, min_split_gain=0.0,\n",
       "              n_estimators=100, n_jobs=-1, num_boost_round=1000, num_leaves=31,\n",
       "              objective=None, random_state=None, reg_alpha=0.0, reg_lambda=0.0,\n",
       "              scale_pos_weight=1, seed=27, silent=True, subsample=1.0,\n",
       "              subsample_for_bin=200000, subsample_freq=0)"
      ]
     },
     "execution_count": 70,
     "metadata": {
      "tags": []
     },
     "output_type": "execute_result"
    }
   ],
   "source": [
    "model_lgb_final = lgb.LGBMRegressor(num_boost_round=800,max_depth=15,\\\n",
    "                              eta=0.2, scale_pos_weight=1,seed=27)  \n",
    "\n",
    "model_lgb_final.fit(X_train_all,y_train_all)"
   ]
  },
  {
   "cell_type": "code",
   "execution_count": 0,
   "metadata": {
    "colab": {},
    "colab_type": "code",
    "id": "rtG4uK7W46Gu"
   },
   "outputs": [],
   "source": []
  },
  {
   "cell_type": "code",
   "execution_count": 0,
   "metadata": {
    "colab": {},
    "colab_type": "code",
    "id": "2YT0EmRBkZMN"
   },
   "outputs": [],
   "source": [
    "li_test =set(test_df.columns)\n",
    "li_df = set(df.columns)\n",
    "li_new_features = li_df -  li_test\n",
    "for i in list(li_new_features):\n",
    "  test_df[i]=0"
   ]
  },
  {
   "cell_type": "code",
   "execution_count": 0,
   "metadata": {
    "colab": {},
    "colab_type": "code",
    "id": "34VnRTORYsXb"
   },
   "outputs": [],
   "source": [
    "y_pred_all = model_lgb_final.predict(test_df[features])\n",
    "submit_df = pd.DataFrame({\n",
    "    'Id':pd.read_csv('test.csv')['Id'],\n",
    "    'Sales':y_pred_all\n",
    "}\n",
    ")"
   ]
  },
  {
   "cell_type": "code",
   "execution_count": 0,
   "metadata": {
    "colab": {},
    "colab_type": "code",
    "id": "NKa_cSBKhsep"
   },
   "outputs": [],
   "source": [
    "submit_df.to_csv('./submit_0818.csv',index=False)"
   ]
  },
  {
   "cell_type": "markdown",
   "metadata": {
    "colab": {},
    "colab_type": "code",
    "id": "dQfKrTBIjJoP"
   },
   "source": []
  },
  {
   "cell_type": "markdown",
   "metadata": {
    "colab": {},
    "colab_type": "code",
    "id": "r5QlsRrIjJgs"
   },
   "source": []
  }
 ],
 "metadata": {
  "accelerator": "GPU",
  "colab": {
   "collapsed_sections": [],
   "name": "モデリングと予測.ipynb",
   "provenance": [],
   "toc_visible": true,
   "version": "0.3.2"
  },
  "kernelspec": {
   "display_name": "Python 3",
   "language": "python",
   "name": "python3"
  },
  "language_info": {
   "codemirror_mode": {
    "name": "ipython",
    "version": 3
   },
   "file_extension": ".py",
   "mimetype": "text/x-python",
   "name": "python",
   "nbconvert_exporter": "python",
   "pygments_lexer": "ipython3",
   "version": "3.7.1"
  }
 },
 "nbformat": 4,
 "nbformat_minor": 1
}
