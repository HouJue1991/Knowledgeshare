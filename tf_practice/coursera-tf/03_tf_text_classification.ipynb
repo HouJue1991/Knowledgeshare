{
  "nbformat": 4,
  "nbformat_minor": 0,
  "metadata": {
    "colab": {
      "name": "tf_text_classification.ipynb",
      "provenance": [],
      "collapsed_sections": []
    },
    "kernelspec": {
      "display_name": "Python 3",
      "name": "python3"
    },
    "accelerator": "TPU"
  },
  "cells": [
    {
      "cell_type": "code",
      "metadata": {
        "id": "zX4Kg8DUTKWO"
      },
      "source": [
        "#@title Licensed under the Apache License, Version 2.0 (the \"License\");\n",
        "# you may not use this file except in compliance with the License.\n",
        "# You may obtain a copy of the License at\n",
        "#\n",
        "# https://www.apache.org/licenses/LICENSE-2.0\n",
        "#\n",
        "# Unless required by applicable law or agreed to in writing, software\n",
        "# distributed under the License is distributed on an \"AS IS\" BASIS,\n",
        "# WITHOUT WARRANTIES OR CONDITIONS OF ANY KIND, either express or implied.\n",
        "# See the License for the specific language governing permissions and\n",
        "# limitations under the License."
      ],
      "execution_count": 1,
      "outputs": []
    },
    {
      "cell_type": "code",
      "metadata": {
        "id": "hmA6EzkQJ5jt"
      },
      "source": [
        "import json\n",
        "import tensorflow as tf\n",
        "import csv\n",
        "import random\n",
        "import numpy as np\n",
        "import zipfile\n",
        "\n",
        "from tensorflow.keras.preprocessing.text import Tokenizer\n",
        "from tensorflow.keras.preprocessing.sequence import pad_sequences\n",
        "from tensorflow.keras.utils import to_categorical\n",
        "from tensorflow.keras import regularizers\n",
        "\n",
        "\n",
        "embedding_dim = 100\n",
        "max_length = 16\n",
        "trunc_type='post'\n",
        "padding_type='post'\n",
        "oov_tok = \"<OOV>\"\n",
        "training_size= 160000\n",
        "# Your dataset size here. Experiment using smaller values (i.e. 16000), but don't forget to train on at least 160000 to see the best effects\n",
        "test_portion=.1\n",
        "\n",
        "corpus = []\n"
      ],
      "execution_count": 2,
      "outputs": []
    },
    {
      "cell_type": "code",
      "metadata": {
        "id": "Owe9Bq772sTK"
      },
      "source": [
        "# !wget --no-check-certificate \\\n",
        "#     https://storage.googleapis.com/laurencemoroney-blog.appspot.com/training_cleaned.csv \\\n",
        "#     -O /tmp/training_cleaned.csv\n",
        "# !wget --no-check-certificate \\\n",
        "#     https://nlp.stanford.edu/data/wordvecs/glove.6B.zip \\\n",
        "#     -O /tmp/glove.6B.zip\n",
        "\n",
        "# local_zip = '/tmp/glove.6B.zip'\n",
        "\n",
        "# zip_ref = zipfile.ZipFile(local_zip , 'r')\n",
        "# zip_ref.extractall('/tmp')\n"
      ],
      "execution_count": 3,
      "outputs": []
    },
    {
      "cell_type": "code",
      "metadata": {
        "id": "bM0l_dORKqE0"
      },
      "source": [
        "# Note that I cleaned the Stanford dataset to remove LATIN1 encoding to make it easier for Python CSV reader\n",
        "# You can do that yourself with:\n",
        "# iconv -f LATIN1 -t UTF8 training.1600000.processed.noemoticon.csv -o training_cleaned.csv\n",
        "# I then hosted it on my site to make it easier to use in this notebook\n",
        "\n",
        "\n",
        "num_sentences = 0\n",
        "\n",
        "with open(\"/tmp/training_cleaned.csv\") as csvfile:\n",
        "    reader = csv.reader(csvfile, delimiter=',')\n",
        "    for row in reader:\n",
        "      # Your Code here. Create list items where the first item is the text, found in row[5], and the second is the label. Note that the label is a '0' or a '4' in the text. When it's the former, make\n",
        "      # your label to be 0, otherwise 1. Keep a count of the number of sentences in num_sentences\n",
        "      list_item = []\n",
        "        # YOUR CODE HERE\n",
        "      list_item.append(row[5])\n",
        "      list_item.append(0 if row[0]=='0' else 1)\n",
        "      num_sentences = num_sentences + 1\n",
        "      corpus.append(list_item)\n",
        "    # print(row)\n"
      ],
      "execution_count": 4,
      "outputs": []
    },
    {
      "cell_type": "code",
      "metadata": {
        "colab": {
          "base_uri": "https://localhost:8080/"
        },
        "id": "3kxblBUjEUX-",
        "outputId": "de5fb5c7-1816-4b31-becf-cb24f051efb5"
      },
      "source": [
        "print(num_sentences)\n",
        "print(len(corpus))\n",
        "print(corpus[1])\n",
        "\n",
        "# Expected Output:\n",
        "# 1600000\n",
        "# 1600000\n",
        "# [\"is upset that he can't update his Facebook by texting it... and might cry as a result  School today also. Blah!\", 0]"
      ],
      "execution_count": 5,
      "outputs": [
        {
          "output_type": "stream",
          "text": [
            "1600000\n",
            "1600000\n",
            "[\"is upset that he can't update his Facebook by texting it... and might cry as a result  School today also. Blah!\", 0]\n"
          ],
          "name": "stdout"
        }
      ]
    },
    {
      "cell_type": "code",
      "metadata": {
        "id": "GT5UQUyWu13d"
      },
      "source": [
        ""
      ],
      "execution_count": 5,
      "outputs": []
    },
    {
      "cell_type": "code",
      "metadata": {
        "id": "ohOGz24lsNAD"
      },
      "source": [
        "sentences=[]\n",
        "labels=[]\n",
        "random.shuffle(corpus)\n",
        "\n",
        "for x in range(training_size):\n",
        "    sentences.append(corpus[x][0])\n",
        "    labels.append(corpus[x][1])\n",
        "\n",
        "\n",
        "tokenizer = Tokenizer(oov_token = oov_tok)\n",
        "tokenizer.fit_on_texts(sentences)# YOUR CODE HERE)\n",
        "\n",
        "word_index = tokenizer.word_index\n",
        "vocab_size=len(word_index)# YOUR CODE HERE)\n",
        "\n",
        "sequences = tokenizer.texts_to_sequences(sentences)\n",
        "padded = pad_sequences(\n",
        "    sequences\n",
        "    ,maxlen = max_length\n",
        "    ,padding=padding_type\n",
        "    ,truncating=trunc_type\n",
        "    )# YOUR CODE HERE)\n",
        "\n",
        "split = int(test_portion * training_size)\n",
        "\n",
        "test_sequences = np.array(padded[:split])# YOUR CODE HERE]\n",
        "training_sequences = np.array(padded[split:training_size])# YOUR CODE HERE]\n",
        "test_labels = np.array(labels[:split])# YOUR CODE HERE]\n",
        "training_labels = np.array(labels[split:training_size])# YOUR CODE HERE]"
      ],
      "execution_count": 6,
      "outputs": []
    },
    {
      "cell_type": "code",
      "metadata": {
        "colab": {
          "base_uri": "https://localhost:8080/"
        },
        "id": "AENWDbjCynrL",
        "outputId": "38a2c93e-631e-48c1-a0c5-049f9e082b3a"
      },
      "source": [
        "sentences[1],sequences[1],padded[1],labels[1]"
      ],
      "execution_count": 7,
      "outputs": [
        {
          "output_type": "execute_result",
          "data": {
            "text/plain": [
              "(\"I feel so empty without an episode of Jonas .. can't wait for this saturday! Disney can't do this to us \",\n",
              " [2,\n",
              "  110,\n",
              "  16,\n",
              "  1691,\n",
              "  398,\n",
              "  94,\n",
              "  990,\n",
              "  13,\n",
              "  804,\n",
              "  72,\n",
              "  143,\n",
              "  11,\n",
              "  27,\n",
              "  431,\n",
              "  1620,\n",
              "  72,\n",
              "  41,\n",
              "  27,\n",
              "  3,\n",
              "  208],\n",
              " array([   2,  110,   16, 1691,  398,   94,  990,   13,  804,   72,  143,\n",
              "          11,   27,  431, 1620,   72], dtype=int32),\n",
              " 0)"
            ]
          },
          "metadata": {
            "tags": []
          },
          "execution_count": 7
        }
      ]
    },
    {
      "cell_type": "code",
      "metadata": {
        "colab": {
          "base_uri": "https://localhost:8080/"
        },
        "id": "DXwXCVUazLyu",
        "outputId": "585e8ff3-324b-4560-b185-63ddae2ad019"
      },
      "source": [
        "print(training_sequences.shape,training_labels.shape)\n",
        "print(test_sequences.shape,test_labels.shape)"
      ],
      "execution_count": 8,
      "outputs": [
        {
          "output_type": "stream",
          "text": [
            "(144000, 16) (144000,)\n",
            "(16000, 16) (16000,)\n"
          ],
          "name": "stdout"
        }
      ]
    },
    {
      "cell_type": "code",
      "metadata": {
        "colab": {
          "base_uri": "https://localhost:8080/"
        },
        "id": "gIrtRem1En3N",
        "outputId": "4c9c2c82-f08d-451f-829c-cce3e66f966d"
      },
      "source": [
        "print(vocab_size)\n",
        "print(word_index['i'])\n",
        "# Expected Output\n",
        "# 138858\n",
        "# 1"
      ],
      "execution_count": 9,
      "outputs": [
        {
          "output_type": "stream",
          "text": [
            "138516\n",
            "2\n"
          ],
          "name": "stdout"
        }
      ]
    },
    {
      "cell_type": "code",
      "metadata": {
        "id": "q5J9z3ca2xgF"
      },
      "source": [
        ""
      ],
      "execution_count": 9,
      "outputs": []
    },
    {
      "cell_type": "code",
      "metadata": {
        "id": "C1zdgJkusRh0"
      },
      "source": [
        "# Note this is the 100 dimension version of GloVe from Stanford\n",
        "# I unzipped and hosted it on my site to make this notebook easier\n",
        "\n",
        "\n",
        "embeddings_index = {};\n",
        "with open('/tmp/glove.6B.100d.txt') as f:\n",
        "    for line in f:\n",
        "        values = line.split();\n",
        "        word = values[0];\n",
        "        coefs = np.asarray(values[1:], dtype='float32');\n",
        "        embeddings_index[word] = coefs;\n",
        "\n",
        "embeddings_matrix = np.zeros((vocab_size+1, embedding_dim));\n",
        "for word, i in word_index.items():\n",
        "    embedding_vector = embeddings_index.get(word);\n",
        "    if embedding_vector is not None:\n",
        "        embeddings_matrix[i] = embedding_vector;"
      ],
      "execution_count": 10,
      "outputs": []
    },
    {
      "cell_type": "code",
      "metadata": {
        "colab": {
          "base_uri": "https://localhost:8080/"
        },
        "id": "71NLk_lpFLNt",
        "outputId": "cb86e542-0087-4264-c3eb-e35cd46e5e12"
      },
      "source": [
        "print(len(embeddings_matrix))\n",
        "# Expected Output\n",
        "# 138859"
      ],
      "execution_count": 11,
      "outputs": [
        {
          "output_type": "stream",
          "text": [
            "138517\n"
          ],
          "name": "stdout"
        }
      ]
    },
    {
      "cell_type": "code",
      "metadata": {
        "colab": {
          "base_uri": "https://localhost:8080/"
        },
        "id": "Wnr0JFN-ahPI",
        "outputId": "ce4776b7-0d93-4dfa-e495-63ff9d429843"
      },
      "source": [
        "embeddings_matrix[:5]"
      ],
      "execution_count": 12,
      "outputs": [
        {
          "output_type": "execute_result",
          "data": {
            "text/plain": [
              "array([[ 0.00000000e+00,  0.00000000e+00,  0.00000000e+00,\n",
              "         0.00000000e+00,  0.00000000e+00,  0.00000000e+00,\n",
              "         0.00000000e+00,  0.00000000e+00,  0.00000000e+00,\n",
              "         0.00000000e+00,  0.00000000e+00,  0.00000000e+00,\n",
              "         0.00000000e+00,  0.00000000e+00,  0.00000000e+00,\n",
              "         0.00000000e+00,  0.00000000e+00,  0.00000000e+00,\n",
              "         0.00000000e+00,  0.00000000e+00,  0.00000000e+00,\n",
              "         0.00000000e+00,  0.00000000e+00,  0.00000000e+00,\n",
              "         0.00000000e+00,  0.00000000e+00,  0.00000000e+00,\n",
              "         0.00000000e+00,  0.00000000e+00,  0.00000000e+00,\n",
              "         0.00000000e+00,  0.00000000e+00,  0.00000000e+00,\n",
              "         0.00000000e+00,  0.00000000e+00,  0.00000000e+00,\n",
              "         0.00000000e+00,  0.00000000e+00,  0.00000000e+00,\n",
              "         0.00000000e+00,  0.00000000e+00,  0.00000000e+00,\n",
              "         0.00000000e+00,  0.00000000e+00,  0.00000000e+00,\n",
              "         0.00000000e+00,  0.00000000e+00,  0.00000000e+00,\n",
              "         0.00000000e+00,  0.00000000e+00,  0.00000000e+00,\n",
              "         0.00000000e+00,  0.00000000e+00,  0.00000000e+00,\n",
              "         0.00000000e+00,  0.00000000e+00,  0.00000000e+00,\n",
              "         0.00000000e+00,  0.00000000e+00,  0.00000000e+00,\n",
              "         0.00000000e+00,  0.00000000e+00,  0.00000000e+00,\n",
              "         0.00000000e+00,  0.00000000e+00,  0.00000000e+00,\n",
              "         0.00000000e+00,  0.00000000e+00,  0.00000000e+00,\n",
              "         0.00000000e+00,  0.00000000e+00,  0.00000000e+00,\n",
              "         0.00000000e+00,  0.00000000e+00,  0.00000000e+00,\n",
              "         0.00000000e+00,  0.00000000e+00,  0.00000000e+00,\n",
              "         0.00000000e+00,  0.00000000e+00,  0.00000000e+00,\n",
              "         0.00000000e+00,  0.00000000e+00,  0.00000000e+00,\n",
              "         0.00000000e+00,  0.00000000e+00,  0.00000000e+00,\n",
              "         0.00000000e+00,  0.00000000e+00,  0.00000000e+00,\n",
              "         0.00000000e+00,  0.00000000e+00,  0.00000000e+00,\n",
              "         0.00000000e+00,  0.00000000e+00,  0.00000000e+00,\n",
              "         0.00000000e+00,  0.00000000e+00,  0.00000000e+00,\n",
              "         0.00000000e+00],\n",
              "       [ 0.00000000e+00,  0.00000000e+00,  0.00000000e+00,\n",
              "         0.00000000e+00,  0.00000000e+00,  0.00000000e+00,\n",
              "         0.00000000e+00,  0.00000000e+00,  0.00000000e+00,\n",
              "         0.00000000e+00,  0.00000000e+00,  0.00000000e+00,\n",
              "         0.00000000e+00,  0.00000000e+00,  0.00000000e+00,\n",
              "         0.00000000e+00,  0.00000000e+00,  0.00000000e+00,\n",
              "         0.00000000e+00,  0.00000000e+00,  0.00000000e+00,\n",
              "         0.00000000e+00,  0.00000000e+00,  0.00000000e+00,\n",
              "         0.00000000e+00,  0.00000000e+00,  0.00000000e+00,\n",
              "         0.00000000e+00,  0.00000000e+00,  0.00000000e+00,\n",
              "         0.00000000e+00,  0.00000000e+00,  0.00000000e+00,\n",
              "         0.00000000e+00,  0.00000000e+00,  0.00000000e+00,\n",
              "         0.00000000e+00,  0.00000000e+00,  0.00000000e+00,\n",
              "         0.00000000e+00,  0.00000000e+00,  0.00000000e+00,\n",
              "         0.00000000e+00,  0.00000000e+00,  0.00000000e+00,\n",
              "         0.00000000e+00,  0.00000000e+00,  0.00000000e+00,\n",
              "         0.00000000e+00,  0.00000000e+00,  0.00000000e+00,\n",
              "         0.00000000e+00,  0.00000000e+00,  0.00000000e+00,\n",
              "         0.00000000e+00,  0.00000000e+00,  0.00000000e+00,\n",
              "         0.00000000e+00,  0.00000000e+00,  0.00000000e+00,\n",
              "         0.00000000e+00,  0.00000000e+00,  0.00000000e+00,\n",
              "         0.00000000e+00,  0.00000000e+00,  0.00000000e+00,\n",
              "         0.00000000e+00,  0.00000000e+00,  0.00000000e+00,\n",
              "         0.00000000e+00,  0.00000000e+00,  0.00000000e+00,\n",
              "         0.00000000e+00,  0.00000000e+00,  0.00000000e+00,\n",
              "         0.00000000e+00,  0.00000000e+00,  0.00000000e+00,\n",
              "         0.00000000e+00,  0.00000000e+00,  0.00000000e+00,\n",
              "         0.00000000e+00,  0.00000000e+00,  0.00000000e+00,\n",
              "         0.00000000e+00,  0.00000000e+00,  0.00000000e+00,\n",
              "         0.00000000e+00,  0.00000000e+00,  0.00000000e+00,\n",
              "         0.00000000e+00,  0.00000000e+00,  0.00000000e+00,\n",
              "         0.00000000e+00,  0.00000000e+00,  0.00000000e+00,\n",
              "         0.00000000e+00,  0.00000000e+00,  0.00000000e+00,\n",
              "         0.00000000e+00],\n",
              "       [-4.65390012e-02,  6.19660020e-01,  5.66470027e-01,\n",
              "        -4.65840012e-01, -1.18900001e+00,  4.45989996e-01,\n",
              "         6.60350025e-02,  3.19099993e-01,  1.46789998e-01,\n",
              "        -2.21190006e-01,  7.92389989e-01,  2.99050003e-01,\n",
              "         1.60730004e-01,  2.53240000e-02,  1.86780006e-01,\n",
              "        -3.10009986e-01, -2.81080008e-01,  6.05149984e-01,\n",
              "        -1.06540000e+00,  5.24760008e-01,  6.41520023e-02,\n",
              "         1.03579998e+00, -4.07790005e-01, -3.80109996e-01,\n",
              "         3.08010012e-01,  5.99640012e-01, -2.69910008e-01,\n",
              "        -7.60349989e-01,  9.42219973e-01, -4.69190001e-01,\n",
              "        -1.82779998e-01,  9.06520009e-01,  7.96710014e-01,\n",
              "         2.48249993e-01,  2.57129997e-01,  6.23199999e-01,\n",
              "        -4.47679996e-01,  6.53569996e-01,  7.69020021e-01,\n",
              "        -5.12290001e-01, -4.43329990e-01, -2.18669996e-01,\n",
              "         3.83700013e-01, -1.14830005e+00, -9.43979979e-01,\n",
              "        -1.50619999e-01,  3.00119996e-01, -5.78059971e-01,\n",
              "         2.01749995e-01, -1.65910006e+00, -7.91950002e-02,\n",
              "         2.64229998e-02,  2.20510006e-01,  9.97139990e-01,\n",
              "        -5.75389981e-01, -2.72659993e+00,  3.14480007e-01,\n",
              "         7.05219984e-01,  1.43809998e+00,  9.91259992e-01,\n",
              "         1.39760002e-01,  1.34739995e+00, -1.17530000e+00,\n",
              "         3.95030016e-03,  1.02980006e+00,  6.46369979e-02,\n",
              "         9.08869982e-01,  8.28719974e-01, -4.70030010e-01,\n",
              "        -1.05750002e-01,  5.91600001e-01, -4.22100008e-01,\n",
              "         5.73310018e-01, -5.41140020e-01,  1.07680000e-01,\n",
              "         3.97839993e-01, -4.87440005e-02,  6.45959973e-02,\n",
              "        -6.14369988e-01, -2.86000013e-01,  5.06699979e-01,\n",
              "        -4.97579992e-01, -8.15699995e-01,  1.64079994e-01,\n",
              "        -1.96300006e+00, -2.66930014e-01, -3.75930011e-01,\n",
              "        -9.58469987e-01, -8.58399987e-01, -7.15770006e-01,\n",
              "        -3.23430002e-01, -4.31210011e-01,  4.13919985e-01,\n",
              "         2.83740014e-01, -7.09309995e-01,  1.50030002e-01,\n",
              "        -2.15399995e-01, -3.76159996e-01, -3.25019993e-02,\n",
              "         8.06200027e-01],\n",
              "       [-1.89700007e-01,  5.00239991e-02,  1.90840006e-01,\n",
              "        -4.91839983e-02, -8.97369981e-02,  2.10060000e-01,\n",
              "        -5.49520016e-01,  9.83769968e-02, -2.01350003e-01,\n",
              "         3.42409998e-01, -9.26769972e-02,  1.60999998e-01,\n",
              "        -1.32679999e-01, -2.81599998e-01,  1.87370002e-01,\n",
              "        -4.29589987e-01,  9.60389972e-01,  1.39719993e-01,\n",
              "        -1.07809997e+00,  4.05180007e-01,  5.05389988e-01,\n",
              "        -5.50639987e-01,  4.84400004e-01,  3.80439997e-01,\n",
              "        -2.90549989e-03, -3.49420011e-01, -9.96960029e-02,\n",
              "        -7.83680022e-01,  1.03629994e+00, -2.31399998e-01,\n",
              "        -4.71210003e-01,  5.71259975e-01, -2.14540005e-01,\n",
              "         3.59580010e-01, -4.83190000e-01,  1.08749998e+00,\n",
              "         2.85239995e-01,  1.24470003e-01, -3.92480008e-02,\n",
              "        -7.67320022e-02, -7.63429999e-01, -3.24090004e-01,\n",
              "        -5.74899971e-01, -1.08930004e+00, -4.18110013e-01,\n",
              "         4.51200008e-01,  1.21119998e-01, -5.13670027e-01,\n",
              "        -1.33489996e-01, -1.13779998e+00, -2.87680000e-01,\n",
              "         1.67740002e-01,  5.58040023e-01,  1.53869998e+00,\n",
              "         1.88590009e-02, -2.97210002e+00, -2.42160007e-01,\n",
              "        -9.24950004e-01,  2.19919991e+00,  2.82339990e-01,\n",
              "        -3.47799987e-01,  5.16210020e-01, -4.33869988e-01,\n",
              "         3.68519992e-01,  7.45729983e-01,  7.21020028e-02,\n",
              "         2.79309988e-01,  9.25689995e-01, -5.03359996e-02,\n",
              "        -8.58560026e-01, -1.35800004e-01, -9.25509989e-01,\n",
              "        -3.39910001e-01, -1.03939998e+00, -6.72030002e-02,\n",
              "        -2.13789999e-01, -4.76900011e-01,  2.13770002e-01,\n",
              "        -8.40080023e-01,  5.25359996e-02,  5.92980027e-01,\n",
              "         2.96039999e-01, -6.76440001e-01,  1.39160007e-01,\n",
              "        -1.55040002e+00, -2.07650006e-01,  7.22199976e-01,\n",
              "         5.20560026e-01, -7.62209967e-02, -1.51940003e-01,\n",
              "        -1.31339997e-01,  5.86169995e-02, -3.18690002e-01,\n",
              "        -6.14189982e-01, -6.23929977e-01, -4.15479988e-01,\n",
              "        -3.81750017e-02, -3.98039997e-01,  4.76469994e-01,\n",
              "        -1.59830004e-01],\n",
              "       [-3.81940007e-02, -2.44870007e-01,  7.28120029e-01,\n",
              "        -3.99610013e-01,  8.31720009e-02,  4.39530015e-02,\n",
              "        -3.91409993e-01,  3.34399998e-01, -5.75450003e-01,\n",
              "         8.74589980e-02,  2.87869990e-01, -6.73099980e-02,\n",
              "         3.09060007e-01, -2.63839990e-01, -1.32310003e-01,\n",
              "        -2.07570001e-01,  3.33950013e-01, -3.38479996e-01,\n",
              "        -3.17429990e-01, -4.83359993e-01,  1.46400005e-01,\n",
              "        -3.73039991e-01,  3.45770001e-01,  5.20410016e-02,\n",
              "         4.49460000e-01, -4.69709992e-01,  2.62800008e-02,\n",
              "        -5.41549981e-01, -1.55180007e-01, -1.41069993e-01,\n",
              "        -3.97219993e-02,  2.82770008e-01,  1.43930003e-01,\n",
              "         2.34640002e-01, -3.10209990e-01,  8.61729980e-02,\n",
              "         2.03970000e-01,  5.26239991e-01,  1.71639994e-01,\n",
              "        -8.23780000e-02, -7.17869997e-01, -4.15309995e-01,\n",
              "         2.03349993e-01, -1.27629995e-01,  4.13670003e-01,\n",
              "         5.51869988e-01,  5.79079986e-01, -3.34769994e-01,\n",
              "        -3.65590006e-01, -5.48569977e-01, -6.28919974e-02,\n",
              "         2.65839994e-01,  3.02049994e-01,  9.97749984e-01,\n",
              "        -8.04809988e-01, -3.02430010e+00,  1.25399996e-02,\n",
              "        -3.69419992e-01,  2.21670008e+00,  7.22010016e-01,\n",
              "        -2.49779999e-01,  9.21360016e-01,  3.45139988e-02,\n",
              "         4.67449993e-01,  1.10790002e+00, -1.93580002e-01,\n",
              "        -7.45749995e-02,  2.33530000e-01, -5.20620011e-02,\n",
              "        -2.20440000e-01,  5.71620017e-02, -1.58059999e-01,\n",
              "        -3.07980001e-01, -4.16249990e-01,  3.79720002e-01,\n",
              "         1.50059998e-01, -5.32119989e-01, -2.05500007e-01,\n",
              "        -1.25259995e+00,  7.16240034e-02,  7.05649972e-01,\n",
              "         4.97440010e-01, -4.20630008e-01,  2.61480004e-01,\n",
              "        -1.53799999e+00, -3.02230000e-01, -7.34380037e-02,\n",
              "        -2.83120006e-01,  3.71039987e-01, -2.52169997e-01,\n",
              "         1.62150003e-02, -1.70990005e-02, -3.89840007e-01,\n",
              "         8.74239981e-01, -7.25690007e-01, -5.10580003e-01,\n",
              "        -5.20280004e-01, -1.45899996e-01,  8.27799976e-01,\n",
              "         2.70619988e-01]])"
            ]
          },
          "metadata": {
            "tags": []
          },
          "execution_count": 12
        }
      ]
    },
    {
      "cell_type": "code",
      "metadata": {
        "id": "qN_-oyQdUq28"
      },
      "source": [
        ""
      ],
      "execution_count": 12,
      "outputs": []
    },
    {
      "cell_type": "code",
      "metadata": {
        "id": "iKKvbuEBOGFz",
        "colab": {
          "base_uri": "https://localhost:8080/"
        },
        "outputId": "7bbeec87-f75b-42da-bbbc-8ef46c50c9d9"
      },
      "source": [
        "from tensorflow.keras.layers import Embedding,Bidirectional,LSTM,LSTMCell,Dense,Dropout,Softmax\n",
        "model = tf.keras.Sequential([\n",
        "    Embedding(vocab_size+1, embedding_dim, input_length=max_length , weights=[embeddings_matrix], trainable=False),\n",
        "    # YOUR CODE HERE - experiment with combining different types, such as convolutions and LSTMs\n",
        "    Bidirectional(LSTM(128,return_sequences=True)),\n",
        "    Bidirectional(LSTM(64)),\n",
        "    Dense(1,activation = 'sigmoid'),\n",
        "])\n",
        "model.compile(\n",
        "    optimizer = tf.optimizers.RMSprop(lr = 0.001)\n",
        "    ,loss = ['binary_crossentropy']\n",
        "    ,metrics = ['accuracy']\n",
        ")\n",
        "\n",
        "model.summary()\n",
        "\n",
        "num_epochs = 5\n",
        "history = model.fit(\n",
        "    training_sequences, \n",
        "    training_labels, \n",
        "    epochs=num_epochs, \n",
        "    validation_data=(test_sequences, test_labels), \n",
        "    verbose=2\n",
        "    )\n",
        "\n",
        "print(\"Training Complete\")\n"
      ],
      "execution_count": 13,
      "outputs": [
        {
          "output_type": "stream",
          "text": [
            "Model: \"sequential\"\n",
            "_________________________________________________________________\n",
            "Layer (type)                 Output Shape              Param #   \n",
            "=================================================================\n",
            "embedding (Embedding)        (None, 16, 100)           13851700  \n",
            "_________________________________________________________________\n",
            "bidirectional (Bidirectional (None, 16, 256)           234496    \n",
            "_________________________________________________________________\n",
            "bidirectional_1 (Bidirection (None, 128)               164352    \n",
            "_________________________________________________________________\n",
            "dense (Dense)                (None, 1)                 129       \n",
            "=================================================================\n",
            "Total params: 14,250,677\n",
            "Trainable params: 398,977\n",
            "Non-trainable params: 13,851,700\n",
            "_________________________________________________________________\n",
            "Epoch 1/5\n",
            "4500/4500 - 243s - loss: 0.5332 - accuracy: 0.7295 - val_loss: 0.4932 - val_accuracy: 0.7617\n",
            "Epoch 2/5\n",
            "4500/4500 - 230s - loss: 0.4777 - accuracy: 0.7692 - val_loss: 0.4709 - val_accuracy: 0.7778\n",
            "Epoch 3/5\n",
            "4500/4500 - 234s - loss: 0.4488 - accuracy: 0.7878 - val_loss: 0.4597 - val_accuracy: 0.7827\n",
            "Epoch 4/5\n",
            "4500/4500 - 240s - loss: 0.4229 - accuracy: 0.8030 - val_loss: 0.4573 - val_accuracy: 0.7816\n",
            "Epoch 5/5\n",
            "4500/4500 - 239s - loss: 0.3947 - accuracy: 0.8198 - val_loss: 0.4871 - val_accuracy: 0.7760\n",
            "Training Complete\n"
          ],
          "name": "stdout"
        }
      ]
    },
    {
      "cell_type": "code",
      "metadata": {
        "id": "qxju4ItJKO8F",
        "colab": {
          "base_uri": "https://localhost:8080/",
          "height": 607
        },
        "outputId": "00e79941-972a-4a8d-b07c-cc2c0f2d1fc5"
      },
      "source": [
        "import matplotlib.image  as mpimg\n",
        "import matplotlib.pyplot as plt\n",
        "\n",
        "#-----------------------------------------------------------\n",
        "# Retrieve a list of list results on training and test data\n",
        "# sets for each training epoch\n",
        "#-----------------------------------------------------------\n",
        "acc=history.history['accuracy']\n",
        "val_acc=history.history['val_accuracy']\n",
        "loss=history.history['loss']\n",
        "val_loss=history.history['val_loss']\n",
        "\n",
        "epochs=range(len(acc)) # Get number of epochs\n",
        "\n",
        "#------------------------------------------------\n",
        "# Plot training and validation accuracy per epoch\n",
        "#------------------------------------------------\n",
        "plt.plot(epochs, acc, 'r')\n",
        "plt.plot(epochs, val_acc, 'b')\n",
        "plt.title('Training and validation accuracy')\n",
        "plt.xlabel(\"Epochs\")\n",
        "plt.ylabel(\"Accuracy\")\n",
        "plt.legend([\"Accuracy\", \"Validation Accuracy\"])\n",
        "\n",
        "plt.figure()\n",
        "\n",
        "#------------------------------------------------\n",
        "# Plot training and validation loss per epoch\n",
        "#------------------------------------------------\n",
        "plt.plot(epochs, loss, 'r')\n",
        "plt.plot(epochs, val_loss, 'b')\n",
        "plt.title('Training and validation loss')\n",
        "plt.xlabel(\"Epochs\")\n",
        "plt.ylabel(\"Loss\")\n",
        "plt.legend([\"Loss\", \"Validation Loss\"])\n",
        "\n",
        "plt.figure()\n",
        "\n",
        "\n",
        "# Expected Output\n",
        "# A chart where the validation loss does not increase sharply!"
      ],
      "execution_count": 14,
      "outputs": [
        {
          "output_type": "execute_result",
          "data": {
            "text/plain": [
              "<Figure size 432x288 with 0 Axes>"
            ]
          },
          "metadata": {
            "tags": []
          },
          "execution_count": 14
        },
        {
          "output_type": "display_data",
          "data": {
            "image/png": "[encoded data removed]",
            "text/plain": [
              "<Figure size 432x288 with 1 Axes>"
            ]
          },
          "metadata": {
            "tags": [],
            "needs_background": "light"
          }
        },
        {
          "output_type": "display_data",
          "data": {
            "image/png": "[encoded data removed]",
            "text/plain": [
              "<Figure size 432x288 with 1 Axes>"
            ]
          },
          "metadata": {
            "tags": [],
            "needs_background": "light"
          }
        },
        {
          "output_type": "display_data",
          "data": {
            "text/plain": [
              "<Figure size 432x288 with 0 Axes>"
            ]
          },
          "metadata": {
            "tags": []
          }
        }
      ]
    },
    {
      "cell_type": "code",
      "metadata": {
        "id": "jUXlvbicgMNy"
      },
      "source": [
        ""
      ],
      "execution_count": 14,
      "outputs": []
    }
  ]
}