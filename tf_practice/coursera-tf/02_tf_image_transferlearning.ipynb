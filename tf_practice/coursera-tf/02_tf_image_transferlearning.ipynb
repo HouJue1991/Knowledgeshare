{
  "nbformat": 4,
  "nbformat_minor": 0,
  "metadata": {
    "colab": {
      "name": "tf_image_transferlearning.ipynb",
      "provenance": [],
      "collapsed_sections": []
    },
    "kernelspec": {
      "display_name": "Python 3",
      "name": "python3"
    },
    "accelerator": "GPU"
  },
  "cells": [
    {
      "cell_type": "markdown",
      "metadata": {
        "id": "SeqbqnfMWCzY"
      },
      "source": [
        "# image classification - transfer learning \n",
        "## overview \n",
        "use trained model to classify image \n",
        "\n",
        "## requirements\n",
        "- use image generator\n",
        "- use data augmentation\n",
        "- use pretrained_model \n",
        "- transfer learning \n",
        "- predict picture"
      ]
    },
    {
      "cell_type": "code",
      "metadata": {
        "id": "lbFmQdsZs5eW"
      },
      "source": [
        "import os\n",
        "import tensorflow as tf\n",
        "from tensorflow.keras import layers\n",
        "from tensorflow.keras import Model\n",
        "from tensorflow.keras.utils import to_categorical\n",
        "\n",
        "from tensorflow.keras.datasets import cifar10\n",
        "import numpy as np\n",
        "import numpy as np \n",
        "import random "
      ],
      "execution_count": 1,
      "outputs": []
    },
    {
      "cell_type": "markdown",
      "metadata": {
        "id": "9ReqWfF5X1OL"
      },
      "source": [
        "## read pretrained model "
      ]
    },
    {
      "cell_type": "code",
      "metadata": {
        "id": "ydEJcYE1WQVB"
      },
      "source": [
        ""
      ],
      "execution_count": 1,
      "outputs": []
    },
    {
      "cell_type": "code",
      "metadata": {
        "id": "rDjEX0HjbgUS"
      },
      "source": [
        "from tensorflow.keras.applications.inception_v3 import InceptionV3 \n",
        "from tensorflow.keras.applications.vgg19 import VGG19\n",
        "from tensorflow.keras.applications.vgg16 import VGG16\n",
        "#  import VGG19\n"
      ],
      "execution_count": 2,
      "outputs": []
    },
    {
      "cell_type": "markdown",
      "metadata": {
        "id": "0uMAh3vhn4NI"
      },
      "source": [
        "\n",
        "## edit model"
      ]
    },
    {
      "cell_type": "code",
      "metadata": {
        "id": "qk0VqEDKWQnZ",
        "colab": {
          "base_uri": "https://localhost:8080/"
        },
        "outputId": "fab95ef8-0441-4c4c-8713-4914b3fddbf2"
      },
      "source": [
        "pretrained_model = VGG19(\n",
        "    input_shape = (32,32,3)\n",
        "    ,include_top = False\n",
        "    ,weights = 'imagenet'\n",
        ")\n",
        "len(pretrained_model.layers)\n",
        "pretrained_model.summary()"
      ],
      "execution_count": 3,
      "outputs": [
        {
          "output_type": "stream",
          "text": [
            "Model: \"vgg19\"\n",
            "_________________________________________________________________\n",
            "Layer (type)                 Output Shape              Param #   \n",
            "=================================================================\n",
            "input_1 (InputLayer)         [(None, 32, 32, 3)]       0         \n",
            "_________________________________________________________________\n",
            "block1_conv1 (Conv2D)        (None, 32, 32, 64)        1792      \n",
            "_________________________________________________________________\n",
            "block1_conv2 (Conv2D)        (None, 32, 32, 64)        36928     \n",
            "_________________________________________________________________\n",
            "block1_pool (MaxPooling2D)   (None, 16, 16, 64)        0         \n",
            "_________________________________________________________________\n",
            "block2_conv1 (Conv2D)        (None, 16, 16, 128)       73856     \n",
            "_________________________________________________________________\n",
            "block2_conv2 (Conv2D)        (None, 16, 16, 128)       147584    \n",
            "_________________________________________________________________\n",
            "block2_pool (MaxPooling2D)   (None, 8, 8, 128)         0         \n",
            "_________________________________________________________________\n",
            "block3_conv1 (Conv2D)        (None, 8, 8, 256)         295168    \n",
            "_________________________________________________________________\n",
            "block3_conv2 (Conv2D)        (None, 8, 8, 256)         590080    \n",
            "_________________________________________________________________\n",
            "block3_conv3 (Conv2D)        (None, 8, 8, 256)         590080    \n",
            "_________________________________________________________________\n",
            "block3_conv4 (Conv2D)        (None, 8, 8, 256)         590080    \n",
            "_________________________________________________________________\n",
            "block3_pool (MaxPooling2D)   (None, 4, 4, 256)         0         \n",
            "_________________________________________________________________\n",
            "block4_conv1 (Conv2D)        (None, 4, 4, 512)         1180160   \n",
            "_________________________________________________________________\n",
            "block4_conv2 (Conv2D)        (None, 4, 4, 512)         2359808   \n",
            "_________________________________________________________________\n",
            "block4_conv3 (Conv2D)        (None, 4, 4, 512)         2359808   \n",
            "_________________________________________________________________\n",
            "block4_conv4 (Conv2D)        (None, 4, 4, 512)         2359808   \n",
            "_________________________________________________________________\n",
            "block4_pool (MaxPooling2D)   (None, 2, 2, 512)         0         \n",
            "_________________________________________________________________\n",
            "block5_conv1 (Conv2D)        (None, 2, 2, 512)         2359808   \n",
            "_________________________________________________________________\n",
            "block5_conv2 (Conv2D)        (None, 2, 2, 512)         2359808   \n",
            "_________________________________________________________________\n",
            "block5_conv3 (Conv2D)        (None, 2, 2, 512)         2359808   \n",
            "_________________________________________________________________\n",
            "block5_conv4 (Conv2D)        (None, 2, 2, 512)         2359808   \n",
            "_________________________________________________________________\n",
            "block5_pool (MaxPooling2D)   (None, 1, 1, 512)         0         \n",
            "=================================================================\n",
            "Total params: 20,024,384\n",
            "Trainable params: 20,024,384\n",
            "Non-trainable params: 0\n",
            "_________________________________________________________________\n"
          ],
          "name": "stdout"
        }
      ]
    },
    {
      "cell_type": "code",
      "metadata": {
        "id": "9vluo_lmcq9u"
      },
      "source": [
        "for layer in pretrained_model.layers:\n",
        "  layer.trainable = False"
      ],
      "execution_count": 4,
      "outputs": []
    },
    {
      "cell_type": "code",
      "metadata": {
        "id": "0TUVnKDwWQ-t",
        "colab": {
          "base_uri": "https://localhost:8080/"
        },
        "outputId": "2f54ad13-100d-4e90-c9ba-5dcff4bfb69d"
      },
      "source": [
        "last_layer = pretrained_model.layers[-1]\n",
        "last_output  = last_layer.output\n",
        "print('last layer output shape: ', last_layer.output_shape)"
      ],
      "execution_count": 5,
      "outputs": [
        {
          "output_type": "stream",
          "text": [
            "last layer output shape:  (None, 1, 1, 512)\n"
          ],
          "name": "stdout"
        }
      ]
    },
    {
      "cell_type": "code",
      "metadata": {
        "id": "2vKKZ6mO2ceX"
      },
      "source": [
        ""
      ],
      "execution_count": 5,
      "outputs": []
    },
    {
      "cell_type": "code",
      "metadata": {
        "id": "OH47W5aBWRUp"
      },
      "source": [
        "from tensorflow.keras.layers import Dense , Flatten , Dropout\n",
        "x = Flatten()(last_output)\n",
        "x = Dense(units = 1024,activation = 'relu')(x)\n",
        "x = Dropout(0.2)(x)\n",
        "x = Dense(units = 10,activation = 'softmax')(x)\n",
        "\n",
        "model = Model(pretrained_model.input,x)\n",
        "model.compile(\n",
        "    optimizer = tf.optimizers.Adam(lr = 0.001)\n",
        "    ,loss = 'sparse_categorical_crossentropy'\n",
        "   ,metrics = ['accuracy']\n",
        ")\n"
      ],
      "execution_count": 6,
      "outputs": []
    },
    {
      "cell_type": "markdown",
      "metadata": {
        "id": "_EAzl1Pcpbfd"
      },
      "source": [
        "## load and preprocess data  "
      ]
    },
    {
      "cell_type": "code",
      "metadata": {
        "id": "EEwYvtSyZRhy"
      },
      "source": [
        ""
      ],
      "execution_count": 6,
      "outputs": []
    },
    {
      "cell_type": "code",
      "metadata": {
        "id": "1qPsmq4j1Bpw"
      },
      "source": [
        "(x_train,y_train ), (x_valid , y_valid) = cifar10.load_data()"
      ],
      "execution_count": 7,
      "outputs": []
    },
    {
      "cell_type": "code",
      "metadata": {
        "colab": {
          "base_uri": "https://localhost:8080/"
        },
        "id": "J1uxhTw01I9F",
        "outputId": "92332065-e881-4c9f-d7f7-72fedb4b164f"
      },
      "source": [
        "for df in [ x_train,y_train , x_valid , y_valid]:\n",
        "  print(type(df))\n",
        "  print(df.shape)"
      ],
      "execution_count": 8,
      "outputs": [
        {
          "output_type": "stream",
          "text": [
            "<class 'numpy.ndarray'>\n",
            "(50000, 32, 32, 3)\n",
            "<class 'numpy.ndarray'>\n",
            "(50000, 1)\n",
            "<class 'numpy.ndarray'>\n",
            "(10000, 32, 32, 3)\n",
            "<class 'numpy.ndarray'>\n",
            "(10000, 1)\n"
          ],
          "name": "stdout"
        }
      ]
    },
    {
      "cell_type": "code",
      "metadata": {
        "id": "7X7FkS49pWDb"
      },
      "source": [
        ""
      ],
      "execution_count": 8,
      "outputs": []
    },
    {
      "cell_type": "code",
      "metadata": {
        "id": "1ChSfqrfrRxQ",
        "colab": {
          "base_uri": "https://localhost:8080/"
        },
        "outputId": "66e8f66b-13fc-4aa6-baf9-78bcb64d1cef"
      },
      "source": [
        "x_valid = x_valid[:1000]\n",
        "y_valid = y_valid[:1000]\n",
        "for df in [x_train,y_train , x_valid , y_valid]:\n",
        "  print(type(df))\n",
        "  print(df.shape)"
      ],
      "execution_count": 9,
      "outputs": [
        {
          "output_type": "stream",
          "text": [
            "<class 'numpy.ndarray'>\n",
            "(50000, 32, 32, 3)\n",
            "<class 'numpy.ndarray'>\n",
            "(50000, 1)\n",
            "<class 'numpy.ndarray'>\n",
            "(1000, 32, 32, 3)\n",
            "<class 'numpy.ndarray'>\n",
            "(1000, 1)\n"
          ],
          "name": "stdout"
        }
      ]
    },
    {
      "cell_type": "code",
      "metadata": {
        "id": "QZJpcq3JrTi3"
      },
      "source": [
        ""
      ],
      "execution_count": 9,
      "outputs": []
    },
    {
      "cell_type": "code",
      "metadata": {
        "id": "4KU9braNqT1G"
      },
      "source": [
        ""
      ],
      "execution_count": 9,
      "outputs": []
    },
    {
      "cell_type": "code",
      "metadata": {
        "id": "UYqU9R1E1oOm"
      },
      "source": [
        "from tensorflow.keras.preprocessing.image import ImageDataGenerator\n",
        "train_datagen = ImageDataGenerator(\n",
        "    rescale = 1./255\n",
        "    # ,rotation_range = 40\n",
        "    # ,width_shift_range = 0.2\n",
        "    # ,height_shift_range = 0.2\n",
        "    # ,shear_range = 0.2\n",
        "    # ,zoom_range  = 0.2\n",
        "    # ,horizontal_flip = True\n",
        "    # ,vertical_flip = True\n",
        ")\n",
        "\n",
        "test_datagen =ImageDataGenerator(\n",
        "    rescale = 1./255\n",
        "    # ,rotation_range = 40\n",
        "    # ,width_shift_range = 0.2\n",
        "    # ,height_shift_range = 0.2\n",
        "    # ,shear_range = 0.2\n",
        "    # ,zoom_range  = 0.2\n",
        "    # ,horizontal_flip = True\n",
        "    # ,vertical_flip = True\n",
        ")\n",
        "\n",
        "train_generator = train_datagen.flow( \n",
        "    x_train\n",
        "    ,y_train.reshape(-1,)\n",
        "    ,batch_size = 1024\n",
        ")\n",
        "\n",
        "validation_generator =  test_datagen.flow(\n",
        "    x_valid\n",
        "    ,y_valid.reshape(-1,)\n",
        "    ,batch_size = 1024\n",
        ")"
      ],
      "execution_count": 10,
      "outputs": []
    },
    {
      "cell_type": "code",
      "metadata": {
        "id": "bW6pgGqvak7Y"
      },
      "source": [
        "# y_valid"
      ],
      "execution_count": 11,
      "outputs": []
    },
    {
      "cell_type": "markdown",
      "metadata": {
        "id": "Yqj6X76-ZRww"
      },
      "source": [
        "## train"
      ]
    },
    {
      "cell_type": "code",
      "metadata": {
        "id": "v5CmrW-WMUUc",
        "colab": {
          "base_uri": "https://localhost:8080/"
        },
        "outputId": "15c9f052-c936-4cac-ca97-42b74ec92619"
      },
      "source": [
        "model.summary()"
      ],
      "execution_count": 12,
      "outputs": [
        {
          "output_type": "stream",
          "text": [
            "Model: \"model\"\n",
            "_________________________________________________________________\n",
            "Layer (type)                 Output Shape              Param #   \n",
            "=================================================================\n",
            "input_1 (InputLayer)         [(None, 32, 32, 3)]       0         \n",
            "_________________________________________________________________\n",
            "block1_conv1 (Conv2D)        (None, 32, 32, 64)        1792      \n",
            "_________________________________________________________________\n",
            "block1_conv2 (Conv2D)        (None, 32, 32, 64)        36928     \n",
            "_________________________________________________________________\n",
            "block1_pool (MaxPooling2D)   (None, 16, 16, 64)        0         \n",
            "_________________________________________________________________\n",
            "block2_conv1 (Conv2D)        (None, 16, 16, 128)       73856     \n",
            "_________________________________________________________________\n",
            "block2_conv2 (Conv2D)        (None, 16, 16, 128)       147584    \n",
            "_________________________________________________________________\n",
            "block2_pool (MaxPooling2D)   (None, 8, 8, 128)         0         \n",
            "_________________________________________________________________\n",
            "block3_conv1 (Conv2D)        (None, 8, 8, 256)         295168    \n",
            "_________________________________________________________________\n",
            "block3_conv2 (Conv2D)        (None, 8, 8, 256)         590080    \n",
            "_________________________________________________________________\n",
            "block3_conv3 (Conv2D)        (None, 8, 8, 256)         590080    \n",
            "_________________________________________________________________\n",
            "block3_conv4 (Conv2D)        (None, 8, 8, 256)         590080    \n",
            "_________________________________________________________________\n",
            "block3_pool (MaxPooling2D)   (None, 4, 4, 256)         0         \n",
            "_________________________________________________________________\n",
            "block4_conv1 (Conv2D)        (None, 4, 4, 512)         1180160   \n",
            "_________________________________________________________________\n",
            "block4_conv2 (Conv2D)        (None, 4, 4, 512)         2359808   \n",
            "_________________________________________________________________\n",
            "block4_conv3 (Conv2D)        (None, 4, 4, 512)         2359808   \n",
            "_________________________________________________________________\n",
            "block4_conv4 (Conv2D)        (None, 4, 4, 512)         2359808   \n",
            "_________________________________________________________________\n",
            "block4_pool (MaxPooling2D)   (None, 2, 2, 512)         0         \n",
            "_________________________________________________________________\n",
            "block5_conv1 (Conv2D)        (None, 2, 2, 512)         2359808   \n",
            "_________________________________________________________________\n",
            "block5_conv2 (Conv2D)        (None, 2, 2, 512)         2359808   \n",
            "_________________________________________________________________\n",
            "block5_conv3 (Conv2D)        (None, 2, 2, 512)         2359808   \n",
            "_________________________________________________________________\n",
            "block5_conv4 (Conv2D)        (None, 2, 2, 512)         2359808   \n",
            "_________________________________________________________________\n",
            "block5_pool (MaxPooling2D)   (None, 1, 1, 512)         0         \n",
            "_________________________________________________________________\n",
            "flatten (Flatten)            (None, 512)               0         \n",
            "_________________________________________________________________\n",
            "dense (Dense)                (None, 1024)              525312    \n",
            "_________________________________________________________________\n",
            "dropout (Dropout)            (None, 1024)              0         \n",
            "_________________________________________________________________\n",
            "dense_1 (Dense)              (None, 10)                10250     \n",
            "=================================================================\n",
            "Total params: 20,559,946\n",
            "Trainable params: 535,562\n",
            "Non-trainable params: 20,024,384\n",
            "_________________________________________________________________\n"
          ],
          "name": "stdout"
        }
      ]
    },
    {
      "cell_type": "code",
      "metadata": {
        "id": "rQBkstK5n_CU",
        "colab": {
          "base_uri": "https://localhost:8080/"
        },
        "outputId": "23eee522-acff-47e9-cf0e-a673b8c7f9a0"
      },
      "source": [
        "history = model.fit_generator(\n",
        "    train_generator\n",
        "    ,epochs = 20\n",
        "    ,validation_data = validation_generator\n",
        "    )"
      ],
      "execution_count": 13,
      "outputs": [
        {
          "output_type": "stream",
          "text": [
            "/usr/local/lib/python3.7/dist-packages/tensorflow/python/keras/engine/training.py:1844: UserWarning: `Model.fit_generator` is deprecated and will be removed in a future version. Please use `Model.fit`, which supports generators.\n",
            "  warnings.warn('`Model.fit_generator` is deprecated and '\n"
          ],
          "name": "stderr"
        },
        {
          "output_type": "stream",
          "text": [
            "Epoch 1/20\n",
            "49/49 [==============================] - 26s 351ms/step - loss: 1.8299 - accuracy: 0.3506 - val_loss: 1.3592 - val_accuracy: 0.5280\n",
            "Epoch 2/20\n",
            "49/49 [==============================] - 6s 131ms/step - loss: 1.3560 - accuracy: 0.5259 - val_loss: 1.2619 - val_accuracy: 0.5520\n",
            "Epoch 3/20\n",
            "49/49 [==============================] - 7s 133ms/step - loss: 1.2637 - accuracy: 0.5558 - val_loss: 1.2170 - val_accuracy: 0.5670\n",
            "Epoch 4/20\n",
            "49/49 [==============================] - 6s 132ms/step - loss: 1.2084 - accuracy: 0.5783 - val_loss: 1.1805 - val_accuracy: 0.5790\n",
            "Epoch 5/20\n",
            "49/49 [==============================] - 6s 132ms/step - loss: 1.1790 - accuracy: 0.5883 - val_loss: 1.1589 - val_accuracy: 0.5790\n",
            "Epoch 6/20\n",
            "49/49 [==============================] - 6s 131ms/step - loss: 1.1459 - accuracy: 0.6025 - val_loss: 1.1359 - val_accuracy: 0.5940\n",
            "Epoch 7/20\n",
            "49/49 [==============================] - 6s 131ms/step - loss: 1.1144 - accuracy: 0.6124 - val_loss: 1.1252 - val_accuracy: 0.5910\n",
            "Epoch 8/20\n",
            "49/49 [==============================] - 6s 131ms/step - loss: 1.0951 - accuracy: 0.6183 - val_loss: 1.1217 - val_accuracy: 0.6090\n",
            "Epoch 9/20\n",
            "49/49 [==============================] - 6s 130ms/step - loss: 1.0703 - accuracy: 0.6267 - val_loss: 1.1057 - val_accuracy: 0.6040\n",
            "Epoch 10/20\n",
            "49/49 [==============================] - 6s 130ms/step - loss: 1.0658 - accuracy: 0.6281 - val_loss: 1.0915 - val_accuracy: 0.6120\n",
            "Epoch 11/20\n",
            "49/49 [==============================] - 6s 130ms/step - loss: 1.0423 - accuracy: 0.6340 - val_loss: 1.0926 - val_accuracy: 0.6080\n",
            "Epoch 12/20\n",
            "49/49 [==============================] - 6s 129ms/step - loss: 1.0189 - accuracy: 0.6453 - val_loss: 1.0839 - val_accuracy: 0.6120\n",
            "Epoch 13/20\n",
            "49/49 [==============================] - 6s 130ms/step - loss: 1.0038 - accuracy: 0.6497 - val_loss: 1.0745 - val_accuracy: 0.6140\n",
            "Epoch 14/20\n",
            "49/49 [==============================] - 6s 130ms/step - loss: 0.9789 - accuracy: 0.6601 - val_loss: 1.0793 - val_accuracy: 0.6120\n",
            "Epoch 15/20\n",
            "49/49 [==============================] - 6s 131ms/step - loss: 0.9633 - accuracy: 0.6655 - val_loss: 1.0667 - val_accuracy: 0.6210\n",
            "Epoch 16/20\n",
            "49/49 [==============================] - 6s 130ms/step - loss: 0.9577 - accuracy: 0.6645 - val_loss: 1.0492 - val_accuracy: 0.6260\n",
            "Epoch 17/20\n",
            "49/49 [==============================] - 6s 131ms/step - loss: 0.9383 - accuracy: 0.6739 - val_loss: 1.0645 - val_accuracy: 0.6070\n",
            "Epoch 18/20\n",
            "49/49 [==============================] - 6s 131ms/step - loss: 0.9280 - accuracy: 0.6761 - val_loss: 1.0637 - val_accuracy: 0.6130\n",
            "Epoch 19/20\n",
            "49/49 [==============================] - 6s 131ms/step - loss: 0.9130 - accuracy: 0.6832 - val_loss: 1.0508 - val_accuracy: 0.6210\n",
            "Epoch 20/20\n",
            "49/49 [==============================] - 6s 130ms/step - loss: 0.9089 - accuracy: 0.6840 - val_loss: 1.0396 - val_accuracy: 0.6360\n"
          ],
          "name": "stdout"
        }
      ]
    },
    {
      "cell_type": "code",
      "metadata": {
        "id": "fI8wh8eon_Pu",
        "colab": {
          "base_uri": "https://localhost:8080/",
          "height": 282
        },
        "outputId": "3cd80df0-315c-4ef7-9411-9835667cf3b2"
      },
      "source": [
        "import matplotlib.pyplot as plt\n",
        "acc = history.history['accuracy']\n",
        "# val_acc = history.history['val_accuracy']\n",
        "loss = history.history['loss']\n",
        "# val_loss = history.history['val_loss']\n",
        "epochs = range(len(acc))\n",
        "plt.plot(epochs, acc, 'r', label='Training accuracy')\n",
        "# plt.plot(epochs, val_acc, 'b', label='Validation accuracy')"
      ],
      "execution_count": 14,
      "outputs": [
        {
          "output_type": "execute_result",
          "data": {
            "text/plain": [
              "[<matplotlib.lines.Line2D at 0x7fd15c03eb90>]"
            ]
          },
          "metadata": {
            "tags": []
          },
          "execution_count": 14
        },
        {
          "output_type": "display_data",
          "data": {
            "image/png": "[encoded data removed]",
            "text/plain": [
              "<Figure size 432x288 with 1 Axes>"
            ]
          },
          "metadata": {
            "tags": [],
            "needs_background": "light"
          }
        }
      ]
    }
  ]
}