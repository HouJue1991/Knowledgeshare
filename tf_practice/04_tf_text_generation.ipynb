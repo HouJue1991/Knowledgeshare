{
  "nbformat": 4,
  "nbformat_minor": 0,
  "metadata": {
    "accelerator": "GPU",
    "colab": {
      "name": "tf_text_generation",
      "provenance": [],
      "collapsed_sections": [],
      "toc_visible": true
    },
    "kernelspec": {
      "display_name": "Python 3",
      "name": "python3"
    }
  },
  "cells": [
    {
      "cell_type": "code",
      "metadata": {
        "id": "zX4Kg8DUTKWO"
      },
      "source": [
        "#@title Licensed under the Apache License, Version 2.0 (the \"License\");\n",
        "# you may not use this file except in compliance with the License.\n",
        "# You may obtain a copy of the License at\n",
        "#\n",
        "# https://www.apache.org/licenses/LICENSE-2.0\n",
        "#\n",
        "# Unless required by applicable law or agreed to in writing, software\n",
        "# distributed under the License is distributed on an \"AS IS\" BASIS,\n",
        "# WITHOUT WARRANTIES OR CONDITIONS OF ANY KIND, either express or implied.\n",
        "# See the License for the specific language governing permissions and\n",
        "# limitations under the License."
      ],
      "execution_count": 1,
      "outputs": []
    },
    {
      "cell_type": "code",
      "metadata": {
        "id": "BOwsuGQQY9OL"
      },
      "source": [
        "from tensorflow.keras.preprocessing.sequence import pad_sequences\n",
        "from tensorflow.keras.layers import Embedding, LSTM, Dense, Dropout, Bidirectional\n",
        "from tensorflow.keras.preprocessing.text import Tokenizer\n",
        "from tensorflow.keras.models import Sequential\n",
        "from tensorflow.keras.optimizers import Adam\n",
        "### YOUR CODE HERE\n",
        "# Figure out how to import regularizers\n",
        "###\n",
        "import tensorflow.keras.utils as ku \n",
        "import numpy as np "
      ],
      "execution_count": 2,
      "outputs": []
    },
    {
      "cell_type": "code",
      "metadata": {
        "id": "PRnDnCW-Z7qv",
        "colab": {
          "base_uri": "https://localhost:8080/"
        },
        "outputId": "981703d7-1975-4284-bf78-c8efe707543e"
      },
      "source": [
        "tokenizer = Tokenizer()\n",
        "!wget --no-check-certificate \\\n",
        "    https://storage.googleapis.com/laurencemoroney-blog.appspot.com/sonnets.txt \\\n",
        "    -O /tmp/sonnets.txt\n",
        "data = open('/tmp/sonnets.txt').read()\n",
        "\n",
        "corpus = data.lower().split(\"\\n\")\n",
        "\n",
        "\n",
        "tokenizer.fit_on_texts(corpus)\n",
        "total_words = len(tokenizer.word_index) + 1\n",
        "\n",
        "# create input sequences using list of tokens\n",
        "input_sequences = []\n",
        "for line in corpus:\n",
        "\ttoken_list = tokenizer.texts_to_sequences([line])[0]\n",
        "\tfor i in range(1, len(token_list)):\n",
        "\t\tn_gram_sequence = token_list[:i+1]\n",
        "\t\tinput_sequences.append(n_gram_sequence)\n",
        "\n",
        "print(corpus[:3])\n",
        "print(input_sequences[:3])\n",
        "# pad sequences \n",
        "max_sequence_len = max([len(x) for x in input_sequences])\n",
        "input_sequences = np.array(pad_sequences(input_sequences, maxlen=max_sequence_len, padding='pre'))\n",
        "print('pad')\n",
        "print(input_sequences[:3])\n",
        "# create predictors and label\n",
        "predictors, label = input_sequences[:,:-1],input_sequences[:,-1]\n",
        "print(predictors[:3],label[:3])\n",
        "label = ku.to_categorical(label, num_classes=total_words)\n"
      ],
      "execution_count": 3,
      "outputs": [
        {
          "output_type": "stream",
          "text": [
            "--2021-05-16 06:50:53--  https://storage.googleapis.com/laurencemoroney-blog.appspot.com/sonnets.txt\n",
            "Resolving storage.googleapis.com (storage.googleapis.com)... 142.250.65.80, 142.250.81.208, 142.251.33.208, ...\n",
            "Connecting to storage.googleapis.com (storage.googleapis.com)|142.250.65.80|:443... connected.\n",
            "HTTP request sent, awaiting response... 200 OK\n",
            "Length: 93578 (91K) [text/plain]\n",
            "Saving to: ‘/tmp/sonnets.txt’\n",
            "\n",
            "\r/tmp/sonnets.txt      0%[                    ]       0  --.-KB/s               \r/tmp/sonnets.txt    100%[===================>]  91.38K  --.-KB/s    in 0.001s  \n",
            "\n",
            "2021-05-16 06:50:53 (114 MB/s) - ‘/tmp/sonnets.txt’ saved [93578/93578]\n",
            "\n",
            "['from fairest creatures we desire increase,', \"that thereby beauty's rose might never die,\", 'but as the riper should by time decease,']\n",
            "[[34, 417], [34, 417, 877], [34, 417, 877, 166]]\n",
            "pad\n",
            "[[  0   0   0   0   0   0   0   0   0  34 417]\n",
            " [  0   0   0   0   0   0   0   0  34 417 877]\n",
            " [  0   0   0   0   0   0   0  34 417 877 166]]\n",
            "[[  0   0   0   0   0   0   0   0   0  34]\n",
            " [  0   0   0   0   0   0   0   0  34 417]\n",
            " [  0   0   0   0   0   0   0  34 417 877]] [417 877 166]\n"
          ],
          "name": "stdout"
        }
      ]
    },
    {
      "cell_type": "code",
      "metadata": {
        "id": "vxFO3Yg23DBP"
      },
      "source": [
        ""
      ],
      "execution_count": 3,
      "outputs": []
    },
    {
      "cell_type": "code",
      "metadata": {
        "id": "w9vH8Y59ajYL",
        "colab": {
          "base_uri": "https://localhost:8080/"
        },
        "outputId": "47b1f20c-40cf-47d0-de5a-f16f9c5a9383"
      },
      "source": [
        "from tensorflow.keras.layers import RNN , LSTM , Dropout , Embedding \n",
        "from tensorflow.keras.regularizers import l1,l2,l1_l2\n",
        "model = Sequential()\n",
        "model.add(Embedding(input_dim = total_words,output_dim=100))\n",
        "model.add(Bidirectional(LSTM(128,return_sequences=True)))# An LSTM Layer)\n",
        "model.add(Dropout(0.2))# A dropout layer)\n",
        "model.add(Bidirectional(LSTM(128)))# Another LSTM Layer)\n",
        "model.add(Dense(256 , kernel_regularizer=l2(0.01),activation = 'relu'))# A Dense Layer including regularizers)\n",
        "model.add(Dense(total_words,activation = 'softmax'))# A Dense Layer)\n",
        "# Pick an optimizer\n",
        "model.compile(\n",
        "    optimizer = Adam(lr = 0.01)\n",
        "    ,loss = 'categorical_crossentropy'\n",
        "    ,metrics = ['accuracy']\n",
        "\n",
        ")# Pick a loss function and an optimizer)\n",
        "print(model.summary())\n"
      ],
      "execution_count": 4,
      "outputs": [
        {
          "output_type": "stream",
          "text": [
            "Model: \"sequential\"\n",
            "_________________________________________________________________\n",
            "Layer (type)                 Output Shape              Param #   \n",
            "=================================================================\n",
            "embedding (Embedding)        (None, None, 100)         321100    \n",
            "_________________________________________________________________\n",
            "bidirectional (Bidirectional (None, None, 256)         234496    \n",
            "_________________________________________________________________\n",
            "dropout (Dropout)            (None, None, 256)         0         \n",
            "_________________________________________________________________\n",
            "bidirectional_1 (Bidirection (None, 256)               394240    \n",
            "_________________________________________________________________\n",
            "dense (Dense)                (None, 256)               65792     \n",
            "_________________________________________________________________\n",
            "dense_1 (Dense)              (None, 3211)              825227    \n",
            "=================================================================\n",
            "Total params: 1,840,855\n",
            "Trainable params: 1,840,855\n",
            "Non-trainable params: 0\n",
            "_________________________________________________________________\n",
            "None\n"
          ],
          "name": "stdout"
        }
      ]
    },
    {
      "cell_type": "code",
      "metadata": {
        "id": "AIg2f1HBxqof",
        "colab": {
          "base_uri": "https://localhost:8080/"
        },
        "outputId": "4c3bf120-d1c9-4a1d-e843-a895c2cfe529"
      },
      "source": [
        "history = model.fit(predictors, label, epochs=100, verbose=1)"
      ],
      "execution_count": 5,
      "outputs": [
        {
          "output_type": "stream",
          "text": [
            "Epoch 1/100\n",
            "484/484 [==============================] - 13s 13ms/step - loss: 7.1002 - accuracy: 0.0214\n",
            "Epoch 2/100\n",
            "484/484 [==============================] - 6s 13ms/step - loss: 6.4800 - accuracy: 0.0215\n",
            "Epoch 3/100\n",
            "484/484 [==============================] - 6s 13ms/step - loss: 6.3922 - accuracy: 0.0273\n",
            "Epoch 4/100\n",
            "484/484 [==============================] - 6s 13ms/step - loss: 6.3150 - accuracy: 0.0273\n",
            "Epoch 5/100\n",
            "484/484 [==============================] - 6s 13ms/step - loss: 6.2657 - accuracy: 0.0330\n",
            "Epoch 6/100\n",
            "484/484 [==============================] - 6s 13ms/step - loss: 6.2375 - accuracy: 0.0342\n",
            "Epoch 7/100\n",
            "484/484 [==============================] - 6s 13ms/step - loss: 6.2072 - accuracy: 0.0333\n",
            "Epoch 8/100\n",
            "484/484 [==============================] - 6s 13ms/step - loss: 6.1630 - accuracy: 0.0343\n",
            "Epoch 9/100\n",
            "484/484 [==============================] - 6s 13ms/step - loss: 6.1330 - accuracy: 0.0363\n",
            "Epoch 10/100\n",
            "484/484 [==============================] - 6s 13ms/step - loss: 6.1211 - accuracy: 0.0390\n",
            "Epoch 11/100\n",
            "484/484 [==============================] - 6s 13ms/step - loss: 6.0726 - accuracy: 0.0396\n",
            "Epoch 12/100\n",
            "484/484 [==============================] - 6s 13ms/step - loss: 6.0235 - accuracy: 0.0413\n",
            "Epoch 13/100\n",
            "484/484 [==============================] - 6s 13ms/step - loss: 6.0060 - accuracy: 0.0409\n",
            "Epoch 14/100\n",
            "484/484 [==============================] - 6s 13ms/step - loss: 5.9544 - accuracy: 0.0428\n",
            "Epoch 15/100\n",
            "484/484 [==============================] - 6s 13ms/step - loss: 5.9487 - accuracy: 0.0426\n",
            "Epoch 16/100\n",
            "484/484 [==============================] - 6s 13ms/step - loss: 5.8928 - accuracy: 0.0487\n",
            "Epoch 17/100\n",
            "484/484 [==============================] - 6s 13ms/step - loss: 5.8555 - accuracy: 0.0453\n",
            "Epoch 18/100\n",
            "484/484 [==============================] - 6s 13ms/step - loss: 5.8414 - accuracy: 0.0457\n",
            "Epoch 19/100\n",
            "484/484 [==============================] - 6s 13ms/step - loss: 5.8216 - accuracy: 0.0471\n",
            "Epoch 20/100\n",
            "484/484 [==============================] - 6s 13ms/step - loss: 5.8029 - accuracy: 0.0516\n",
            "Epoch 21/100\n",
            "484/484 [==============================] - 6s 13ms/step - loss: 5.7984 - accuracy: 0.0486\n",
            "Epoch 22/100\n",
            "484/484 [==============================] - 6s 13ms/step - loss: 5.7660 - accuracy: 0.0530\n",
            "Epoch 23/100\n",
            "484/484 [==============================] - 6s 13ms/step - loss: 5.7708 - accuracy: 0.0492\n",
            "Epoch 24/100\n",
            "484/484 [==============================] - 6s 13ms/step - loss: 5.7358 - accuracy: 0.0548\n",
            "Epoch 25/100\n",
            "484/484 [==============================] - 6s 13ms/step - loss: 5.7603 - accuracy: 0.0543\n",
            "Epoch 26/100\n",
            "484/484 [==============================] - 6s 12ms/step - loss: 5.7178 - accuracy: 0.0538\n",
            "Epoch 27/100\n",
            "484/484 [==============================] - 6s 12ms/step - loss: 5.7162 - accuracy: 0.0572\n",
            "Epoch 28/100\n",
            "484/484 [==============================] - 6s 12ms/step - loss: 5.6681 - accuracy: 0.0587\n",
            "Epoch 29/100\n",
            "484/484 [==============================] - 6s 13ms/step - loss: 5.6594 - accuracy: 0.0521\n",
            "Epoch 30/100\n",
            "484/484 [==============================] - 6s 13ms/step - loss: 5.6661 - accuracy: 0.0568\n",
            "Epoch 31/100\n",
            "484/484 [==============================] - 6s 13ms/step - loss: 5.6529 - accuracy: 0.0563\n",
            "Epoch 32/100\n",
            "484/484 [==============================] - 6s 13ms/step - loss: 5.6063 - accuracy: 0.0617\n",
            "Epoch 33/100\n",
            "484/484 [==============================] - 6s 12ms/step - loss: 5.6154 - accuracy: 0.0548\n",
            "Epoch 34/100\n",
            "484/484 [==============================] - 6s 12ms/step - loss: 5.6116 - accuracy: 0.0560\n",
            "Epoch 35/100\n",
            "484/484 [==============================] - 6s 12ms/step - loss: 5.6339 - accuracy: 0.0573\n",
            "Epoch 36/100\n",
            "484/484 [==============================] - 6s 12ms/step - loss: 5.5838 - accuracy: 0.0553\n",
            "Epoch 37/100\n",
            "484/484 [==============================] - 6s 12ms/step - loss: 5.5874 - accuracy: 0.0591\n",
            "Epoch 38/100\n",
            "484/484 [==============================] - 6s 12ms/step - loss: 5.5663 - accuracy: 0.0627\n",
            "Epoch 39/100\n",
            "484/484 [==============================] - 6s 12ms/step - loss: 5.5804 - accuracy: 0.0614\n",
            "Epoch 40/100\n",
            "484/484 [==============================] - 6s 13ms/step - loss: 5.5658 - accuracy: 0.0600\n",
            "Epoch 41/100\n",
            "484/484 [==============================] - 6s 12ms/step - loss: 5.5808 - accuracy: 0.0613\n",
            "Epoch 42/100\n",
            "484/484 [==============================] - 6s 12ms/step - loss: 5.5728 - accuracy: 0.0603\n",
            "Epoch 43/100\n",
            "484/484 [==============================] - 6s 12ms/step - loss: 5.5618 - accuracy: 0.0543\n",
            "Epoch 44/100\n",
            "484/484 [==============================] - 6s 12ms/step - loss: 5.5596 - accuracy: 0.0610\n",
            "Epoch 45/100\n",
            "484/484 [==============================] - 6s 13ms/step - loss: 5.5483 - accuracy: 0.0652\n",
            "Epoch 46/100\n",
            "484/484 [==============================] - 6s 13ms/step - loss: 5.5769 - accuracy: 0.0608\n",
            "Epoch 47/100\n",
            "484/484 [==============================] - 6s 13ms/step - loss: 5.5619 - accuracy: 0.0592\n",
            "Epoch 48/100\n",
            "484/484 [==============================] - 6s 13ms/step - loss: 5.5270 - accuracy: 0.0598\n",
            "Epoch 49/100\n",
            "484/484 [==============================] - 6s 13ms/step - loss: 5.5792 - accuracy: 0.0644\n",
            "Epoch 50/100\n",
            "484/484 [==============================] - 6s 13ms/step - loss: 5.5753 - accuracy: 0.0606\n",
            "Epoch 51/100\n",
            "484/484 [==============================] - 6s 13ms/step - loss: 5.5341 - accuracy: 0.0619\n",
            "Epoch 52/100\n",
            "484/484 [==============================] - 6s 12ms/step - loss: 5.5346 - accuracy: 0.0607\n",
            "Epoch 53/100\n",
            "484/484 [==============================] - 6s 12ms/step - loss: 5.5509 - accuracy: 0.0574\n",
            "Epoch 54/100\n",
            "484/484 [==============================] - 6s 12ms/step - loss: 5.5240 - accuracy: 0.0650\n",
            "Epoch 55/100\n",
            "484/484 [==============================] - 6s 13ms/step - loss: 5.4939 - accuracy: 0.0645\n",
            "Epoch 56/100\n",
            "484/484 [==============================] - 6s 13ms/step - loss: 5.5219 - accuracy: 0.0624\n",
            "Epoch 57/100\n",
            "484/484 [==============================] - 6s 13ms/step - loss: 5.5022 - accuracy: 0.0631\n",
            "Epoch 58/100\n",
            "484/484 [==============================] - 6s 13ms/step - loss: 5.4940 - accuracy: 0.0666\n",
            "Epoch 59/100\n",
            "484/484 [==============================] - 6s 13ms/step - loss: 5.5813 - accuracy: 0.0658\n",
            "Epoch 60/100\n",
            "484/484 [==============================] - 6s 13ms/step - loss: 5.5243 - accuracy: 0.0629\n",
            "Epoch 61/100\n",
            "484/484 [==============================] - 6s 13ms/step - loss: 5.4769 - accuracy: 0.0646\n",
            "Epoch 62/100\n",
            "484/484 [==============================] - 6s 13ms/step - loss: 5.5150 - accuracy: 0.0617\n",
            "Epoch 63/100\n",
            "484/484 [==============================] - 6s 12ms/step - loss: 5.5083 - accuracy: 0.0629\n",
            "Epoch 64/100\n",
            "484/484 [==============================] - 6s 12ms/step - loss: 5.5077 - accuracy: 0.0645\n",
            "Epoch 65/100\n",
            "484/484 [==============================] - 6s 13ms/step - loss: 5.5210 - accuracy: 0.0633\n",
            "Epoch 66/100\n",
            "484/484 [==============================] - 6s 13ms/step - loss: 5.5515 - accuracy: 0.0604\n",
            "Epoch 67/100\n",
            "484/484 [==============================] - 6s 13ms/step - loss: 5.5297 - accuracy: 0.0631\n",
            "Epoch 68/100\n",
            "484/484 [==============================] - 6s 13ms/step - loss: 5.5311 - accuracy: 0.0653\n",
            "Epoch 69/100\n",
            "484/484 [==============================] - 6s 13ms/step - loss: 5.5264 - accuracy: 0.0634\n",
            "Epoch 70/100\n",
            "484/484 [==============================] - 6s 13ms/step - loss: 5.5035 - accuracy: 0.0639\n",
            "Epoch 71/100\n",
            "484/484 [==============================] - 6s 13ms/step - loss: 5.5312 - accuracy: 0.0646\n",
            "Epoch 72/100\n",
            "484/484 [==============================] - 6s 13ms/step - loss: 5.5140 - accuracy: 0.0658\n",
            "Epoch 73/100\n",
            "484/484 [==============================] - 6s 13ms/step - loss: 5.5257 - accuracy: 0.0655\n",
            "Epoch 74/100\n",
            "484/484 [==============================] - 6s 13ms/step - loss: 5.5353 - accuracy: 0.0623\n",
            "Epoch 75/100\n",
            "484/484 [==============================] - 6s 13ms/step - loss: 5.5362 - accuracy: 0.0624\n",
            "Epoch 76/100\n",
            "484/484 [==============================] - 6s 13ms/step - loss: 5.4831 - accuracy: 0.0667\n",
            "Epoch 77/100\n",
            "484/484 [==============================] - 6s 13ms/step - loss: 5.4870 - accuracy: 0.0650\n",
            "Epoch 78/100\n",
            "484/484 [==============================] - 6s 13ms/step - loss: 5.4691 - accuracy: 0.0655\n",
            "Epoch 79/100\n",
            "484/484 [==============================] - 6s 13ms/step - loss: 5.4790 - accuracy: 0.0672\n",
            "Epoch 80/100\n",
            "484/484 [==============================] - 6s 13ms/step - loss: 5.5108 - accuracy: 0.0591\n",
            "Epoch 81/100\n",
            "484/484 [==============================] - 6s 13ms/step - loss: 5.4913 - accuracy: 0.0676\n",
            "Epoch 82/100\n",
            "484/484 [==============================] - 6s 13ms/step - loss: 5.4878 - accuracy: 0.0672\n",
            "Epoch 83/100\n",
            "484/484 [==============================] - 6s 13ms/step - loss: 5.5001 - accuracy: 0.0666\n",
            "Epoch 84/100\n",
            "484/484 [==============================] - 6s 13ms/step - loss: 5.4701 - accuracy: 0.0670\n",
            "Epoch 85/100\n",
            "484/484 [==============================] - 6s 13ms/step - loss: 5.4659 - accuracy: 0.0667\n",
            "Epoch 86/100\n",
            "484/484 [==============================] - 6s 13ms/step - loss: 5.5206 - accuracy: 0.0664\n",
            "Epoch 87/100\n",
            "484/484 [==============================] - 6s 13ms/step - loss: 5.4957 - accuracy: 0.0636\n",
            "Epoch 88/100\n",
            "484/484 [==============================] - 6s 13ms/step - loss: 5.5094 - accuracy: 0.0618\n",
            "Epoch 89/100\n",
            "484/484 [==============================] - 6s 13ms/step - loss: 5.4901 - accuracy: 0.0656\n",
            "Epoch 90/100\n",
            "484/484 [==============================] - 6s 13ms/step - loss: 5.4785 - accuracy: 0.0712\n",
            "Epoch 91/100\n",
            "484/484 [==============================] - 6s 13ms/step - loss: 5.4744 - accuracy: 0.0650\n",
            "Epoch 92/100\n",
            "484/484 [==============================] - 6s 13ms/step - loss: 5.4866 - accuracy: 0.0632\n",
            "Epoch 93/100\n",
            "484/484 [==============================] - 6s 13ms/step - loss: 5.4574 - accuracy: 0.0720\n",
            "Epoch 94/100\n",
            "484/484 [==============================] - 6s 13ms/step - loss: 5.4487 - accuracy: 0.0634\n",
            "Epoch 95/100\n",
            "484/484 [==============================] - 6s 13ms/step - loss: 5.4635 - accuracy: 0.0621\n",
            "Epoch 96/100\n",
            "484/484 [==============================] - 6s 13ms/step - loss: 5.4919 - accuracy: 0.0651\n",
            "Epoch 97/100\n",
            "484/484 [==============================] - 6s 13ms/step - loss: 5.4658 - accuracy: 0.0665\n",
            "Epoch 98/100\n",
            "484/484 [==============================] - 6s 13ms/step - loss: 5.4827 - accuracy: 0.0664\n",
            "Epoch 99/100\n",
            "484/484 [==============================] - 6s 13ms/step - loss: 5.4580 - accuracy: 0.0633\n",
            "Epoch 100/100\n",
            "484/484 [==============================] - 6s 13ms/step - loss: 5.4865 - accuracy: 0.0676\n"
          ],
          "name": "stdout"
        }
      ]
    },
    {
      "cell_type": "code",
      "metadata": {
        "id": "1fXTEO3GJ282",
        "colab": {
          "base_uri": "https://localhost:8080/",
          "height": 545
        },
        "outputId": "1a65ae72-f8b3-42e4-de89-27f44044d67e"
      },
      "source": [
        "import matplotlib.pyplot as plt\n",
        "acc = history.history['accuracy']\n",
        "loss = history.history['loss']\n",
        "\n",
        "epochs = range(len(acc))\n",
        "\n",
        "plt.plot(epochs, acc, 'b', label='Training accuracy')\n",
        "plt.title('Training accuracy')\n",
        "\n",
        "plt.figure()\n",
        "\n",
        "plt.plot(epochs, loss, 'b', label='Training Loss')\n",
        "plt.title('Training loss')\n",
        "plt.legend()\n",
        "\n",
        "plt.show()"
      ],
      "execution_count": 6,
      "outputs": [
        {
          "output_type": "display_data",
          "data": {
            "image/png": "[encoded data removed]",
            "text/plain": [
              "<Figure size 432x288 with 1 Axes>"
            ]
          },
          "metadata": {
            "tags": [],
            "needs_background": "light"
          }
        },
        {
          "output_type": "display_data",
          "data": {
            "image/png": "[encoded data removed]",
            "text/plain": [
              "<Figure size 432x288 with 1 Axes>"
            ]
          },
          "metadata": {
            "tags": [],
            "needs_background": "light"
          }
        }
      ]
    },
    {
      "cell_type": "code",
      "metadata": {
        "id": "6Vc6PHgxa6Hm",
        "colab": {
          "base_uri": "https://localhost:8080/"
        },
        "outputId": "15a8fe18-42f2-4673-8ae9-a61b859abfa3"
      },
      "source": [
        "seed_text = \"Help me Obi Wan Kenobi, you're my only hope\"\n",
        "next_words = 100\n",
        "  \n",
        "for _ in range(next_words):\n",
        "\ttoken_list = tokenizer.texts_to_sequences([seed_text])[0]\n",
        "\ttoken_list = pad_sequences([token_list], maxlen=max_sequence_len-1, padding='pre')\n",
        "\tpredicted = model.predict_classes(token_list, verbose=0)\n",
        "\toutput_word = \"\"\n",
        "\tfor word, index in tokenizer.word_index.items():\n",
        "\t\tif index == predicted:\n",
        "\t\t\toutput_word = word\n",
        "\t\t\tbreak\n",
        "\tseed_text += \" \" + output_word\n",
        "print(seed_text)"
      ],
      "execution_count": 8,
      "outputs": [
        {
          "output_type": "stream",
          "text": [
            "/usr/local/lib/python3.7/dist-packages/tensorflow/python/keras/engine/sequential.py:450: UserWarning: `model.predict_classes()` is deprecated and will be removed after 2021-01-01. Please use instead:* `np.argmax(model.predict(x), axis=-1)`,   if your model does multi-class classification   (e.g. if it uses a `softmax` last-layer activation).* `(model.predict(x) > 0.5).astype(\"int32\")`,   if your model does binary classification   (e.g. if it uses a `sigmoid` last-layer activation).\n",
            "  warnings.warn('`model.predict_classes()` is deprecated and '\n"
          ],
          "name": "stderr"
        },
        {
          "output_type": "stream",
          "text": [
            "Help me Obi Wan Kenobi, you're my only hope in the world is i am hate' thou art and i have and i am in the hate' in the in be in the world in the world in the and i am in the world is i am hate' i am in the world is i am hate' i am in the world is i am hate' i am in the world is i am hate' i am in the world is i am hate' i am in the world is i am hate' i am in the world is i am hate' i am in the world is\n"
          ],
          "name": "stdout"
        }
      ]
    },
    {
      "cell_type": "code",
      "metadata": {
        "colab": {
          "base_uri": "https://localhost:8080/"
        },
        "id": "G2rPXGvy7W3v",
        "outputId": "b9d99f1b-dbfe-49e4-b2a2-f2bca1590c72"
      },
      "source": [
        "seed_text = \"today is a good day\"\n",
        "next_words = 100\n",
        "  \n",
        "for _ in range(next_words):\n",
        "\ttoken_list = tokenizer.texts_to_sequences([seed_text])[0]\n",
        "\ttoken_list = pad_sequences([token_list], maxlen=max_sequence_len-1, padding='pre')\n",
        "\tpredicted = model.predict_classes(token_list, verbose=0)\n",
        "\toutput_word = \"\"\n",
        "\tfor word, index in tokenizer.word_index.items():\n",
        "\t\tif index == predicted:\n",
        "\t\t\toutput_word = word\n",
        "\t\t\tbreak\n",
        "\tseed_text += \" \" + output_word\n",
        "print(seed_text)"
      ],
      "execution_count": 10,
      "outputs": [
        {
          "output_type": "stream",
          "text": [
            "/usr/local/lib/python3.7/dist-packages/tensorflow/python/keras/engine/sequential.py:450: UserWarning: `model.predict_classes()` is deprecated and will be removed after 2021-01-01. Please use instead:* `np.argmax(model.predict(x), axis=-1)`,   if your model does multi-class classification   (e.g. if it uses a `softmax` last-layer activation).* `(model.predict(x) > 0.5).astype(\"int32\")`,   if your model does binary classification   (e.g. if it uses a `sigmoid` last-layer activation).\n",
            "  warnings.warn('`model.predict_classes()` is deprecated and '\n"
          ],
          "name": "stderr"
        },
        {
          "output_type": "stream",
          "text": [
            "today is a good day of the world is i am hate' thou art and i have and i am in the hate' in the in be in the world in the world in the and i am in the world is i am hate' i am in the world is i am hate' i am in the world is i am hate' i am in the world is i am hate' i am in the world is i am hate' i am in the world is i am hate' i am in the world is i am hate' i am in the world is\n"
          ],
          "name": "stdout"
        }
      ]
    },
    {
      "cell_type": "code",
      "metadata": {
        "id": "ElTLevU8_cYP"
      },
      "source": [
        ""
      ],
      "execution_count": null,
      "outputs": []
    }
  ]
}