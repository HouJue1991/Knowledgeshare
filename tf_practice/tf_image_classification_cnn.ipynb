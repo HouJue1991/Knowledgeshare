{
  "nbformat": 4,
  "nbformat_minor": 0,
  "metadata": {
    "colab": {
      "name": "tf_image_classification_cnn.ipynb",
      "provenance": [],
      "collapsed_sections": []
    },
    "kernelspec": {
      "display_name": "Python 3",
      "name": "python3"
    },
    "accelerator": "GPU"
  },
  "cells": [
    {
      "cell_type": "markdown",
      "metadata": {
        "id": "MrXP6k91Qlwc"
      },
      "source": [
        "# image classification\n",
        "## overview \n",
        "use cnn to classify image to judge it is a cat or dog\n",
        "## requirements\n",
        "- use image generator\n",
        "- use data augmentation\n",
        "- use cnn\n",
        "- predict picture"
      ]
    },
    {
      "cell_type": "markdown",
      "metadata": {
        "id": "zX4Kg8DUTKWO"
      },
      "source": [
        "## import module "
      ]
    },
    {
      "cell_type": "code",
      "metadata": {
        "id": "1dRP7uhbR59_"
      },
      "source": [
        ""
      ],
      "execution_count": null,
      "outputs": []
    },
    {
      "cell_type": "code",
      "metadata": {
        "id": "dn-6c02VmqiN"
      },
      "source": [
        "import os\n",
        "import zipfile\n",
        "import random\n",
        "import tensorflow as tf\n",
        "from tensorflow.keras.optimizers import RMSprop\n",
        "from tensorflow.keras.preprocessing.image import ImageDataGenerator\n",
        "# import shutil\n",
        "from shutil import copyfile"
      ],
      "execution_count": null,
      "outputs": []
    },
    {
      "cell_type": "code",
      "metadata": {
        "colab": {
          "base_uri": "https://localhost:8080/",
          "height": 35
        },
        "id": "CBEtslFAzwLC",
        "outputId": "6109cec6-0032-4f4b-d2dd-509752a3ca10"
      },
      "source": [
        "device_name = tf.test.gpu_device_name()\n",
        "device_name"
      ],
      "execution_count": null,
      "outputs": [
        {
          "output_type": "execute_result",
          "data": {
            "application/vnd.google.colaboratory.intrinsic+json": {
              "type": "string"
            },
            "text/plain": [
              "'/device:GPU:0'"
            ]
          },
          "metadata": {
            "tags": []
          },
          "execution_count": 3
        }
      ]
    },
    {
      "cell_type": "code",
      "metadata": {
        "colab": {
          "base_uri": "https://localhost:8080/",
          "height": 35
        },
        "id": "Oo5wCmxvQ_Zl",
        "outputId": "b90dca9c-5bef-49d2-ffba-a3d47212a67f"
      },
      "source": [
        "tf.__version__"
      ],
      "execution_count": null,
      "outputs": [
        {
          "output_type": "execute_result",
          "data": {
            "application/vnd.google.colaboratory.intrinsic+json": {
              "type": "string"
            },
            "text/plain": [
              "'2.4.1'"
            ]
          },
          "metadata": {
            "tags": []
          },
          "execution_count": 4
        }
      ]
    },
    {
      "cell_type": "code",
      "metadata": {
        "colab": {
          "base_uri": "https://localhost:8080/"
        },
        "id": "015uCiQv1iUq",
        "outputId": "fb964808-40c5-46a7-c146-2a328b4c821e"
      },
      "source": [
        "tf.device('/GPU:0')"
      ],
      "execution_count": null,
      "outputs": [
        {
          "output_type": "execute_result",
          "data": {
            "text/plain": [
              "<tensorflow.python.eager.context._EagerDeviceContext at 0x7f3bad5c95a0>"
            ]
          },
          "metadata": {
            "tags": []
          },
          "execution_count": 5
        }
      ]
    },
    {
      "cell_type": "markdown",
      "metadata": {
        "id": "A8iccffPR04d"
      },
      "source": [
        "## read image data "
      ]
    },
    {
      "cell_type": "code",
      "metadata": {
        "id": "2TxjfZhGajC_"
      },
      "source": [
        "!rm -r /tmp/dog_cat_classification"
      ],
      "execution_count": null,
      "outputs": []
    },
    {
      "cell_type": "code",
      "metadata": {
        "id": "3sd9dQWa23aj"
      },
      "source": [
        ""
      ],
      "execution_count": null,
      "outputs": []
    },
    {
      "cell_type": "code",
      "metadata": {
        "colab": {
          "base_uri": "https://localhost:8080/"
        },
        "id": "naNYAyAXR7cq",
        "outputId": "685a2fa1-3066-45d6-c416-b0d7db7eb59b"
      },
      "source": [
        "# This code block downloads the full Cats-v-Dogs dataset and stores it as \n",
        "# cats-and-dogs.zip. It then unzips it to /tmp\n",
        "# which will create a tmp/PetImages directory containing subdirectories\n",
        "# called 'Cat' and 'Dog' (that's how the original researchers structured it)\n",
        "# If the URL doesn't work, \n",
        "# .   visit https://www.microsoft.com/en-us/download/confirmation.aspx?id=54765\n",
        "# And right click on the 'Download Manually' link to get a new URL\n",
        "\n",
        "!wget --no-check-certificate \\\n",
        "    \"https://download.microsoft.com/download/3/E/1/3E1C3F21-ECDB-4869-8368-6DEBA77B919F/kagglecatsanddogs_3367a.zip\" \\\n",
        "    -O \"/tmp/cats-and-dogs.zip\"\n",
        "\n",
        "local_zip = '/tmp/cats-and-dogs.zip'\n",
        "zip_ref = zipfile.ZipFile(local_zip, 'r')\n",
        "zip_ref.extractall('/tmp')\n",
        "zip_ref.close()\n",
        "\n",
        "print('num dog',len(os.listdir('/tmp/PetImages/Dog')))\n",
        "print('num cat',len(os.listdir('/tmp/PetImages/Cat')))"
      ],
      "execution_count": null,
      "outputs": [
        {
          "output_type": "stream",
          "text": [
            "--2021-05-11 12:23:14--  https://download.microsoft.com/download/3/E/1/3E1C3F21-ECDB-4869-8368-6DEBA77B919F/kagglecatsanddogs_3367a.zip\n",
            "Resolving download.microsoft.com (download.microsoft.com)... 173.222.228.51, 2600:1409:12:285::e59, 2600:1409:12:2af::e59\n",
            "Connecting to download.microsoft.com (download.microsoft.com)|173.222.228.51|:443... connected.\n",
            "HTTP request sent, awaiting response... 200 OK\n",
            "Length: 824894548 (787M) [application/octet-stream]\n",
            "Saving to: ‘/tmp/cats-and-dogs.zip’\n",
            "\n",
            "/tmp/cats-and-dogs. 100%[===================>] 786.68M   100MB/s    in 9.2s    \n",
            "\n",
            "2021-05-11 12:23:23 (85.8 MB/s) - ‘/tmp/cats-and-dogs.zip’ saved [824894548/824894548]\n",
            "\n",
            "num dog 12501\n",
            "num cat 12501\n"
          ],
          "name": "stdout"
        }
      ]
    },
    {
      "cell_type": "code",
      "metadata": {
        "colab": {
          "base_uri": "https://localhost:8080/"
        },
        "id": "4Orj52JB573O",
        "outputId": "9195b982-0c39-4088-de46-177d8c68f5bd"
      },
      "source": [
        "import imghdr\n",
        "file_li = os.listdir('/tmp/PetImages/Dog')\n",
        "len([file for file in file_li if imghdr.what('/tmp/PetImages/Dog/'+file ) == 'jpeg'])"
      ],
      "execution_count": null,
      "outputs": [
        {
          "output_type": "execute_result",
          "data": {
            "text/plain": [
              "12349"
            ]
          },
          "metadata": {
            "tags": []
          },
          "execution_count": 8
        }
      ]
    },
    {
      "cell_type": "code",
      "metadata": {
        "colab": {
          "base_uri": "https://localhost:8080/"
        },
        "id": "-Spmq9J7SYlY",
        "outputId": "2773bffe-c6da-4503-e139-86bdec80fe3b"
      },
      "source": [
        "base_dir = '/tmp/dog_cat_classification/'\n",
        "dir_li = [\n",
        "          base_dir\n",
        "          ,base_dir+'train'\n",
        "          ,base_dir+'valid'\n",
        "          ,base_dir+'train/dog'\n",
        "          ,base_dir+'train/cat'\n",
        "          ,base_dir+'valid/dog'\n",
        "          ,base_dir+'valid/cat'\n",
        "]\n",
        "\n",
        "for dir in dir_li:\n",
        "  if not os.path.exists(dir ):\n",
        "    os.mkdir(dir)\n",
        "    print('mkdir',dir)"
      ],
      "execution_count": null,
      "outputs": [
        {
          "output_type": "stream",
          "text": [
            "mkdir /tmp/dog_cat_classification/\n",
            "mkdir /tmp/dog_cat_classification/train\n",
            "mkdir /tmp/dog_cat_classification/valid\n",
            "mkdir /tmp/dog_cat_classification/train/dog\n",
            "mkdir /tmp/dog_cat_classification/train/cat\n",
            "mkdir /tmp/dog_cat_classification/valid/dog\n",
            "mkdir /tmp/dog_cat_classification/valid/cat\n"
          ],
          "name": "stdout"
        }
      ]
    },
    {
      "cell_type": "code",
      "metadata": {
        "id": "20TkL-V25o9R"
      },
      "source": [
        ""
      ],
      "execution_count": null,
      "outputs": []
    },
    {
      "cell_type": "code",
      "metadata": {
        "id": "aPUA5TGvSwui"
      },
      "source": [
        "# split data \n",
        "dir_dog = '/tmp/PetImages/Dog'\n",
        "dir_cat = '/tmp/PetImages/Cat'\n",
        "dog_file_li = os.listdir(dir_dog)\n",
        "cat_file_li = os.listdir(dir_cat)\n",
        "\n",
        "def split_and_copy_data(src,dst_train,dst_valid , train_ratio):\n",
        "  files = os.listdir(src)\n",
        "  files = [file for file in files if imghdr.what(src+'/' +file ) == 'jpeg']\n",
        "  files = random.sample(files , len(files))\n",
        "  \n",
        "  train_size = int(len(files) * train_ratio)\n",
        "  train_files = files[:train_size]\n",
        "  valid_files = files[train_size:]\n",
        "\n",
        "  for train_file in train_files:\n",
        "    copyfile(src+'/'+train_file , dst_train +'/'+train_file )\n",
        "  for valid_file in valid_files:\n",
        "    copyfile(src+'/'+valid_file , dst_valid +'/'+valid_file)\n",
        "\n",
        "split_and_copy_data(dir_dog,base_dir+'train/dog',base_dir+'valid/dog' , 0.9)\n",
        "split_and_copy_data(dir_cat,base_dir+'train/cat',base_dir+'valid/cat' , 0.9)\n"
      ],
      "execution_count": null,
      "outputs": []
    },
    {
      "cell_type": "code",
      "metadata": {
        "colab": {
          "base_uri": "https://localhost:8080/"
        },
        "id": "vXM06x3ocl1f",
        "outputId": "76ea82c7-6bb7-4768-cdec-c3470074cc35"
      },
      "source": [
        "for dir in dir_li:\n",
        "  print(dir,'len : ',len(os.listdir(dir)))\n"
      ],
      "execution_count": null,
      "outputs": [
        {
          "output_type": "stream",
          "text": [
            "/tmp/dog_cat_classification/ len :  2\n",
            "/tmp/dog_cat_classification/train len :  2\n",
            "/tmp/dog_cat_classification/valid len :  2\n",
            "/tmp/dog_cat_classification/train/dog len :  11114\n",
            "/tmp/dog_cat_classification/train/cat len :  11146\n",
            "/tmp/dog_cat_classification/valid/dog len :  1235\n",
            "/tmp/dog_cat_classification/valid/cat len :  1239\n"
          ],
          "name": "stdout"
        }
      ]
    },
    {
      "cell_type": "code",
      "metadata": {
        "id": "tLKKQN6XixS6"
      },
      "source": [
        ""
      ],
      "execution_count": null,
      "outputs": []
    },
    {
      "cell_type": "code",
      "metadata": {
        "id": "dYwvll_FZM7f"
      },
      "source": [
        ""
      ],
      "execution_count": null,
      "outputs": []
    },
    {
      "cell_type": "code",
      "metadata": {
        "id": "-zUkCFc2aG7b"
      },
      "source": [
        ""
      ],
      "execution_count": null,
      "outputs": []
    },
    {
      "cell_type": "markdown",
      "metadata": {
        "id": "RHz9waH8Sw8f"
      },
      "source": [
        "## create image generator"
      ]
    },
    {
      "cell_type": "code",
      "metadata": {
        "colab": {
          "base_uri": "https://localhost:8080/"
        },
        "id": "F-rOhddhZ55y",
        "outputId": "4d4abec2-7a1b-4ad5-e77f-d6a02be45d67"
      },
      "source": [
        "train_image_gen = ImageDataGenerator(\n",
        "     rotation_range=40, \n",
        "     width_shift_range=0.2, \n",
        "     height_shift_range=0.2, \n",
        "     shear_range=0.2, \n",
        "     zoom_range=0.2, \n",
        "     fill_mode='nearest', \n",
        "     horizontal_flip=True, \n",
        "     vertical_flip=True, \n",
        "     rescale=1./255, \n",
        "     )\n",
        "valid_image_gen = ImageDataGenerator(\n",
        "     rotation_range=40, \n",
        "     width_shift_range=0.2, \n",
        "     height_shift_range=0.2, \n",
        "     shear_range=0.2, \n",
        "     zoom_range=0.2, \n",
        "     fill_mode='nearest', \n",
        "     horizontal_flip=True, \n",
        "     vertical_flip=True, \n",
        "     rescale=1./255, \n",
        "     \n",
        "     )\n",
        "\n",
        "train_data = train_image_gen.flow_from_directory(\n",
        "    directory = base_dir+'train'\n",
        "    ,target_size = (28,28)\n",
        "    ,batch_size = 32\n",
        "    # ,shuffle=True\n",
        "    ,class_mode = 'binary'\n",
        "    # ,save_format='jpg'\n",
        ")\n",
        "valid_data = valid_image_gen.flow_from_directory(\n",
        "    directory = base_dir+'valid'\n",
        "    ,target_size = (28,28)\n",
        "    ,batch_size = 32\n",
        "    # ,shuffle=True\n",
        "    ,class_mode = 'binary'\n",
        "    # ,save_format='jpg'\n",
        ")\n"
      ],
      "execution_count": null,
      "outputs": [
        {
          "output_type": "stream",
          "text": [
            "Found 22260 images belonging to 2 classes.\n",
            "Found 2474 images belonging to 2 classes.\n"
          ],
          "name": "stdout"
        }
      ]
    },
    {
      "cell_type": "code",
      "metadata": {
        "id": "MrftTs53kBS7"
      },
      "source": [
        ""
      ],
      "execution_count": null,
      "outputs": []
    },
    {
      "cell_type": "markdown",
      "metadata": {
        "id": "FqKGE6CPSxGu"
      },
      "source": [
        "## create model"
      ]
    },
    {
      "cell_type": "code",
      "metadata": {
        "colab": {
          "base_uri": "https://localhost:8080/"
        },
        "id": "Wl5Py20tSxTo",
        "outputId": "e5db8ce0-fa3f-4d88-c68a-06ca603abf50"
      },
      "source": [
        "\n",
        "from tensorflow.keras.layers import *\n",
        "\n",
        "model = tf.keras.models.Sequential()\n",
        "\n",
        "model.add(Conv2D(input_shape = (28,28,3) ,filters = 64,kernel_size = (4,4),activation = 'relu'))\n",
        "model.add(MaxPooling2D(pool_size = (2,2)))\n",
        "\n",
        "model.add(Conv2D(filters = 64,kernel_size = (3,3),activation = 'relu'))\n",
        "model.add(MaxPooling2D(pool_size = (2,2)))\n",
        "\n",
        "model.add(Conv2D(filters = 64,kernel_size = (2,2),activation = 'relu'))\n",
        "model.add(MaxPooling2D(pool_size = (2,2)))\n",
        "\n",
        "model.add(Flatten())\n",
        "model.add(Dense(units = 64 , activation = 'relu'))\n",
        "model.add(Dense(units = 1 , activation = 'sigmoid'))\n",
        "\n",
        "model.compile(optimizer=RMSprop(lr=0.001), loss='binary_crossentropy', metrics=['accuracy'])\n",
        "model.summary()"
      ],
      "execution_count": null,
      "outputs": [
        {
          "output_type": "stream",
          "text": [
            "Model: \"sequential\"\n",
            "_________________________________________________________________\n",
            "Layer (type)                 Output Shape              Param #   \n",
            "=================================================================\n",
            "conv2d (Conv2D)              (None, 25, 25, 64)        3136      \n",
            "_________________________________________________________________\n",
            "max_pooling2d (MaxPooling2D) (None, 12, 12, 64)        0         \n",
            "_________________________________________________________________\n",
            "conv2d_1 (Conv2D)            (None, 10, 10, 64)        36928     \n",
            "_________________________________________________________________\n",
            "max_pooling2d_1 (MaxPooling2 (None, 5, 5, 64)          0         \n",
            "_________________________________________________________________\n",
            "conv2d_2 (Conv2D)            (None, 4, 4, 64)          16448     \n",
            "_________________________________________________________________\n",
            "max_pooling2d_2 (MaxPooling2 (None, 2, 2, 64)          0         \n",
            "_________________________________________________________________\n",
            "flatten (Flatten)            (None, 256)               0         \n",
            "_________________________________________________________________\n",
            "dense (Dense)                (None, 64)                16448     \n",
            "_________________________________________________________________\n",
            "dense_1 (Dense)              (None, 1)                 65        \n",
            "=================================================================\n",
            "Total params: 73,025\n",
            "Trainable params: 73,025\n",
            "Non-trainable params: 0\n",
            "_________________________________________________________________\n"
          ],
          "name": "stdout"
        }
      ]
    },
    {
      "cell_type": "code",
      "metadata": {
        "id": "MnxgCZ4hSon1"
      },
      "source": [
        "class myCallbacks(tf.keras.callbacks.Callback):\n",
        "  def on_epoch_end(self,epoch,logs = {}):\n",
        "    if logs.get('accuracy') >= 0.99:\n",
        "      print('accuracy reached to 99%')\n",
        "      self.model.stop_training = True\n"
      ],
      "execution_count": null,
      "outputs": []
    },
    {
      "cell_type": "code",
      "metadata": {
        "id": "nSopzyxmTmBO"
      },
      "source": [
        "callbacks = myCallbacks()"
      ],
      "execution_count": null,
      "outputs": []
    },
    {
      "cell_type": "code",
      "metadata": {
        "colab": {
          "base_uri": "https://localhost:8080/"
        },
        "id": "G_5JuR36Sxhb",
        "outputId": "45f41766-8e22-4dba-cd02-8f47ebec8990"
      },
      "source": [
        "with tf.device('/device:GPU:0'):\n",
        "  history = model.fit_generator(\n",
        "      train_data\n",
        "      ,epochs=10\n",
        "      ,validation_data = valid_data\n",
        "      ,verbose = 1\n",
        "      ,callbacks = callbacks\n",
        "  )"
      ],
      "execution_count": null,
      "outputs": [
        {
          "output_type": "stream",
          "text": [
            "/usr/local/lib/python3.7/dist-packages/tensorflow/python/keras/engine/training.py:1844: UserWarning: `Model.fit_generator` is deprecated and will be removed in a future version. Please use `Model.fit`, which supports generators.\n",
            "  warnings.warn('`Model.fit_generator` is deprecated and '\n"
          ],
          "name": "stderr"
        },
        {
          "output_type": "stream",
          "text": [
            "Epoch 1/10\n",
            "228/696 [========>.....................] - ETA: 43s - loss: 0.6956 - accuracy: 0.5065"
          ],
          "name": "stdout"
        },
        {
          "output_type": "stream",
          "text": [
            "/usr/local/lib/python3.7/dist-packages/PIL/TiffImagePlugin.py:770: UserWarning: Possibly corrupt EXIF data.  Expecting to read 32 bytes but only got 0. Skipping tag 270\n",
            "  \" Skipping tag %s\" % (size, len(data), tag)\n",
            "/usr/local/lib/python3.7/dist-packages/PIL/TiffImagePlugin.py:770: UserWarning: Possibly corrupt EXIF data.  Expecting to read 5 bytes but only got 0. Skipping tag 271\n",
            "  \" Skipping tag %s\" % (size, len(data), tag)\n",
            "/usr/local/lib/python3.7/dist-packages/PIL/TiffImagePlugin.py:770: UserWarning: Possibly corrupt EXIF data.  Expecting to read 8 bytes but only got 0. Skipping tag 272\n",
            "  \" Skipping tag %s\" % (size, len(data), tag)\n",
            "/usr/local/lib/python3.7/dist-packages/PIL/TiffImagePlugin.py:770: UserWarning: Possibly corrupt EXIF data.  Expecting to read 8 bytes but only got 0. Skipping tag 282\n",
            "  \" Skipping tag %s\" % (size, len(data), tag)\n",
            "/usr/local/lib/python3.7/dist-packages/PIL/TiffImagePlugin.py:770: UserWarning: Possibly corrupt EXIF data.  Expecting to read 8 bytes but only got 0. Skipping tag 283\n",
            "  \" Skipping tag %s\" % (size, len(data), tag)\n",
            "/usr/local/lib/python3.7/dist-packages/PIL/TiffImagePlugin.py:770: UserWarning: Possibly corrupt EXIF data.  Expecting to read 20 bytes but only got 0. Skipping tag 306\n",
            "  \" Skipping tag %s\" % (size, len(data), tag)\n",
            "/usr/local/lib/python3.7/dist-packages/PIL/TiffImagePlugin.py:770: UserWarning: Possibly corrupt EXIF data.  Expecting to read 48 bytes but only got 0. Skipping tag 532\n",
            "  \" Skipping tag %s\" % (size, len(data), tag)\n",
            "/usr/local/lib/python3.7/dist-packages/PIL/TiffImagePlugin.py:788: UserWarning: Corrupt EXIF data.  Expecting to read 2 bytes but only got 0. \n",
            "  warnings.warn(str(msg))\n"
          ],
          "name": "stderr"
        },
        {
          "output_type": "stream",
          "text": [
            "696/696 [==============================] - 75s 103ms/step - loss: 0.6906 - accuracy: 0.5275 - val_loss: 0.6538 - val_accuracy: 0.6200\n",
            "Epoch 2/10\n",
            "696/696 [==============================] - 71s 103ms/step - loss: 0.6674 - accuracy: 0.5979 - val_loss: 0.6286 - val_accuracy: 0.6354\n",
            "Epoch 3/10\n",
            "696/696 [==============================] - 71s 102ms/step - loss: 0.6439 - accuracy: 0.6311 - val_loss: 0.6110 - val_accuracy: 0.6564\n",
            "Epoch 4/10\n",
            "696/696 [==============================] - 71s 102ms/step - loss: 0.6322 - accuracy: 0.6359 - val_loss: 0.6041 - val_accuracy: 0.6867\n",
            "Epoch 5/10\n",
            "696/696 [==============================] - 73s 105ms/step - loss: 0.6242 - accuracy: 0.6481 - val_loss: 0.6028 - val_accuracy: 0.6681\n",
            "Epoch 6/10\n",
            "696/696 [==============================] - 73s 105ms/step - loss: 0.6126 - accuracy: 0.6621 - val_loss: 0.5793 - val_accuracy: 0.6940\n",
            "Epoch 7/10\n",
            "696/696 [==============================] - 73s 104ms/step - loss: 0.6123 - accuracy: 0.6657 - val_loss: 0.6059 - val_accuracy: 0.6677\n",
            "Epoch 8/10\n",
            "696/696 [==============================] - 75s 107ms/step - loss: 0.6050 - accuracy: 0.6752 - val_loss: 0.5758 - val_accuracy: 0.6973\n",
            "Epoch 9/10\n",
            "696/696 [==============================] - 72s 104ms/step - loss: 0.6019 - accuracy: 0.6765 - val_loss: 0.5785 - val_accuracy: 0.6863\n",
            "Epoch 10/10\n",
            "696/696 [==============================] - 71s 102ms/step - loss: 0.5954 - accuracy: 0.6818 - val_loss: 0.5557 - val_accuracy: 0.7187\n"
          ],
          "name": "stdout"
        }
      ]
    },
    {
      "cell_type": "code",
      "metadata": {
        "colab": {
          "base_uri": "https://localhost:8080/"
        },
        "id": "W703KGnaR5lx",
        "outputId": "ffbefa62-9642-4d01-bb4a-620d1f10622f"
      },
      "source": [
        "tf.config.experimental.list_physical_devices('GPU')"
      ],
      "execution_count": null,
      "outputs": [
        {
          "output_type": "execute_result",
          "data": {
            "text/plain": [
              "[PhysicalDevice(name='/physical_device:GPU:0', device_type='GPU')]"
            ]
          },
          "metadata": {
            "tags": []
          },
          "execution_count": 18
        }
      ]
    },
    {
      "cell_type": "code",
      "metadata": {
        "colab": {
          "base_uri": "https://localhost:8080/",
          "height": 282
        },
        "id": "EZuE2LpWTsJ1",
        "outputId": "bfeb2fd0-12fc-4330-8c0f-d6cbfe34ecfc"
      },
      "source": [
        "import matplotlib.pyplot as plt\n",
        "plt.plot(history.history['accuracy'])\n",
        "plt.plot(history.history['loss'])"
      ],
      "execution_count": null,
      "outputs": [
        {
          "output_type": "execute_result",
          "data": {
            "text/plain": [
              "[<matplotlib.lines.Line2D at 0x7f3bebebf750>]"
            ]
          },
          "metadata": {
            "tags": []
          },
          "execution_count": 17
        },
        {
          "output_type": "display_data",
          "data": {
            "image/png": "[encoded data removed]",
            "text/plain": [
              "<Figure size 432x288 with 1 Axes>"
            ]
          },
          "metadata": {
            "tags": [],
            "needs_background": "light"
          }
        }
      ]
    },
    {
      "cell_type": "code",
      "metadata": {
        "id": "F-QkLjxpmyK2"
      },
      "source": [
        ""
      ],
      "execution_count": null,
      "outputs": []
    },
    {
      "cell_type": "markdown",
      "metadata": {
        "id": "xToJp7FabU59"
      },
      "source": [
        ""
      ]
    },
    {
      "cell_type": "code",
      "metadata": {
        "id": "luthalB76ufC"
      },
      "source": [
        ""
      ],
      "execution_count": null,
      "outputs": []
    },
    {
      "cell_type": "code",
      "metadata": {
        "id": "-BQrav4anTmj"
      },
      "source": [
        ""
      ],
      "execution_count": null,
      "outputs": []
    },
    {
      "cell_type": "code",
      "metadata": {
        "id": "mlNjoJ5D61N6"
      },
      "source": [
        ""
      ],
      "execution_count": null,
      "outputs": []
    },
    {
      "cell_type": "code",
      "metadata": {
        "id": "KyS4n53w7DxC"
      },
      "source": [
        ""
      ],
      "execution_count": null,
      "outputs": []
    },
    {
      "cell_type": "code",
      "metadata": {
        "id": "MWZrJN4-65RC"
      },
      "source": [
        ""
      ],
      "execution_count": null,
      "outputs": []
    },
    {
      "cell_type": "code",
      "metadata": {
        "id": "LqL6FYUrtXpf"
      },
      "source": [
        "# Here's a codeblock just for fun. You should be able to upload an image here \n",
        "# and have it classified without crashing\n",
        "\n",
        "import numpy as np\n",
        "from google.colab import files\n",
        "from keras.preprocessing import image\n",
        "\n",
        "uploaded = files.upload()\n",
        "\n",
        "for fn in uploaded.keys():\n",
        "  # predicting images\n",
        "  path = '/content/' + fn\n",
        "  img = image.load_img(path, target_size=(28，28））\n",
        "  x = image.img_to_array(img)\n",
        "  x = np.expand_dims(x, axis=0)\n",
        "\n",
        "  images = np.vstack([x])\n",
        "  classes = model.predict(images, batch_size=10)\n",
        "  print(classes[0])\n",
        "  if classes[0]>0.5:\n",
        "    print(fn + \" is a dog\")\n",
        "  else:\n",
        "    print(fn + \" is a cat\")"
      ],
      "execution_count": null,
      "outputs": []
    }
  ]
}